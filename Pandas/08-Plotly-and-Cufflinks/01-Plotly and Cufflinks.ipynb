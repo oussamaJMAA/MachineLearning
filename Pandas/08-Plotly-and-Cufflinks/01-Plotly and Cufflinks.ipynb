{
 "cells": [
  {
   "cell_type": "markdown",
   "metadata": {},
   "source": [
    "___\n",
    "\n",
    "<a href='http://www.pieriandata.com'> <img src='../Pierian_Data_Logo.png' /></a>\n",
    "___\n",
    "# Plotly and Cufflinks"
   ]
  },
  {
   "cell_type": "markdown",
   "metadata": {},
   "source": [
    "Plotly is a library that allows you to create interactive plots that you can use in dashboards or websites (you can save them as html files or static images).\n",
    "\n",
    "## Installation\n",
    "\n",
    "In order for this all to work, you'll need to install plotly and cufflinks to call plots directly off of a pandas dataframe. These libraries are not currently available through **conda** but are available through **pip**. Install the libraries at your command line/terminal using:\n",
    "\n",
    "    pip install plotly\n",
    "    pip install cufflinks\n",
    "\n",
    "** NOTE: Make sure you only have one installation of Python on your computer when you do this, otherwise the installation may not work. **\n",
    "\n",
    "## Imports and Set-up"
   ]
  },
  {
   "cell_type": "code",
   "execution_count": 8,
   "metadata": {},
   "outputs": [],
   "source": [
    "import pandas as pd\n",
    "import numpy as np\n",
    "%matplotlib inline\n"
   ]
  },
  {
   "cell_type": "code",
   "execution_count": 7,
   "metadata": {},
   "outputs": [
    {
     "name": "stdout",
     "output_type": "stream",
     "text": [
      "5.10.0\n"
     ]
    }
   ],
   "source": [
    "from plotly import __version__\n",
    "from plotly.offline import download_plotlyjs, init_notebook_mode, plot, iplot\n",
    "\n",
    "print(__version__) # requires version >= 1.9.0"
   ]
  },
  {
   "cell_type": "code",
   "execution_count": 12,
   "metadata": {},
   "outputs": [],
   "source": [
    "import cufflinks as cf"
   ]
  },
  {
   "cell_type": "code",
   "execution_count": 11,
   "metadata": {},
   "outputs": [
    {
     "data": {
      "text/html": [
       "        <script type=\"text/javascript\">\n",
       "        window.PlotlyConfig = {MathJaxConfig: 'local'};\n",
       "        if (window.MathJax && window.MathJax.Hub && window.MathJax.Hub.Config) {window.MathJax.Hub.Config({SVG: {font: \"STIX-Web\"}});}\n",
       "        if (typeof require !== 'undefined') {\n",
       "        require.undef(\"plotly\");\n",
       "        requirejs.config({\n",
       "            paths: {\n",
       "                'plotly': ['https://cdn.plot.ly/plotly-2.14.0.min']\n",
       "            }\n",
       "        });\n",
       "        require(['plotly'], function(Plotly) {\n",
       "            window._Plotly = Plotly;\n",
       "        });\n",
       "        }\n",
       "        </script>\n",
       "        "
      ]
     },
     "metadata": {},
     "output_type": "display_data"
    }
   ],
   "source": [
    "# For Notebooks\n",
    "init_notebook_mode(connected=True)"
   ]
  },
  {
   "cell_type": "code",
   "execution_count": 13,
   "metadata": {},
   "outputs": [
    {
     "data": {
      "text/html": [
       "        <script type=\"text/javascript\">\n",
       "        window.PlotlyConfig = {MathJaxConfig: 'local'};\n",
       "        if (window.MathJax && window.MathJax.Hub && window.MathJax.Hub.Config) {window.MathJax.Hub.Config({SVG: {font: \"STIX-Web\"}});}\n",
       "        if (typeof require !== 'undefined') {\n",
       "        require.undef(\"plotly\");\n",
       "        requirejs.config({\n",
       "            paths: {\n",
       "                'plotly': ['https://cdn.plot.ly/plotly-2.14.0.min']\n",
       "            }\n",
       "        });\n",
       "        require(['plotly'], function(Plotly) {\n",
       "            window._Plotly = Plotly;\n",
       "        });\n",
       "        }\n",
       "        </script>\n",
       "        "
      ]
     },
     "metadata": {},
     "output_type": "display_data"
    }
   ],
   "source": [
    "# For offline use\n",
    "cf.go_offline()"
   ]
  },
  {
   "cell_type": "markdown",
   "metadata": {},
   "source": [
    "### Fake Data"
   ]
  },
  {
   "cell_type": "code",
   "execution_count": 14,
   "metadata": {},
   "outputs": [],
   "source": [
    "df = pd.DataFrame(np.random.randn(100,4),columns='A B C D'.split())"
   ]
  },
  {
   "cell_type": "code",
   "execution_count": 15,
   "metadata": {},
   "outputs": [
    {
     "data": {
      "text/html": [
       "<div>\n",
       "<style scoped>\n",
       "    .dataframe tbody tr th:only-of-type {\n",
       "        vertical-align: middle;\n",
       "    }\n",
       "\n",
       "    .dataframe tbody tr th {\n",
       "        vertical-align: top;\n",
       "    }\n",
       "\n",
       "    .dataframe thead th {\n",
       "        text-align: right;\n",
       "    }\n",
       "</style>\n",
       "<table border=\"1\" class=\"dataframe\">\n",
       "  <thead>\n",
       "    <tr style=\"text-align: right;\">\n",
       "      <th></th>\n",
       "      <th>A</th>\n",
       "      <th>B</th>\n",
       "      <th>C</th>\n",
       "      <th>D</th>\n",
       "    </tr>\n",
       "  </thead>\n",
       "  <tbody>\n",
       "    <tr>\n",
       "      <th>0</th>\n",
       "      <td>-1.128527</td>\n",
       "      <td>-0.843802</td>\n",
       "      <td>-0.052997</td>\n",
       "      <td>1.130050</td>\n",
       "    </tr>\n",
       "    <tr>\n",
       "      <th>1</th>\n",
       "      <td>-0.832536</td>\n",
       "      <td>-1.451060</td>\n",
       "      <td>1.093919</td>\n",
       "      <td>-0.039086</td>\n",
       "    </tr>\n",
       "    <tr>\n",
       "      <th>2</th>\n",
       "      <td>1.117759</td>\n",
       "      <td>0.316774</td>\n",
       "      <td>0.783639</td>\n",
       "      <td>0.616187</td>\n",
       "    </tr>\n",
       "    <tr>\n",
       "      <th>3</th>\n",
       "      <td>0.114958</td>\n",
       "      <td>-1.882427</td>\n",
       "      <td>1.128565</td>\n",
       "      <td>1.504180</td>\n",
       "    </tr>\n",
       "    <tr>\n",
       "      <th>4</th>\n",
       "      <td>0.930540</td>\n",
       "      <td>-1.400033</td>\n",
       "      <td>-0.560289</td>\n",
       "      <td>-0.011042</td>\n",
       "    </tr>\n",
       "  </tbody>\n",
       "</table>\n",
       "</div>"
      ],
      "text/plain": [
       "          A         B         C         D\n",
       "0 -1.128527 -0.843802 -0.052997  1.130050\n",
       "1 -0.832536 -1.451060  1.093919 -0.039086\n",
       "2  1.117759  0.316774  0.783639  0.616187\n",
       "3  0.114958 -1.882427  1.128565  1.504180\n",
       "4  0.930540 -1.400033 -0.560289 -0.011042"
      ]
     },
     "execution_count": 15,
     "metadata": {},
     "output_type": "execute_result"
    }
   ],
   "source": [
    "df.head()"
   ]
  },
  {
   "cell_type": "code",
   "execution_count": 16,
   "metadata": {},
   "outputs": [],
   "source": [
    "df2 = pd.DataFrame({'Category':['A','B','C'],'Values':[32,43,50]})"
   ]
  },
  {
   "cell_type": "code",
   "execution_count": 40,
   "metadata": {},
   "outputs": [
    {
     "data": {
      "text/html": [
       "<div>\n",
       "<table border=\"1\" class=\"dataframe\">\n",
       "  <thead>\n",
       "    <tr style=\"text-align: right;\">\n",
       "      <th></th>\n",
       "      <th>Category</th>\n",
       "      <th>Values</th>\n",
       "    </tr>\n",
       "  </thead>\n",
       "  <tbody>\n",
       "    <tr>\n",
       "      <th>0</th>\n",
       "      <td>A</td>\n",
       "      <td>32</td>\n",
       "    </tr>\n",
       "    <tr>\n",
       "      <th>1</th>\n",
       "      <td>B</td>\n",
       "      <td>43</td>\n",
       "    </tr>\n",
       "    <tr>\n",
       "      <th>2</th>\n",
       "      <td>C</td>\n",
       "      <td>50</td>\n",
       "    </tr>\n",
       "  </tbody>\n",
       "</table>\n",
       "</div>"
      ],
      "text/plain": [
       "  Category  Values\n",
       "0        A      32\n",
       "1        B      43\n",
       "2        C      50"
      ]
     },
     "execution_count": 40,
     "metadata": {},
     "output_type": "execute_result"
    }
   ],
   "source": [
    "df2.head()"
   ]
  },
  {
   "cell_type": "markdown",
   "metadata": {},
   "source": [
    "## Using Cufflinks and iplot()\n",
    "\n",
    "* scatter\n",
    "* bar\n",
    "* box\n",
    "* spread\n",
    "* ratio\n",
    "* heatmap\n",
    "* surface\n",
    "* histogram\n",
    "* bubble"
   ]
  },
  {
   "cell_type": "markdown",
   "metadata": {},
   "source": [
    "## Scatter"
   ]
  },
  {
   "cell_type": "code",
   "execution_count": 17,
   "metadata": {},
   "outputs": [
    {
     "data": {
      "application/vnd.plotly.v1+json": {
       "config": {
        "linkText": "Export to plot.ly",
        "plotlyServerURL": "https://plot.ly",
        "showLink": true
       },
       "data": [
        {
         "line": {
          "color": "rgba(255, 153, 51, 1.0)",
          "dash": "solid",
          "shape": "linear",
          "width": 1.3
         },
         "marker": {
          "size": 10,
          "symbol": "circle"
         },
         "mode": "markers",
         "name": "B",
         "text": "",
         "type": "scatter",
         "x": [
          -1.128527421491057,
          -0.8325364170784427,
          1.117759011436061,
          0.11495821582242938,
          0.9305397397535681,
          -0.056959321380706515,
          -0.5762026578238985,
          0.325320359316401,
          -1.9649153531373396,
          -0.38095279402790533,
          -0.7454931605462313,
          0.8976973947563892,
          -1.1235804539847107,
          -0.953172193107549,
          -0.6759776688995367,
          0.8002755785061688,
          1.0494633796587234,
          0.7378447030414386,
          0.12986113700123267,
          1.086286389801609,
          0.08155836201718823,
          0.9229784489921659,
          -0.09369022766596474,
          -0.09856230970321986,
          1.098265891122033,
          -1.4152131175655607,
          0.2611617624310045,
          2.1193649175716662,
          -0.6664020677940656,
          -0.48052259484460547,
          -0.7276838790005038,
          0.039524546708315525,
          0.318393553414977,
          -0.7196077416392381,
          0.3421313655229252,
          0.4388205758096896,
          -2.3550491633823247,
          -0.593569758262605,
          1.3047282106401816,
          2.443603175882856,
          0.28018107604832165,
          -0.8710273063882875,
          -0.4313328571744169,
          -0.5355094514622776,
          -1.0161943798253763,
          -0.3209224256029741,
          0.779425587893723,
          -0.11047731431318959,
          0.38402677202404795,
          0.9447772275780516,
          0.32871514758508485,
          -0.6560157443714713,
          0.08460414252776026,
          -0.5553487874460203,
          0.9471993168855736,
          0.6678767956742167,
          0.4208061364417931,
          -0.33768501018069025,
          1.1208605783273453,
          -1.144231224207155,
          -1.4199399126024166,
          -0.11313590371139508,
          1.3125136045441845,
          0.085954704596972,
          -0.7483688051037276,
          1.3962916765963318,
          0.6073003572383889,
          1.2964224252900522,
          1.28946390344804,
          2.030271679606397,
          0.24890115506565916,
          1.0408432010472008,
          -0.8196810968506483,
          -0.30181791205238634,
          -0.36394056053162893,
          0.7815149875165472,
          1.3196476078355661,
          1.727632647394526,
          0.3512575295402517,
          -0.6765221465830158,
          -1.4149174315858297,
          -0.21080941096235653,
          -1.78489892280663,
          -0.5243782750686626,
          -0.27859033504171876,
          -0.35180835776863956,
          0.43097713887934547,
          0.7307371202909417,
          1.7073564886167998,
          -1.4852143241881217,
          -1.964488410262696,
          -0.4693944143531847,
          1.5858342398604492,
          0.7595070765604511,
          0.9500923730675553,
          -1.5047798877080556,
          0.4176577629779211,
          1.1158898764399596,
          -1.9340101508934031,
          -0.9888974513248849
         ],
         "y": [
          -0.8438017208608072,
          -1.451059827304447,
          0.31677438801135444,
          -1.8824266351071355,
          -1.4000326376861942,
          0.08622616529018719,
          0.1813405485240011,
          -0.1096132190531128,
          1.7808291385567678,
          -0.5833462656304863,
          -0.5575659926396725,
          0.40584827482506397,
          0.6101680257864976,
          0.06544046951260675,
          1.4314723011005817,
          -0.07243636161791522,
          0.07292612974172229,
          0.16531870386208344,
          1.5473983294693736,
          -0.40795910360537324,
          0.534994199581339,
          0.3181352605298431,
          0.5827471569825284,
          0.11797395439563242,
          1.7270203123041272,
          -0.7979657106730599,
          -0.33643680435496826,
          -0.09190581146404614,
          -0.19434919479635446,
          1.3323765092492732,
          -0.5097502377901193,
          1.0123102696031379,
          -1.434646410360193,
          -0.08510773094341798,
          2.360527793889873,
          1.769109412305407,
          0.03199133127897448,
          -0.7151940914551366,
          -0.2446046200943762,
          -1.6369575612289258,
          -0.0222854167728985,
          -0.8398559101888473,
          1.3674759577283377,
          0.15091042675588018,
          0.7009967420910446,
          -0.39591430298434566,
          -0.06094057313462858,
          -0.8229796690465562,
          1.5647951708797927,
          0.5724286683006631,
          0.022599323722141563,
          -0.5693125084686658,
          1.3114744511352885,
          -1.228875433688444,
          0.5402788075718962,
          1.31880764494986,
          -1.446003318952283,
          0.8414602348998687,
          1.6409498164147742,
          1.7271203005557403,
          0.9064534794866576,
          0.07765079767186345,
          0.9377878612527225,
          1.1174189380719395,
          0.6265982804893011,
          -0.8505598010938983,
          0.5062479847351922,
          0.29743743819756463,
          -0.26487197065108586,
          -0.6090971952882519,
          3.3784685380994843,
          -1.3651458003278483,
          1.5362075391723087,
          -1.8426372521276637,
          2.2187310815551857,
          0.8846437079633963,
          -0.3233740780746491,
          0.7383625124308305,
          2.588160313840058,
          -0.16678927700726093,
          0.4345932220808519,
          1.3522024747491594,
          2.1398157596463223,
          -0.5546882110557149,
          -0.5246472208537587,
          -0.3247726096531107,
          -0.42285621792837025,
          0.011079347946176672,
          -0.7670558734032875,
          1.5606469735113997,
          -0.6158162024941565,
          -0.43316149808904775,
          -0.6365567196593834,
          -0.14843480591937674,
          0.3734032314190597,
          1.4400219200722884,
          -1.0365022965768078,
          0.0849264308017044,
          0.4774918060323457,
          0.3055439179664504
         ]
        }
       ],
       "layout": {
        "legend": {
         "bgcolor": "#F5F6F9",
         "font": {
          "color": "#4D5663"
         }
        },
        "paper_bgcolor": "#F5F6F9",
        "plot_bgcolor": "#F5F6F9",
        "template": {
         "data": {
          "bar": [
           {
            "error_x": {
             "color": "#2a3f5f"
            },
            "error_y": {
             "color": "#2a3f5f"
            },
            "marker": {
             "line": {
              "color": "#E5ECF6",
              "width": 0.5
             },
             "pattern": {
              "fillmode": "overlay",
              "size": 10,
              "solidity": 0.2
             }
            },
            "type": "bar"
           }
          ],
          "barpolar": [
           {
            "marker": {
             "line": {
              "color": "#E5ECF6",
              "width": 0.5
             },
             "pattern": {
              "fillmode": "overlay",
              "size": 10,
              "solidity": 0.2
             }
            },
            "type": "barpolar"
           }
          ],
          "carpet": [
           {
            "aaxis": {
             "endlinecolor": "#2a3f5f",
             "gridcolor": "white",
             "linecolor": "white",
             "minorgridcolor": "white",
             "startlinecolor": "#2a3f5f"
            },
            "baxis": {
             "endlinecolor": "#2a3f5f",
             "gridcolor": "white",
             "linecolor": "white",
             "minorgridcolor": "white",
             "startlinecolor": "#2a3f5f"
            },
            "type": "carpet"
           }
          ],
          "choropleth": [
           {
            "colorbar": {
             "outlinewidth": 0,
             "ticks": ""
            },
            "type": "choropleth"
           }
          ],
          "contour": [
           {
            "colorbar": {
             "outlinewidth": 0,
             "ticks": ""
            },
            "colorscale": [
             [
              0,
              "#0d0887"
             ],
             [
              0.1111111111111111,
              "#46039f"
             ],
             [
              0.2222222222222222,
              "#7201a8"
             ],
             [
              0.3333333333333333,
              "#9c179e"
             ],
             [
              0.4444444444444444,
              "#bd3786"
             ],
             [
              0.5555555555555556,
              "#d8576b"
             ],
             [
              0.6666666666666666,
              "#ed7953"
             ],
             [
              0.7777777777777778,
              "#fb9f3a"
             ],
             [
              0.8888888888888888,
              "#fdca26"
             ],
             [
              1,
              "#f0f921"
             ]
            ],
            "type": "contour"
           }
          ],
          "contourcarpet": [
           {
            "colorbar": {
             "outlinewidth": 0,
             "ticks": ""
            },
            "type": "contourcarpet"
           }
          ],
          "heatmap": [
           {
            "colorbar": {
             "outlinewidth": 0,
             "ticks": ""
            },
            "colorscale": [
             [
              0,
              "#0d0887"
             ],
             [
              0.1111111111111111,
              "#46039f"
             ],
             [
              0.2222222222222222,
              "#7201a8"
             ],
             [
              0.3333333333333333,
              "#9c179e"
             ],
             [
              0.4444444444444444,
              "#bd3786"
             ],
             [
              0.5555555555555556,
              "#d8576b"
             ],
             [
              0.6666666666666666,
              "#ed7953"
             ],
             [
              0.7777777777777778,
              "#fb9f3a"
             ],
             [
              0.8888888888888888,
              "#fdca26"
             ],
             [
              1,
              "#f0f921"
             ]
            ],
            "type": "heatmap"
           }
          ],
          "heatmapgl": [
           {
            "colorbar": {
             "outlinewidth": 0,
             "ticks": ""
            },
            "colorscale": [
             [
              0,
              "#0d0887"
             ],
             [
              0.1111111111111111,
              "#46039f"
             ],
             [
              0.2222222222222222,
              "#7201a8"
             ],
             [
              0.3333333333333333,
              "#9c179e"
             ],
             [
              0.4444444444444444,
              "#bd3786"
             ],
             [
              0.5555555555555556,
              "#d8576b"
             ],
             [
              0.6666666666666666,
              "#ed7953"
             ],
             [
              0.7777777777777778,
              "#fb9f3a"
             ],
             [
              0.8888888888888888,
              "#fdca26"
             ],
             [
              1,
              "#f0f921"
             ]
            ],
            "type": "heatmapgl"
           }
          ],
          "histogram": [
           {
            "marker": {
             "pattern": {
              "fillmode": "overlay",
              "size": 10,
              "solidity": 0.2
             }
            },
            "type": "histogram"
           }
          ],
          "histogram2d": [
           {
            "colorbar": {
             "outlinewidth": 0,
             "ticks": ""
            },
            "colorscale": [
             [
              0,
              "#0d0887"
             ],
             [
              0.1111111111111111,
              "#46039f"
             ],
             [
              0.2222222222222222,
              "#7201a8"
             ],
             [
              0.3333333333333333,
              "#9c179e"
             ],
             [
              0.4444444444444444,
              "#bd3786"
             ],
             [
              0.5555555555555556,
              "#d8576b"
             ],
             [
              0.6666666666666666,
              "#ed7953"
             ],
             [
              0.7777777777777778,
              "#fb9f3a"
             ],
             [
              0.8888888888888888,
              "#fdca26"
             ],
             [
              1,
              "#f0f921"
             ]
            ],
            "type": "histogram2d"
           }
          ],
          "histogram2dcontour": [
           {
            "colorbar": {
             "outlinewidth": 0,
             "ticks": ""
            },
            "colorscale": [
             [
              0,
              "#0d0887"
             ],
             [
              0.1111111111111111,
              "#46039f"
             ],
             [
              0.2222222222222222,
              "#7201a8"
             ],
             [
              0.3333333333333333,
              "#9c179e"
             ],
             [
              0.4444444444444444,
              "#bd3786"
             ],
             [
              0.5555555555555556,
              "#d8576b"
             ],
             [
              0.6666666666666666,
              "#ed7953"
             ],
             [
              0.7777777777777778,
              "#fb9f3a"
             ],
             [
              0.8888888888888888,
              "#fdca26"
             ],
             [
              1,
              "#f0f921"
             ]
            ],
            "type": "histogram2dcontour"
           }
          ],
          "mesh3d": [
           {
            "colorbar": {
             "outlinewidth": 0,
             "ticks": ""
            },
            "type": "mesh3d"
           }
          ],
          "parcoords": [
           {
            "line": {
             "colorbar": {
              "outlinewidth": 0,
              "ticks": ""
             }
            },
            "type": "parcoords"
           }
          ],
          "pie": [
           {
            "automargin": true,
            "type": "pie"
           }
          ],
          "scatter": [
           {
            "fillpattern": {
             "fillmode": "overlay",
             "size": 10,
             "solidity": 0.2
            },
            "type": "scatter"
           }
          ],
          "scatter3d": [
           {
            "line": {
             "colorbar": {
              "outlinewidth": 0,
              "ticks": ""
             }
            },
            "marker": {
             "colorbar": {
              "outlinewidth": 0,
              "ticks": ""
             }
            },
            "type": "scatter3d"
           }
          ],
          "scattercarpet": [
           {
            "marker": {
             "colorbar": {
              "outlinewidth": 0,
              "ticks": ""
             }
            },
            "type": "scattercarpet"
           }
          ],
          "scattergeo": [
           {
            "marker": {
             "colorbar": {
              "outlinewidth": 0,
              "ticks": ""
             }
            },
            "type": "scattergeo"
           }
          ],
          "scattergl": [
           {
            "marker": {
             "colorbar": {
              "outlinewidth": 0,
              "ticks": ""
             }
            },
            "type": "scattergl"
           }
          ],
          "scattermapbox": [
           {
            "marker": {
             "colorbar": {
              "outlinewidth": 0,
              "ticks": ""
             }
            },
            "type": "scattermapbox"
           }
          ],
          "scatterpolar": [
           {
            "marker": {
             "colorbar": {
              "outlinewidth": 0,
              "ticks": ""
             }
            },
            "type": "scatterpolar"
           }
          ],
          "scatterpolargl": [
           {
            "marker": {
             "colorbar": {
              "outlinewidth": 0,
              "ticks": ""
             }
            },
            "type": "scatterpolargl"
           }
          ],
          "scatterternary": [
           {
            "marker": {
             "colorbar": {
              "outlinewidth": 0,
              "ticks": ""
             }
            },
            "type": "scatterternary"
           }
          ],
          "surface": [
           {
            "colorbar": {
             "outlinewidth": 0,
             "ticks": ""
            },
            "colorscale": [
             [
              0,
              "#0d0887"
             ],
             [
              0.1111111111111111,
              "#46039f"
             ],
             [
              0.2222222222222222,
              "#7201a8"
             ],
             [
              0.3333333333333333,
              "#9c179e"
             ],
             [
              0.4444444444444444,
              "#bd3786"
             ],
             [
              0.5555555555555556,
              "#d8576b"
             ],
             [
              0.6666666666666666,
              "#ed7953"
             ],
             [
              0.7777777777777778,
              "#fb9f3a"
             ],
             [
              0.8888888888888888,
              "#fdca26"
             ],
             [
              1,
              "#f0f921"
             ]
            ],
            "type": "surface"
           }
          ],
          "table": [
           {
            "cells": {
             "fill": {
              "color": "#EBF0F8"
             },
             "line": {
              "color": "white"
             }
            },
            "header": {
             "fill": {
              "color": "#C8D4E3"
             },
             "line": {
              "color": "white"
             }
            },
            "type": "table"
           }
          ]
         },
         "layout": {
          "annotationdefaults": {
           "arrowcolor": "#2a3f5f",
           "arrowhead": 0,
           "arrowwidth": 1
          },
          "autotypenumbers": "strict",
          "coloraxis": {
           "colorbar": {
            "outlinewidth": 0,
            "ticks": ""
           }
          },
          "colorscale": {
           "diverging": [
            [
             0,
             "#8e0152"
            ],
            [
             0.1,
             "#c51b7d"
            ],
            [
             0.2,
             "#de77ae"
            ],
            [
             0.3,
             "#f1b6da"
            ],
            [
             0.4,
             "#fde0ef"
            ],
            [
             0.5,
             "#f7f7f7"
            ],
            [
             0.6,
             "#e6f5d0"
            ],
            [
             0.7,
             "#b8e186"
            ],
            [
             0.8,
             "#7fbc41"
            ],
            [
             0.9,
             "#4d9221"
            ],
            [
             1,
             "#276419"
            ]
           ],
           "sequential": [
            [
             0,
             "#0d0887"
            ],
            [
             0.1111111111111111,
             "#46039f"
            ],
            [
             0.2222222222222222,
             "#7201a8"
            ],
            [
             0.3333333333333333,
             "#9c179e"
            ],
            [
             0.4444444444444444,
             "#bd3786"
            ],
            [
             0.5555555555555556,
             "#d8576b"
            ],
            [
             0.6666666666666666,
             "#ed7953"
            ],
            [
             0.7777777777777778,
             "#fb9f3a"
            ],
            [
             0.8888888888888888,
             "#fdca26"
            ],
            [
             1,
             "#f0f921"
            ]
           ],
           "sequentialminus": [
            [
             0,
             "#0d0887"
            ],
            [
             0.1111111111111111,
             "#46039f"
            ],
            [
             0.2222222222222222,
             "#7201a8"
            ],
            [
             0.3333333333333333,
             "#9c179e"
            ],
            [
             0.4444444444444444,
             "#bd3786"
            ],
            [
             0.5555555555555556,
             "#d8576b"
            ],
            [
             0.6666666666666666,
             "#ed7953"
            ],
            [
             0.7777777777777778,
             "#fb9f3a"
            ],
            [
             0.8888888888888888,
             "#fdca26"
            ],
            [
             1,
             "#f0f921"
            ]
           ]
          },
          "colorway": [
           "#636efa",
           "#EF553B",
           "#00cc96",
           "#ab63fa",
           "#FFA15A",
           "#19d3f3",
           "#FF6692",
           "#B6E880",
           "#FF97FF",
           "#FECB52"
          ],
          "font": {
           "color": "#2a3f5f"
          },
          "geo": {
           "bgcolor": "white",
           "lakecolor": "white",
           "landcolor": "#E5ECF6",
           "showlakes": true,
           "showland": true,
           "subunitcolor": "white"
          },
          "hoverlabel": {
           "align": "left"
          },
          "hovermode": "closest",
          "mapbox": {
           "style": "light"
          },
          "paper_bgcolor": "white",
          "plot_bgcolor": "#E5ECF6",
          "polar": {
           "angularaxis": {
            "gridcolor": "white",
            "linecolor": "white",
            "ticks": ""
           },
           "bgcolor": "#E5ECF6",
           "radialaxis": {
            "gridcolor": "white",
            "linecolor": "white",
            "ticks": ""
           }
          },
          "scene": {
           "xaxis": {
            "backgroundcolor": "#E5ECF6",
            "gridcolor": "white",
            "gridwidth": 2,
            "linecolor": "white",
            "showbackground": true,
            "ticks": "",
            "zerolinecolor": "white"
           },
           "yaxis": {
            "backgroundcolor": "#E5ECF6",
            "gridcolor": "white",
            "gridwidth": 2,
            "linecolor": "white",
            "showbackground": true,
            "ticks": "",
            "zerolinecolor": "white"
           },
           "zaxis": {
            "backgroundcolor": "#E5ECF6",
            "gridcolor": "white",
            "gridwidth": 2,
            "linecolor": "white",
            "showbackground": true,
            "ticks": "",
            "zerolinecolor": "white"
           }
          },
          "shapedefaults": {
           "line": {
            "color": "#2a3f5f"
           }
          },
          "ternary": {
           "aaxis": {
            "gridcolor": "white",
            "linecolor": "white",
            "ticks": ""
           },
           "baxis": {
            "gridcolor": "white",
            "linecolor": "white",
            "ticks": ""
           },
           "bgcolor": "#E5ECF6",
           "caxis": {
            "gridcolor": "white",
            "linecolor": "white",
            "ticks": ""
           }
          },
          "title": {
           "x": 0.05
          },
          "xaxis": {
           "automargin": true,
           "gridcolor": "white",
           "linecolor": "white",
           "ticks": "",
           "title": {
            "standoff": 15
           },
           "zerolinecolor": "white",
           "zerolinewidth": 2
          },
          "yaxis": {
           "automargin": true,
           "gridcolor": "white",
           "linecolor": "white",
           "ticks": "",
           "title": {
            "standoff": 15
           },
           "zerolinecolor": "white",
           "zerolinewidth": 2
          }
         }
        },
        "title": {
         "font": {
          "color": "#4D5663"
         }
        },
        "xaxis": {
         "gridcolor": "#E1E5ED",
         "showgrid": true,
         "tickfont": {
          "color": "#4D5663"
         },
         "title": {
          "font": {
           "color": "#4D5663"
          },
          "text": ""
         },
         "zerolinecolor": "#E1E5ED"
        },
        "yaxis": {
         "gridcolor": "#E1E5ED",
         "showgrid": true,
         "tickfont": {
          "color": "#4D5663"
         },
         "title": {
          "font": {
           "color": "#4D5663"
          },
          "text": ""
         },
         "zerolinecolor": "#E1E5ED"
        }
       }
      },
      "text/html": [
       "<div>                            <div id=\"3804e96d-a3eb-4cd1-b0bc-dec1a0c8bba1\" class=\"plotly-graph-div\" style=\"height:525px; width:100%;\"></div>            <script type=\"text/javascript\">                require([\"plotly\"], function(Plotly) {                    window.PLOTLYENV=window.PLOTLYENV || {};\n",
       "                    window.PLOTLYENV.BASE_URL='https://plot.ly';                                    if (document.getElementById(\"3804e96d-a3eb-4cd1-b0bc-dec1a0c8bba1\")) {                    Plotly.newPlot(                        \"3804e96d-a3eb-4cd1-b0bc-dec1a0c8bba1\",                        [{\"line\":{\"color\":\"rgba(255, 153, 51, 1.0)\",\"dash\":\"solid\",\"shape\":\"linear\",\"width\":1.3},\"marker\":{\"size\":10,\"symbol\":\"circle\"},\"mode\":\"markers\",\"name\":\"B\",\"text\":\"\",\"x\":[-1.128527421491057,-0.8325364170784427,1.117759011436061,0.11495821582242938,0.9305397397535681,-0.056959321380706515,-0.5762026578238985,0.325320359316401,-1.9649153531373396,-0.38095279402790533,-0.7454931605462313,0.8976973947563892,-1.1235804539847107,-0.953172193107549,-0.6759776688995367,0.8002755785061688,1.0494633796587234,0.7378447030414386,0.12986113700123267,1.086286389801609,0.08155836201718823,0.9229784489921659,-0.09369022766596474,-0.09856230970321986,1.098265891122033,-1.4152131175655607,0.2611617624310045,2.1193649175716662,-0.6664020677940656,-0.48052259484460547,-0.7276838790005038,0.039524546708315525,0.318393553414977,-0.7196077416392381,0.3421313655229252,0.4388205758096896,-2.3550491633823247,-0.593569758262605,1.3047282106401816,2.443603175882856,0.28018107604832165,-0.8710273063882875,-0.4313328571744169,-0.5355094514622776,-1.0161943798253763,-0.3209224256029741,0.779425587893723,-0.11047731431318959,0.38402677202404795,0.9447772275780516,0.32871514758508485,-0.6560157443714713,0.08460414252776026,-0.5553487874460203,0.9471993168855736,0.6678767956742167,0.4208061364417931,-0.33768501018069025,1.1208605783273453,-1.144231224207155,-1.4199399126024166,-0.11313590371139508,1.3125136045441845,0.085954704596972,-0.7483688051037276,1.3962916765963318,0.6073003572383889,1.2964224252900522,1.28946390344804,2.030271679606397,0.24890115506565916,1.0408432010472008,-0.8196810968506483,-0.30181791205238634,-0.36394056053162893,0.7815149875165472,1.3196476078355661,1.727632647394526,0.3512575295402517,-0.6765221465830158,-1.4149174315858297,-0.21080941096235653,-1.78489892280663,-0.5243782750686626,-0.27859033504171876,-0.35180835776863956,0.43097713887934547,0.7307371202909417,1.7073564886167998,-1.4852143241881217,-1.964488410262696,-0.4693944143531847,1.5858342398604492,0.7595070765604511,0.9500923730675553,-1.5047798877080556,0.4176577629779211,1.1158898764399596,-1.9340101508934031,-0.9888974513248849],\"y\":[-0.8438017208608072,-1.451059827304447,0.31677438801135444,-1.8824266351071355,-1.4000326376861942,0.08622616529018719,0.1813405485240011,-0.1096132190531128,1.7808291385567678,-0.5833462656304863,-0.5575659926396725,0.40584827482506397,0.6101680257864976,0.06544046951260675,1.4314723011005817,-0.07243636161791522,0.07292612974172229,0.16531870386208344,1.5473983294693736,-0.40795910360537324,0.534994199581339,0.3181352605298431,0.5827471569825284,0.11797395439563242,1.7270203123041272,-0.7979657106730599,-0.33643680435496826,-0.09190581146404614,-0.19434919479635446,1.3323765092492732,-0.5097502377901193,1.0123102696031379,-1.434646410360193,-0.08510773094341798,2.360527793889873,1.769109412305407,0.03199133127897448,-0.7151940914551366,-0.2446046200943762,-1.6369575612289258,-0.0222854167728985,-0.8398559101888473,1.3674759577283377,0.15091042675588018,0.7009967420910446,-0.39591430298434566,-0.06094057313462858,-0.8229796690465562,1.5647951708797927,0.5724286683006631,0.022599323722141563,-0.5693125084686658,1.3114744511352885,-1.228875433688444,0.5402788075718962,1.31880764494986,-1.446003318952283,0.8414602348998687,1.6409498164147742,1.7271203005557403,0.9064534794866576,0.07765079767186345,0.9377878612527225,1.1174189380719395,0.6265982804893011,-0.8505598010938983,0.5062479847351922,0.29743743819756463,-0.26487197065108586,-0.6090971952882519,3.3784685380994843,-1.3651458003278483,1.5362075391723087,-1.8426372521276637,2.2187310815551857,0.8846437079633963,-0.3233740780746491,0.7383625124308305,2.588160313840058,-0.16678927700726093,0.4345932220808519,1.3522024747491594,2.1398157596463223,-0.5546882110557149,-0.5246472208537587,-0.3247726096531107,-0.42285621792837025,0.011079347946176672,-0.7670558734032875,1.5606469735113997,-0.6158162024941565,-0.43316149808904775,-0.6365567196593834,-0.14843480591937674,0.3734032314190597,1.4400219200722884,-1.0365022965768078,0.0849264308017044,0.4774918060323457,0.3055439179664504],\"type\":\"scatter\"}],                        {\"legend\":{\"bgcolor\":\"#F5F6F9\",\"font\":{\"color\":\"#4D5663\"}},\"paper_bgcolor\":\"#F5F6F9\",\"plot_bgcolor\":\"#F5F6F9\",\"template\":{\"data\":{\"barpolar\":[{\"marker\":{\"line\":{\"color\":\"#E5ECF6\",\"width\":0.5},\"pattern\":{\"fillmode\":\"overlay\",\"size\":10,\"solidity\":0.2}},\"type\":\"barpolar\"}],\"bar\":[{\"error_x\":{\"color\":\"#2a3f5f\"},\"error_y\":{\"color\":\"#2a3f5f\"},\"marker\":{\"line\":{\"color\":\"#E5ECF6\",\"width\":0.5},\"pattern\":{\"fillmode\":\"overlay\",\"size\":10,\"solidity\":0.2}},\"type\":\"bar\"}],\"carpet\":[{\"aaxis\":{\"endlinecolor\":\"#2a3f5f\",\"gridcolor\":\"white\",\"linecolor\":\"white\",\"minorgridcolor\":\"white\",\"startlinecolor\":\"#2a3f5f\"},\"baxis\":{\"endlinecolor\":\"#2a3f5f\",\"gridcolor\":\"white\",\"linecolor\":\"white\",\"minorgridcolor\":\"white\",\"startlinecolor\":\"#2a3f5f\"},\"type\":\"carpet\"}],\"choropleth\":[{\"colorbar\":{\"outlinewidth\":0,\"ticks\":\"\"},\"type\":\"choropleth\"}],\"contourcarpet\":[{\"colorbar\":{\"outlinewidth\":0,\"ticks\":\"\"},\"type\":\"contourcarpet\"}],\"contour\":[{\"colorbar\":{\"outlinewidth\":0,\"ticks\":\"\"},\"colorscale\":[[0.0,\"#0d0887\"],[0.1111111111111111,\"#46039f\"],[0.2222222222222222,\"#7201a8\"],[0.3333333333333333,\"#9c179e\"],[0.4444444444444444,\"#bd3786\"],[0.5555555555555556,\"#d8576b\"],[0.6666666666666666,\"#ed7953\"],[0.7777777777777778,\"#fb9f3a\"],[0.8888888888888888,\"#fdca26\"],[1.0,\"#f0f921\"]],\"type\":\"contour\"}],\"heatmapgl\":[{\"colorbar\":{\"outlinewidth\":0,\"ticks\":\"\"},\"colorscale\":[[0.0,\"#0d0887\"],[0.1111111111111111,\"#46039f\"],[0.2222222222222222,\"#7201a8\"],[0.3333333333333333,\"#9c179e\"],[0.4444444444444444,\"#bd3786\"],[0.5555555555555556,\"#d8576b\"],[0.6666666666666666,\"#ed7953\"],[0.7777777777777778,\"#fb9f3a\"],[0.8888888888888888,\"#fdca26\"],[1.0,\"#f0f921\"]],\"type\":\"heatmapgl\"}],\"heatmap\":[{\"colorbar\":{\"outlinewidth\":0,\"ticks\":\"\"},\"colorscale\":[[0.0,\"#0d0887\"],[0.1111111111111111,\"#46039f\"],[0.2222222222222222,\"#7201a8\"],[0.3333333333333333,\"#9c179e\"],[0.4444444444444444,\"#bd3786\"],[0.5555555555555556,\"#d8576b\"],[0.6666666666666666,\"#ed7953\"],[0.7777777777777778,\"#fb9f3a\"],[0.8888888888888888,\"#fdca26\"],[1.0,\"#f0f921\"]],\"type\":\"heatmap\"}],\"histogram2dcontour\":[{\"colorbar\":{\"outlinewidth\":0,\"ticks\":\"\"},\"colorscale\":[[0.0,\"#0d0887\"],[0.1111111111111111,\"#46039f\"],[0.2222222222222222,\"#7201a8\"],[0.3333333333333333,\"#9c179e\"],[0.4444444444444444,\"#bd3786\"],[0.5555555555555556,\"#d8576b\"],[0.6666666666666666,\"#ed7953\"],[0.7777777777777778,\"#fb9f3a\"],[0.8888888888888888,\"#fdca26\"],[1.0,\"#f0f921\"]],\"type\":\"histogram2dcontour\"}],\"histogram2d\":[{\"colorbar\":{\"outlinewidth\":0,\"ticks\":\"\"},\"colorscale\":[[0.0,\"#0d0887\"],[0.1111111111111111,\"#46039f\"],[0.2222222222222222,\"#7201a8\"],[0.3333333333333333,\"#9c179e\"],[0.4444444444444444,\"#bd3786\"],[0.5555555555555556,\"#d8576b\"],[0.6666666666666666,\"#ed7953\"],[0.7777777777777778,\"#fb9f3a\"],[0.8888888888888888,\"#fdca26\"],[1.0,\"#f0f921\"]],\"type\":\"histogram2d\"}],\"histogram\":[{\"marker\":{\"pattern\":{\"fillmode\":\"overlay\",\"size\":10,\"solidity\":0.2}},\"type\":\"histogram\"}],\"mesh3d\":[{\"colorbar\":{\"outlinewidth\":0,\"ticks\":\"\"},\"type\":\"mesh3d\"}],\"parcoords\":[{\"line\":{\"colorbar\":{\"outlinewidth\":0,\"ticks\":\"\"}},\"type\":\"parcoords\"}],\"pie\":[{\"automargin\":true,\"type\":\"pie\"}],\"scatter3d\":[{\"line\":{\"colorbar\":{\"outlinewidth\":0,\"ticks\":\"\"}},\"marker\":{\"colorbar\":{\"outlinewidth\":0,\"ticks\":\"\"}},\"type\":\"scatter3d\"}],\"scattercarpet\":[{\"marker\":{\"colorbar\":{\"outlinewidth\":0,\"ticks\":\"\"}},\"type\":\"scattercarpet\"}],\"scattergeo\":[{\"marker\":{\"colorbar\":{\"outlinewidth\":0,\"ticks\":\"\"}},\"type\":\"scattergeo\"}],\"scattergl\":[{\"marker\":{\"colorbar\":{\"outlinewidth\":0,\"ticks\":\"\"}},\"type\":\"scattergl\"}],\"scattermapbox\":[{\"marker\":{\"colorbar\":{\"outlinewidth\":0,\"ticks\":\"\"}},\"type\":\"scattermapbox\"}],\"scatterpolargl\":[{\"marker\":{\"colorbar\":{\"outlinewidth\":0,\"ticks\":\"\"}},\"type\":\"scatterpolargl\"}],\"scatterpolar\":[{\"marker\":{\"colorbar\":{\"outlinewidth\":0,\"ticks\":\"\"}},\"type\":\"scatterpolar\"}],\"scatter\":[{\"fillpattern\":{\"fillmode\":\"overlay\",\"size\":10,\"solidity\":0.2},\"type\":\"scatter\"}],\"scatterternary\":[{\"marker\":{\"colorbar\":{\"outlinewidth\":0,\"ticks\":\"\"}},\"type\":\"scatterternary\"}],\"surface\":[{\"colorbar\":{\"outlinewidth\":0,\"ticks\":\"\"},\"colorscale\":[[0.0,\"#0d0887\"],[0.1111111111111111,\"#46039f\"],[0.2222222222222222,\"#7201a8\"],[0.3333333333333333,\"#9c179e\"],[0.4444444444444444,\"#bd3786\"],[0.5555555555555556,\"#d8576b\"],[0.6666666666666666,\"#ed7953\"],[0.7777777777777778,\"#fb9f3a\"],[0.8888888888888888,\"#fdca26\"],[1.0,\"#f0f921\"]],\"type\":\"surface\"}],\"table\":[{\"cells\":{\"fill\":{\"color\":\"#EBF0F8\"},\"line\":{\"color\":\"white\"}},\"header\":{\"fill\":{\"color\":\"#C8D4E3\"},\"line\":{\"color\":\"white\"}},\"type\":\"table\"}]},\"layout\":{\"annotationdefaults\":{\"arrowcolor\":\"#2a3f5f\",\"arrowhead\":0,\"arrowwidth\":1},\"autotypenumbers\":\"strict\",\"coloraxis\":{\"colorbar\":{\"outlinewidth\":0,\"ticks\":\"\"}},\"colorscale\":{\"diverging\":[[0,\"#8e0152\"],[0.1,\"#c51b7d\"],[0.2,\"#de77ae\"],[0.3,\"#f1b6da\"],[0.4,\"#fde0ef\"],[0.5,\"#f7f7f7\"],[0.6,\"#e6f5d0\"],[0.7,\"#b8e186\"],[0.8,\"#7fbc41\"],[0.9,\"#4d9221\"],[1,\"#276419\"]],\"sequential\":[[0.0,\"#0d0887\"],[0.1111111111111111,\"#46039f\"],[0.2222222222222222,\"#7201a8\"],[0.3333333333333333,\"#9c179e\"],[0.4444444444444444,\"#bd3786\"],[0.5555555555555556,\"#d8576b\"],[0.6666666666666666,\"#ed7953\"],[0.7777777777777778,\"#fb9f3a\"],[0.8888888888888888,\"#fdca26\"],[1.0,\"#f0f921\"]],\"sequentialminus\":[[0.0,\"#0d0887\"],[0.1111111111111111,\"#46039f\"],[0.2222222222222222,\"#7201a8\"],[0.3333333333333333,\"#9c179e\"],[0.4444444444444444,\"#bd3786\"],[0.5555555555555556,\"#d8576b\"],[0.6666666666666666,\"#ed7953\"],[0.7777777777777778,\"#fb9f3a\"],[0.8888888888888888,\"#fdca26\"],[1.0,\"#f0f921\"]]},\"colorway\":[\"#636efa\",\"#EF553B\",\"#00cc96\",\"#ab63fa\",\"#FFA15A\",\"#19d3f3\",\"#FF6692\",\"#B6E880\",\"#FF97FF\",\"#FECB52\"],\"font\":{\"color\":\"#2a3f5f\"},\"geo\":{\"bgcolor\":\"white\",\"lakecolor\":\"white\",\"landcolor\":\"#E5ECF6\",\"showlakes\":true,\"showland\":true,\"subunitcolor\":\"white\"},\"hoverlabel\":{\"align\":\"left\"},\"hovermode\":\"closest\",\"mapbox\":{\"style\":\"light\"},\"paper_bgcolor\":\"white\",\"plot_bgcolor\":\"#E5ECF6\",\"polar\":{\"angularaxis\":{\"gridcolor\":\"white\",\"linecolor\":\"white\",\"ticks\":\"\"},\"bgcolor\":\"#E5ECF6\",\"radialaxis\":{\"gridcolor\":\"white\",\"linecolor\":\"white\",\"ticks\":\"\"}},\"scene\":{\"xaxis\":{\"backgroundcolor\":\"#E5ECF6\",\"gridcolor\":\"white\",\"gridwidth\":2,\"linecolor\":\"white\",\"showbackground\":true,\"ticks\":\"\",\"zerolinecolor\":\"white\"},\"yaxis\":{\"backgroundcolor\":\"#E5ECF6\",\"gridcolor\":\"white\",\"gridwidth\":2,\"linecolor\":\"white\",\"showbackground\":true,\"ticks\":\"\",\"zerolinecolor\":\"white\"},\"zaxis\":{\"backgroundcolor\":\"#E5ECF6\",\"gridcolor\":\"white\",\"gridwidth\":2,\"linecolor\":\"white\",\"showbackground\":true,\"ticks\":\"\",\"zerolinecolor\":\"white\"}},\"shapedefaults\":{\"line\":{\"color\":\"#2a3f5f\"}},\"ternary\":{\"aaxis\":{\"gridcolor\":\"white\",\"linecolor\":\"white\",\"ticks\":\"\"},\"baxis\":{\"gridcolor\":\"white\",\"linecolor\":\"white\",\"ticks\":\"\"},\"bgcolor\":\"#E5ECF6\",\"caxis\":{\"gridcolor\":\"white\",\"linecolor\":\"white\",\"ticks\":\"\"}},\"title\":{\"x\":0.05},\"xaxis\":{\"automargin\":true,\"gridcolor\":\"white\",\"linecolor\":\"white\",\"ticks\":\"\",\"title\":{\"standoff\":15},\"zerolinecolor\":\"white\",\"zerolinewidth\":2},\"yaxis\":{\"automargin\":true,\"gridcolor\":\"white\",\"linecolor\":\"white\",\"ticks\":\"\",\"title\":{\"standoff\":15},\"zerolinecolor\":\"white\",\"zerolinewidth\":2}}},\"title\":{\"font\":{\"color\":\"#4D5663\"}},\"xaxis\":{\"gridcolor\":\"#E1E5ED\",\"showgrid\":true,\"tickfont\":{\"color\":\"#4D5663\"},\"title\":{\"font\":{\"color\":\"#4D5663\"},\"text\":\"\"},\"zerolinecolor\":\"#E1E5ED\"},\"yaxis\":{\"gridcolor\":\"#E1E5ED\",\"showgrid\":true,\"tickfont\":{\"color\":\"#4D5663\"},\"title\":{\"font\":{\"color\":\"#4D5663\"},\"text\":\"\"},\"zerolinecolor\":\"#E1E5ED\"}},                        {\"showLink\": true, \"linkText\": \"Export to plot.ly\", \"plotlyServerURL\": \"https://plot.ly\", \"responsive\": true}                    ).then(function(){\n",
       "                            \n",
       "var gd = document.getElementById('3804e96d-a3eb-4cd1-b0bc-dec1a0c8bba1');\n",
       "var x = new MutationObserver(function (mutations, observer) {{\n",
       "        var display = window.getComputedStyle(gd).display;\n",
       "        if (!display || display === 'none') {{\n",
       "            console.log([gd, 'removed!']);\n",
       "            Plotly.purge(gd);\n",
       "            observer.disconnect();\n",
       "        }}\n",
       "}});\n",
       "\n",
       "// Listen for the removal of the full notebook cells\n",
       "var notebookContainer = gd.closest('#notebook-container');\n",
       "if (notebookContainer) {{\n",
       "    x.observe(notebookContainer, {childList: true});\n",
       "}}\n",
       "\n",
       "// Listen for the clearing of the current output cell\n",
       "var outputEl = gd.closest('.output');\n",
       "if (outputEl) {{\n",
       "    x.observe(outputEl, {childList: true});\n",
       "}}\n",
       "\n",
       "                        })                };                });            </script>        </div>"
      ]
     },
     "metadata": {},
     "output_type": "display_data"
    }
   ],
   "source": [
    "df.iplot(kind='scatter',x='A',y='B',mode='markers',size=10)"
   ]
  },
  {
   "cell_type": "markdown",
   "metadata": {},
   "source": [
    "## Bar Plots"
   ]
  },
  {
   "cell_type": "code",
   "execution_count": 18,
   "metadata": {},
   "outputs": [
    {
     "data": {
      "application/vnd.plotly.v1+json": {
       "config": {
        "linkText": "Export to plot.ly",
        "plotlyServerURL": "https://plot.ly",
        "showLink": true
       },
       "data": [
        {
         "marker": {
          "color": "rgba(255, 153, 51, 0.6)",
          "line": {
           "color": "rgba(255, 153, 51, 1.0)",
           "width": 1
          }
         },
         "name": "Values",
         "orientation": "v",
         "text": "",
         "type": "bar",
         "x": [
          "A",
          "B",
          "C"
         ],
         "y": [
          32,
          43,
          50
         ]
        }
       ],
       "layout": {
        "legend": {
         "bgcolor": "#F5F6F9",
         "font": {
          "color": "#4D5663"
         }
        },
        "paper_bgcolor": "#F5F6F9",
        "plot_bgcolor": "#F5F6F9",
        "template": {
         "data": {
          "bar": [
           {
            "error_x": {
             "color": "#2a3f5f"
            },
            "error_y": {
             "color": "#2a3f5f"
            },
            "marker": {
             "line": {
              "color": "#E5ECF6",
              "width": 0.5
             },
             "pattern": {
              "fillmode": "overlay",
              "size": 10,
              "solidity": 0.2
             }
            },
            "type": "bar"
           }
          ],
          "barpolar": [
           {
            "marker": {
             "line": {
              "color": "#E5ECF6",
              "width": 0.5
             },
             "pattern": {
              "fillmode": "overlay",
              "size": 10,
              "solidity": 0.2
             }
            },
            "type": "barpolar"
           }
          ],
          "carpet": [
           {
            "aaxis": {
             "endlinecolor": "#2a3f5f",
             "gridcolor": "white",
             "linecolor": "white",
             "minorgridcolor": "white",
             "startlinecolor": "#2a3f5f"
            },
            "baxis": {
             "endlinecolor": "#2a3f5f",
             "gridcolor": "white",
             "linecolor": "white",
             "minorgridcolor": "white",
             "startlinecolor": "#2a3f5f"
            },
            "type": "carpet"
           }
          ],
          "choropleth": [
           {
            "colorbar": {
             "outlinewidth": 0,
             "ticks": ""
            },
            "type": "choropleth"
           }
          ],
          "contour": [
           {
            "colorbar": {
             "outlinewidth": 0,
             "ticks": ""
            },
            "colorscale": [
             [
              0,
              "#0d0887"
             ],
             [
              0.1111111111111111,
              "#46039f"
             ],
             [
              0.2222222222222222,
              "#7201a8"
             ],
             [
              0.3333333333333333,
              "#9c179e"
             ],
             [
              0.4444444444444444,
              "#bd3786"
             ],
             [
              0.5555555555555556,
              "#d8576b"
             ],
             [
              0.6666666666666666,
              "#ed7953"
             ],
             [
              0.7777777777777778,
              "#fb9f3a"
             ],
             [
              0.8888888888888888,
              "#fdca26"
             ],
             [
              1,
              "#f0f921"
             ]
            ],
            "type": "contour"
           }
          ],
          "contourcarpet": [
           {
            "colorbar": {
             "outlinewidth": 0,
             "ticks": ""
            },
            "type": "contourcarpet"
           }
          ],
          "heatmap": [
           {
            "colorbar": {
             "outlinewidth": 0,
             "ticks": ""
            },
            "colorscale": [
             [
              0,
              "#0d0887"
             ],
             [
              0.1111111111111111,
              "#46039f"
             ],
             [
              0.2222222222222222,
              "#7201a8"
             ],
             [
              0.3333333333333333,
              "#9c179e"
             ],
             [
              0.4444444444444444,
              "#bd3786"
             ],
             [
              0.5555555555555556,
              "#d8576b"
             ],
             [
              0.6666666666666666,
              "#ed7953"
             ],
             [
              0.7777777777777778,
              "#fb9f3a"
             ],
             [
              0.8888888888888888,
              "#fdca26"
             ],
             [
              1,
              "#f0f921"
             ]
            ],
            "type": "heatmap"
           }
          ],
          "heatmapgl": [
           {
            "colorbar": {
             "outlinewidth": 0,
             "ticks": ""
            },
            "colorscale": [
             [
              0,
              "#0d0887"
             ],
             [
              0.1111111111111111,
              "#46039f"
             ],
             [
              0.2222222222222222,
              "#7201a8"
             ],
             [
              0.3333333333333333,
              "#9c179e"
             ],
             [
              0.4444444444444444,
              "#bd3786"
             ],
             [
              0.5555555555555556,
              "#d8576b"
             ],
             [
              0.6666666666666666,
              "#ed7953"
             ],
             [
              0.7777777777777778,
              "#fb9f3a"
             ],
             [
              0.8888888888888888,
              "#fdca26"
             ],
             [
              1,
              "#f0f921"
             ]
            ],
            "type": "heatmapgl"
           }
          ],
          "histogram": [
           {
            "marker": {
             "pattern": {
              "fillmode": "overlay",
              "size": 10,
              "solidity": 0.2
             }
            },
            "type": "histogram"
           }
          ],
          "histogram2d": [
           {
            "colorbar": {
             "outlinewidth": 0,
             "ticks": ""
            },
            "colorscale": [
             [
              0,
              "#0d0887"
             ],
             [
              0.1111111111111111,
              "#46039f"
             ],
             [
              0.2222222222222222,
              "#7201a8"
             ],
             [
              0.3333333333333333,
              "#9c179e"
             ],
             [
              0.4444444444444444,
              "#bd3786"
             ],
             [
              0.5555555555555556,
              "#d8576b"
             ],
             [
              0.6666666666666666,
              "#ed7953"
             ],
             [
              0.7777777777777778,
              "#fb9f3a"
             ],
             [
              0.8888888888888888,
              "#fdca26"
             ],
             [
              1,
              "#f0f921"
             ]
            ],
            "type": "histogram2d"
           }
          ],
          "histogram2dcontour": [
           {
            "colorbar": {
             "outlinewidth": 0,
             "ticks": ""
            },
            "colorscale": [
             [
              0,
              "#0d0887"
             ],
             [
              0.1111111111111111,
              "#46039f"
             ],
             [
              0.2222222222222222,
              "#7201a8"
             ],
             [
              0.3333333333333333,
              "#9c179e"
             ],
             [
              0.4444444444444444,
              "#bd3786"
             ],
             [
              0.5555555555555556,
              "#d8576b"
             ],
             [
              0.6666666666666666,
              "#ed7953"
             ],
             [
              0.7777777777777778,
              "#fb9f3a"
             ],
             [
              0.8888888888888888,
              "#fdca26"
             ],
             [
              1,
              "#f0f921"
             ]
            ],
            "type": "histogram2dcontour"
           }
          ],
          "mesh3d": [
           {
            "colorbar": {
             "outlinewidth": 0,
             "ticks": ""
            },
            "type": "mesh3d"
           }
          ],
          "parcoords": [
           {
            "line": {
             "colorbar": {
              "outlinewidth": 0,
              "ticks": ""
             }
            },
            "type": "parcoords"
           }
          ],
          "pie": [
           {
            "automargin": true,
            "type": "pie"
           }
          ],
          "scatter": [
           {
            "fillpattern": {
             "fillmode": "overlay",
             "size": 10,
             "solidity": 0.2
            },
            "type": "scatter"
           }
          ],
          "scatter3d": [
           {
            "line": {
             "colorbar": {
              "outlinewidth": 0,
              "ticks": ""
             }
            },
            "marker": {
             "colorbar": {
              "outlinewidth": 0,
              "ticks": ""
             }
            },
            "type": "scatter3d"
           }
          ],
          "scattercarpet": [
           {
            "marker": {
             "colorbar": {
              "outlinewidth": 0,
              "ticks": ""
             }
            },
            "type": "scattercarpet"
           }
          ],
          "scattergeo": [
           {
            "marker": {
             "colorbar": {
              "outlinewidth": 0,
              "ticks": ""
             }
            },
            "type": "scattergeo"
           }
          ],
          "scattergl": [
           {
            "marker": {
             "colorbar": {
              "outlinewidth": 0,
              "ticks": ""
             }
            },
            "type": "scattergl"
           }
          ],
          "scattermapbox": [
           {
            "marker": {
             "colorbar": {
              "outlinewidth": 0,
              "ticks": ""
             }
            },
            "type": "scattermapbox"
           }
          ],
          "scatterpolar": [
           {
            "marker": {
             "colorbar": {
              "outlinewidth": 0,
              "ticks": ""
             }
            },
            "type": "scatterpolar"
           }
          ],
          "scatterpolargl": [
           {
            "marker": {
             "colorbar": {
              "outlinewidth": 0,
              "ticks": ""
             }
            },
            "type": "scatterpolargl"
           }
          ],
          "scatterternary": [
           {
            "marker": {
             "colorbar": {
              "outlinewidth": 0,
              "ticks": ""
             }
            },
            "type": "scatterternary"
           }
          ],
          "surface": [
           {
            "colorbar": {
             "outlinewidth": 0,
             "ticks": ""
            },
            "colorscale": [
             [
              0,
              "#0d0887"
             ],
             [
              0.1111111111111111,
              "#46039f"
             ],
             [
              0.2222222222222222,
              "#7201a8"
             ],
             [
              0.3333333333333333,
              "#9c179e"
             ],
             [
              0.4444444444444444,
              "#bd3786"
             ],
             [
              0.5555555555555556,
              "#d8576b"
             ],
             [
              0.6666666666666666,
              "#ed7953"
             ],
             [
              0.7777777777777778,
              "#fb9f3a"
             ],
             [
              0.8888888888888888,
              "#fdca26"
             ],
             [
              1,
              "#f0f921"
             ]
            ],
            "type": "surface"
           }
          ],
          "table": [
           {
            "cells": {
             "fill": {
              "color": "#EBF0F8"
             },
             "line": {
              "color": "white"
             }
            },
            "header": {
             "fill": {
              "color": "#C8D4E3"
             },
             "line": {
              "color": "white"
             }
            },
            "type": "table"
           }
          ]
         },
         "layout": {
          "annotationdefaults": {
           "arrowcolor": "#2a3f5f",
           "arrowhead": 0,
           "arrowwidth": 1
          },
          "autotypenumbers": "strict",
          "coloraxis": {
           "colorbar": {
            "outlinewidth": 0,
            "ticks": ""
           }
          },
          "colorscale": {
           "diverging": [
            [
             0,
             "#8e0152"
            ],
            [
             0.1,
             "#c51b7d"
            ],
            [
             0.2,
             "#de77ae"
            ],
            [
             0.3,
             "#f1b6da"
            ],
            [
             0.4,
             "#fde0ef"
            ],
            [
             0.5,
             "#f7f7f7"
            ],
            [
             0.6,
             "#e6f5d0"
            ],
            [
             0.7,
             "#b8e186"
            ],
            [
             0.8,
             "#7fbc41"
            ],
            [
             0.9,
             "#4d9221"
            ],
            [
             1,
             "#276419"
            ]
           ],
           "sequential": [
            [
             0,
             "#0d0887"
            ],
            [
             0.1111111111111111,
             "#46039f"
            ],
            [
             0.2222222222222222,
             "#7201a8"
            ],
            [
             0.3333333333333333,
             "#9c179e"
            ],
            [
             0.4444444444444444,
             "#bd3786"
            ],
            [
             0.5555555555555556,
             "#d8576b"
            ],
            [
             0.6666666666666666,
             "#ed7953"
            ],
            [
             0.7777777777777778,
             "#fb9f3a"
            ],
            [
             0.8888888888888888,
             "#fdca26"
            ],
            [
             1,
             "#f0f921"
            ]
           ],
           "sequentialminus": [
            [
             0,
             "#0d0887"
            ],
            [
             0.1111111111111111,
             "#46039f"
            ],
            [
             0.2222222222222222,
             "#7201a8"
            ],
            [
             0.3333333333333333,
             "#9c179e"
            ],
            [
             0.4444444444444444,
             "#bd3786"
            ],
            [
             0.5555555555555556,
             "#d8576b"
            ],
            [
             0.6666666666666666,
             "#ed7953"
            ],
            [
             0.7777777777777778,
             "#fb9f3a"
            ],
            [
             0.8888888888888888,
             "#fdca26"
            ],
            [
             1,
             "#f0f921"
            ]
           ]
          },
          "colorway": [
           "#636efa",
           "#EF553B",
           "#00cc96",
           "#ab63fa",
           "#FFA15A",
           "#19d3f3",
           "#FF6692",
           "#B6E880",
           "#FF97FF",
           "#FECB52"
          ],
          "font": {
           "color": "#2a3f5f"
          },
          "geo": {
           "bgcolor": "white",
           "lakecolor": "white",
           "landcolor": "#E5ECF6",
           "showlakes": true,
           "showland": true,
           "subunitcolor": "white"
          },
          "hoverlabel": {
           "align": "left"
          },
          "hovermode": "closest",
          "mapbox": {
           "style": "light"
          },
          "paper_bgcolor": "white",
          "plot_bgcolor": "#E5ECF6",
          "polar": {
           "angularaxis": {
            "gridcolor": "white",
            "linecolor": "white",
            "ticks": ""
           },
           "bgcolor": "#E5ECF6",
           "radialaxis": {
            "gridcolor": "white",
            "linecolor": "white",
            "ticks": ""
           }
          },
          "scene": {
           "xaxis": {
            "backgroundcolor": "#E5ECF6",
            "gridcolor": "white",
            "gridwidth": 2,
            "linecolor": "white",
            "showbackground": true,
            "ticks": "",
            "zerolinecolor": "white"
           },
           "yaxis": {
            "backgroundcolor": "#E5ECF6",
            "gridcolor": "white",
            "gridwidth": 2,
            "linecolor": "white",
            "showbackground": true,
            "ticks": "",
            "zerolinecolor": "white"
           },
           "zaxis": {
            "backgroundcolor": "#E5ECF6",
            "gridcolor": "white",
            "gridwidth": 2,
            "linecolor": "white",
            "showbackground": true,
            "ticks": "",
            "zerolinecolor": "white"
           }
          },
          "shapedefaults": {
           "line": {
            "color": "#2a3f5f"
           }
          },
          "ternary": {
           "aaxis": {
            "gridcolor": "white",
            "linecolor": "white",
            "ticks": ""
           },
           "baxis": {
            "gridcolor": "white",
            "linecolor": "white",
            "ticks": ""
           },
           "bgcolor": "#E5ECF6",
           "caxis": {
            "gridcolor": "white",
            "linecolor": "white",
            "ticks": ""
           }
          },
          "title": {
           "x": 0.05
          },
          "xaxis": {
           "automargin": true,
           "gridcolor": "white",
           "linecolor": "white",
           "ticks": "",
           "title": {
            "standoff": 15
           },
           "zerolinecolor": "white",
           "zerolinewidth": 2
          },
          "yaxis": {
           "automargin": true,
           "gridcolor": "white",
           "linecolor": "white",
           "ticks": "",
           "title": {
            "standoff": 15
           },
           "zerolinecolor": "white",
           "zerolinewidth": 2
          }
         }
        },
        "title": {
         "font": {
          "color": "#4D5663"
         }
        },
        "xaxis": {
         "gridcolor": "#E1E5ED",
         "showgrid": true,
         "tickfont": {
          "color": "#4D5663"
         },
         "title": {
          "font": {
           "color": "#4D5663"
          },
          "text": ""
         },
         "zerolinecolor": "#E1E5ED"
        },
        "yaxis": {
         "gridcolor": "#E1E5ED",
         "showgrid": true,
         "tickfont": {
          "color": "#4D5663"
         },
         "title": {
          "font": {
           "color": "#4D5663"
          },
          "text": ""
         },
         "zerolinecolor": "#E1E5ED"
        }
       }
      },
      "text/html": [
       "<div>                            <div id=\"cd21f6de-776a-448f-8860-7b91facdde9f\" class=\"plotly-graph-div\" style=\"height:525px; width:100%;\"></div>            <script type=\"text/javascript\">                require([\"plotly\"], function(Plotly) {                    window.PLOTLYENV=window.PLOTLYENV || {};\n",
       "                    window.PLOTLYENV.BASE_URL='https://plot.ly';                                    if (document.getElementById(\"cd21f6de-776a-448f-8860-7b91facdde9f\")) {                    Plotly.newPlot(                        \"cd21f6de-776a-448f-8860-7b91facdde9f\",                        [{\"marker\":{\"color\":\"rgba(255, 153, 51, 0.6)\",\"line\":{\"color\":\"rgba(255, 153, 51, 1.0)\",\"width\":1}},\"name\":\"Values\",\"orientation\":\"v\",\"text\":\"\",\"x\":[\"A\",\"B\",\"C\"],\"y\":[32,43,50],\"type\":\"bar\"}],                        {\"legend\":{\"bgcolor\":\"#F5F6F9\",\"font\":{\"color\":\"#4D5663\"}},\"paper_bgcolor\":\"#F5F6F9\",\"plot_bgcolor\":\"#F5F6F9\",\"template\":{\"data\":{\"barpolar\":[{\"marker\":{\"line\":{\"color\":\"#E5ECF6\",\"width\":0.5},\"pattern\":{\"fillmode\":\"overlay\",\"size\":10,\"solidity\":0.2}},\"type\":\"barpolar\"}],\"bar\":[{\"error_x\":{\"color\":\"#2a3f5f\"},\"error_y\":{\"color\":\"#2a3f5f\"},\"marker\":{\"line\":{\"color\":\"#E5ECF6\",\"width\":0.5},\"pattern\":{\"fillmode\":\"overlay\",\"size\":10,\"solidity\":0.2}},\"type\":\"bar\"}],\"carpet\":[{\"aaxis\":{\"endlinecolor\":\"#2a3f5f\",\"gridcolor\":\"white\",\"linecolor\":\"white\",\"minorgridcolor\":\"white\",\"startlinecolor\":\"#2a3f5f\"},\"baxis\":{\"endlinecolor\":\"#2a3f5f\",\"gridcolor\":\"white\",\"linecolor\":\"white\",\"minorgridcolor\":\"white\",\"startlinecolor\":\"#2a3f5f\"},\"type\":\"carpet\"}],\"choropleth\":[{\"colorbar\":{\"outlinewidth\":0,\"ticks\":\"\"},\"type\":\"choropleth\"}],\"contourcarpet\":[{\"colorbar\":{\"outlinewidth\":0,\"ticks\":\"\"},\"type\":\"contourcarpet\"}],\"contour\":[{\"colorbar\":{\"outlinewidth\":0,\"ticks\":\"\"},\"colorscale\":[[0.0,\"#0d0887\"],[0.1111111111111111,\"#46039f\"],[0.2222222222222222,\"#7201a8\"],[0.3333333333333333,\"#9c179e\"],[0.4444444444444444,\"#bd3786\"],[0.5555555555555556,\"#d8576b\"],[0.6666666666666666,\"#ed7953\"],[0.7777777777777778,\"#fb9f3a\"],[0.8888888888888888,\"#fdca26\"],[1.0,\"#f0f921\"]],\"type\":\"contour\"}],\"heatmapgl\":[{\"colorbar\":{\"outlinewidth\":0,\"ticks\":\"\"},\"colorscale\":[[0.0,\"#0d0887\"],[0.1111111111111111,\"#46039f\"],[0.2222222222222222,\"#7201a8\"],[0.3333333333333333,\"#9c179e\"],[0.4444444444444444,\"#bd3786\"],[0.5555555555555556,\"#d8576b\"],[0.6666666666666666,\"#ed7953\"],[0.7777777777777778,\"#fb9f3a\"],[0.8888888888888888,\"#fdca26\"],[1.0,\"#f0f921\"]],\"type\":\"heatmapgl\"}],\"heatmap\":[{\"colorbar\":{\"outlinewidth\":0,\"ticks\":\"\"},\"colorscale\":[[0.0,\"#0d0887\"],[0.1111111111111111,\"#46039f\"],[0.2222222222222222,\"#7201a8\"],[0.3333333333333333,\"#9c179e\"],[0.4444444444444444,\"#bd3786\"],[0.5555555555555556,\"#d8576b\"],[0.6666666666666666,\"#ed7953\"],[0.7777777777777778,\"#fb9f3a\"],[0.8888888888888888,\"#fdca26\"],[1.0,\"#f0f921\"]],\"type\":\"heatmap\"}],\"histogram2dcontour\":[{\"colorbar\":{\"outlinewidth\":0,\"ticks\":\"\"},\"colorscale\":[[0.0,\"#0d0887\"],[0.1111111111111111,\"#46039f\"],[0.2222222222222222,\"#7201a8\"],[0.3333333333333333,\"#9c179e\"],[0.4444444444444444,\"#bd3786\"],[0.5555555555555556,\"#d8576b\"],[0.6666666666666666,\"#ed7953\"],[0.7777777777777778,\"#fb9f3a\"],[0.8888888888888888,\"#fdca26\"],[1.0,\"#f0f921\"]],\"type\":\"histogram2dcontour\"}],\"histogram2d\":[{\"colorbar\":{\"outlinewidth\":0,\"ticks\":\"\"},\"colorscale\":[[0.0,\"#0d0887\"],[0.1111111111111111,\"#46039f\"],[0.2222222222222222,\"#7201a8\"],[0.3333333333333333,\"#9c179e\"],[0.4444444444444444,\"#bd3786\"],[0.5555555555555556,\"#d8576b\"],[0.6666666666666666,\"#ed7953\"],[0.7777777777777778,\"#fb9f3a\"],[0.8888888888888888,\"#fdca26\"],[1.0,\"#f0f921\"]],\"type\":\"histogram2d\"}],\"histogram\":[{\"marker\":{\"pattern\":{\"fillmode\":\"overlay\",\"size\":10,\"solidity\":0.2}},\"type\":\"histogram\"}],\"mesh3d\":[{\"colorbar\":{\"outlinewidth\":0,\"ticks\":\"\"},\"type\":\"mesh3d\"}],\"parcoords\":[{\"line\":{\"colorbar\":{\"outlinewidth\":0,\"ticks\":\"\"}},\"type\":\"parcoords\"}],\"pie\":[{\"automargin\":true,\"type\":\"pie\"}],\"scatter3d\":[{\"line\":{\"colorbar\":{\"outlinewidth\":0,\"ticks\":\"\"}},\"marker\":{\"colorbar\":{\"outlinewidth\":0,\"ticks\":\"\"}},\"type\":\"scatter3d\"}],\"scattercarpet\":[{\"marker\":{\"colorbar\":{\"outlinewidth\":0,\"ticks\":\"\"}},\"type\":\"scattercarpet\"}],\"scattergeo\":[{\"marker\":{\"colorbar\":{\"outlinewidth\":0,\"ticks\":\"\"}},\"type\":\"scattergeo\"}],\"scattergl\":[{\"marker\":{\"colorbar\":{\"outlinewidth\":0,\"ticks\":\"\"}},\"type\":\"scattergl\"}],\"scattermapbox\":[{\"marker\":{\"colorbar\":{\"outlinewidth\":0,\"ticks\":\"\"}},\"type\":\"scattermapbox\"}],\"scatterpolargl\":[{\"marker\":{\"colorbar\":{\"outlinewidth\":0,\"ticks\":\"\"}},\"type\":\"scatterpolargl\"}],\"scatterpolar\":[{\"marker\":{\"colorbar\":{\"outlinewidth\":0,\"ticks\":\"\"}},\"type\":\"scatterpolar\"}],\"scatter\":[{\"fillpattern\":{\"fillmode\":\"overlay\",\"size\":10,\"solidity\":0.2},\"type\":\"scatter\"}],\"scatterternary\":[{\"marker\":{\"colorbar\":{\"outlinewidth\":0,\"ticks\":\"\"}},\"type\":\"scatterternary\"}],\"surface\":[{\"colorbar\":{\"outlinewidth\":0,\"ticks\":\"\"},\"colorscale\":[[0.0,\"#0d0887\"],[0.1111111111111111,\"#46039f\"],[0.2222222222222222,\"#7201a8\"],[0.3333333333333333,\"#9c179e\"],[0.4444444444444444,\"#bd3786\"],[0.5555555555555556,\"#d8576b\"],[0.6666666666666666,\"#ed7953\"],[0.7777777777777778,\"#fb9f3a\"],[0.8888888888888888,\"#fdca26\"],[1.0,\"#f0f921\"]],\"type\":\"surface\"}],\"table\":[{\"cells\":{\"fill\":{\"color\":\"#EBF0F8\"},\"line\":{\"color\":\"white\"}},\"header\":{\"fill\":{\"color\":\"#C8D4E3\"},\"line\":{\"color\":\"white\"}},\"type\":\"table\"}]},\"layout\":{\"annotationdefaults\":{\"arrowcolor\":\"#2a3f5f\",\"arrowhead\":0,\"arrowwidth\":1},\"autotypenumbers\":\"strict\",\"coloraxis\":{\"colorbar\":{\"outlinewidth\":0,\"ticks\":\"\"}},\"colorscale\":{\"diverging\":[[0,\"#8e0152\"],[0.1,\"#c51b7d\"],[0.2,\"#de77ae\"],[0.3,\"#f1b6da\"],[0.4,\"#fde0ef\"],[0.5,\"#f7f7f7\"],[0.6,\"#e6f5d0\"],[0.7,\"#b8e186\"],[0.8,\"#7fbc41\"],[0.9,\"#4d9221\"],[1,\"#276419\"]],\"sequential\":[[0.0,\"#0d0887\"],[0.1111111111111111,\"#46039f\"],[0.2222222222222222,\"#7201a8\"],[0.3333333333333333,\"#9c179e\"],[0.4444444444444444,\"#bd3786\"],[0.5555555555555556,\"#d8576b\"],[0.6666666666666666,\"#ed7953\"],[0.7777777777777778,\"#fb9f3a\"],[0.8888888888888888,\"#fdca26\"],[1.0,\"#f0f921\"]],\"sequentialminus\":[[0.0,\"#0d0887\"],[0.1111111111111111,\"#46039f\"],[0.2222222222222222,\"#7201a8\"],[0.3333333333333333,\"#9c179e\"],[0.4444444444444444,\"#bd3786\"],[0.5555555555555556,\"#d8576b\"],[0.6666666666666666,\"#ed7953\"],[0.7777777777777778,\"#fb9f3a\"],[0.8888888888888888,\"#fdca26\"],[1.0,\"#f0f921\"]]},\"colorway\":[\"#636efa\",\"#EF553B\",\"#00cc96\",\"#ab63fa\",\"#FFA15A\",\"#19d3f3\",\"#FF6692\",\"#B6E880\",\"#FF97FF\",\"#FECB52\"],\"font\":{\"color\":\"#2a3f5f\"},\"geo\":{\"bgcolor\":\"white\",\"lakecolor\":\"white\",\"landcolor\":\"#E5ECF6\",\"showlakes\":true,\"showland\":true,\"subunitcolor\":\"white\"},\"hoverlabel\":{\"align\":\"left\"},\"hovermode\":\"closest\",\"mapbox\":{\"style\":\"light\"},\"paper_bgcolor\":\"white\",\"plot_bgcolor\":\"#E5ECF6\",\"polar\":{\"angularaxis\":{\"gridcolor\":\"white\",\"linecolor\":\"white\",\"ticks\":\"\"},\"bgcolor\":\"#E5ECF6\",\"radialaxis\":{\"gridcolor\":\"white\",\"linecolor\":\"white\",\"ticks\":\"\"}},\"scene\":{\"xaxis\":{\"backgroundcolor\":\"#E5ECF6\",\"gridcolor\":\"white\",\"gridwidth\":2,\"linecolor\":\"white\",\"showbackground\":true,\"ticks\":\"\",\"zerolinecolor\":\"white\"},\"yaxis\":{\"backgroundcolor\":\"#E5ECF6\",\"gridcolor\":\"white\",\"gridwidth\":2,\"linecolor\":\"white\",\"showbackground\":true,\"ticks\":\"\",\"zerolinecolor\":\"white\"},\"zaxis\":{\"backgroundcolor\":\"#E5ECF6\",\"gridcolor\":\"white\",\"gridwidth\":2,\"linecolor\":\"white\",\"showbackground\":true,\"ticks\":\"\",\"zerolinecolor\":\"white\"}},\"shapedefaults\":{\"line\":{\"color\":\"#2a3f5f\"}},\"ternary\":{\"aaxis\":{\"gridcolor\":\"white\",\"linecolor\":\"white\",\"ticks\":\"\"},\"baxis\":{\"gridcolor\":\"white\",\"linecolor\":\"white\",\"ticks\":\"\"},\"bgcolor\":\"#E5ECF6\",\"caxis\":{\"gridcolor\":\"white\",\"linecolor\":\"white\",\"ticks\":\"\"}},\"title\":{\"x\":0.05},\"xaxis\":{\"automargin\":true,\"gridcolor\":\"white\",\"linecolor\":\"white\",\"ticks\":\"\",\"title\":{\"standoff\":15},\"zerolinecolor\":\"white\",\"zerolinewidth\":2},\"yaxis\":{\"automargin\":true,\"gridcolor\":\"white\",\"linecolor\":\"white\",\"ticks\":\"\",\"title\":{\"standoff\":15},\"zerolinecolor\":\"white\",\"zerolinewidth\":2}}},\"title\":{\"font\":{\"color\":\"#4D5663\"}},\"xaxis\":{\"gridcolor\":\"#E1E5ED\",\"showgrid\":true,\"tickfont\":{\"color\":\"#4D5663\"},\"title\":{\"font\":{\"color\":\"#4D5663\"},\"text\":\"\"},\"zerolinecolor\":\"#E1E5ED\"},\"yaxis\":{\"gridcolor\":\"#E1E5ED\",\"showgrid\":true,\"tickfont\":{\"color\":\"#4D5663\"},\"title\":{\"font\":{\"color\":\"#4D5663\"},\"text\":\"\"},\"zerolinecolor\":\"#E1E5ED\"}},                        {\"showLink\": true, \"linkText\": \"Export to plot.ly\", \"plotlyServerURL\": \"https://plot.ly\", \"responsive\": true}                    ).then(function(){\n",
       "                            \n",
       "var gd = document.getElementById('cd21f6de-776a-448f-8860-7b91facdde9f');\n",
       "var x = new MutationObserver(function (mutations, observer) {{\n",
       "        var display = window.getComputedStyle(gd).display;\n",
       "        if (!display || display === 'none') {{\n",
       "            console.log([gd, 'removed!']);\n",
       "            Plotly.purge(gd);\n",
       "            observer.disconnect();\n",
       "        }}\n",
       "}});\n",
       "\n",
       "// Listen for the removal of the full notebook cells\n",
       "var notebookContainer = gd.closest('#notebook-container');\n",
       "if (notebookContainer) {{\n",
       "    x.observe(notebookContainer, {childList: true});\n",
       "}}\n",
       "\n",
       "// Listen for the clearing of the current output cell\n",
       "var outputEl = gd.closest('.output');\n",
       "if (outputEl) {{\n",
       "    x.observe(outputEl, {childList: true});\n",
       "}}\n",
       "\n",
       "                        })                };                });            </script>        </div>"
      ]
     },
     "metadata": {},
     "output_type": "display_data"
    }
   ],
   "source": [
    "df2.iplot(kind='bar',x='Category',y='Values')"
   ]
  },
  {
   "cell_type": "code",
   "execution_count": 19,
   "metadata": {},
   "outputs": [
    {
     "data": {
      "application/vnd.plotly.v1+json": {
       "config": {
        "linkText": "Export to plot.ly",
        "plotlyServerURL": "https://plot.ly",
        "showLink": true
       },
       "data": [
        {
         "marker": {
          "color": "rgba(255, 153, 51, 0.6)",
          "line": {
           "color": "rgba(255, 153, 51, 1.0)",
           "width": 1
          }
         },
         "name": "None",
         "orientation": "v",
         "text": "",
         "type": "bar",
         "x": [
          "A",
          "B",
          "C",
          "D"
         ],
         "y": [
          100,
          100,
          100,
          100
         ]
        }
       ],
       "layout": {
        "legend": {
         "bgcolor": "#F5F6F9",
         "font": {
          "color": "#4D5663"
         }
        },
        "paper_bgcolor": "#F5F6F9",
        "plot_bgcolor": "#F5F6F9",
        "template": {
         "data": {
          "bar": [
           {
            "error_x": {
             "color": "#2a3f5f"
            },
            "error_y": {
             "color": "#2a3f5f"
            },
            "marker": {
             "line": {
              "color": "#E5ECF6",
              "width": 0.5
             },
             "pattern": {
              "fillmode": "overlay",
              "size": 10,
              "solidity": 0.2
             }
            },
            "type": "bar"
           }
          ],
          "barpolar": [
           {
            "marker": {
             "line": {
              "color": "#E5ECF6",
              "width": 0.5
             },
             "pattern": {
              "fillmode": "overlay",
              "size": 10,
              "solidity": 0.2
             }
            },
            "type": "barpolar"
           }
          ],
          "carpet": [
           {
            "aaxis": {
             "endlinecolor": "#2a3f5f",
             "gridcolor": "white",
             "linecolor": "white",
             "minorgridcolor": "white",
             "startlinecolor": "#2a3f5f"
            },
            "baxis": {
             "endlinecolor": "#2a3f5f",
             "gridcolor": "white",
             "linecolor": "white",
             "minorgridcolor": "white",
             "startlinecolor": "#2a3f5f"
            },
            "type": "carpet"
           }
          ],
          "choropleth": [
           {
            "colorbar": {
             "outlinewidth": 0,
             "ticks": ""
            },
            "type": "choropleth"
           }
          ],
          "contour": [
           {
            "colorbar": {
             "outlinewidth": 0,
             "ticks": ""
            },
            "colorscale": [
             [
              0,
              "#0d0887"
             ],
             [
              0.1111111111111111,
              "#46039f"
             ],
             [
              0.2222222222222222,
              "#7201a8"
             ],
             [
              0.3333333333333333,
              "#9c179e"
             ],
             [
              0.4444444444444444,
              "#bd3786"
             ],
             [
              0.5555555555555556,
              "#d8576b"
             ],
             [
              0.6666666666666666,
              "#ed7953"
             ],
             [
              0.7777777777777778,
              "#fb9f3a"
             ],
             [
              0.8888888888888888,
              "#fdca26"
             ],
             [
              1,
              "#f0f921"
             ]
            ],
            "type": "contour"
           }
          ],
          "contourcarpet": [
           {
            "colorbar": {
             "outlinewidth": 0,
             "ticks": ""
            },
            "type": "contourcarpet"
           }
          ],
          "heatmap": [
           {
            "colorbar": {
             "outlinewidth": 0,
             "ticks": ""
            },
            "colorscale": [
             [
              0,
              "#0d0887"
             ],
             [
              0.1111111111111111,
              "#46039f"
             ],
             [
              0.2222222222222222,
              "#7201a8"
             ],
             [
              0.3333333333333333,
              "#9c179e"
             ],
             [
              0.4444444444444444,
              "#bd3786"
             ],
             [
              0.5555555555555556,
              "#d8576b"
             ],
             [
              0.6666666666666666,
              "#ed7953"
             ],
             [
              0.7777777777777778,
              "#fb9f3a"
             ],
             [
              0.8888888888888888,
              "#fdca26"
             ],
             [
              1,
              "#f0f921"
             ]
            ],
            "type": "heatmap"
           }
          ],
          "heatmapgl": [
           {
            "colorbar": {
             "outlinewidth": 0,
             "ticks": ""
            },
            "colorscale": [
             [
              0,
              "#0d0887"
             ],
             [
              0.1111111111111111,
              "#46039f"
             ],
             [
              0.2222222222222222,
              "#7201a8"
             ],
             [
              0.3333333333333333,
              "#9c179e"
             ],
             [
              0.4444444444444444,
              "#bd3786"
             ],
             [
              0.5555555555555556,
              "#d8576b"
             ],
             [
              0.6666666666666666,
              "#ed7953"
             ],
             [
              0.7777777777777778,
              "#fb9f3a"
             ],
             [
              0.8888888888888888,
              "#fdca26"
             ],
             [
              1,
              "#f0f921"
             ]
            ],
            "type": "heatmapgl"
           }
          ],
          "histogram": [
           {
            "marker": {
             "pattern": {
              "fillmode": "overlay",
              "size": 10,
              "solidity": 0.2
             }
            },
            "type": "histogram"
           }
          ],
          "histogram2d": [
           {
            "colorbar": {
             "outlinewidth": 0,
             "ticks": ""
            },
            "colorscale": [
             [
              0,
              "#0d0887"
             ],
             [
              0.1111111111111111,
              "#46039f"
             ],
             [
              0.2222222222222222,
              "#7201a8"
             ],
             [
              0.3333333333333333,
              "#9c179e"
             ],
             [
              0.4444444444444444,
              "#bd3786"
             ],
             [
              0.5555555555555556,
              "#d8576b"
             ],
             [
              0.6666666666666666,
              "#ed7953"
             ],
             [
              0.7777777777777778,
              "#fb9f3a"
             ],
             [
              0.8888888888888888,
              "#fdca26"
             ],
             [
              1,
              "#f0f921"
             ]
            ],
            "type": "histogram2d"
           }
          ],
          "histogram2dcontour": [
           {
            "colorbar": {
             "outlinewidth": 0,
             "ticks": ""
            },
            "colorscale": [
             [
              0,
              "#0d0887"
             ],
             [
              0.1111111111111111,
              "#46039f"
             ],
             [
              0.2222222222222222,
              "#7201a8"
             ],
             [
              0.3333333333333333,
              "#9c179e"
             ],
             [
              0.4444444444444444,
              "#bd3786"
             ],
             [
              0.5555555555555556,
              "#d8576b"
             ],
             [
              0.6666666666666666,
              "#ed7953"
             ],
             [
              0.7777777777777778,
              "#fb9f3a"
             ],
             [
              0.8888888888888888,
              "#fdca26"
             ],
             [
              1,
              "#f0f921"
             ]
            ],
            "type": "histogram2dcontour"
           }
          ],
          "mesh3d": [
           {
            "colorbar": {
             "outlinewidth": 0,
             "ticks": ""
            },
            "type": "mesh3d"
           }
          ],
          "parcoords": [
           {
            "line": {
             "colorbar": {
              "outlinewidth": 0,
              "ticks": ""
             }
            },
            "type": "parcoords"
           }
          ],
          "pie": [
           {
            "automargin": true,
            "type": "pie"
           }
          ],
          "scatter": [
           {
            "fillpattern": {
             "fillmode": "overlay",
             "size": 10,
             "solidity": 0.2
            },
            "type": "scatter"
           }
          ],
          "scatter3d": [
           {
            "line": {
             "colorbar": {
              "outlinewidth": 0,
              "ticks": ""
             }
            },
            "marker": {
             "colorbar": {
              "outlinewidth": 0,
              "ticks": ""
             }
            },
            "type": "scatter3d"
           }
          ],
          "scattercarpet": [
           {
            "marker": {
             "colorbar": {
              "outlinewidth": 0,
              "ticks": ""
             }
            },
            "type": "scattercarpet"
           }
          ],
          "scattergeo": [
           {
            "marker": {
             "colorbar": {
              "outlinewidth": 0,
              "ticks": ""
             }
            },
            "type": "scattergeo"
           }
          ],
          "scattergl": [
           {
            "marker": {
             "colorbar": {
              "outlinewidth": 0,
              "ticks": ""
             }
            },
            "type": "scattergl"
           }
          ],
          "scattermapbox": [
           {
            "marker": {
             "colorbar": {
              "outlinewidth": 0,
              "ticks": ""
             }
            },
            "type": "scattermapbox"
           }
          ],
          "scatterpolar": [
           {
            "marker": {
             "colorbar": {
              "outlinewidth": 0,
              "ticks": ""
             }
            },
            "type": "scatterpolar"
           }
          ],
          "scatterpolargl": [
           {
            "marker": {
             "colorbar": {
              "outlinewidth": 0,
              "ticks": ""
             }
            },
            "type": "scatterpolargl"
           }
          ],
          "scatterternary": [
           {
            "marker": {
             "colorbar": {
              "outlinewidth": 0,
              "ticks": ""
             }
            },
            "type": "scatterternary"
           }
          ],
          "surface": [
           {
            "colorbar": {
             "outlinewidth": 0,
             "ticks": ""
            },
            "colorscale": [
             [
              0,
              "#0d0887"
             ],
             [
              0.1111111111111111,
              "#46039f"
             ],
             [
              0.2222222222222222,
              "#7201a8"
             ],
             [
              0.3333333333333333,
              "#9c179e"
             ],
             [
              0.4444444444444444,
              "#bd3786"
             ],
             [
              0.5555555555555556,
              "#d8576b"
             ],
             [
              0.6666666666666666,
              "#ed7953"
             ],
             [
              0.7777777777777778,
              "#fb9f3a"
             ],
             [
              0.8888888888888888,
              "#fdca26"
             ],
             [
              1,
              "#f0f921"
             ]
            ],
            "type": "surface"
           }
          ],
          "table": [
           {
            "cells": {
             "fill": {
              "color": "#EBF0F8"
             },
             "line": {
              "color": "white"
             }
            },
            "header": {
             "fill": {
              "color": "#C8D4E3"
             },
             "line": {
              "color": "white"
             }
            },
            "type": "table"
           }
          ]
         },
         "layout": {
          "annotationdefaults": {
           "arrowcolor": "#2a3f5f",
           "arrowhead": 0,
           "arrowwidth": 1
          },
          "autotypenumbers": "strict",
          "coloraxis": {
           "colorbar": {
            "outlinewidth": 0,
            "ticks": ""
           }
          },
          "colorscale": {
           "diverging": [
            [
             0,
             "#8e0152"
            ],
            [
             0.1,
             "#c51b7d"
            ],
            [
             0.2,
             "#de77ae"
            ],
            [
             0.3,
             "#f1b6da"
            ],
            [
             0.4,
             "#fde0ef"
            ],
            [
             0.5,
             "#f7f7f7"
            ],
            [
             0.6,
             "#e6f5d0"
            ],
            [
             0.7,
             "#b8e186"
            ],
            [
             0.8,
             "#7fbc41"
            ],
            [
             0.9,
             "#4d9221"
            ],
            [
             1,
             "#276419"
            ]
           ],
           "sequential": [
            [
             0,
             "#0d0887"
            ],
            [
             0.1111111111111111,
             "#46039f"
            ],
            [
             0.2222222222222222,
             "#7201a8"
            ],
            [
             0.3333333333333333,
             "#9c179e"
            ],
            [
             0.4444444444444444,
             "#bd3786"
            ],
            [
             0.5555555555555556,
             "#d8576b"
            ],
            [
             0.6666666666666666,
             "#ed7953"
            ],
            [
             0.7777777777777778,
             "#fb9f3a"
            ],
            [
             0.8888888888888888,
             "#fdca26"
            ],
            [
             1,
             "#f0f921"
            ]
           ],
           "sequentialminus": [
            [
             0,
             "#0d0887"
            ],
            [
             0.1111111111111111,
             "#46039f"
            ],
            [
             0.2222222222222222,
             "#7201a8"
            ],
            [
             0.3333333333333333,
             "#9c179e"
            ],
            [
             0.4444444444444444,
             "#bd3786"
            ],
            [
             0.5555555555555556,
             "#d8576b"
            ],
            [
             0.6666666666666666,
             "#ed7953"
            ],
            [
             0.7777777777777778,
             "#fb9f3a"
            ],
            [
             0.8888888888888888,
             "#fdca26"
            ],
            [
             1,
             "#f0f921"
            ]
           ]
          },
          "colorway": [
           "#636efa",
           "#EF553B",
           "#00cc96",
           "#ab63fa",
           "#FFA15A",
           "#19d3f3",
           "#FF6692",
           "#B6E880",
           "#FF97FF",
           "#FECB52"
          ],
          "font": {
           "color": "#2a3f5f"
          },
          "geo": {
           "bgcolor": "white",
           "lakecolor": "white",
           "landcolor": "#E5ECF6",
           "showlakes": true,
           "showland": true,
           "subunitcolor": "white"
          },
          "hoverlabel": {
           "align": "left"
          },
          "hovermode": "closest",
          "mapbox": {
           "style": "light"
          },
          "paper_bgcolor": "white",
          "plot_bgcolor": "#E5ECF6",
          "polar": {
           "angularaxis": {
            "gridcolor": "white",
            "linecolor": "white",
            "ticks": ""
           },
           "bgcolor": "#E5ECF6",
           "radialaxis": {
            "gridcolor": "white",
            "linecolor": "white",
            "ticks": ""
           }
          },
          "scene": {
           "xaxis": {
            "backgroundcolor": "#E5ECF6",
            "gridcolor": "white",
            "gridwidth": 2,
            "linecolor": "white",
            "showbackground": true,
            "ticks": "",
            "zerolinecolor": "white"
           },
           "yaxis": {
            "backgroundcolor": "#E5ECF6",
            "gridcolor": "white",
            "gridwidth": 2,
            "linecolor": "white",
            "showbackground": true,
            "ticks": "",
            "zerolinecolor": "white"
           },
           "zaxis": {
            "backgroundcolor": "#E5ECF6",
            "gridcolor": "white",
            "gridwidth": 2,
            "linecolor": "white",
            "showbackground": true,
            "ticks": "",
            "zerolinecolor": "white"
           }
          },
          "shapedefaults": {
           "line": {
            "color": "#2a3f5f"
           }
          },
          "ternary": {
           "aaxis": {
            "gridcolor": "white",
            "linecolor": "white",
            "ticks": ""
           },
           "baxis": {
            "gridcolor": "white",
            "linecolor": "white",
            "ticks": ""
           },
           "bgcolor": "#E5ECF6",
           "caxis": {
            "gridcolor": "white",
            "linecolor": "white",
            "ticks": ""
           }
          },
          "title": {
           "x": 0.05
          },
          "xaxis": {
           "automargin": true,
           "gridcolor": "white",
           "linecolor": "white",
           "ticks": "",
           "title": {
            "standoff": 15
           },
           "zerolinecolor": "white",
           "zerolinewidth": 2
          },
          "yaxis": {
           "automargin": true,
           "gridcolor": "white",
           "linecolor": "white",
           "ticks": "",
           "title": {
            "standoff": 15
           },
           "zerolinecolor": "white",
           "zerolinewidth": 2
          }
         }
        },
        "title": {
         "font": {
          "color": "#4D5663"
         }
        },
        "xaxis": {
         "gridcolor": "#E1E5ED",
         "showgrid": true,
         "tickfont": {
          "color": "#4D5663"
         },
         "title": {
          "font": {
           "color": "#4D5663"
          },
          "text": ""
         },
         "zerolinecolor": "#E1E5ED"
        },
        "yaxis": {
         "gridcolor": "#E1E5ED",
         "showgrid": true,
         "tickfont": {
          "color": "#4D5663"
         },
         "title": {
          "font": {
           "color": "#4D5663"
          },
          "text": ""
         },
         "zerolinecolor": "#E1E5ED"
        }
       }
      },
      "text/html": [
       "<div>                            <div id=\"9184bb0c-9200-48cc-9125-2f1716c48491\" class=\"plotly-graph-div\" style=\"height:525px; width:100%;\"></div>            <script type=\"text/javascript\">                require([\"plotly\"], function(Plotly) {                    window.PLOTLYENV=window.PLOTLYENV || {};\n",
       "                    window.PLOTLYENV.BASE_URL='https://plot.ly';                                    if (document.getElementById(\"9184bb0c-9200-48cc-9125-2f1716c48491\")) {                    Plotly.newPlot(                        \"9184bb0c-9200-48cc-9125-2f1716c48491\",                        [{\"marker\":{\"color\":\"rgba(255, 153, 51, 0.6)\",\"line\":{\"color\":\"rgba(255, 153, 51, 1.0)\",\"width\":1}},\"name\":\"None\",\"orientation\":\"v\",\"text\":\"\",\"x\":[\"A\",\"B\",\"C\",\"D\"],\"y\":[100,100,100,100],\"type\":\"bar\"}],                        {\"legend\":{\"bgcolor\":\"#F5F6F9\",\"font\":{\"color\":\"#4D5663\"}},\"paper_bgcolor\":\"#F5F6F9\",\"plot_bgcolor\":\"#F5F6F9\",\"template\":{\"data\":{\"barpolar\":[{\"marker\":{\"line\":{\"color\":\"#E5ECF6\",\"width\":0.5},\"pattern\":{\"fillmode\":\"overlay\",\"size\":10,\"solidity\":0.2}},\"type\":\"barpolar\"}],\"bar\":[{\"error_x\":{\"color\":\"#2a3f5f\"},\"error_y\":{\"color\":\"#2a3f5f\"},\"marker\":{\"line\":{\"color\":\"#E5ECF6\",\"width\":0.5},\"pattern\":{\"fillmode\":\"overlay\",\"size\":10,\"solidity\":0.2}},\"type\":\"bar\"}],\"carpet\":[{\"aaxis\":{\"endlinecolor\":\"#2a3f5f\",\"gridcolor\":\"white\",\"linecolor\":\"white\",\"minorgridcolor\":\"white\",\"startlinecolor\":\"#2a3f5f\"},\"baxis\":{\"endlinecolor\":\"#2a3f5f\",\"gridcolor\":\"white\",\"linecolor\":\"white\",\"minorgridcolor\":\"white\",\"startlinecolor\":\"#2a3f5f\"},\"type\":\"carpet\"}],\"choropleth\":[{\"colorbar\":{\"outlinewidth\":0,\"ticks\":\"\"},\"type\":\"choropleth\"}],\"contourcarpet\":[{\"colorbar\":{\"outlinewidth\":0,\"ticks\":\"\"},\"type\":\"contourcarpet\"}],\"contour\":[{\"colorbar\":{\"outlinewidth\":0,\"ticks\":\"\"},\"colorscale\":[[0.0,\"#0d0887\"],[0.1111111111111111,\"#46039f\"],[0.2222222222222222,\"#7201a8\"],[0.3333333333333333,\"#9c179e\"],[0.4444444444444444,\"#bd3786\"],[0.5555555555555556,\"#d8576b\"],[0.6666666666666666,\"#ed7953\"],[0.7777777777777778,\"#fb9f3a\"],[0.8888888888888888,\"#fdca26\"],[1.0,\"#f0f921\"]],\"type\":\"contour\"}],\"heatmapgl\":[{\"colorbar\":{\"outlinewidth\":0,\"ticks\":\"\"},\"colorscale\":[[0.0,\"#0d0887\"],[0.1111111111111111,\"#46039f\"],[0.2222222222222222,\"#7201a8\"],[0.3333333333333333,\"#9c179e\"],[0.4444444444444444,\"#bd3786\"],[0.5555555555555556,\"#d8576b\"],[0.6666666666666666,\"#ed7953\"],[0.7777777777777778,\"#fb9f3a\"],[0.8888888888888888,\"#fdca26\"],[1.0,\"#f0f921\"]],\"type\":\"heatmapgl\"}],\"heatmap\":[{\"colorbar\":{\"outlinewidth\":0,\"ticks\":\"\"},\"colorscale\":[[0.0,\"#0d0887\"],[0.1111111111111111,\"#46039f\"],[0.2222222222222222,\"#7201a8\"],[0.3333333333333333,\"#9c179e\"],[0.4444444444444444,\"#bd3786\"],[0.5555555555555556,\"#d8576b\"],[0.6666666666666666,\"#ed7953\"],[0.7777777777777778,\"#fb9f3a\"],[0.8888888888888888,\"#fdca26\"],[1.0,\"#f0f921\"]],\"type\":\"heatmap\"}],\"histogram2dcontour\":[{\"colorbar\":{\"outlinewidth\":0,\"ticks\":\"\"},\"colorscale\":[[0.0,\"#0d0887\"],[0.1111111111111111,\"#46039f\"],[0.2222222222222222,\"#7201a8\"],[0.3333333333333333,\"#9c179e\"],[0.4444444444444444,\"#bd3786\"],[0.5555555555555556,\"#d8576b\"],[0.6666666666666666,\"#ed7953\"],[0.7777777777777778,\"#fb9f3a\"],[0.8888888888888888,\"#fdca26\"],[1.0,\"#f0f921\"]],\"type\":\"histogram2dcontour\"}],\"histogram2d\":[{\"colorbar\":{\"outlinewidth\":0,\"ticks\":\"\"},\"colorscale\":[[0.0,\"#0d0887\"],[0.1111111111111111,\"#46039f\"],[0.2222222222222222,\"#7201a8\"],[0.3333333333333333,\"#9c179e\"],[0.4444444444444444,\"#bd3786\"],[0.5555555555555556,\"#d8576b\"],[0.6666666666666666,\"#ed7953\"],[0.7777777777777778,\"#fb9f3a\"],[0.8888888888888888,\"#fdca26\"],[1.0,\"#f0f921\"]],\"type\":\"histogram2d\"}],\"histogram\":[{\"marker\":{\"pattern\":{\"fillmode\":\"overlay\",\"size\":10,\"solidity\":0.2}},\"type\":\"histogram\"}],\"mesh3d\":[{\"colorbar\":{\"outlinewidth\":0,\"ticks\":\"\"},\"type\":\"mesh3d\"}],\"parcoords\":[{\"line\":{\"colorbar\":{\"outlinewidth\":0,\"ticks\":\"\"}},\"type\":\"parcoords\"}],\"pie\":[{\"automargin\":true,\"type\":\"pie\"}],\"scatter3d\":[{\"line\":{\"colorbar\":{\"outlinewidth\":0,\"ticks\":\"\"}},\"marker\":{\"colorbar\":{\"outlinewidth\":0,\"ticks\":\"\"}},\"type\":\"scatter3d\"}],\"scattercarpet\":[{\"marker\":{\"colorbar\":{\"outlinewidth\":0,\"ticks\":\"\"}},\"type\":\"scattercarpet\"}],\"scattergeo\":[{\"marker\":{\"colorbar\":{\"outlinewidth\":0,\"ticks\":\"\"}},\"type\":\"scattergeo\"}],\"scattergl\":[{\"marker\":{\"colorbar\":{\"outlinewidth\":0,\"ticks\":\"\"}},\"type\":\"scattergl\"}],\"scattermapbox\":[{\"marker\":{\"colorbar\":{\"outlinewidth\":0,\"ticks\":\"\"}},\"type\":\"scattermapbox\"}],\"scatterpolargl\":[{\"marker\":{\"colorbar\":{\"outlinewidth\":0,\"ticks\":\"\"}},\"type\":\"scatterpolargl\"}],\"scatterpolar\":[{\"marker\":{\"colorbar\":{\"outlinewidth\":0,\"ticks\":\"\"}},\"type\":\"scatterpolar\"}],\"scatter\":[{\"fillpattern\":{\"fillmode\":\"overlay\",\"size\":10,\"solidity\":0.2},\"type\":\"scatter\"}],\"scatterternary\":[{\"marker\":{\"colorbar\":{\"outlinewidth\":0,\"ticks\":\"\"}},\"type\":\"scatterternary\"}],\"surface\":[{\"colorbar\":{\"outlinewidth\":0,\"ticks\":\"\"},\"colorscale\":[[0.0,\"#0d0887\"],[0.1111111111111111,\"#46039f\"],[0.2222222222222222,\"#7201a8\"],[0.3333333333333333,\"#9c179e\"],[0.4444444444444444,\"#bd3786\"],[0.5555555555555556,\"#d8576b\"],[0.6666666666666666,\"#ed7953\"],[0.7777777777777778,\"#fb9f3a\"],[0.8888888888888888,\"#fdca26\"],[1.0,\"#f0f921\"]],\"type\":\"surface\"}],\"table\":[{\"cells\":{\"fill\":{\"color\":\"#EBF0F8\"},\"line\":{\"color\":\"white\"}},\"header\":{\"fill\":{\"color\":\"#C8D4E3\"},\"line\":{\"color\":\"white\"}},\"type\":\"table\"}]},\"layout\":{\"annotationdefaults\":{\"arrowcolor\":\"#2a3f5f\",\"arrowhead\":0,\"arrowwidth\":1},\"autotypenumbers\":\"strict\",\"coloraxis\":{\"colorbar\":{\"outlinewidth\":0,\"ticks\":\"\"}},\"colorscale\":{\"diverging\":[[0,\"#8e0152\"],[0.1,\"#c51b7d\"],[0.2,\"#de77ae\"],[0.3,\"#f1b6da\"],[0.4,\"#fde0ef\"],[0.5,\"#f7f7f7\"],[0.6,\"#e6f5d0\"],[0.7,\"#b8e186\"],[0.8,\"#7fbc41\"],[0.9,\"#4d9221\"],[1,\"#276419\"]],\"sequential\":[[0.0,\"#0d0887\"],[0.1111111111111111,\"#46039f\"],[0.2222222222222222,\"#7201a8\"],[0.3333333333333333,\"#9c179e\"],[0.4444444444444444,\"#bd3786\"],[0.5555555555555556,\"#d8576b\"],[0.6666666666666666,\"#ed7953\"],[0.7777777777777778,\"#fb9f3a\"],[0.8888888888888888,\"#fdca26\"],[1.0,\"#f0f921\"]],\"sequentialminus\":[[0.0,\"#0d0887\"],[0.1111111111111111,\"#46039f\"],[0.2222222222222222,\"#7201a8\"],[0.3333333333333333,\"#9c179e\"],[0.4444444444444444,\"#bd3786\"],[0.5555555555555556,\"#d8576b\"],[0.6666666666666666,\"#ed7953\"],[0.7777777777777778,\"#fb9f3a\"],[0.8888888888888888,\"#fdca26\"],[1.0,\"#f0f921\"]]},\"colorway\":[\"#636efa\",\"#EF553B\",\"#00cc96\",\"#ab63fa\",\"#FFA15A\",\"#19d3f3\",\"#FF6692\",\"#B6E880\",\"#FF97FF\",\"#FECB52\"],\"font\":{\"color\":\"#2a3f5f\"},\"geo\":{\"bgcolor\":\"white\",\"lakecolor\":\"white\",\"landcolor\":\"#E5ECF6\",\"showlakes\":true,\"showland\":true,\"subunitcolor\":\"white\"},\"hoverlabel\":{\"align\":\"left\"},\"hovermode\":\"closest\",\"mapbox\":{\"style\":\"light\"},\"paper_bgcolor\":\"white\",\"plot_bgcolor\":\"#E5ECF6\",\"polar\":{\"angularaxis\":{\"gridcolor\":\"white\",\"linecolor\":\"white\",\"ticks\":\"\"},\"bgcolor\":\"#E5ECF6\",\"radialaxis\":{\"gridcolor\":\"white\",\"linecolor\":\"white\",\"ticks\":\"\"}},\"scene\":{\"xaxis\":{\"backgroundcolor\":\"#E5ECF6\",\"gridcolor\":\"white\",\"gridwidth\":2,\"linecolor\":\"white\",\"showbackground\":true,\"ticks\":\"\",\"zerolinecolor\":\"white\"},\"yaxis\":{\"backgroundcolor\":\"#E5ECF6\",\"gridcolor\":\"white\",\"gridwidth\":2,\"linecolor\":\"white\",\"showbackground\":true,\"ticks\":\"\",\"zerolinecolor\":\"white\"},\"zaxis\":{\"backgroundcolor\":\"#E5ECF6\",\"gridcolor\":\"white\",\"gridwidth\":2,\"linecolor\":\"white\",\"showbackground\":true,\"ticks\":\"\",\"zerolinecolor\":\"white\"}},\"shapedefaults\":{\"line\":{\"color\":\"#2a3f5f\"}},\"ternary\":{\"aaxis\":{\"gridcolor\":\"white\",\"linecolor\":\"white\",\"ticks\":\"\"},\"baxis\":{\"gridcolor\":\"white\",\"linecolor\":\"white\",\"ticks\":\"\"},\"bgcolor\":\"#E5ECF6\",\"caxis\":{\"gridcolor\":\"white\",\"linecolor\":\"white\",\"ticks\":\"\"}},\"title\":{\"x\":0.05},\"xaxis\":{\"automargin\":true,\"gridcolor\":\"white\",\"linecolor\":\"white\",\"ticks\":\"\",\"title\":{\"standoff\":15},\"zerolinecolor\":\"white\",\"zerolinewidth\":2},\"yaxis\":{\"automargin\":true,\"gridcolor\":\"white\",\"linecolor\":\"white\",\"ticks\":\"\",\"title\":{\"standoff\":15},\"zerolinecolor\":\"white\",\"zerolinewidth\":2}}},\"title\":{\"font\":{\"color\":\"#4D5663\"}},\"xaxis\":{\"gridcolor\":\"#E1E5ED\",\"showgrid\":true,\"tickfont\":{\"color\":\"#4D5663\"},\"title\":{\"font\":{\"color\":\"#4D5663\"},\"text\":\"\"},\"zerolinecolor\":\"#E1E5ED\"},\"yaxis\":{\"gridcolor\":\"#E1E5ED\",\"showgrid\":true,\"tickfont\":{\"color\":\"#4D5663\"},\"title\":{\"font\":{\"color\":\"#4D5663\"},\"text\":\"\"},\"zerolinecolor\":\"#E1E5ED\"}},                        {\"showLink\": true, \"linkText\": \"Export to plot.ly\", \"plotlyServerURL\": \"https://plot.ly\", \"responsive\": true}                    ).then(function(){\n",
       "                            \n",
       "var gd = document.getElementById('9184bb0c-9200-48cc-9125-2f1716c48491');\n",
       "var x = new MutationObserver(function (mutations, observer) {{\n",
       "        var display = window.getComputedStyle(gd).display;\n",
       "        if (!display || display === 'none') {{\n",
       "            console.log([gd, 'removed!']);\n",
       "            Plotly.purge(gd);\n",
       "            observer.disconnect();\n",
       "        }}\n",
       "}});\n",
       "\n",
       "// Listen for the removal of the full notebook cells\n",
       "var notebookContainer = gd.closest('#notebook-container');\n",
       "if (notebookContainer) {{\n",
       "    x.observe(notebookContainer, {childList: true});\n",
       "}}\n",
       "\n",
       "// Listen for the clearing of the current output cell\n",
       "var outputEl = gd.closest('.output');\n",
       "if (outputEl) {{\n",
       "    x.observe(outputEl, {childList: true});\n",
       "}}\n",
       "\n",
       "                        })                };                });            </script>        </div>"
      ]
     },
     "metadata": {},
     "output_type": "display_data"
    }
   ],
   "source": [
    "df.count().iplot(kind='bar')"
   ]
  },
  {
   "cell_type": "markdown",
   "metadata": {},
   "source": [
    "## Boxplots"
   ]
  },
  {
   "cell_type": "code",
   "execution_count": 25,
   "metadata": {},
   "outputs": [
    {
     "data": {
      "application/vnd.plotly.v1+json": {
       "config": {
        "linkText": "Export to plot.ly",
        "plotlyServerURL": "https://plot.ly",
        "showLink": true
       },
       "data": [
        {
         "boxpoints": false,
         "line": {
          "width": 1.3
         },
         "marker": {
          "color": "rgba(255, 153, 51, 1.0)"
         },
         "name": "A",
         "orientation": "v",
         "type": "box",
         "y": [
          -1.128527421491057,
          -0.8325364170784427,
          1.117759011436061,
          0.11495821582242938,
          0.9305397397535681,
          -0.056959321380706515,
          -0.5762026578238985,
          0.325320359316401,
          -1.9649153531373396,
          -0.38095279402790533,
          -0.7454931605462313,
          0.8976973947563892,
          -1.1235804539847107,
          -0.953172193107549,
          -0.6759776688995367,
          0.8002755785061688,
          1.0494633796587234,
          0.7378447030414386,
          0.12986113700123267,
          1.086286389801609,
          0.08155836201718823,
          0.9229784489921659,
          -0.09369022766596474,
          -0.09856230970321986,
          1.098265891122033,
          -1.4152131175655607,
          0.2611617624310045,
          2.1193649175716662,
          -0.6664020677940656,
          -0.48052259484460547,
          -0.7276838790005038,
          0.039524546708315525,
          0.318393553414977,
          -0.7196077416392381,
          0.3421313655229252,
          0.4388205758096896,
          -2.3550491633823247,
          -0.593569758262605,
          1.3047282106401816,
          2.443603175882856,
          0.28018107604832165,
          -0.8710273063882875,
          -0.4313328571744169,
          -0.5355094514622776,
          -1.0161943798253763,
          -0.3209224256029741,
          0.779425587893723,
          -0.11047731431318959,
          0.38402677202404795,
          0.9447772275780516,
          0.32871514758508485,
          -0.6560157443714713,
          0.08460414252776026,
          -0.5553487874460203,
          0.9471993168855736,
          0.6678767956742167,
          0.4208061364417931,
          -0.33768501018069025,
          1.1208605783273453,
          -1.144231224207155,
          -1.4199399126024166,
          -0.11313590371139508,
          1.3125136045441845,
          0.085954704596972,
          -0.7483688051037276,
          1.3962916765963318,
          0.6073003572383889,
          1.2964224252900522,
          1.28946390344804,
          2.030271679606397,
          0.24890115506565916,
          1.0408432010472008,
          -0.8196810968506483,
          -0.30181791205238634,
          -0.36394056053162893,
          0.7815149875165472,
          1.3196476078355661,
          1.727632647394526,
          0.3512575295402517,
          -0.6765221465830158,
          -1.4149174315858297,
          -0.21080941096235653,
          -1.78489892280663,
          -0.5243782750686626,
          -0.27859033504171876,
          -0.35180835776863956,
          0.43097713887934547,
          0.7307371202909417,
          1.7073564886167998,
          -1.4852143241881217,
          -1.964488410262696,
          -0.4693944143531847,
          1.5858342398604492,
          0.7595070765604511,
          0.9500923730675553,
          -1.5047798877080556,
          0.4176577629779211,
          1.1158898764399596,
          -1.9340101508934031,
          -0.9888974513248849
         ]
        },
        {
         "boxpoints": false,
         "line": {
          "width": 1.3
         },
         "marker": {
          "color": "rgba(55, 128, 191, 1.0)"
         },
         "name": "B",
         "orientation": "v",
         "type": "box",
         "y": [
          -0.8438017208608072,
          -1.451059827304447,
          0.31677438801135444,
          -1.8824266351071355,
          -1.4000326376861942,
          0.08622616529018719,
          0.1813405485240011,
          -0.1096132190531128,
          1.7808291385567678,
          -0.5833462656304863,
          -0.5575659926396725,
          0.40584827482506397,
          0.6101680257864976,
          0.06544046951260675,
          1.4314723011005817,
          -0.07243636161791522,
          0.07292612974172229,
          0.16531870386208344,
          1.5473983294693736,
          -0.40795910360537324,
          0.534994199581339,
          0.3181352605298431,
          0.5827471569825284,
          0.11797395439563242,
          1.7270203123041272,
          -0.7979657106730599,
          -0.33643680435496826,
          -0.09190581146404614,
          -0.19434919479635446,
          1.3323765092492732,
          -0.5097502377901193,
          1.0123102696031379,
          -1.434646410360193,
          -0.08510773094341798,
          2.360527793889873,
          1.769109412305407,
          0.03199133127897448,
          -0.7151940914551366,
          -0.2446046200943762,
          -1.6369575612289258,
          -0.0222854167728985,
          -0.8398559101888473,
          1.3674759577283377,
          0.15091042675588018,
          0.7009967420910446,
          -0.39591430298434566,
          -0.06094057313462858,
          -0.8229796690465562,
          1.5647951708797927,
          0.5724286683006631,
          0.022599323722141563,
          -0.5693125084686658,
          1.3114744511352885,
          -1.228875433688444,
          0.5402788075718962,
          1.31880764494986,
          -1.446003318952283,
          0.8414602348998687,
          1.6409498164147742,
          1.7271203005557403,
          0.9064534794866576,
          0.07765079767186345,
          0.9377878612527225,
          1.1174189380719395,
          0.6265982804893011,
          -0.8505598010938983,
          0.5062479847351922,
          0.29743743819756463,
          -0.26487197065108586,
          -0.6090971952882519,
          3.3784685380994843,
          -1.3651458003278483,
          1.5362075391723087,
          -1.8426372521276637,
          2.2187310815551857,
          0.8846437079633963,
          -0.3233740780746491,
          0.7383625124308305,
          2.588160313840058,
          -0.16678927700726093,
          0.4345932220808519,
          1.3522024747491594,
          2.1398157596463223,
          -0.5546882110557149,
          -0.5246472208537587,
          -0.3247726096531107,
          -0.42285621792837025,
          0.011079347946176672,
          -0.7670558734032875,
          1.5606469735113997,
          -0.6158162024941565,
          -0.43316149808904775,
          -0.6365567196593834,
          -0.14843480591937674,
          0.3734032314190597,
          1.4400219200722884,
          -1.0365022965768078,
          0.0849264308017044,
          0.4774918060323457,
          0.3055439179664504
         ]
        },
        {
         "boxpoints": false,
         "line": {
          "width": 1.3
         },
         "marker": {
          "color": "rgba(50, 171, 96, 1.0)"
         },
         "name": "C",
         "orientation": "v",
         "type": "box",
         "y": [
          -0.052997427688089925,
          1.0939192030529579,
          0.7836385103413706,
          1.1285648084681439,
          -0.5602885457556053,
          1.302029337022206,
          0.1953898841930936,
          1.7332083933884679,
          1.3728472898237867,
          -0.5407000539889921,
          -0.5443508722708977,
          -2.1125935139792253,
          -2.162026658273078,
          1.4070820970863287,
          0.9170218751937319,
          0.15607343193527032,
          -0.3422807205126697,
          -0.3012945609589326,
          -0.10537036018678862,
          -1.089452885042992,
          1.8562011311582736,
          1.4468330111003407,
          -1.2073264315749066,
          1.1386956267422288,
          -1.3800384882678676,
          -0.18831081827046722,
          1.8852207938165892,
          -0.43600194728668434,
          1.1609184039239695,
          0.9165236241281612,
          0.31700494533500195,
          0.3605605593248934,
          0.12231270126087389,
          0.13147809041934225,
          -0.588173974794048,
          -2.3593658844283176,
          1.376405863101816,
          -0.02118661532237987,
          0.588894031363778,
          -0.07337750948481137,
          -0.20213617931148056,
          -1.3730070208357543,
          -0.4062430256807989,
          -0.8415162282989974,
          -0.435377673592703,
          0.19578142083593172,
          0.23502260973551314,
          -1.0726554965690713,
          -0.22454270175886124,
          1.9847132011316835,
          -0.3550573491889973,
          0.28310369497161714,
          -2.359267830448543,
          -0.6371548496002973,
          0.3466278420287463,
          -0.4793012276071593,
          -0.1419808436558441,
          -0.04758434563031437,
          1.7069953186584261,
          -2.2542378986384275,
          0.56554324087177,
          0.42587348763356003,
          1.0509085837941605,
          0.6128929113630869,
          0.17484827355805918,
          -0.009058222380550427,
          1.1659439896446162,
          -0.10426860582885965,
          0.34753260513155976,
          0.1451408718031967,
          -0.5058744938076509,
          0.1071242614410123,
          -0.12055245937245793,
          -1.2151826047751948,
          -0.32325423494812777,
          0.33655431014364956,
          -0.0698696979109782,
          0.039555328052211416,
          -0.2554685398288555,
          -1.6028989398528626,
          -1.883937271963367,
          0.8939645123756309,
          1.0351283227043337,
          -1.2981068855341964,
          0.4146278289099435,
          -1.5916940607804568,
          0.8640158545604475,
          0.20309766889398637,
          -1.6373362352662955,
          -0.1762541482334694,
          -0.11260991713828158,
          0.023965498717288224,
          -1.19241474612489,
          0.22722148858620456,
          -0.30260074267927256,
          0.6309700535740959,
          0.7865080117972115,
          -2.545093023517818,
          -0.7425157851817191,
          0.9290632258960806
         ]
        },
        {
         "boxpoints": false,
         "line": {
          "width": 1.3
         },
         "marker": {
          "color": "rgba(128, 0, 128, 1.0)"
         },
         "name": "D",
         "orientation": "v",
         "type": "box",
         "y": [
          1.1300499630931804,
          -0.03908600458946342,
          0.6161873178201305,
          1.5041801411887108,
          -0.01104184889052825,
          -1.4541856527306678,
          0.1379127620570015,
          0.05286159430865403,
          -0.21042889059012565,
          0.41911444964394357,
          -0.66981986780956,
          0.4725573492237899,
          -1.3814385108058174,
          -0.2836422497981442,
          -0.7592911404368923,
          1.4936635418284283,
          0.5896762357130668,
          0.48345227631398735,
          -0.3912329696230036,
          -0.05492908159219744,
          0.6113565427068339,
          1.081266132516459,
          0.6043185670960939,
          -1.2130722858998417,
          -1.4452752491990506,
          -0.32570973748197096,
          0.2103576698999121,
          0.2166496317370823,
          -1.6090609509714906,
          -0.24335524747646176,
          1.5769555780993356,
          -0.146222080204656,
          -0.8723429769392964,
          -0.003121478823417625,
          -0.721850170888696,
          -1.1350238153561139,
          -1.6508953740672372,
          0.1972498795472664,
          0.6388213501375252,
          0.30022207267482137,
          -1.4284626396824047,
          -0.7125248040213117,
          2.235327564848775,
          -0.38879314849013463,
          0.01199331914743487,
          -1.064488753712766,
          -1.603302078640188,
          0.824758072320352,
          -1.4187811638540186,
          -0.4662994419120291,
          0.16746513943352692,
          -0.47374519308450536,
          0.25881683314690856,
          -1.7131277848658035,
          -1.680961034864507,
          0.753440010147552,
          1.7120081658646487,
          -1.1481475594169448,
          -0.4432656742514228,
          -0.8042576143325543,
          0.9553368253774911,
          0.10941651930449499,
          0.27593070834820616,
          -0.3950901519730633,
          -0.6579662554250679,
          -0.6703204355214106,
          -0.16176423837422535,
          0.9507292877091447,
          -0.4407686121893185,
          1.8045492845057018,
          -1.338210908582245,
          -1.6738321029650791,
          -0.43859649892924185,
          -0.3763633315130177,
          -0.2986416896820966,
          0.1892706422905342,
          -0.8820407555559685,
          -0.18018636261858956,
          0.5947380465804296,
          0.7060541524538173,
          -1.509582826291845,
          0.1421921318309323,
          -0.5022746243340366,
          -0.861918994089485,
          0.44031565181588245,
          -0.08158247893958946,
          -1.2197712929260776,
          -0.10361307390360547,
          0.008852384552850503,
          1.899068411392826,
          1.3562519302176974,
          0.22479296064795803,
          0.6013594415492209,
          -1.4745880407156362,
          1.0161975676006454,
          -0.6760327676513366,
          0.0673972731888613,
          -1.2536011060930559,
          0.48230858536971627,
          1.1302848040991256
         ]
        }
       ],
       "layout": {
        "legend": {
         "bgcolor": "#F5F6F9",
         "font": {
          "color": "#4D5663"
         }
        },
        "paper_bgcolor": "#F5F6F9",
        "plot_bgcolor": "#F5F6F9",
        "template": {
         "data": {
          "bar": [
           {
            "error_x": {
             "color": "#2a3f5f"
            },
            "error_y": {
             "color": "#2a3f5f"
            },
            "marker": {
             "line": {
              "color": "#E5ECF6",
              "width": 0.5
             },
             "pattern": {
              "fillmode": "overlay",
              "size": 10,
              "solidity": 0.2
             }
            },
            "type": "bar"
           }
          ],
          "barpolar": [
           {
            "marker": {
             "line": {
              "color": "#E5ECF6",
              "width": 0.5
             },
             "pattern": {
              "fillmode": "overlay",
              "size": 10,
              "solidity": 0.2
             }
            },
            "type": "barpolar"
           }
          ],
          "carpet": [
           {
            "aaxis": {
             "endlinecolor": "#2a3f5f",
             "gridcolor": "white",
             "linecolor": "white",
             "minorgridcolor": "white",
             "startlinecolor": "#2a3f5f"
            },
            "baxis": {
             "endlinecolor": "#2a3f5f",
             "gridcolor": "white",
             "linecolor": "white",
             "minorgridcolor": "white",
             "startlinecolor": "#2a3f5f"
            },
            "type": "carpet"
           }
          ],
          "choropleth": [
           {
            "colorbar": {
             "outlinewidth": 0,
             "ticks": ""
            },
            "type": "choropleth"
           }
          ],
          "contour": [
           {
            "colorbar": {
             "outlinewidth": 0,
             "ticks": ""
            },
            "colorscale": [
             [
              0,
              "#0d0887"
             ],
             [
              0.1111111111111111,
              "#46039f"
             ],
             [
              0.2222222222222222,
              "#7201a8"
             ],
             [
              0.3333333333333333,
              "#9c179e"
             ],
             [
              0.4444444444444444,
              "#bd3786"
             ],
             [
              0.5555555555555556,
              "#d8576b"
             ],
             [
              0.6666666666666666,
              "#ed7953"
             ],
             [
              0.7777777777777778,
              "#fb9f3a"
             ],
             [
              0.8888888888888888,
              "#fdca26"
             ],
             [
              1,
              "#f0f921"
             ]
            ],
            "type": "contour"
           }
          ],
          "contourcarpet": [
           {
            "colorbar": {
             "outlinewidth": 0,
             "ticks": ""
            },
            "type": "contourcarpet"
           }
          ],
          "heatmap": [
           {
            "colorbar": {
             "outlinewidth": 0,
             "ticks": ""
            },
            "colorscale": [
             [
              0,
              "#0d0887"
             ],
             [
              0.1111111111111111,
              "#46039f"
             ],
             [
              0.2222222222222222,
              "#7201a8"
             ],
             [
              0.3333333333333333,
              "#9c179e"
             ],
             [
              0.4444444444444444,
              "#bd3786"
             ],
             [
              0.5555555555555556,
              "#d8576b"
             ],
             [
              0.6666666666666666,
              "#ed7953"
             ],
             [
              0.7777777777777778,
              "#fb9f3a"
             ],
             [
              0.8888888888888888,
              "#fdca26"
             ],
             [
              1,
              "#f0f921"
             ]
            ],
            "type": "heatmap"
           }
          ],
          "heatmapgl": [
           {
            "colorbar": {
             "outlinewidth": 0,
             "ticks": ""
            },
            "colorscale": [
             [
              0,
              "#0d0887"
             ],
             [
              0.1111111111111111,
              "#46039f"
             ],
             [
              0.2222222222222222,
              "#7201a8"
             ],
             [
              0.3333333333333333,
              "#9c179e"
             ],
             [
              0.4444444444444444,
              "#bd3786"
             ],
             [
              0.5555555555555556,
              "#d8576b"
             ],
             [
              0.6666666666666666,
              "#ed7953"
             ],
             [
              0.7777777777777778,
              "#fb9f3a"
             ],
             [
              0.8888888888888888,
              "#fdca26"
             ],
             [
              1,
              "#f0f921"
             ]
            ],
            "type": "heatmapgl"
           }
          ],
          "histogram": [
           {
            "marker": {
             "pattern": {
              "fillmode": "overlay",
              "size": 10,
              "solidity": 0.2
             }
            },
            "type": "histogram"
           }
          ],
          "histogram2d": [
           {
            "colorbar": {
             "outlinewidth": 0,
             "ticks": ""
            },
            "colorscale": [
             [
              0,
              "#0d0887"
             ],
             [
              0.1111111111111111,
              "#46039f"
             ],
             [
              0.2222222222222222,
              "#7201a8"
             ],
             [
              0.3333333333333333,
              "#9c179e"
             ],
             [
              0.4444444444444444,
              "#bd3786"
             ],
             [
              0.5555555555555556,
              "#d8576b"
             ],
             [
              0.6666666666666666,
              "#ed7953"
             ],
             [
              0.7777777777777778,
              "#fb9f3a"
             ],
             [
              0.8888888888888888,
              "#fdca26"
             ],
             [
              1,
              "#f0f921"
             ]
            ],
            "type": "histogram2d"
           }
          ],
          "histogram2dcontour": [
           {
            "colorbar": {
             "outlinewidth": 0,
             "ticks": ""
            },
            "colorscale": [
             [
              0,
              "#0d0887"
             ],
             [
              0.1111111111111111,
              "#46039f"
             ],
             [
              0.2222222222222222,
              "#7201a8"
             ],
             [
              0.3333333333333333,
              "#9c179e"
             ],
             [
              0.4444444444444444,
              "#bd3786"
             ],
             [
              0.5555555555555556,
              "#d8576b"
             ],
             [
              0.6666666666666666,
              "#ed7953"
             ],
             [
              0.7777777777777778,
              "#fb9f3a"
             ],
             [
              0.8888888888888888,
              "#fdca26"
             ],
             [
              1,
              "#f0f921"
             ]
            ],
            "type": "histogram2dcontour"
           }
          ],
          "mesh3d": [
           {
            "colorbar": {
             "outlinewidth": 0,
             "ticks": ""
            },
            "type": "mesh3d"
           }
          ],
          "parcoords": [
           {
            "line": {
             "colorbar": {
              "outlinewidth": 0,
              "ticks": ""
             }
            },
            "type": "parcoords"
           }
          ],
          "pie": [
           {
            "automargin": true,
            "type": "pie"
           }
          ],
          "scatter": [
           {
            "fillpattern": {
             "fillmode": "overlay",
             "size": 10,
             "solidity": 0.2
            },
            "type": "scatter"
           }
          ],
          "scatter3d": [
           {
            "line": {
             "colorbar": {
              "outlinewidth": 0,
              "ticks": ""
             }
            },
            "marker": {
             "colorbar": {
              "outlinewidth": 0,
              "ticks": ""
             }
            },
            "type": "scatter3d"
           }
          ],
          "scattercarpet": [
           {
            "marker": {
             "colorbar": {
              "outlinewidth": 0,
              "ticks": ""
             }
            },
            "type": "scattercarpet"
           }
          ],
          "scattergeo": [
           {
            "marker": {
             "colorbar": {
              "outlinewidth": 0,
              "ticks": ""
             }
            },
            "type": "scattergeo"
           }
          ],
          "scattergl": [
           {
            "marker": {
             "colorbar": {
              "outlinewidth": 0,
              "ticks": ""
             }
            },
            "type": "scattergl"
           }
          ],
          "scattermapbox": [
           {
            "marker": {
             "colorbar": {
              "outlinewidth": 0,
              "ticks": ""
             }
            },
            "type": "scattermapbox"
           }
          ],
          "scatterpolar": [
           {
            "marker": {
             "colorbar": {
              "outlinewidth": 0,
              "ticks": ""
             }
            },
            "type": "scatterpolar"
           }
          ],
          "scatterpolargl": [
           {
            "marker": {
             "colorbar": {
              "outlinewidth": 0,
              "ticks": ""
             }
            },
            "type": "scatterpolargl"
           }
          ],
          "scatterternary": [
           {
            "marker": {
             "colorbar": {
              "outlinewidth": 0,
              "ticks": ""
             }
            },
            "type": "scatterternary"
           }
          ],
          "surface": [
           {
            "colorbar": {
             "outlinewidth": 0,
             "ticks": ""
            },
            "colorscale": [
             [
              0,
              "#0d0887"
             ],
             [
              0.1111111111111111,
              "#46039f"
             ],
             [
              0.2222222222222222,
              "#7201a8"
             ],
             [
              0.3333333333333333,
              "#9c179e"
             ],
             [
              0.4444444444444444,
              "#bd3786"
             ],
             [
              0.5555555555555556,
              "#d8576b"
             ],
             [
              0.6666666666666666,
              "#ed7953"
             ],
             [
              0.7777777777777778,
              "#fb9f3a"
             ],
             [
              0.8888888888888888,
              "#fdca26"
             ],
             [
              1,
              "#f0f921"
             ]
            ],
            "type": "surface"
           }
          ],
          "table": [
           {
            "cells": {
             "fill": {
              "color": "#EBF0F8"
             },
             "line": {
              "color": "white"
             }
            },
            "header": {
             "fill": {
              "color": "#C8D4E3"
             },
             "line": {
              "color": "white"
             }
            },
            "type": "table"
           }
          ]
         },
         "layout": {
          "annotationdefaults": {
           "arrowcolor": "#2a3f5f",
           "arrowhead": 0,
           "arrowwidth": 1
          },
          "autotypenumbers": "strict",
          "coloraxis": {
           "colorbar": {
            "outlinewidth": 0,
            "ticks": ""
           }
          },
          "colorscale": {
           "diverging": [
            [
             0,
             "#8e0152"
            ],
            [
             0.1,
             "#c51b7d"
            ],
            [
             0.2,
             "#de77ae"
            ],
            [
             0.3,
             "#f1b6da"
            ],
            [
             0.4,
             "#fde0ef"
            ],
            [
             0.5,
             "#f7f7f7"
            ],
            [
             0.6,
             "#e6f5d0"
            ],
            [
             0.7,
             "#b8e186"
            ],
            [
             0.8,
             "#7fbc41"
            ],
            [
             0.9,
             "#4d9221"
            ],
            [
             1,
             "#276419"
            ]
           ],
           "sequential": [
            [
             0,
             "#0d0887"
            ],
            [
             0.1111111111111111,
             "#46039f"
            ],
            [
             0.2222222222222222,
             "#7201a8"
            ],
            [
             0.3333333333333333,
             "#9c179e"
            ],
            [
             0.4444444444444444,
             "#bd3786"
            ],
            [
             0.5555555555555556,
             "#d8576b"
            ],
            [
             0.6666666666666666,
             "#ed7953"
            ],
            [
             0.7777777777777778,
             "#fb9f3a"
            ],
            [
             0.8888888888888888,
             "#fdca26"
            ],
            [
             1,
             "#f0f921"
            ]
           ],
           "sequentialminus": [
            [
             0,
             "#0d0887"
            ],
            [
             0.1111111111111111,
             "#46039f"
            ],
            [
             0.2222222222222222,
             "#7201a8"
            ],
            [
             0.3333333333333333,
             "#9c179e"
            ],
            [
             0.4444444444444444,
             "#bd3786"
            ],
            [
             0.5555555555555556,
             "#d8576b"
            ],
            [
             0.6666666666666666,
             "#ed7953"
            ],
            [
             0.7777777777777778,
             "#fb9f3a"
            ],
            [
             0.8888888888888888,
             "#fdca26"
            ],
            [
             1,
             "#f0f921"
            ]
           ]
          },
          "colorway": [
           "#636efa",
           "#EF553B",
           "#00cc96",
           "#ab63fa",
           "#FFA15A",
           "#19d3f3",
           "#FF6692",
           "#B6E880",
           "#FF97FF",
           "#FECB52"
          ],
          "font": {
           "color": "#2a3f5f"
          },
          "geo": {
           "bgcolor": "white",
           "lakecolor": "white",
           "landcolor": "#E5ECF6",
           "showlakes": true,
           "showland": true,
           "subunitcolor": "white"
          },
          "hoverlabel": {
           "align": "left"
          },
          "hovermode": "closest",
          "mapbox": {
           "style": "light"
          },
          "paper_bgcolor": "white",
          "plot_bgcolor": "#E5ECF6",
          "polar": {
           "angularaxis": {
            "gridcolor": "white",
            "linecolor": "white",
            "ticks": ""
           },
           "bgcolor": "#E5ECF6",
           "radialaxis": {
            "gridcolor": "white",
            "linecolor": "white",
            "ticks": ""
           }
          },
          "scene": {
           "xaxis": {
            "backgroundcolor": "#E5ECF6",
            "gridcolor": "white",
            "gridwidth": 2,
            "linecolor": "white",
            "showbackground": true,
            "ticks": "",
            "zerolinecolor": "white"
           },
           "yaxis": {
            "backgroundcolor": "#E5ECF6",
            "gridcolor": "white",
            "gridwidth": 2,
            "linecolor": "white",
            "showbackground": true,
            "ticks": "",
            "zerolinecolor": "white"
           },
           "zaxis": {
            "backgroundcolor": "#E5ECF6",
            "gridcolor": "white",
            "gridwidth": 2,
            "linecolor": "white",
            "showbackground": true,
            "ticks": "",
            "zerolinecolor": "white"
           }
          },
          "shapedefaults": {
           "line": {
            "color": "#2a3f5f"
           }
          },
          "ternary": {
           "aaxis": {
            "gridcolor": "white",
            "linecolor": "white",
            "ticks": ""
           },
           "baxis": {
            "gridcolor": "white",
            "linecolor": "white",
            "ticks": ""
           },
           "bgcolor": "#E5ECF6",
           "caxis": {
            "gridcolor": "white",
            "linecolor": "white",
            "ticks": ""
           }
          },
          "title": {
           "x": 0.05
          },
          "xaxis": {
           "automargin": true,
           "gridcolor": "white",
           "linecolor": "white",
           "ticks": "",
           "title": {
            "standoff": 15
           },
           "zerolinecolor": "white",
           "zerolinewidth": 2
          },
          "yaxis": {
           "automargin": true,
           "gridcolor": "white",
           "linecolor": "white",
           "ticks": "",
           "title": {
            "standoff": 15
           },
           "zerolinecolor": "white",
           "zerolinewidth": 2
          }
         }
        },
        "title": {
         "font": {
          "color": "#4D5663"
         }
        },
        "xaxis": {
         "gridcolor": "#E1E5ED",
         "showgrid": true,
         "tickfont": {
          "color": "#4D5663"
         },
         "title": {
          "font": {
           "color": "#4D5663"
          },
          "text": ""
         },
         "zerolinecolor": "#E1E5ED"
        },
        "yaxis": {
         "gridcolor": "#E1E5ED",
         "showgrid": true,
         "tickfont": {
          "color": "#4D5663"
         },
         "title": {
          "font": {
           "color": "#4D5663"
          },
          "text": ""
         },
         "zerolinecolor": "#E1E5ED"
        }
       }
      },
      "text/html": [
       "<div>                            <div id=\"dba5d2fb-e60b-4c8b-aa4d-1932665ecd7d\" class=\"plotly-graph-div\" style=\"height:525px; width:100%;\"></div>            <script type=\"text/javascript\">                require([\"plotly\"], function(Plotly) {                    window.PLOTLYENV=window.PLOTLYENV || {};\n",
       "                    window.PLOTLYENV.BASE_URL='https://plot.ly';                                    if (document.getElementById(\"dba5d2fb-e60b-4c8b-aa4d-1932665ecd7d\")) {                    Plotly.newPlot(                        \"dba5d2fb-e60b-4c8b-aa4d-1932665ecd7d\",                        [{\"boxpoints\":false,\"line\":{\"width\":1.3},\"marker\":{\"color\":\"rgba(255, 153, 51, 1.0)\"},\"name\":\"A\",\"orientation\":\"v\",\"y\":[-1.128527421491057,-0.8325364170784427,1.117759011436061,0.11495821582242938,0.9305397397535681,-0.056959321380706515,-0.5762026578238985,0.325320359316401,-1.9649153531373396,-0.38095279402790533,-0.7454931605462313,0.8976973947563892,-1.1235804539847107,-0.953172193107549,-0.6759776688995367,0.8002755785061688,1.0494633796587234,0.7378447030414386,0.12986113700123267,1.086286389801609,0.08155836201718823,0.9229784489921659,-0.09369022766596474,-0.09856230970321986,1.098265891122033,-1.4152131175655607,0.2611617624310045,2.1193649175716662,-0.6664020677940656,-0.48052259484460547,-0.7276838790005038,0.039524546708315525,0.318393553414977,-0.7196077416392381,0.3421313655229252,0.4388205758096896,-2.3550491633823247,-0.593569758262605,1.3047282106401816,2.443603175882856,0.28018107604832165,-0.8710273063882875,-0.4313328571744169,-0.5355094514622776,-1.0161943798253763,-0.3209224256029741,0.779425587893723,-0.11047731431318959,0.38402677202404795,0.9447772275780516,0.32871514758508485,-0.6560157443714713,0.08460414252776026,-0.5553487874460203,0.9471993168855736,0.6678767956742167,0.4208061364417931,-0.33768501018069025,1.1208605783273453,-1.144231224207155,-1.4199399126024166,-0.11313590371139508,1.3125136045441845,0.085954704596972,-0.7483688051037276,1.3962916765963318,0.6073003572383889,1.2964224252900522,1.28946390344804,2.030271679606397,0.24890115506565916,1.0408432010472008,-0.8196810968506483,-0.30181791205238634,-0.36394056053162893,0.7815149875165472,1.3196476078355661,1.727632647394526,0.3512575295402517,-0.6765221465830158,-1.4149174315858297,-0.21080941096235653,-1.78489892280663,-0.5243782750686626,-0.27859033504171876,-0.35180835776863956,0.43097713887934547,0.7307371202909417,1.7073564886167998,-1.4852143241881217,-1.964488410262696,-0.4693944143531847,1.5858342398604492,0.7595070765604511,0.9500923730675553,-1.5047798877080556,0.4176577629779211,1.1158898764399596,-1.9340101508934031,-0.9888974513248849],\"type\":\"box\"},{\"boxpoints\":false,\"line\":{\"width\":1.3},\"marker\":{\"color\":\"rgba(55, 128, 191, 1.0)\"},\"name\":\"B\",\"orientation\":\"v\",\"y\":[-0.8438017208608072,-1.451059827304447,0.31677438801135444,-1.8824266351071355,-1.4000326376861942,0.08622616529018719,0.1813405485240011,-0.1096132190531128,1.7808291385567678,-0.5833462656304863,-0.5575659926396725,0.40584827482506397,0.6101680257864976,0.06544046951260675,1.4314723011005817,-0.07243636161791522,0.07292612974172229,0.16531870386208344,1.5473983294693736,-0.40795910360537324,0.534994199581339,0.3181352605298431,0.5827471569825284,0.11797395439563242,1.7270203123041272,-0.7979657106730599,-0.33643680435496826,-0.09190581146404614,-0.19434919479635446,1.3323765092492732,-0.5097502377901193,1.0123102696031379,-1.434646410360193,-0.08510773094341798,2.360527793889873,1.769109412305407,0.03199133127897448,-0.7151940914551366,-0.2446046200943762,-1.6369575612289258,-0.0222854167728985,-0.8398559101888473,1.3674759577283377,0.15091042675588018,0.7009967420910446,-0.39591430298434566,-0.06094057313462858,-0.8229796690465562,1.5647951708797927,0.5724286683006631,0.022599323722141563,-0.5693125084686658,1.3114744511352885,-1.228875433688444,0.5402788075718962,1.31880764494986,-1.446003318952283,0.8414602348998687,1.6409498164147742,1.7271203005557403,0.9064534794866576,0.07765079767186345,0.9377878612527225,1.1174189380719395,0.6265982804893011,-0.8505598010938983,0.5062479847351922,0.29743743819756463,-0.26487197065108586,-0.6090971952882519,3.3784685380994843,-1.3651458003278483,1.5362075391723087,-1.8426372521276637,2.2187310815551857,0.8846437079633963,-0.3233740780746491,0.7383625124308305,2.588160313840058,-0.16678927700726093,0.4345932220808519,1.3522024747491594,2.1398157596463223,-0.5546882110557149,-0.5246472208537587,-0.3247726096531107,-0.42285621792837025,0.011079347946176672,-0.7670558734032875,1.5606469735113997,-0.6158162024941565,-0.43316149808904775,-0.6365567196593834,-0.14843480591937674,0.3734032314190597,1.4400219200722884,-1.0365022965768078,0.0849264308017044,0.4774918060323457,0.3055439179664504],\"type\":\"box\"},{\"boxpoints\":false,\"line\":{\"width\":1.3},\"marker\":{\"color\":\"rgba(50, 171, 96, 1.0)\"},\"name\":\"C\",\"orientation\":\"v\",\"y\":[-0.052997427688089925,1.0939192030529579,0.7836385103413706,1.1285648084681439,-0.5602885457556053,1.302029337022206,0.1953898841930936,1.7332083933884679,1.3728472898237867,-0.5407000539889921,-0.5443508722708977,-2.1125935139792253,-2.162026658273078,1.4070820970863287,0.9170218751937319,0.15607343193527032,-0.3422807205126697,-0.3012945609589326,-0.10537036018678862,-1.089452885042992,1.8562011311582736,1.4468330111003407,-1.2073264315749066,1.1386956267422288,-1.3800384882678676,-0.18831081827046722,1.8852207938165892,-0.43600194728668434,1.1609184039239695,0.9165236241281612,0.31700494533500195,0.3605605593248934,0.12231270126087389,0.13147809041934225,-0.588173974794048,-2.3593658844283176,1.376405863101816,-0.02118661532237987,0.588894031363778,-0.07337750948481137,-0.20213617931148056,-1.3730070208357543,-0.4062430256807989,-0.8415162282989974,-0.435377673592703,0.19578142083593172,0.23502260973551314,-1.0726554965690713,-0.22454270175886124,1.9847132011316835,-0.3550573491889973,0.28310369497161714,-2.359267830448543,-0.6371548496002973,0.3466278420287463,-0.4793012276071593,-0.1419808436558441,-0.04758434563031437,1.7069953186584261,-2.2542378986384275,0.56554324087177,0.42587348763356003,1.0509085837941605,0.6128929113630869,0.17484827355805918,-0.009058222380550427,1.1659439896446162,-0.10426860582885965,0.34753260513155976,0.1451408718031967,-0.5058744938076509,0.1071242614410123,-0.12055245937245793,-1.2151826047751948,-0.32325423494812777,0.33655431014364956,-0.0698696979109782,0.039555328052211416,-0.2554685398288555,-1.6028989398528626,-1.883937271963367,0.8939645123756309,1.0351283227043337,-1.2981068855341964,0.4146278289099435,-1.5916940607804568,0.8640158545604475,0.20309766889398637,-1.6373362352662955,-0.1762541482334694,-0.11260991713828158,0.023965498717288224,-1.19241474612489,0.22722148858620456,-0.30260074267927256,0.6309700535740959,0.7865080117972115,-2.545093023517818,-0.7425157851817191,0.9290632258960806],\"type\":\"box\"},{\"boxpoints\":false,\"line\":{\"width\":1.3},\"marker\":{\"color\":\"rgba(128, 0, 128, 1.0)\"},\"name\":\"D\",\"orientation\":\"v\",\"y\":[1.1300499630931804,-0.03908600458946342,0.6161873178201305,1.5041801411887108,-0.01104184889052825,-1.4541856527306678,0.1379127620570015,0.05286159430865403,-0.21042889059012565,0.41911444964394357,-0.66981986780956,0.4725573492237899,-1.3814385108058174,-0.2836422497981442,-0.7592911404368923,1.4936635418284283,0.5896762357130668,0.48345227631398735,-0.3912329696230036,-0.05492908159219744,0.6113565427068339,1.081266132516459,0.6043185670960939,-1.2130722858998417,-1.4452752491990506,-0.32570973748197096,0.2103576698999121,0.2166496317370823,-1.6090609509714906,-0.24335524747646176,1.5769555780993356,-0.146222080204656,-0.8723429769392964,-0.003121478823417625,-0.721850170888696,-1.1350238153561139,-1.6508953740672372,0.1972498795472664,0.6388213501375252,0.30022207267482137,-1.4284626396824047,-0.7125248040213117,2.235327564848775,-0.38879314849013463,0.01199331914743487,-1.064488753712766,-1.603302078640188,0.824758072320352,-1.4187811638540186,-0.4662994419120291,0.16746513943352692,-0.47374519308450536,0.25881683314690856,-1.7131277848658035,-1.680961034864507,0.753440010147552,1.7120081658646487,-1.1481475594169448,-0.4432656742514228,-0.8042576143325543,0.9553368253774911,0.10941651930449499,0.27593070834820616,-0.3950901519730633,-0.6579662554250679,-0.6703204355214106,-0.16176423837422535,0.9507292877091447,-0.4407686121893185,1.8045492845057018,-1.338210908582245,-1.6738321029650791,-0.43859649892924185,-0.3763633315130177,-0.2986416896820966,0.1892706422905342,-0.8820407555559685,-0.18018636261858956,0.5947380465804296,0.7060541524538173,-1.509582826291845,0.1421921318309323,-0.5022746243340366,-0.861918994089485,0.44031565181588245,-0.08158247893958946,-1.2197712929260776,-0.10361307390360547,0.008852384552850503,1.899068411392826,1.3562519302176974,0.22479296064795803,0.6013594415492209,-1.4745880407156362,1.0161975676006454,-0.6760327676513366,0.0673972731888613,-1.2536011060930559,0.48230858536971627,1.1302848040991256],\"type\":\"box\"}],                        {\"legend\":{\"bgcolor\":\"#F5F6F9\",\"font\":{\"color\":\"#4D5663\"}},\"paper_bgcolor\":\"#F5F6F9\",\"plot_bgcolor\":\"#F5F6F9\",\"template\":{\"data\":{\"barpolar\":[{\"marker\":{\"line\":{\"color\":\"#E5ECF6\",\"width\":0.5},\"pattern\":{\"fillmode\":\"overlay\",\"size\":10,\"solidity\":0.2}},\"type\":\"barpolar\"}],\"bar\":[{\"error_x\":{\"color\":\"#2a3f5f\"},\"error_y\":{\"color\":\"#2a3f5f\"},\"marker\":{\"line\":{\"color\":\"#E5ECF6\",\"width\":0.5},\"pattern\":{\"fillmode\":\"overlay\",\"size\":10,\"solidity\":0.2}},\"type\":\"bar\"}],\"carpet\":[{\"aaxis\":{\"endlinecolor\":\"#2a3f5f\",\"gridcolor\":\"white\",\"linecolor\":\"white\",\"minorgridcolor\":\"white\",\"startlinecolor\":\"#2a3f5f\"},\"baxis\":{\"endlinecolor\":\"#2a3f5f\",\"gridcolor\":\"white\",\"linecolor\":\"white\",\"minorgridcolor\":\"white\",\"startlinecolor\":\"#2a3f5f\"},\"type\":\"carpet\"}],\"choropleth\":[{\"colorbar\":{\"outlinewidth\":0,\"ticks\":\"\"},\"type\":\"choropleth\"}],\"contourcarpet\":[{\"colorbar\":{\"outlinewidth\":0,\"ticks\":\"\"},\"type\":\"contourcarpet\"}],\"contour\":[{\"colorbar\":{\"outlinewidth\":0,\"ticks\":\"\"},\"colorscale\":[[0.0,\"#0d0887\"],[0.1111111111111111,\"#46039f\"],[0.2222222222222222,\"#7201a8\"],[0.3333333333333333,\"#9c179e\"],[0.4444444444444444,\"#bd3786\"],[0.5555555555555556,\"#d8576b\"],[0.6666666666666666,\"#ed7953\"],[0.7777777777777778,\"#fb9f3a\"],[0.8888888888888888,\"#fdca26\"],[1.0,\"#f0f921\"]],\"type\":\"contour\"}],\"heatmapgl\":[{\"colorbar\":{\"outlinewidth\":0,\"ticks\":\"\"},\"colorscale\":[[0.0,\"#0d0887\"],[0.1111111111111111,\"#46039f\"],[0.2222222222222222,\"#7201a8\"],[0.3333333333333333,\"#9c179e\"],[0.4444444444444444,\"#bd3786\"],[0.5555555555555556,\"#d8576b\"],[0.6666666666666666,\"#ed7953\"],[0.7777777777777778,\"#fb9f3a\"],[0.8888888888888888,\"#fdca26\"],[1.0,\"#f0f921\"]],\"type\":\"heatmapgl\"}],\"heatmap\":[{\"colorbar\":{\"outlinewidth\":0,\"ticks\":\"\"},\"colorscale\":[[0.0,\"#0d0887\"],[0.1111111111111111,\"#46039f\"],[0.2222222222222222,\"#7201a8\"],[0.3333333333333333,\"#9c179e\"],[0.4444444444444444,\"#bd3786\"],[0.5555555555555556,\"#d8576b\"],[0.6666666666666666,\"#ed7953\"],[0.7777777777777778,\"#fb9f3a\"],[0.8888888888888888,\"#fdca26\"],[1.0,\"#f0f921\"]],\"type\":\"heatmap\"}],\"histogram2dcontour\":[{\"colorbar\":{\"outlinewidth\":0,\"ticks\":\"\"},\"colorscale\":[[0.0,\"#0d0887\"],[0.1111111111111111,\"#46039f\"],[0.2222222222222222,\"#7201a8\"],[0.3333333333333333,\"#9c179e\"],[0.4444444444444444,\"#bd3786\"],[0.5555555555555556,\"#d8576b\"],[0.6666666666666666,\"#ed7953\"],[0.7777777777777778,\"#fb9f3a\"],[0.8888888888888888,\"#fdca26\"],[1.0,\"#f0f921\"]],\"type\":\"histogram2dcontour\"}],\"histogram2d\":[{\"colorbar\":{\"outlinewidth\":0,\"ticks\":\"\"},\"colorscale\":[[0.0,\"#0d0887\"],[0.1111111111111111,\"#46039f\"],[0.2222222222222222,\"#7201a8\"],[0.3333333333333333,\"#9c179e\"],[0.4444444444444444,\"#bd3786\"],[0.5555555555555556,\"#d8576b\"],[0.6666666666666666,\"#ed7953\"],[0.7777777777777778,\"#fb9f3a\"],[0.8888888888888888,\"#fdca26\"],[1.0,\"#f0f921\"]],\"type\":\"histogram2d\"}],\"histogram\":[{\"marker\":{\"pattern\":{\"fillmode\":\"overlay\",\"size\":10,\"solidity\":0.2}},\"type\":\"histogram\"}],\"mesh3d\":[{\"colorbar\":{\"outlinewidth\":0,\"ticks\":\"\"},\"type\":\"mesh3d\"}],\"parcoords\":[{\"line\":{\"colorbar\":{\"outlinewidth\":0,\"ticks\":\"\"}},\"type\":\"parcoords\"}],\"pie\":[{\"automargin\":true,\"type\":\"pie\"}],\"scatter3d\":[{\"line\":{\"colorbar\":{\"outlinewidth\":0,\"ticks\":\"\"}},\"marker\":{\"colorbar\":{\"outlinewidth\":0,\"ticks\":\"\"}},\"type\":\"scatter3d\"}],\"scattercarpet\":[{\"marker\":{\"colorbar\":{\"outlinewidth\":0,\"ticks\":\"\"}},\"type\":\"scattercarpet\"}],\"scattergeo\":[{\"marker\":{\"colorbar\":{\"outlinewidth\":0,\"ticks\":\"\"}},\"type\":\"scattergeo\"}],\"scattergl\":[{\"marker\":{\"colorbar\":{\"outlinewidth\":0,\"ticks\":\"\"}},\"type\":\"scattergl\"}],\"scattermapbox\":[{\"marker\":{\"colorbar\":{\"outlinewidth\":0,\"ticks\":\"\"}},\"type\":\"scattermapbox\"}],\"scatterpolargl\":[{\"marker\":{\"colorbar\":{\"outlinewidth\":0,\"ticks\":\"\"}},\"type\":\"scatterpolargl\"}],\"scatterpolar\":[{\"marker\":{\"colorbar\":{\"outlinewidth\":0,\"ticks\":\"\"}},\"type\":\"scatterpolar\"}],\"scatter\":[{\"fillpattern\":{\"fillmode\":\"overlay\",\"size\":10,\"solidity\":0.2},\"type\":\"scatter\"}],\"scatterternary\":[{\"marker\":{\"colorbar\":{\"outlinewidth\":0,\"ticks\":\"\"}},\"type\":\"scatterternary\"}],\"surface\":[{\"colorbar\":{\"outlinewidth\":0,\"ticks\":\"\"},\"colorscale\":[[0.0,\"#0d0887\"],[0.1111111111111111,\"#46039f\"],[0.2222222222222222,\"#7201a8\"],[0.3333333333333333,\"#9c179e\"],[0.4444444444444444,\"#bd3786\"],[0.5555555555555556,\"#d8576b\"],[0.6666666666666666,\"#ed7953\"],[0.7777777777777778,\"#fb9f3a\"],[0.8888888888888888,\"#fdca26\"],[1.0,\"#f0f921\"]],\"type\":\"surface\"}],\"table\":[{\"cells\":{\"fill\":{\"color\":\"#EBF0F8\"},\"line\":{\"color\":\"white\"}},\"header\":{\"fill\":{\"color\":\"#C8D4E3\"},\"line\":{\"color\":\"white\"}},\"type\":\"table\"}]},\"layout\":{\"annotationdefaults\":{\"arrowcolor\":\"#2a3f5f\",\"arrowhead\":0,\"arrowwidth\":1},\"autotypenumbers\":\"strict\",\"coloraxis\":{\"colorbar\":{\"outlinewidth\":0,\"ticks\":\"\"}},\"colorscale\":{\"diverging\":[[0,\"#8e0152\"],[0.1,\"#c51b7d\"],[0.2,\"#de77ae\"],[0.3,\"#f1b6da\"],[0.4,\"#fde0ef\"],[0.5,\"#f7f7f7\"],[0.6,\"#e6f5d0\"],[0.7,\"#b8e186\"],[0.8,\"#7fbc41\"],[0.9,\"#4d9221\"],[1,\"#276419\"]],\"sequential\":[[0.0,\"#0d0887\"],[0.1111111111111111,\"#46039f\"],[0.2222222222222222,\"#7201a8\"],[0.3333333333333333,\"#9c179e\"],[0.4444444444444444,\"#bd3786\"],[0.5555555555555556,\"#d8576b\"],[0.6666666666666666,\"#ed7953\"],[0.7777777777777778,\"#fb9f3a\"],[0.8888888888888888,\"#fdca26\"],[1.0,\"#f0f921\"]],\"sequentialminus\":[[0.0,\"#0d0887\"],[0.1111111111111111,\"#46039f\"],[0.2222222222222222,\"#7201a8\"],[0.3333333333333333,\"#9c179e\"],[0.4444444444444444,\"#bd3786\"],[0.5555555555555556,\"#d8576b\"],[0.6666666666666666,\"#ed7953\"],[0.7777777777777778,\"#fb9f3a\"],[0.8888888888888888,\"#fdca26\"],[1.0,\"#f0f921\"]]},\"colorway\":[\"#636efa\",\"#EF553B\",\"#00cc96\",\"#ab63fa\",\"#FFA15A\",\"#19d3f3\",\"#FF6692\",\"#B6E880\",\"#FF97FF\",\"#FECB52\"],\"font\":{\"color\":\"#2a3f5f\"},\"geo\":{\"bgcolor\":\"white\",\"lakecolor\":\"white\",\"landcolor\":\"#E5ECF6\",\"showlakes\":true,\"showland\":true,\"subunitcolor\":\"white\"},\"hoverlabel\":{\"align\":\"left\"},\"hovermode\":\"closest\",\"mapbox\":{\"style\":\"light\"},\"paper_bgcolor\":\"white\",\"plot_bgcolor\":\"#E5ECF6\",\"polar\":{\"angularaxis\":{\"gridcolor\":\"white\",\"linecolor\":\"white\",\"ticks\":\"\"},\"bgcolor\":\"#E5ECF6\",\"radialaxis\":{\"gridcolor\":\"white\",\"linecolor\":\"white\",\"ticks\":\"\"}},\"scene\":{\"xaxis\":{\"backgroundcolor\":\"#E5ECF6\",\"gridcolor\":\"white\",\"gridwidth\":2,\"linecolor\":\"white\",\"showbackground\":true,\"ticks\":\"\",\"zerolinecolor\":\"white\"},\"yaxis\":{\"backgroundcolor\":\"#E5ECF6\",\"gridcolor\":\"white\",\"gridwidth\":2,\"linecolor\":\"white\",\"showbackground\":true,\"ticks\":\"\",\"zerolinecolor\":\"white\"},\"zaxis\":{\"backgroundcolor\":\"#E5ECF6\",\"gridcolor\":\"white\",\"gridwidth\":2,\"linecolor\":\"white\",\"showbackground\":true,\"ticks\":\"\",\"zerolinecolor\":\"white\"}},\"shapedefaults\":{\"line\":{\"color\":\"#2a3f5f\"}},\"ternary\":{\"aaxis\":{\"gridcolor\":\"white\",\"linecolor\":\"white\",\"ticks\":\"\"},\"baxis\":{\"gridcolor\":\"white\",\"linecolor\":\"white\",\"ticks\":\"\"},\"bgcolor\":\"#E5ECF6\",\"caxis\":{\"gridcolor\":\"white\",\"linecolor\":\"white\",\"ticks\":\"\"}},\"title\":{\"x\":0.05},\"xaxis\":{\"automargin\":true,\"gridcolor\":\"white\",\"linecolor\":\"white\",\"ticks\":\"\",\"title\":{\"standoff\":15},\"zerolinecolor\":\"white\",\"zerolinewidth\":2},\"yaxis\":{\"automargin\":true,\"gridcolor\":\"white\",\"linecolor\":\"white\",\"ticks\":\"\",\"title\":{\"standoff\":15},\"zerolinecolor\":\"white\",\"zerolinewidth\":2}}},\"title\":{\"font\":{\"color\":\"#4D5663\"}},\"xaxis\":{\"gridcolor\":\"#E1E5ED\",\"showgrid\":true,\"tickfont\":{\"color\":\"#4D5663\"},\"title\":{\"font\":{\"color\":\"#4D5663\"},\"text\":\"\"},\"zerolinecolor\":\"#E1E5ED\"},\"yaxis\":{\"gridcolor\":\"#E1E5ED\",\"showgrid\":true,\"tickfont\":{\"color\":\"#4D5663\"},\"title\":{\"font\":{\"color\":\"#4D5663\"},\"text\":\"\"},\"zerolinecolor\":\"#E1E5ED\"}},                        {\"showLink\": true, \"linkText\": \"Export to plot.ly\", \"plotlyServerURL\": \"https://plot.ly\", \"responsive\": true}                    ).then(function(){\n",
       "                            \n",
       "var gd = document.getElementById('dba5d2fb-e60b-4c8b-aa4d-1932665ecd7d');\n",
       "var x = new MutationObserver(function (mutations, observer) {{\n",
       "        var display = window.getComputedStyle(gd).display;\n",
       "        if (!display || display === 'none') {{\n",
       "            console.log([gd, 'removed!']);\n",
       "            Plotly.purge(gd);\n",
       "            observer.disconnect();\n",
       "        }}\n",
       "}});\n",
       "\n",
       "// Listen for the removal of the full notebook cells\n",
       "var notebookContainer = gd.closest('#notebook-container');\n",
       "if (notebookContainer) {{\n",
       "    x.observe(notebookContainer, {childList: true});\n",
       "}}\n",
       "\n",
       "// Listen for the clearing of the current output cell\n",
       "var outputEl = gd.closest('.output');\n",
       "if (outputEl) {{\n",
       "    x.observe(outputEl, {childList: true});\n",
       "}}\n",
       "\n",
       "                        })                };                });            </script>        </div>"
      ]
     },
     "metadata": {},
     "output_type": "display_data"
    }
   ],
   "source": [
    "df.iplot(kind='box')"
   ]
  },
  {
   "cell_type": "markdown",
   "metadata": {},
   "source": [
    "## 3d Surface"
   ]
  },
  {
   "cell_type": "code",
   "execution_count": 24,
   "metadata": {},
   "outputs": [
    {
     "data": {
      "application/vnd.plotly.v1+json": {
       "config": {
        "linkText": "Export to plot.ly",
        "plotlyServerURL": "https://plot.ly",
        "showLink": true
       },
       "data": [
        {
         "colorscale": [
          [
           0,
           "rgb(165,0,38)"
          ],
          [
           0.1,
           "rgb(215,48,39)"
          ],
          [
           0.2,
           "rgb(244,109,67)"
          ],
          [
           0.3,
           "rgb(253,174,97)"
          ],
          [
           0.4,
           "rgb(254,224,144)"
          ],
          [
           0.5,
           "rgb(255,255,191)"
          ],
          [
           0.6,
           "rgb(224,243,248)"
          ],
          [
           0.7,
           "rgb(171,217,233)"
          ],
          [
           0.8,
           "rgb(116,173,209)"
          ],
          [
           0.9,
           "rgb(69,117,180)"
          ],
          [
           1,
           "rgb(49,54,149)"
          ]
         ],
         "type": "surface",
         "x": [
          0,
          1,
          2,
          3,
          4
         ],
         "y": [
          "x",
          "y",
          "z"
         ],
         "z": [
          [
           1,
           2,
           3,
           4,
           5
          ],
          [
           10,
           20,
           30,
           20,
           10
          ],
          [
           5,
           4,
           3,
           2,
           1
          ]
         ]
        }
       ],
       "layout": {
        "legend": {
         "bgcolor": "#F5F6F9",
         "font": {
          "color": "#4D5663"
         }
        },
        "paper_bgcolor": "#F5F6F9",
        "plot_bgcolor": "#F5F6F9",
        "template": {
         "data": {
          "bar": [
           {
            "error_x": {
             "color": "#2a3f5f"
            },
            "error_y": {
             "color": "#2a3f5f"
            },
            "marker": {
             "line": {
              "color": "#E5ECF6",
              "width": 0.5
             },
             "pattern": {
              "fillmode": "overlay",
              "size": 10,
              "solidity": 0.2
             }
            },
            "type": "bar"
           }
          ],
          "barpolar": [
           {
            "marker": {
             "line": {
              "color": "#E5ECF6",
              "width": 0.5
             },
             "pattern": {
              "fillmode": "overlay",
              "size": 10,
              "solidity": 0.2
             }
            },
            "type": "barpolar"
           }
          ],
          "carpet": [
           {
            "aaxis": {
             "endlinecolor": "#2a3f5f",
             "gridcolor": "white",
             "linecolor": "white",
             "minorgridcolor": "white",
             "startlinecolor": "#2a3f5f"
            },
            "baxis": {
             "endlinecolor": "#2a3f5f",
             "gridcolor": "white",
             "linecolor": "white",
             "minorgridcolor": "white",
             "startlinecolor": "#2a3f5f"
            },
            "type": "carpet"
           }
          ],
          "choropleth": [
           {
            "colorbar": {
             "outlinewidth": 0,
             "ticks": ""
            },
            "type": "choropleth"
           }
          ],
          "contour": [
           {
            "colorbar": {
             "outlinewidth": 0,
             "ticks": ""
            },
            "colorscale": [
             [
              0,
              "#0d0887"
             ],
             [
              0.1111111111111111,
              "#46039f"
             ],
             [
              0.2222222222222222,
              "#7201a8"
             ],
             [
              0.3333333333333333,
              "#9c179e"
             ],
             [
              0.4444444444444444,
              "#bd3786"
             ],
             [
              0.5555555555555556,
              "#d8576b"
             ],
             [
              0.6666666666666666,
              "#ed7953"
             ],
             [
              0.7777777777777778,
              "#fb9f3a"
             ],
             [
              0.8888888888888888,
              "#fdca26"
             ],
             [
              1,
              "#f0f921"
             ]
            ],
            "type": "contour"
           }
          ],
          "contourcarpet": [
           {
            "colorbar": {
             "outlinewidth": 0,
             "ticks": ""
            },
            "type": "contourcarpet"
           }
          ],
          "heatmap": [
           {
            "colorbar": {
             "outlinewidth": 0,
             "ticks": ""
            },
            "colorscale": [
             [
              0,
              "#0d0887"
             ],
             [
              0.1111111111111111,
              "#46039f"
             ],
             [
              0.2222222222222222,
              "#7201a8"
             ],
             [
              0.3333333333333333,
              "#9c179e"
             ],
             [
              0.4444444444444444,
              "#bd3786"
             ],
             [
              0.5555555555555556,
              "#d8576b"
             ],
             [
              0.6666666666666666,
              "#ed7953"
             ],
             [
              0.7777777777777778,
              "#fb9f3a"
             ],
             [
              0.8888888888888888,
              "#fdca26"
             ],
             [
              1,
              "#f0f921"
             ]
            ],
            "type": "heatmap"
           }
          ],
          "heatmapgl": [
           {
            "colorbar": {
             "outlinewidth": 0,
             "ticks": ""
            },
            "colorscale": [
             [
              0,
              "#0d0887"
             ],
             [
              0.1111111111111111,
              "#46039f"
             ],
             [
              0.2222222222222222,
              "#7201a8"
             ],
             [
              0.3333333333333333,
              "#9c179e"
             ],
             [
              0.4444444444444444,
              "#bd3786"
             ],
             [
              0.5555555555555556,
              "#d8576b"
             ],
             [
              0.6666666666666666,
              "#ed7953"
             ],
             [
              0.7777777777777778,
              "#fb9f3a"
             ],
             [
              0.8888888888888888,
              "#fdca26"
             ],
             [
              1,
              "#f0f921"
             ]
            ],
            "type": "heatmapgl"
           }
          ],
          "histogram": [
           {
            "marker": {
             "pattern": {
              "fillmode": "overlay",
              "size": 10,
              "solidity": 0.2
             }
            },
            "type": "histogram"
           }
          ],
          "histogram2d": [
           {
            "colorbar": {
             "outlinewidth": 0,
             "ticks": ""
            },
            "colorscale": [
             [
              0,
              "#0d0887"
             ],
             [
              0.1111111111111111,
              "#46039f"
             ],
             [
              0.2222222222222222,
              "#7201a8"
             ],
             [
              0.3333333333333333,
              "#9c179e"
             ],
             [
              0.4444444444444444,
              "#bd3786"
             ],
             [
              0.5555555555555556,
              "#d8576b"
             ],
             [
              0.6666666666666666,
              "#ed7953"
             ],
             [
              0.7777777777777778,
              "#fb9f3a"
             ],
             [
              0.8888888888888888,
              "#fdca26"
             ],
             [
              1,
              "#f0f921"
             ]
            ],
            "type": "histogram2d"
           }
          ],
          "histogram2dcontour": [
           {
            "colorbar": {
             "outlinewidth": 0,
             "ticks": ""
            },
            "colorscale": [
             [
              0,
              "#0d0887"
             ],
             [
              0.1111111111111111,
              "#46039f"
             ],
             [
              0.2222222222222222,
              "#7201a8"
             ],
             [
              0.3333333333333333,
              "#9c179e"
             ],
             [
              0.4444444444444444,
              "#bd3786"
             ],
             [
              0.5555555555555556,
              "#d8576b"
             ],
             [
              0.6666666666666666,
              "#ed7953"
             ],
             [
              0.7777777777777778,
              "#fb9f3a"
             ],
             [
              0.8888888888888888,
              "#fdca26"
             ],
             [
              1,
              "#f0f921"
             ]
            ],
            "type": "histogram2dcontour"
           }
          ],
          "mesh3d": [
           {
            "colorbar": {
             "outlinewidth": 0,
             "ticks": ""
            },
            "type": "mesh3d"
           }
          ],
          "parcoords": [
           {
            "line": {
             "colorbar": {
              "outlinewidth": 0,
              "ticks": ""
             }
            },
            "type": "parcoords"
           }
          ],
          "pie": [
           {
            "automargin": true,
            "type": "pie"
           }
          ],
          "scatter": [
           {
            "fillpattern": {
             "fillmode": "overlay",
             "size": 10,
             "solidity": 0.2
            },
            "type": "scatter"
           }
          ],
          "scatter3d": [
           {
            "line": {
             "colorbar": {
              "outlinewidth": 0,
              "ticks": ""
             }
            },
            "marker": {
             "colorbar": {
              "outlinewidth": 0,
              "ticks": ""
             }
            },
            "type": "scatter3d"
           }
          ],
          "scattercarpet": [
           {
            "marker": {
             "colorbar": {
              "outlinewidth": 0,
              "ticks": ""
             }
            },
            "type": "scattercarpet"
           }
          ],
          "scattergeo": [
           {
            "marker": {
             "colorbar": {
              "outlinewidth": 0,
              "ticks": ""
             }
            },
            "type": "scattergeo"
           }
          ],
          "scattergl": [
           {
            "marker": {
             "colorbar": {
              "outlinewidth": 0,
              "ticks": ""
             }
            },
            "type": "scattergl"
           }
          ],
          "scattermapbox": [
           {
            "marker": {
             "colorbar": {
              "outlinewidth": 0,
              "ticks": ""
             }
            },
            "type": "scattermapbox"
           }
          ],
          "scatterpolar": [
           {
            "marker": {
             "colorbar": {
              "outlinewidth": 0,
              "ticks": ""
             }
            },
            "type": "scatterpolar"
           }
          ],
          "scatterpolargl": [
           {
            "marker": {
             "colorbar": {
              "outlinewidth": 0,
              "ticks": ""
             }
            },
            "type": "scatterpolargl"
           }
          ],
          "scatterternary": [
           {
            "marker": {
             "colorbar": {
              "outlinewidth": 0,
              "ticks": ""
             }
            },
            "type": "scatterternary"
           }
          ],
          "surface": [
           {
            "colorbar": {
             "outlinewidth": 0,
             "ticks": ""
            },
            "colorscale": [
             [
              0,
              "#0d0887"
             ],
             [
              0.1111111111111111,
              "#46039f"
             ],
             [
              0.2222222222222222,
              "#7201a8"
             ],
             [
              0.3333333333333333,
              "#9c179e"
             ],
             [
              0.4444444444444444,
              "#bd3786"
             ],
             [
              0.5555555555555556,
              "#d8576b"
             ],
             [
              0.6666666666666666,
              "#ed7953"
             ],
             [
              0.7777777777777778,
              "#fb9f3a"
             ],
             [
              0.8888888888888888,
              "#fdca26"
             ],
             [
              1,
              "#f0f921"
             ]
            ],
            "type": "surface"
           }
          ],
          "table": [
           {
            "cells": {
             "fill": {
              "color": "#EBF0F8"
             },
             "line": {
              "color": "white"
             }
            },
            "header": {
             "fill": {
              "color": "#C8D4E3"
             },
             "line": {
              "color": "white"
             }
            },
            "type": "table"
           }
          ]
         },
         "layout": {
          "annotationdefaults": {
           "arrowcolor": "#2a3f5f",
           "arrowhead": 0,
           "arrowwidth": 1
          },
          "autotypenumbers": "strict",
          "coloraxis": {
           "colorbar": {
            "outlinewidth": 0,
            "ticks": ""
           }
          },
          "colorscale": {
           "diverging": [
            [
             0,
             "#8e0152"
            ],
            [
             0.1,
             "#c51b7d"
            ],
            [
             0.2,
             "#de77ae"
            ],
            [
             0.3,
             "#f1b6da"
            ],
            [
             0.4,
             "#fde0ef"
            ],
            [
             0.5,
             "#f7f7f7"
            ],
            [
             0.6,
             "#e6f5d0"
            ],
            [
             0.7,
             "#b8e186"
            ],
            [
             0.8,
             "#7fbc41"
            ],
            [
             0.9,
             "#4d9221"
            ],
            [
             1,
             "#276419"
            ]
           ],
           "sequential": [
            [
             0,
             "#0d0887"
            ],
            [
             0.1111111111111111,
             "#46039f"
            ],
            [
             0.2222222222222222,
             "#7201a8"
            ],
            [
             0.3333333333333333,
             "#9c179e"
            ],
            [
             0.4444444444444444,
             "#bd3786"
            ],
            [
             0.5555555555555556,
             "#d8576b"
            ],
            [
             0.6666666666666666,
             "#ed7953"
            ],
            [
             0.7777777777777778,
             "#fb9f3a"
            ],
            [
             0.8888888888888888,
             "#fdca26"
            ],
            [
             1,
             "#f0f921"
            ]
           ],
           "sequentialminus": [
            [
             0,
             "#0d0887"
            ],
            [
             0.1111111111111111,
             "#46039f"
            ],
            [
             0.2222222222222222,
             "#7201a8"
            ],
            [
             0.3333333333333333,
             "#9c179e"
            ],
            [
             0.4444444444444444,
             "#bd3786"
            ],
            [
             0.5555555555555556,
             "#d8576b"
            ],
            [
             0.6666666666666666,
             "#ed7953"
            ],
            [
             0.7777777777777778,
             "#fb9f3a"
            ],
            [
             0.8888888888888888,
             "#fdca26"
            ],
            [
             1,
             "#f0f921"
            ]
           ]
          },
          "colorway": [
           "#636efa",
           "#EF553B",
           "#00cc96",
           "#ab63fa",
           "#FFA15A",
           "#19d3f3",
           "#FF6692",
           "#B6E880",
           "#FF97FF",
           "#FECB52"
          ],
          "font": {
           "color": "#2a3f5f"
          },
          "geo": {
           "bgcolor": "white",
           "lakecolor": "white",
           "landcolor": "#E5ECF6",
           "showlakes": true,
           "showland": true,
           "subunitcolor": "white"
          },
          "hoverlabel": {
           "align": "left"
          },
          "hovermode": "closest",
          "mapbox": {
           "style": "light"
          },
          "paper_bgcolor": "white",
          "plot_bgcolor": "#E5ECF6",
          "polar": {
           "angularaxis": {
            "gridcolor": "white",
            "linecolor": "white",
            "ticks": ""
           },
           "bgcolor": "#E5ECF6",
           "radialaxis": {
            "gridcolor": "white",
            "linecolor": "white",
            "ticks": ""
           }
          },
          "scene": {
           "xaxis": {
            "backgroundcolor": "#E5ECF6",
            "gridcolor": "white",
            "gridwidth": 2,
            "linecolor": "white",
            "showbackground": true,
            "ticks": "",
            "zerolinecolor": "white"
           },
           "yaxis": {
            "backgroundcolor": "#E5ECF6",
            "gridcolor": "white",
            "gridwidth": 2,
            "linecolor": "white",
            "showbackground": true,
            "ticks": "",
            "zerolinecolor": "white"
           },
           "zaxis": {
            "backgroundcolor": "#E5ECF6",
            "gridcolor": "white",
            "gridwidth": 2,
            "linecolor": "white",
            "showbackground": true,
            "ticks": "",
            "zerolinecolor": "white"
           }
          },
          "shapedefaults": {
           "line": {
            "color": "#2a3f5f"
           }
          },
          "ternary": {
           "aaxis": {
            "gridcolor": "white",
            "linecolor": "white",
            "ticks": ""
           },
           "baxis": {
            "gridcolor": "white",
            "linecolor": "white",
            "ticks": ""
           },
           "bgcolor": "#E5ECF6",
           "caxis": {
            "gridcolor": "white",
            "linecolor": "white",
            "ticks": ""
           }
          },
          "title": {
           "x": 0.05
          },
          "xaxis": {
           "automargin": true,
           "gridcolor": "white",
           "linecolor": "white",
           "ticks": "",
           "title": {
            "standoff": 15
           },
           "zerolinecolor": "white",
           "zerolinewidth": 2
          },
          "yaxis": {
           "automargin": true,
           "gridcolor": "white",
           "linecolor": "white",
           "ticks": "",
           "title": {
            "standoff": 15
           },
           "zerolinecolor": "white",
           "zerolinewidth": 2
          }
         }
        },
        "title": {
         "font": {
          "color": "#4D5663"
         }
        },
        "xaxis": {
         "gridcolor": "#E1E5ED",
         "showgrid": true,
         "tickfont": {
          "color": "#4D5663"
         },
         "title": {
          "font": {
           "color": "#4D5663"
          },
          "text": ""
         },
         "zerolinecolor": "#E1E5ED"
        },
        "yaxis": {
         "gridcolor": "#E1E5ED",
         "showgrid": true,
         "tickfont": {
          "color": "#4D5663"
         },
         "title": {
          "font": {
           "color": "#4D5663"
          },
          "text": ""
         },
         "zerolinecolor": "#E1E5ED"
        }
       }
      },
      "text/html": [
       "<div>                            <div id=\"26cc6e3b-e9c3-4f3c-a151-c4c617799780\" class=\"plotly-graph-div\" style=\"height:525px; width:100%;\"></div>            <script type=\"text/javascript\">                require([\"plotly\"], function(Plotly) {                    window.PLOTLYENV=window.PLOTLYENV || {};\n",
       "                    window.PLOTLYENV.BASE_URL='https://plot.ly';                                    if (document.getElementById(\"26cc6e3b-e9c3-4f3c-a151-c4c617799780\")) {                    Plotly.newPlot(                        \"26cc6e3b-e9c3-4f3c-a151-c4c617799780\",                        [{\"colorscale\":[[0.0,\"rgb(165,0,38)\"],[0.1,\"rgb(215,48,39)\"],[0.2,\"rgb(244,109,67)\"],[0.3,\"rgb(253,174,97)\"],[0.4,\"rgb(254,224,144)\"],[0.5,\"rgb(255,255,191)\"],[0.6,\"rgb(224,243,248)\"],[0.7,\"rgb(171,217,233)\"],[0.8,\"rgb(116,173,209)\"],[0.9,\"rgb(69,117,180)\"],[1.0,\"rgb(49,54,149)\"]],\"x\":[0,1,2,3,4],\"y\":[\"x\",\"y\",\"z\"],\"z\":[[1,2,3,4,5],[10,20,30,20,10],[5,4,3,2,1]],\"type\":\"surface\"}],                        {\"legend\":{\"bgcolor\":\"#F5F6F9\",\"font\":{\"color\":\"#4D5663\"}},\"paper_bgcolor\":\"#F5F6F9\",\"plot_bgcolor\":\"#F5F6F9\",\"template\":{\"data\":{\"barpolar\":[{\"marker\":{\"line\":{\"color\":\"#E5ECF6\",\"width\":0.5},\"pattern\":{\"fillmode\":\"overlay\",\"size\":10,\"solidity\":0.2}},\"type\":\"barpolar\"}],\"bar\":[{\"error_x\":{\"color\":\"#2a3f5f\"},\"error_y\":{\"color\":\"#2a3f5f\"},\"marker\":{\"line\":{\"color\":\"#E5ECF6\",\"width\":0.5},\"pattern\":{\"fillmode\":\"overlay\",\"size\":10,\"solidity\":0.2}},\"type\":\"bar\"}],\"carpet\":[{\"aaxis\":{\"endlinecolor\":\"#2a3f5f\",\"gridcolor\":\"white\",\"linecolor\":\"white\",\"minorgridcolor\":\"white\",\"startlinecolor\":\"#2a3f5f\"},\"baxis\":{\"endlinecolor\":\"#2a3f5f\",\"gridcolor\":\"white\",\"linecolor\":\"white\",\"minorgridcolor\":\"white\",\"startlinecolor\":\"#2a3f5f\"},\"type\":\"carpet\"}],\"choropleth\":[{\"colorbar\":{\"outlinewidth\":0,\"ticks\":\"\"},\"type\":\"choropleth\"}],\"contourcarpet\":[{\"colorbar\":{\"outlinewidth\":0,\"ticks\":\"\"},\"type\":\"contourcarpet\"}],\"contour\":[{\"colorbar\":{\"outlinewidth\":0,\"ticks\":\"\"},\"colorscale\":[[0.0,\"#0d0887\"],[0.1111111111111111,\"#46039f\"],[0.2222222222222222,\"#7201a8\"],[0.3333333333333333,\"#9c179e\"],[0.4444444444444444,\"#bd3786\"],[0.5555555555555556,\"#d8576b\"],[0.6666666666666666,\"#ed7953\"],[0.7777777777777778,\"#fb9f3a\"],[0.8888888888888888,\"#fdca26\"],[1.0,\"#f0f921\"]],\"type\":\"contour\"}],\"heatmapgl\":[{\"colorbar\":{\"outlinewidth\":0,\"ticks\":\"\"},\"colorscale\":[[0.0,\"#0d0887\"],[0.1111111111111111,\"#46039f\"],[0.2222222222222222,\"#7201a8\"],[0.3333333333333333,\"#9c179e\"],[0.4444444444444444,\"#bd3786\"],[0.5555555555555556,\"#d8576b\"],[0.6666666666666666,\"#ed7953\"],[0.7777777777777778,\"#fb9f3a\"],[0.8888888888888888,\"#fdca26\"],[1.0,\"#f0f921\"]],\"type\":\"heatmapgl\"}],\"heatmap\":[{\"colorbar\":{\"outlinewidth\":0,\"ticks\":\"\"},\"colorscale\":[[0.0,\"#0d0887\"],[0.1111111111111111,\"#46039f\"],[0.2222222222222222,\"#7201a8\"],[0.3333333333333333,\"#9c179e\"],[0.4444444444444444,\"#bd3786\"],[0.5555555555555556,\"#d8576b\"],[0.6666666666666666,\"#ed7953\"],[0.7777777777777778,\"#fb9f3a\"],[0.8888888888888888,\"#fdca26\"],[1.0,\"#f0f921\"]],\"type\":\"heatmap\"}],\"histogram2dcontour\":[{\"colorbar\":{\"outlinewidth\":0,\"ticks\":\"\"},\"colorscale\":[[0.0,\"#0d0887\"],[0.1111111111111111,\"#46039f\"],[0.2222222222222222,\"#7201a8\"],[0.3333333333333333,\"#9c179e\"],[0.4444444444444444,\"#bd3786\"],[0.5555555555555556,\"#d8576b\"],[0.6666666666666666,\"#ed7953\"],[0.7777777777777778,\"#fb9f3a\"],[0.8888888888888888,\"#fdca26\"],[1.0,\"#f0f921\"]],\"type\":\"histogram2dcontour\"}],\"histogram2d\":[{\"colorbar\":{\"outlinewidth\":0,\"ticks\":\"\"},\"colorscale\":[[0.0,\"#0d0887\"],[0.1111111111111111,\"#46039f\"],[0.2222222222222222,\"#7201a8\"],[0.3333333333333333,\"#9c179e\"],[0.4444444444444444,\"#bd3786\"],[0.5555555555555556,\"#d8576b\"],[0.6666666666666666,\"#ed7953\"],[0.7777777777777778,\"#fb9f3a\"],[0.8888888888888888,\"#fdca26\"],[1.0,\"#f0f921\"]],\"type\":\"histogram2d\"}],\"histogram\":[{\"marker\":{\"pattern\":{\"fillmode\":\"overlay\",\"size\":10,\"solidity\":0.2}},\"type\":\"histogram\"}],\"mesh3d\":[{\"colorbar\":{\"outlinewidth\":0,\"ticks\":\"\"},\"type\":\"mesh3d\"}],\"parcoords\":[{\"line\":{\"colorbar\":{\"outlinewidth\":0,\"ticks\":\"\"}},\"type\":\"parcoords\"}],\"pie\":[{\"automargin\":true,\"type\":\"pie\"}],\"scatter3d\":[{\"line\":{\"colorbar\":{\"outlinewidth\":0,\"ticks\":\"\"}},\"marker\":{\"colorbar\":{\"outlinewidth\":0,\"ticks\":\"\"}},\"type\":\"scatter3d\"}],\"scattercarpet\":[{\"marker\":{\"colorbar\":{\"outlinewidth\":0,\"ticks\":\"\"}},\"type\":\"scattercarpet\"}],\"scattergeo\":[{\"marker\":{\"colorbar\":{\"outlinewidth\":0,\"ticks\":\"\"}},\"type\":\"scattergeo\"}],\"scattergl\":[{\"marker\":{\"colorbar\":{\"outlinewidth\":0,\"ticks\":\"\"}},\"type\":\"scattergl\"}],\"scattermapbox\":[{\"marker\":{\"colorbar\":{\"outlinewidth\":0,\"ticks\":\"\"}},\"type\":\"scattermapbox\"}],\"scatterpolargl\":[{\"marker\":{\"colorbar\":{\"outlinewidth\":0,\"ticks\":\"\"}},\"type\":\"scatterpolargl\"}],\"scatterpolar\":[{\"marker\":{\"colorbar\":{\"outlinewidth\":0,\"ticks\":\"\"}},\"type\":\"scatterpolar\"}],\"scatter\":[{\"fillpattern\":{\"fillmode\":\"overlay\",\"size\":10,\"solidity\":0.2},\"type\":\"scatter\"}],\"scatterternary\":[{\"marker\":{\"colorbar\":{\"outlinewidth\":0,\"ticks\":\"\"}},\"type\":\"scatterternary\"}],\"surface\":[{\"colorbar\":{\"outlinewidth\":0,\"ticks\":\"\"},\"colorscale\":[[0.0,\"#0d0887\"],[0.1111111111111111,\"#46039f\"],[0.2222222222222222,\"#7201a8\"],[0.3333333333333333,\"#9c179e\"],[0.4444444444444444,\"#bd3786\"],[0.5555555555555556,\"#d8576b\"],[0.6666666666666666,\"#ed7953\"],[0.7777777777777778,\"#fb9f3a\"],[0.8888888888888888,\"#fdca26\"],[1.0,\"#f0f921\"]],\"type\":\"surface\"}],\"table\":[{\"cells\":{\"fill\":{\"color\":\"#EBF0F8\"},\"line\":{\"color\":\"white\"}},\"header\":{\"fill\":{\"color\":\"#C8D4E3\"},\"line\":{\"color\":\"white\"}},\"type\":\"table\"}]},\"layout\":{\"annotationdefaults\":{\"arrowcolor\":\"#2a3f5f\",\"arrowhead\":0,\"arrowwidth\":1},\"autotypenumbers\":\"strict\",\"coloraxis\":{\"colorbar\":{\"outlinewidth\":0,\"ticks\":\"\"}},\"colorscale\":{\"diverging\":[[0,\"#8e0152\"],[0.1,\"#c51b7d\"],[0.2,\"#de77ae\"],[0.3,\"#f1b6da\"],[0.4,\"#fde0ef\"],[0.5,\"#f7f7f7\"],[0.6,\"#e6f5d0\"],[0.7,\"#b8e186\"],[0.8,\"#7fbc41\"],[0.9,\"#4d9221\"],[1,\"#276419\"]],\"sequential\":[[0.0,\"#0d0887\"],[0.1111111111111111,\"#46039f\"],[0.2222222222222222,\"#7201a8\"],[0.3333333333333333,\"#9c179e\"],[0.4444444444444444,\"#bd3786\"],[0.5555555555555556,\"#d8576b\"],[0.6666666666666666,\"#ed7953\"],[0.7777777777777778,\"#fb9f3a\"],[0.8888888888888888,\"#fdca26\"],[1.0,\"#f0f921\"]],\"sequentialminus\":[[0.0,\"#0d0887\"],[0.1111111111111111,\"#46039f\"],[0.2222222222222222,\"#7201a8\"],[0.3333333333333333,\"#9c179e\"],[0.4444444444444444,\"#bd3786\"],[0.5555555555555556,\"#d8576b\"],[0.6666666666666666,\"#ed7953\"],[0.7777777777777778,\"#fb9f3a\"],[0.8888888888888888,\"#fdca26\"],[1.0,\"#f0f921\"]]},\"colorway\":[\"#636efa\",\"#EF553B\",\"#00cc96\",\"#ab63fa\",\"#FFA15A\",\"#19d3f3\",\"#FF6692\",\"#B6E880\",\"#FF97FF\",\"#FECB52\"],\"font\":{\"color\":\"#2a3f5f\"},\"geo\":{\"bgcolor\":\"white\",\"lakecolor\":\"white\",\"landcolor\":\"#E5ECF6\",\"showlakes\":true,\"showland\":true,\"subunitcolor\":\"white\"},\"hoverlabel\":{\"align\":\"left\"},\"hovermode\":\"closest\",\"mapbox\":{\"style\":\"light\"},\"paper_bgcolor\":\"white\",\"plot_bgcolor\":\"#E5ECF6\",\"polar\":{\"angularaxis\":{\"gridcolor\":\"white\",\"linecolor\":\"white\",\"ticks\":\"\"},\"bgcolor\":\"#E5ECF6\",\"radialaxis\":{\"gridcolor\":\"white\",\"linecolor\":\"white\",\"ticks\":\"\"}},\"scene\":{\"xaxis\":{\"backgroundcolor\":\"#E5ECF6\",\"gridcolor\":\"white\",\"gridwidth\":2,\"linecolor\":\"white\",\"showbackground\":true,\"ticks\":\"\",\"zerolinecolor\":\"white\"},\"yaxis\":{\"backgroundcolor\":\"#E5ECF6\",\"gridcolor\":\"white\",\"gridwidth\":2,\"linecolor\":\"white\",\"showbackground\":true,\"ticks\":\"\",\"zerolinecolor\":\"white\"},\"zaxis\":{\"backgroundcolor\":\"#E5ECF6\",\"gridcolor\":\"white\",\"gridwidth\":2,\"linecolor\":\"white\",\"showbackground\":true,\"ticks\":\"\",\"zerolinecolor\":\"white\"}},\"shapedefaults\":{\"line\":{\"color\":\"#2a3f5f\"}},\"ternary\":{\"aaxis\":{\"gridcolor\":\"white\",\"linecolor\":\"white\",\"ticks\":\"\"},\"baxis\":{\"gridcolor\":\"white\",\"linecolor\":\"white\",\"ticks\":\"\"},\"bgcolor\":\"#E5ECF6\",\"caxis\":{\"gridcolor\":\"white\",\"linecolor\":\"white\",\"ticks\":\"\"}},\"title\":{\"x\":0.05},\"xaxis\":{\"automargin\":true,\"gridcolor\":\"white\",\"linecolor\":\"white\",\"ticks\":\"\",\"title\":{\"standoff\":15},\"zerolinecolor\":\"white\",\"zerolinewidth\":2},\"yaxis\":{\"automargin\":true,\"gridcolor\":\"white\",\"linecolor\":\"white\",\"ticks\":\"\",\"title\":{\"standoff\":15},\"zerolinecolor\":\"white\",\"zerolinewidth\":2}}},\"title\":{\"font\":{\"color\":\"#4D5663\"}},\"xaxis\":{\"gridcolor\":\"#E1E5ED\",\"showgrid\":true,\"tickfont\":{\"color\":\"#4D5663\"},\"title\":{\"font\":{\"color\":\"#4D5663\"},\"text\":\"\"},\"zerolinecolor\":\"#E1E5ED\"},\"yaxis\":{\"gridcolor\":\"#E1E5ED\",\"showgrid\":true,\"tickfont\":{\"color\":\"#4D5663\"},\"title\":{\"font\":{\"color\":\"#4D5663\"},\"text\":\"\"},\"zerolinecolor\":\"#E1E5ED\"}},                        {\"showLink\": true, \"linkText\": \"Export to plot.ly\", \"plotlyServerURL\": \"https://plot.ly\", \"responsive\": true}                    ).then(function(){\n",
       "                            \n",
       "var gd = document.getElementById('26cc6e3b-e9c3-4f3c-a151-c4c617799780');\n",
       "var x = new MutationObserver(function (mutations, observer) {{\n",
       "        var display = window.getComputedStyle(gd).display;\n",
       "        if (!display || display === 'none') {{\n",
       "            console.log([gd, 'removed!']);\n",
       "            Plotly.purge(gd);\n",
       "            observer.disconnect();\n",
       "        }}\n",
       "}});\n",
       "\n",
       "// Listen for the removal of the full notebook cells\n",
       "var notebookContainer = gd.closest('#notebook-container');\n",
       "if (notebookContainer) {{\n",
       "    x.observe(notebookContainer, {childList: true});\n",
       "}}\n",
       "\n",
       "// Listen for the clearing of the current output cell\n",
       "var outputEl = gd.closest('.output');\n",
       "if (outputEl) {{\n",
       "    x.observe(outputEl, {childList: true});\n",
       "}}\n",
       "\n",
       "                        })                };                });            </script>        </div>"
      ]
     },
     "metadata": {},
     "output_type": "display_data"
    }
   ],
   "source": [
    "df3 = pd.DataFrame({'x':[1,2,3,4,5],'y':[10,20,30,20,10],'z':[5,4,3,2,1]})\n",
    "df3.iplot(kind='surface',colorscale='rdylbu')"
   ]
  },
  {
   "cell_type": "markdown",
   "metadata": {},
   "source": [
    "## Spread"
   ]
  },
  {
   "cell_type": "code",
   "execution_count": 23,
   "metadata": {},
   "outputs": [
    {
     "name": "stderr",
     "output_type": "stream",
     "text": [
      "C:\\Users\\oussa\\anaconda3\\lib\\site-packages\\cufflinks\\plotlytools.py:849: FutureWarning:\n",
      "\n",
      "The pandas.np module is deprecated and will be removed from pandas in a future version. Import numpy directly instead\n",
      "\n",
      "C:\\Users\\oussa\\anaconda3\\lib\\site-packages\\cufflinks\\plotlytools.py:850: FutureWarning:\n",
      "\n",
      "The pandas.np module is deprecated and will be removed from pandas in a future version. Import numpy directly instead\n",
      "\n"
     ]
    },
    {
     "data": {
      "application/vnd.plotly.v1+json": {
       "config": {
        "linkText": "Export to plot.ly",
        "plotlyServerURL": "https://plot.ly",
        "showLink": true
       },
       "data": [
        {
         "line": {
          "color": "rgba(255, 153, 51, 1.0)",
          "dash": "solid",
          "shape": "linear",
          "width": 1.3
         },
         "mode": "lines",
         "name": "A",
         "text": "",
         "type": "scatter",
         "x": [
          0,
          1,
          2,
          3,
          4,
          5,
          6,
          7,
          8,
          9,
          10,
          11,
          12,
          13,
          14,
          15,
          16,
          17,
          18,
          19,
          20,
          21,
          22,
          23,
          24,
          25,
          26,
          27,
          28,
          29,
          30,
          31,
          32,
          33,
          34,
          35,
          36,
          37,
          38,
          39,
          40,
          41,
          42,
          43,
          44,
          45,
          46,
          47,
          48,
          49,
          50,
          51,
          52,
          53,
          54,
          55,
          56,
          57,
          58,
          59,
          60,
          61,
          62,
          63,
          64,
          65,
          66,
          67,
          68,
          69,
          70,
          71,
          72,
          73,
          74,
          75,
          76,
          77,
          78,
          79,
          80,
          81,
          82,
          83,
          84,
          85,
          86,
          87,
          88,
          89,
          90,
          91,
          92,
          93,
          94,
          95,
          96,
          97,
          98,
          99
         ],
         "y": [
          -1.128527421491057,
          -0.8325364170784427,
          1.117759011436061,
          0.11495821582242938,
          0.9305397397535681,
          -0.056959321380706515,
          -0.5762026578238985,
          0.325320359316401,
          -1.9649153531373396,
          -0.38095279402790533,
          -0.7454931605462313,
          0.8976973947563892,
          -1.1235804539847107,
          -0.953172193107549,
          -0.6759776688995367,
          0.8002755785061688,
          1.0494633796587234,
          0.7378447030414386,
          0.12986113700123267,
          1.086286389801609,
          0.08155836201718823,
          0.9229784489921659,
          -0.09369022766596474,
          -0.09856230970321986,
          1.098265891122033,
          -1.4152131175655607,
          0.2611617624310045,
          2.1193649175716662,
          -0.6664020677940656,
          -0.48052259484460547,
          -0.7276838790005038,
          0.039524546708315525,
          0.318393553414977,
          -0.7196077416392381,
          0.3421313655229252,
          0.4388205758096896,
          -2.3550491633823247,
          -0.593569758262605,
          1.3047282106401816,
          2.443603175882856,
          0.28018107604832165,
          -0.8710273063882875,
          -0.4313328571744169,
          -0.5355094514622776,
          -1.0161943798253763,
          -0.3209224256029741,
          0.779425587893723,
          -0.11047731431318959,
          0.38402677202404795,
          0.9447772275780516,
          0.32871514758508485,
          -0.6560157443714713,
          0.08460414252776026,
          -0.5553487874460203,
          0.9471993168855736,
          0.6678767956742167,
          0.4208061364417931,
          -0.33768501018069025,
          1.1208605783273453,
          -1.144231224207155,
          -1.4199399126024166,
          -0.11313590371139508,
          1.3125136045441845,
          0.085954704596972,
          -0.7483688051037276,
          1.3962916765963318,
          0.6073003572383889,
          1.2964224252900522,
          1.28946390344804,
          2.030271679606397,
          0.24890115506565916,
          1.0408432010472008,
          -0.8196810968506483,
          -0.30181791205238634,
          -0.36394056053162893,
          0.7815149875165472,
          1.3196476078355661,
          1.727632647394526,
          0.3512575295402517,
          -0.6765221465830158,
          -1.4149174315858297,
          -0.21080941096235653,
          -1.78489892280663,
          -0.5243782750686626,
          -0.27859033504171876,
          -0.35180835776863956,
          0.43097713887934547,
          0.7307371202909417,
          1.7073564886167998,
          -1.4852143241881217,
          -1.964488410262696,
          -0.4693944143531847,
          1.5858342398604492,
          0.7595070765604511,
          0.9500923730675553,
          -1.5047798877080556,
          0.4176577629779211,
          1.1158898764399596,
          -1.9340101508934031,
          -0.9888974513248849
         ]
        },
        {
         "line": {
          "color": "rgba(55, 128, 191, 1.0)",
          "dash": "solid",
          "shape": "linear",
          "width": 1.3
         },
         "mode": "lines",
         "name": "B",
         "text": "",
         "type": "scatter",
         "x": [
          0,
          1,
          2,
          3,
          4,
          5,
          6,
          7,
          8,
          9,
          10,
          11,
          12,
          13,
          14,
          15,
          16,
          17,
          18,
          19,
          20,
          21,
          22,
          23,
          24,
          25,
          26,
          27,
          28,
          29,
          30,
          31,
          32,
          33,
          34,
          35,
          36,
          37,
          38,
          39,
          40,
          41,
          42,
          43,
          44,
          45,
          46,
          47,
          48,
          49,
          50,
          51,
          52,
          53,
          54,
          55,
          56,
          57,
          58,
          59,
          60,
          61,
          62,
          63,
          64,
          65,
          66,
          67,
          68,
          69,
          70,
          71,
          72,
          73,
          74,
          75,
          76,
          77,
          78,
          79,
          80,
          81,
          82,
          83,
          84,
          85,
          86,
          87,
          88,
          89,
          90,
          91,
          92,
          93,
          94,
          95,
          96,
          97,
          98,
          99
         ],
         "y": [
          -0.8438017208608072,
          -1.451059827304447,
          0.31677438801135444,
          -1.8824266351071355,
          -1.4000326376861942,
          0.08622616529018719,
          0.1813405485240011,
          -0.1096132190531128,
          1.7808291385567678,
          -0.5833462656304863,
          -0.5575659926396725,
          0.40584827482506397,
          0.6101680257864976,
          0.06544046951260675,
          1.4314723011005817,
          -0.07243636161791522,
          0.07292612974172229,
          0.16531870386208344,
          1.5473983294693736,
          -0.40795910360537324,
          0.534994199581339,
          0.3181352605298431,
          0.5827471569825284,
          0.11797395439563242,
          1.7270203123041272,
          -0.7979657106730599,
          -0.33643680435496826,
          -0.09190581146404614,
          -0.19434919479635446,
          1.3323765092492732,
          -0.5097502377901193,
          1.0123102696031379,
          -1.434646410360193,
          -0.08510773094341798,
          2.360527793889873,
          1.769109412305407,
          0.03199133127897448,
          -0.7151940914551366,
          -0.2446046200943762,
          -1.6369575612289258,
          -0.0222854167728985,
          -0.8398559101888473,
          1.3674759577283377,
          0.15091042675588018,
          0.7009967420910446,
          -0.39591430298434566,
          -0.06094057313462858,
          -0.8229796690465562,
          1.5647951708797927,
          0.5724286683006631,
          0.022599323722141563,
          -0.5693125084686658,
          1.3114744511352885,
          -1.228875433688444,
          0.5402788075718962,
          1.31880764494986,
          -1.446003318952283,
          0.8414602348998687,
          1.6409498164147742,
          1.7271203005557403,
          0.9064534794866576,
          0.07765079767186345,
          0.9377878612527225,
          1.1174189380719395,
          0.6265982804893011,
          -0.8505598010938983,
          0.5062479847351922,
          0.29743743819756463,
          -0.26487197065108586,
          -0.6090971952882519,
          3.3784685380994843,
          -1.3651458003278483,
          1.5362075391723087,
          -1.8426372521276637,
          2.2187310815551857,
          0.8846437079633963,
          -0.3233740780746491,
          0.7383625124308305,
          2.588160313840058,
          -0.16678927700726093,
          0.4345932220808519,
          1.3522024747491594,
          2.1398157596463223,
          -0.5546882110557149,
          -0.5246472208537587,
          -0.3247726096531107,
          -0.42285621792837025,
          0.011079347946176672,
          -0.7670558734032875,
          1.5606469735113997,
          -0.6158162024941565,
          -0.43316149808904775,
          -0.6365567196593834,
          -0.14843480591937674,
          0.3734032314190597,
          1.4400219200722884,
          -1.0365022965768078,
          0.0849264308017044,
          0.4774918060323457,
          0.3055439179664504
         ]
        },
        {
         "connectgaps": false,
         "fill": "tozeroy",
         "line": {
          "color": "green",
          "dash": "solid",
          "shape": "linear",
          "width": 0.5
         },
         "mode": "lines",
         "name": "Spread",
         "showlegend": false,
         "type": "scatter",
         "x": [
          0,
          1,
          2,
          3,
          4,
          5,
          6,
          7,
          8,
          9,
          10,
          11,
          12,
          13,
          14,
          15,
          16,
          17,
          18,
          19,
          20,
          21,
          22,
          23,
          24,
          25,
          26,
          27,
          28,
          29,
          30,
          31,
          32,
          33,
          34,
          35,
          36,
          37,
          38,
          39,
          40,
          41,
          42,
          43,
          44,
          45,
          46,
          47,
          48,
          49,
          50,
          51,
          52,
          53,
          54,
          55,
          56,
          57,
          58,
          59,
          60,
          61,
          62,
          63,
          64,
          65,
          66,
          67,
          68,
          69,
          70,
          71,
          72,
          73,
          74,
          75,
          76,
          77,
          78,
          79,
          80,
          81,
          82,
          83,
          84,
          85,
          86,
          87,
          88,
          89,
          90,
          91,
          92,
          93,
          94,
          95,
          96,
          97,
          98,
          99
         ],
         "xaxis": "x2",
         "y": [
          "",
          0.6185234102260043,
          0.8009846234247064,
          1.9973848509295649,
          2.330572377439762,
          "",
          "",
          0.43493357836951385,
          "",
          0.20239347160258098,
          "",
          0.49184911993132524,
          "",
          "",
          "",
          0.872711940124084,
          0.9765372499170011,
          0.5725259991793551,
          "",
          1.4942454934069822,
          "",
          0.6048431884623228,
          "",
          "",
          "",
          "",
          0.5975985667859727,
          2.2112707290357125,
          "",
          "",
          "",
          "",
          1.7530399637751701,
          "",
          "",
          "",
          "",
          0.12162433319253152,
          1.5493328307345577,
          4.080560737111782,
          0.3024664928212202,
          "",
          "",
          "",
          "",
          0.07499187738137153,
          0.8403661610283515,
          0.7125023547333665,
          "",
          0.3723485592773885,
          0.3061158238629433,
          "",
          "",
          0.6735266462424236,
          0.4069205093136774,
          "",
          1.8668094553940762,
          "",
          "",
          "",
          "",
          "",
          0.374725743291462,
          "",
          "",
          2.24685147769023,
          0.10105237250319676,
          0.9989849870924876,
          1.5543358740991258,
          2.639368874894649,
          "",
          2.4059890013750493,
          "",
          1.5408193400752774,
          "",
          "",
          1.6430216859102151,
          0.9892701349636955,
          "",
          "",
          "",
          "",
          "",
          0.030309935987052228,
          0.24605688581203994,
          "",
          0.8538333568077157,
          0.719657772344765,
          2.4744123620200873,
          "",
          "",
          "",
          2.222390959519833,
          0.9079418824798279,
          0.5766891416484956,
          "",
          1.454160059554729,
          1.0309634456382553,
          "",
          ""
         ],
         "yaxis": "y2"
        },
        {
         "connectgaps": false,
         "fill": "tozeroy",
         "line": {
          "color": "red",
          "dash": "solid",
          "shape": "linear",
          "width": 0.5
         },
         "mode": "lines",
         "name": "Spread",
         "showlegend": false,
         "type": "scatter",
         "x": [
          0,
          1,
          2,
          3,
          4,
          5,
          6,
          7,
          8,
          9,
          10,
          11,
          12,
          13,
          14,
          15,
          16,
          17,
          18,
          19,
          20,
          21,
          22,
          23,
          24,
          25,
          26,
          27,
          28,
          29,
          30,
          31,
          32,
          33,
          34,
          35,
          36,
          37,
          38,
          39,
          40,
          41,
          42,
          43,
          44,
          45,
          46,
          47,
          48,
          49,
          50,
          51,
          52,
          53,
          54,
          55,
          56,
          57,
          58,
          59,
          60,
          61,
          62,
          63,
          64,
          65,
          66,
          67,
          68,
          69,
          70,
          71,
          72,
          73,
          74,
          75,
          76,
          77,
          78,
          79,
          80,
          81,
          82,
          83,
          84,
          85,
          86,
          87,
          88,
          89,
          90,
          91,
          92,
          93,
          94,
          95,
          96,
          97,
          98,
          99
         ],
         "xaxis": "x2",
         "y": [
          -0.2847257006302498,
          "",
          "",
          "",
          "",
          -0.1431854866708937,
          -0.7575432063478995,
          "",
          -3.7457444916941074,
          "",
          -0.18792716790655872,
          "",
          -1.7337484797712084,
          -1.0186126626201557,
          -2.1074499700001184,
          "",
          "",
          "",
          -1.417537192468141,
          "",
          -0.45343583756415073,
          "",
          -0.6764373846484932,
          -0.2165362640988523,
          -0.6287544211820941,
          -0.6172474068925008,
          "",
          "",
          -0.47205287299771115,
          -1.8128991040938787,
          -0.2179336412103845,
          -0.9727857228948223,
          "",
          -0.6345000106958202,
          -2.018396428366948,
          -1.3302888364957175,
          -2.3870404946612993,
          "",
          "",
          "",
          "",
          -0.031171396199440204,
          -1.7988088149027546,
          -0.6864198782181578,
          -1.7171911219164209,
          "",
          "",
          "",
          -1.1807683988557447,
          "",
          "",
          -0.08670323590280549,
          -1.2268703086075283,
          "",
          "",
          -0.6509308492756434,
          "",
          -1.1791452450805588,
          -0.5200892380874289,
          -2.871351524762895,
          -2.326393392089074,
          -0.19078670138325854,
          "",
          -1.0314642334749675,
          -1.3749670855930287,
          "",
          "",
          "",
          "",
          "",
          -3.1295673830338253,
          "",
          -2.355888636022957,
          "",
          -2.5826716420868148,
          -0.10312872044684906,
          "",
          "",
          -2.2369027842998066,
          -0.5097328695757548,
          -1.8495106536666817,
          -1.563011885711516,
          -3.9247146824529526,
          "",
          "",
          -0.027035748115528835,
          "",
          "",
          "",
          -3.0458612976995214,
          -1.3486722077685396,
          -0.03623291626413694,
          "",
          "",
          "",
          -2.944801807780344,
          "",
          "",
          -2.4115019569257488,
          -1.2944413692913352
         ],
         "yaxis": "y2"
        }
       ],
       "layout": {
        "hovermode": "x",
        "legend": {
         "bgcolor": "#F5F6F9",
         "font": {
          "color": "#4D5663"
         }
        },
        "paper_bgcolor": "#F5F6F9",
        "plot_bgcolor": "#F5F6F9",
        "template": {
         "data": {
          "bar": [
           {
            "error_x": {
             "color": "#2a3f5f"
            },
            "error_y": {
             "color": "#2a3f5f"
            },
            "marker": {
             "line": {
              "color": "#E5ECF6",
              "width": 0.5
             },
             "pattern": {
              "fillmode": "overlay",
              "size": 10,
              "solidity": 0.2
             }
            },
            "type": "bar"
           }
          ],
          "barpolar": [
           {
            "marker": {
             "line": {
              "color": "#E5ECF6",
              "width": 0.5
             },
             "pattern": {
              "fillmode": "overlay",
              "size": 10,
              "solidity": 0.2
             }
            },
            "type": "barpolar"
           }
          ],
          "carpet": [
           {
            "aaxis": {
             "endlinecolor": "#2a3f5f",
             "gridcolor": "white",
             "linecolor": "white",
             "minorgridcolor": "white",
             "startlinecolor": "#2a3f5f"
            },
            "baxis": {
             "endlinecolor": "#2a3f5f",
             "gridcolor": "white",
             "linecolor": "white",
             "minorgridcolor": "white",
             "startlinecolor": "#2a3f5f"
            },
            "type": "carpet"
           }
          ],
          "choropleth": [
           {
            "colorbar": {
             "outlinewidth": 0,
             "ticks": ""
            },
            "type": "choropleth"
           }
          ],
          "contour": [
           {
            "colorbar": {
             "outlinewidth": 0,
             "ticks": ""
            },
            "colorscale": [
             [
              0,
              "#0d0887"
             ],
             [
              0.1111111111111111,
              "#46039f"
             ],
             [
              0.2222222222222222,
              "#7201a8"
             ],
             [
              0.3333333333333333,
              "#9c179e"
             ],
             [
              0.4444444444444444,
              "#bd3786"
             ],
             [
              0.5555555555555556,
              "#d8576b"
             ],
             [
              0.6666666666666666,
              "#ed7953"
             ],
             [
              0.7777777777777778,
              "#fb9f3a"
             ],
             [
              0.8888888888888888,
              "#fdca26"
             ],
             [
              1,
              "#f0f921"
             ]
            ],
            "type": "contour"
           }
          ],
          "contourcarpet": [
           {
            "colorbar": {
             "outlinewidth": 0,
             "ticks": ""
            },
            "type": "contourcarpet"
           }
          ],
          "heatmap": [
           {
            "colorbar": {
             "outlinewidth": 0,
             "ticks": ""
            },
            "colorscale": [
             [
              0,
              "#0d0887"
             ],
             [
              0.1111111111111111,
              "#46039f"
             ],
             [
              0.2222222222222222,
              "#7201a8"
             ],
             [
              0.3333333333333333,
              "#9c179e"
             ],
             [
              0.4444444444444444,
              "#bd3786"
             ],
             [
              0.5555555555555556,
              "#d8576b"
             ],
             [
              0.6666666666666666,
              "#ed7953"
             ],
             [
              0.7777777777777778,
              "#fb9f3a"
             ],
             [
              0.8888888888888888,
              "#fdca26"
             ],
             [
              1,
              "#f0f921"
             ]
            ],
            "type": "heatmap"
           }
          ],
          "heatmapgl": [
           {
            "colorbar": {
             "outlinewidth": 0,
             "ticks": ""
            },
            "colorscale": [
             [
              0,
              "#0d0887"
             ],
             [
              0.1111111111111111,
              "#46039f"
             ],
             [
              0.2222222222222222,
              "#7201a8"
             ],
             [
              0.3333333333333333,
              "#9c179e"
             ],
             [
              0.4444444444444444,
              "#bd3786"
             ],
             [
              0.5555555555555556,
              "#d8576b"
             ],
             [
              0.6666666666666666,
              "#ed7953"
             ],
             [
              0.7777777777777778,
              "#fb9f3a"
             ],
             [
              0.8888888888888888,
              "#fdca26"
             ],
             [
              1,
              "#f0f921"
             ]
            ],
            "type": "heatmapgl"
           }
          ],
          "histogram": [
           {
            "marker": {
             "pattern": {
              "fillmode": "overlay",
              "size": 10,
              "solidity": 0.2
             }
            },
            "type": "histogram"
           }
          ],
          "histogram2d": [
           {
            "colorbar": {
             "outlinewidth": 0,
             "ticks": ""
            },
            "colorscale": [
             [
              0,
              "#0d0887"
             ],
             [
              0.1111111111111111,
              "#46039f"
             ],
             [
              0.2222222222222222,
              "#7201a8"
             ],
             [
              0.3333333333333333,
              "#9c179e"
             ],
             [
              0.4444444444444444,
              "#bd3786"
             ],
             [
              0.5555555555555556,
              "#d8576b"
             ],
             [
              0.6666666666666666,
              "#ed7953"
             ],
             [
              0.7777777777777778,
              "#fb9f3a"
             ],
             [
              0.8888888888888888,
              "#fdca26"
             ],
             [
              1,
              "#f0f921"
             ]
            ],
            "type": "histogram2d"
           }
          ],
          "histogram2dcontour": [
           {
            "colorbar": {
             "outlinewidth": 0,
             "ticks": ""
            },
            "colorscale": [
             [
              0,
              "#0d0887"
             ],
             [
              0.1111111111111111,
              "#46039f"
             ],
             [
              0.2222222222222222,
              "#7201a8"
             ],
             [
              0.3333333333333333,
              "#9c179e"
             ],
             [
              0.4444444444444444,
              "#bd3786"
             ],
             [
              0.5555555555555556,
              "#d8576b"
             ],
             [
              0.6666666666666666,
              "#ed7953"
             ],
             [
              0.7777777777777778,
              "#fb9f3a"
             ],
             [
              0.8888888888888888,
              "#fdca26"
             ],
             [
              1,
              "#f0f921"
             ]
            ],
            "type": "histogram2dcontour"
           }
          ],
          "mesh3d": [
           {
            "colorbar": {
             "outlinewidth": 0,
             "ticks": ""
            },
            "type": "mesh3d"
           }
          ],
          "parcoords": [
           {
            "line": {
             "colorbar": {
              "outlinewidth": 0,
              "ticks": ""
             }
            },
            "type": "parcoords"
           }
          ],
          "pie": [
           {
            "automargin": true,
            "type": "pie"
           }
          ],
          "scatter": [
           {
            "fillpattern": {
             "fillmode": "overlay",
             "size": 10,
             "solidity": 0.2
            },
            "type": "scatter"
           }
          ],
          "scatter3d": [
           {
            "line": {
             "colorbar": {
              "outlinewidth": 0,
              "ticks": ""
             }
            },
            "marker": {
             "colorbar": {
              "outlinewidth": 0,
              "ticks": ""
             }
            },
            "type": "scatter3d"
           }
          ],
          "scattercarpet": [
           {
            "marker": {
             "colorbar": {
              "outlinewidth": 0,
              "ticks": ""
             }
            },
            "type": "scattercarpet"
           }
          ],
          "scattergeo": [
           {
            "marker": {
             "colorbar": {
              "outlinewidth": 0,
              "ticks": ""
             }
            },
            "type": "scattergeo"
           }
          ],
          "scattergl": [
           {
            "marker": {
             "colorbar": {
              "outlinewidth": 0,
              "ticks": ""
             }
            },
            "type": "scattergl"
           }
          ],
          "scattermapbox": [
           {
            "marker": {
             "colorbar": {
              "outlinewidth": 0,
              "ticks": ""
             }
            },
            "type": "scattermapbox"
           }
          ],
          "scatterpolar": [
           {
            "marker": {
             "colorbar": {
              "outlinewidth": 0,
              "ticks": ""
             }
            },
            "type": "scatterpolar"
           }
          ],
          "scatterpolargl": [
           {
            "marker": {
             "colorbar": {
              "outlinewidth": 0,
              "ticks": ""
             }
            },
            "type": "scatterpolargl"
           }
          ],
          "scatterternary": [
           {
            "marker": {
             "colorbar": {
              "outlinewidth": 0,
              "ticks": ""
             }
            },
            "type": "scatterternary"
           }
          ],
          "surface": [
           {
            "colorbar": {
             "outlinewidth": 0,
             "ticks": ""
            },
            "colorscale": [
             [
              0,
              "#0d0887"
             ],
             [
              0.1111111111111111,
              "#46039f"
             ],
             [
              0.2222222222222222,
              "#7201a8"
             ],
             [
              0.3333333333333333,
              "#9c179e"
             ],
             [
              0.4444444444444444,
              "#bd3786"
             ],
             [
              0.5555555555555556,
              "#d8576b"
             ],
             [
              0.6666666666666666,
              "#ed7953"
             ],
             [
              0.7777777777777778,
              "#fb9f3a"
             ],
             [
              0.8888888888888888,
              "#fdca26"
             ],
             [
              1,
              "#f0f921"
             ]
            ],
            "type": "surface"
           }
          ],
          "table": [
           {
            "cells": {
             "fill": {
              "color": "#EBF0F8"
             },
             "line": {
              "color": "white"
             }
            },
            "header": {
             "fill": {
              "color": "#C8D4E3"
             },
             "line": {
              "color": "white"
             }
            },
            "type": "table"
           }
          ]
         },
         "layout": {
          "annotationdefaults": {
           "arrowcolor": "#2a3f5f",
           "arrowhead": 0,
           "arrowwidth": 1
          },
          "autotypenumbers": "strict",
          "coloraxis": {
           "colorbar": {
            "outlinewidth": 0,
            "ticks": ""
           }
          },
          "colorscale": {
           "diverging": [
            [
             0,
             "#8e0152"
            ],
            [
             0.1,
             "#c51b7d"
            ],
            [
             0.2,
             "#de77ae"
            ],
            [
             0.3,
             "#f1b6da"
            ],
            [
             0.4,
             "#fde0ef"
            ],
            [
             0.5,
             "#f7f7f7"
            ],
            [
             0.6,
             "#e6f5d0"
            ],
            [
             0.7,
             "#b8e186"
            ],
            [
             0.8,
             "#7fbc41"
            ],
            [
             0.9,
             "#4d9221"
            ],
            [
             1,
             "#276419"
            ]
           ],
           "sequential": [
            [
             0,
             "#0d0887"
            ],
            [
             0.1111111111111111,
             "#46039f"
            ],
            [
             0.2222222222222222,
             "#7201a8"
            ],
            [
             0.3333333333333333,
             "#9c179e"
            ],
            [
             0.4444444444444444,
             "#bd3786"
            ],
            [
             0.5555555555555556,
             "#d8576b"
            ],
            [
             0.6666666666666666,
             "#ed7953"
            ],
            [
             0.7777777777777778,
             "#fb9f3a"
            ],
            [
             0.8888888888888888,
             "#fdca26"
            ],
            [
             1,
             "#f0f921"
            ]
           ],
           "sequentialminus": [
            [
             0,
             "#0d0887"
            ],
            [
             0.1111111111111111,
             "#46039f"
            ],
            [
             0.2222222222222222,
             "#7201a8"
            ],
            [
             0.3333333333333333,
             "#9c179e"
            ],
            [
             0.4444444444444444,
             "#bd3786"
            ],
            [
             0.5555555555555556,
             "#d8576b"
            ],
            [
             0.6666666666666666,
             "#ed7953"
            ],
            [
             0.7777777777777778,
             "#fb9f3a"
            ],
            [
             0.8888888888888888,
             "#fdca26"
            ],
            [
             1,
             "#f0f921"
            ]
           ]
          },
          "colorway": [
           "#636efa",
           "#EF553B",
           "#00cc96",
           "#ab63fa",
           "#FFA15A",
           "#19d3f3",
           "#FF6692",
           "#B6E880",
           "#FF97FF",
           "#FECB52"
          ],
          "font": {
           "color": "#2a3f5f"
          },
          "geo": {
           "bgcolor": "white",
           "lakecolor": "white",
           "landcolor": "#E5ECF6",
           "showlakes": true,
           "showland": true,
           "subunitcolor": "white"
          },
          "hoverlabel": {
           "align": "left"
          },
          "hovermode": "closest",
          "mapbox": {
           "style": "light"
          },
          "paper_bgcolor": "white",
          "plot_bgcolor": "#E5ECF6",
          "polar": {
           "angularaxis": {
            "gridcolor": "white",
            "linecolor": "white",
            "ticks": ""
           },
           "bgcolor": "#E5ECF6",
           "radialaxis": {
            "gridcolor": "white",
            "linecolor": "white",
            "ticks": ""
           }
          },
          "scene": {
           "xaxis": {
            "backgroundcolor": "#E5ECF6",
            "gridcolor": "white",
            "gridwidth": 2,
            "linecolor": "white",
            "showbackground": true,
            "ticks": "",
            "zerolinecolor": "white"
           },
           "yaxis": {
            "backgroundcolor": "#E5ECF6",
            "gridcolor": "white",
            "gridwidth": 2,
            "linecolor": "white",
            "showbackground": true,
            "ticks": "",
            "zerolinecolor": "white"
           },
           "zaxis": {
            "backgroundcolor": "#E5ECF6",
            "gridcolor": "white",
            "gridwidth": 2,
            "linecolor": "white",
            "showbackground": true,
            "ticks": "",
            "zerolinecolor": "white"
           }
          },
          "shapedefaults": {
           "line": {
            "color": "#2a3f5f"
           }
          },
          "ternary": {
           "aaxis": {
            "gridcolor": "white",
            "linecolor": "white",
            "ticks": ""
           },
           "baxis": {
            "gridcolor": "white",
            "linecolor": "white",
            "ticks": ""
           },
           "bgcolor": "#E5ECF6",
           "caxis": {
            "gridcolor": "white",
            "linecolor": "white",
            "ticks": ""
           }
          },
          "title": {
           "x": 0.05
          },
          "xaxis": {
           "automargin": true,
           "gridcolor": "white",
           "linecolor": "white",
           "ticks": "",
           "title": {
            "standoff": 15
           },
           "zerolinecolor": "white",
           "zerolinewidth": 2
          },
          "yaxis": {
           "automargin": true,
           "gridcolor": "white",
           "linecolor": "white",
           "ticks": "",
           "title": {
            "standoff": 15
           },
           "zerolinecolor": "white",
           "zerolinewidth": 2
          }
         }
        },
        "title": {
         "font": {
          "color": "#4D5663"
         }
        },
        "xaxis": {
         "gridcolor": "#E1E5ED",
         "showgrid": true,
         "tickfont": {
          "color": "#4D5663"
         },
         "title": {
          "font": {
           "color": "#4D5663"
          },
          "text": ""
         },
         "zerolinecolor": "#E1E5ED"
        },
        "xaxis2": {
         "anchor": "y2",
         "gridcolor": "#E1E5ED",
         "showgrid": true,
         "showticklabels": false,
         "tickfont": {
          "color": "#4D5663"
         },
         "title": {
          "font": {
           "color": "#4D5663"
          },
          "text": ""
         },
         "zerolinecolor": "#E1E5ED"
        },
        "yaxis": {
         "domain": [
          0.3,
          1
         ],
         "gridcolor": "#E1E5ED",
         "showgrid": true,
         "tickfont": {
          "color": "#4D5663"
         },
         "title": {
          "font": {
           "color": "#4D5663"
          },
          "text": ""
         },
         "zerolinecolor": "#E1E5ED"
        },
        "yaxis2": {
         "domain": [
          0,
          0.25
         ],
         "gridcolor": "#E1E5ED",
         "showgrid": true,
         "tickfont": {
          "color": "#4D5663"
         },
         "title": {
          "font": {
           "color": "#4D5663"
          },
          "text": "Spread"
         },
         "zerolinecolor": "#E1E5ED"
        }
       }
      },
      "text/html": [
       "<div>                            <div id=\"424e938a-71c4-4d0b-9ede-ba0ecf91fcee\" class=\"plotly-graph-div\" style=\"height:525px; width:100%;\"></div>            <script type=\"text/javascript\">                require([\"plotly\"], function(Plotly) {                    window.PLOTLYENV=window.PLOTLYENV || {};\n",
       "                    window.PLOTLYENV.BASE_URL='https://plot.ly';                                    if (document.getElementById(\"424e938a-71c4-4d0b-9ede-ba0ecf91fcee\")) {                    Plotly.newPlot(                        \"424e938a-71c4-4d0b-9ede-ba0ecf91fcee\",                        [{\"line\":{\"color\":\"rgba(255, 153, 51, 1.0)\",\"dash\":\"solid\",\"shape\":\"linear\",\"width\":1.3},\"mode\":\"lines\",\"name\":\"A\",\"text\":\"\",\"x\":[0,1,2,3,4,5,6,7,8,9,10,11,12,13,14,15,16,17,18,19,20,21,22,23,24,25,26,27,28,29,30,31,32,33,34,35,36,37,38,39,40,41,42,43,44,45,46,47,48,49,50,51,52,53,54,55,56,57,58,59,60,61,62,63,64,65,66,67,68,69,70,71,72,73,74,75,76,77,78,79,80,81,82,83,84,85,86,87,88,89,90,91,92,93,94,95,96,97,98,99],\"y\":[-1.128527421491057,-0.8325364170784427,1.117759011436061,0.11495821582242938,0.9305397397535681,-0.056959321380706515,-0.5762026578238985,0.325320359316401,-1.9649153531373396,-0.38095279402790533,-0.7454931605462313,0.8976973947563892,-1.1235804539847107,-0.953172193107549,-0.6759776688995367,0.8002755785061688,1.0494633796587234,0.7378447030414386,0.12986113700123267,1.086286389801609,0.08155836201718823,0.9229784489921659,-0.09369022766596474,-0.09856230970321986,1.098265891122033,-1.4152131175655607,0.2611617624310045,2.1193649175716662,-0.6664020677940656,-0.48052259484460547,-0.7276838790005038,0.039524546708315525,0.318393553414977,-0.7196077416392381,0.3421313655229252,0.4388205758096896,-2.3550491633823247,-0.593569758262605,1.3047282106401816,2.443603175882856,0.28018107604832165,-0.8710273063882875,-0.4313328571744169,-0.5355094514622776,-1.0161943798253763,-0.3209224256029741,0.779425587893723,-0.11047731431318959,0.38402677202404795,0.9447772275780516,0.32871514758508485,-0.6560157443714713,0.08460414252776026,-0.5553487874460203,0.9471993168855736,0.6678767956742167,0.4208061364417931,-0.33768501018069025,1.1208605783273453,-1.144231224207155,-1.4199399126024166,-0.11313590371139508,1.3125136045441845,0.085954704596972,-0.7483688051037276,1.3962916765963318,0.6073003572383889,1.2964224252900522,1.28946390344804,2.030271679606397,0.24890115506565916,1.0408432010472008,-0.8196810968506483,-0.30181791205238634,-0.36394056053162893,0.7815149875165472,1.3196476078355661,1.727632647394526,0.3512575295402517,-0.6765221465830158,-1.4149174315858297,-0.21080941096235653,-1.78489892280663,-0.5243782750686626,-0.27859033504171876,-0.35180835776863956,0.43097713887934547,0.7307371202909417,1.7073564886167998,-1.4852143241881217,-1.964488410262696,-0.4693944143531847,1.5858342398604492,0.7595070765604511,0.9500923730675553,-1.5047798877080556,0.4176577629779211,1.1158898764399596,-1.9340101508934031,-0.9888974513248849],\"type\":\"scatter\"},{\"line\":{\"color\":\"rgba(55, 128, 191, 1.0)\",\"dash\":\"solid\",\"shape\":\"linear\",\"width\":1.3},\"mode\":\"lines\",\"name\":\"B\",\"text\":\"\",\"x\":[0,1,2,3,4,5,6,7,8,9,10,11,12,13,14,15,16,17,18,19,20,21,22,23,24,25,26,27,28,29,30,31,32,33,34,35,36,37,38,39,40,41,42,43,44,45,46,47,48,49,50,51,52,53,54,55,56,57,58,59,60,61,62,63,64,65,66,67,68,69,70,71,72,73,74,75,76,77,78,79,80,81,82,83,84,85,86,87,88,89,90,91,92,93,94,95,96,97,98,99],\"y\":[-0.8438017208608072,-1.451059827304447,0.31677438801135444,-1.8824266351071355,-1.4000326376861942,0.08622616529018719,0.1813405485240011,-0.1096132190531128,1.7808291385567678,-0.5833462656304863,-0.5575659926396725,0.40584827482506397,0.6101680257864976,0.06544046951260675,1.4314723011005817,-0.07243636161791522,0.07292612974172229,0.16531870386208344,1.5473983294693736,-0.40795910360537324,0.534994199581339,0.3181352605298431,0.5827471569825284,0.11797395439563242,1.7270203123041272,-0.7979657106730599,-0.33643680435496826,-0.09190581146404614,-0.19434919479635446,1.3323765092492732,-0.5097502377901193,1.0123102696031379,-1.434646410360193,-0.08510773094341798,2.360527793889873,1.769109412305407,0.03199133127897448,-0.7151940914551366,-0.2446046200943762,-1.6369575612289258,-0.0222854167728985,-0.8398559101888473,1.3674759577283377,0.15091042675588018,0.7009967420910446,-0.39591430298434566,-0.06094057313462858,-0.8229796690465562,1.5647951708797927,0.5724286683006631,0.022599323722141563,-0.5693125084686658,1.3114744511352885,-1.228875433688444,0.5402788075718962,1.31880764494986,-1.446003318952283,0.8414602348998687,1.6409498164147742,1.7271203005557403,0.9064534794866576,0.07765079767186345,0.9377878612527225,1.1174189380719395,0.6265982804893011,-0.8505598010938983,0.5062479847351922,0.29743743819756463,-0.26487197065108586,-0.6090971952882519,3.3784685380994843,-1.3651458003278483,1.5362075391723087,-1.8426372521276637,2.2187310815551857,0.8846437079633963,-0.3233740780746491,0.7383625124308305,2.588160313840058,-0.16678927700726093,0.4345932220808519,1.3522024747491594,2.1398157596463223,-0.5546882110557149,-0.5246472208537587,-0.3247726096531107,-0.42285621792837025,0.011079347946176672,-0.7670558734032875,1.5606469735113997,-0.6158162024941565,-0.43316149808904775,-0.6365567196593834,-0.14843480591937674,0.3734032314190597,1.4400219200722884,-1.0365022965768078,0.0849264308017044,0.4774918060323457,0.3055439179664504],\"type\":\"scatter\"},{\"connectgaps\":false,\"fill\":\"tozeroy\",\"line\":{\"color\":\"green\",\"dash\":\"solid\",\"shape\":\"linear\",\"width\":0.5},\"mode\":\"lines\",\"name\":\"Spread\",\"showlegend\":false,\"x\":[0,1,2,3,4,5,6,7,8,9,10,11,12,13,14,15,16,17,18,19,20,21,22,23,24,25,26,27,28,29,30,31,32,33,34,35,36,37,38,39,40,41,42,43,44,45,46,47,48,49,50,51,52,53,54,55,56,57,58,59,60,61,62,63,64,65,66,67,68,69,70,71,72,73,74,75,76,77,78,79,80,81,82,83,84,85,86,87,88,89,90,91,92,93,94,95,96,97,98,99],\"xaxis\":\"x2\",\"y\":[\"\",0.6185234102260043,0.8009846234247064,1.9973848509295649,2.330572377439762,\"\",\"\",0.43493357836951385,\"\",0.20239347160258098,\"\",0.49184911993132524,\"\",\"\",\"\",0.872711940124084,0.9765372499170011,0.5725259991793551,\"\",1.4942454934069822,\"\",0.6048431884623228,\"\",\"\",\"\",\"\",0.5975985667859727,2.2112707290357125,\"\",\"\",\"\",\"\",1.7530399637751701,\"\",\"\",\"\",\"\",0.12162433319253152,1.5493328307345577,4.080560737111782,0.3024664928212202,\"\",\"\",\"\",\"\",0.07499187738137153,0.8403661610283515,0.7125023547333665,\"\",0.3723485592773885,0.3061158238629433,\"\",\"\",0.6735266462424236,0.4069205093136774,\"\",1.8668094553940762,\"\",\"\",\"\",\"\",\"\",0.374725743291462,\"\",\"\",2.24685147769023,0.10105237250319676,0.9989849870924876,1.5543358740991258,2.639368874894649,\"\",2.4059890013750493,\"\",1.5408193400752774,\"\",\"\",1.6430216859102151,0.9892701349636955,\"\",\"\",\"\",\"\",\"\",0.030309935987052228,0.24605688581203994,\"\",0.8538333568077157,0.719657772344765,2.4744123620200873,\"\",\"\",\"\",2.222390959519833,0.9079418824798279,0.5766891416484956,\"\",1.454160059554729,1.0309634456382553,\"\",\"\"],\"yaxis\":\"y2\",\"type\":\"scatter\"},{\"connectgaps\":false,\"fill\":\"tozeroy\",\"line\":{\"color\":\"red\",\"dash\":\"solid\",\"shape\":\"linear\",\"width\":0.5},\"mode\":\"lines\",\"name\":\"Spread\",\"showlegend\":false,\"x\":[0,1,2,3,4,5,6,7,8,9,10,11,12,13,14,15,16,17,18,19,20,21,22,23,24,25,26,27,28,29,30,31,32,33,34,35,36,37,38,39,40,41,42,43,44,45,46,47,48,49,50,51,52,53,54,55,56,57,58,59,60,61,62,63,64,65,66,67,68,69,70,71,72,73,74,75,76,77,78,79,80,81,82,83,84,85,86,87,88,89,90,91,92,93,94,95,96,97,98,99],\"xaxis\":\"x2\",\"y\":[-0.2847257006302498,\"\",\"\",\"\",\"\",-0.1431854866708937,-0.7575432063478995,\"\",-3.7457444916941074,\"\",-0.18792716790655872,\"\",-1.7337484797712084,-1.0186126626201557,-2.1074499700001184,\"\",\"\",\"\",-1.417537192468141,\"\",-0.45343583756415073,\"\",-0.6764373846484932,-0.2165362640988523,-0.6287544211820941,-0.6172474068925008,\"\",\"\",-0.47205287299771115,-1.8128991040938787,-0.2179336412103845,-0.9727857228948223,\"\",-0.6345000106958202,-2.018396428366948,-1.3302888364957175,-2.3870404946612993,\"\",\"\",\"\",\"\",-0.031171396199440204,-1.7988088149027546,-0.6864198782181578,-1.7171911219164209,\"\",\"\",\"\",-1.1807683988557447,\"\",\"\",-0.08670323590280549,-1.2268703086075283,\"\",\"\",-0.6509308492756434,\"\",-1.1791452450805588,-0.5200892380874289,-2.871351524762895,-2.326393392089074,-0.19078670138325854,\"\",-1.0314642334749675,-1.3749670855930287,\"\",\"\",\"\",\"\",\"\",-3.1295673830338253,\"\",-2.355888636022957,\"\",-2.5826716420868148,-0.10312872044684906,\"\",\"\",-2.2369027842998066,-0.5097328695757548,-1.8495106536666817,-1.563011885711516,-3.9247146824529526,\"\",\"\",-0.027035748115528835,\"\",\"\",\"\",-3.0458612976995214,-1.3486722077685396,-0.03623291626413694,\"\",\"\",\"\",-2.944801807780344,\"\",\"\",-2.4115019569257488,-1.2944413692913352],\"yaxis\":\"y2\",\"type\":\"scatter\"}],                        {\"hovermode\":\"x\",\"legend\":{\"bgcolor\":\"#F5F6F9\",\"font\":{\"color\":\"#4D5663\"}},\"paper_bgcolor\":\"#F5F6F9\",\"plot_bgcolor\":\"#F5F6F9\",\"template\":{\"data\":{\"barpolar\":[{\"marker\":{\"line\":{\"color\":\"#E5ECF6\",\"width\":0.5},\"pattern\":{\"fillmode\":\"overlay\",\"size\":10,\"solidity\":0.2}},\"type\":\"barpolar\"}],\"bar\":[{\"error_x\":{\"color\":\"#2a3f5f\"},\"error_y\":{\"color\":\"#2a3f5f\"},\"marker\":{\"line\":{\"color\":\"#E5ECF6\",\"width\":0.5},\"pattern\":{\"fillmode\":\"overlay\",\"size\":10,\"solidity\":0.2}},\"type\":\"bar\"}],\"carpet\":[{\"aaxis\":{\"endlinecolor\":\"#2a3f5f\",\"gridcolor\":\"white\",\"linecolor\":\"white\",\"minorgridcolor\":\"white\",\"startlinecolor\":\"#2a3f5f\"},\"baxis\":{\"endlinecolor\":\"#2a3f5f\",\"gridcolor\":\"white\",\"linecolor\":\"white\",\"minorgridcolor\":\"white\",\"startlinecolor\":\"#2a3f5f\"},\"type\":\"carpet\"}],\"choropleth\":[{\"colorbar\":{\"outlinewidth\":0,\"ticks\":\"\"},\"type\":\"choropleth\"}],\"contourcarpet\":[{\"colorbar\":{\"outlinewidth\":0,\"ticks\":\"\"},\"type\":\"contourcarpet\"}],\"contour\":[{\"colorbar\":{\"outlinewidth\":0,\"ticks\":\"\"},\"colorscale\":[[0.0,\"#0d0887\"],[0.1111111111111111,\"#46039f\"],[0.2222222222222222,\"#7201a8\"],[0.3333333333333333,\"#9c179e\"],[0.4444444444444444,\"#bd3786\"],[0.5555555555555556,\"#d8576b\"],[0.6666666666666666,\"#ed7953\"],[0.7777777777777778,\"#fb9f3a\"],[0.8888888888888888,\"#fdca26\"],[1.0,\"#f0f921\"]],\"type\":\"contour\"}],\"heatmapgl\":[{\"colorbar\":{\"outlinewidth\":0,\"ticks\":\"\"},\"colorscale\":[[0.0,\"#0d0887\"],[0.1111111111111111,\"#46039f\"],[0.2222222222222222,\"#7201a8\"],[0.3333333333333333,\"#9c179e\"],[0.4444444444444444,\"#bd3786\"],[0.5555555555555556,\"#d8576b\"],[0.6666666666666666,\"#ed7953\"],[0.7777777777777778,\"#fb9f3a\"],[0.8888888888888888,\"#fdca26\"],[1.0,\"#f0f921\"]],\"type\":\"heatmapgl\"}],\"heatmap\":[{\"colorbar\":{\"outlinewidth\":0,\"ticks\":\"\"},\"colorscale\":[[0.0,\"#0d0887\"],[0.1111111111111111,\"#46039f\"],[0.2222222222222222,\"#7201a8\"],[0.3333333333333333,\"#9c179e\"],[0.4444444444444444,\"#bd3786\"],[0.5555555555555556,\"#d8576b\"],[0.6666666666666666,\"#ed7953\"],[0.7777777777777778,\"#fb9f3a\"],[0.8888888888888888,\"#fdca26\"],[1.0,\"#f0f921\"]],\"type\":\"heatmap\"}],\"histogram2dcontour\":[{\"colorbar\":{\"outlinewidth\":0,\"ticks\":\"\"},\"colorscale\":[[0.0,\"#0d0887\"],[0.1111111111111111,\"#46039f\"],[0.2222222222222222,\"#7201a8\"],[0.3333333333333333,\"#9c179e\"],[0.4444444444444444,\"#bd3786\"],[0.5555555555555556,\"#d8576b\"],[0.6666666666666666,\"#ed7953\"],[0.7777777777777778,\"#fb9f3a\"],[0.8888888888888888,\"#fdca26\"],[1.0,\"#f0f921\"]],\"type\":\"histogram2dcontour\"}],\"histogram2d\":[{\"colorbar\":{\"outlinewidth\":0,\"ticks\":\"\"},\"colorscale\":[[0.0,\"#0d0887\"],[0.1111111111111111,\"#46039f\"],[0.2222222222222222,\"#7201a8\"],[0.3333333333333333,\"#9c179e\"],[0.4444444444444444,\"#bd3786\"],[0.5555555555555556,\"#d8576b\"],[0.6666666666666666,\"#ed7953\"],[0.7777777777777778,\"#fb9f3a\"],[0.8888888888888888,\"#fdca26\"],[1.0,\"#f0f921\"]],\"type\":\"histogram2d\"}],\"histogram\":[{\"marker\":{\"pattern\":{\"fillmode\":\"overlay\",\"size\":10,\"solidity\":0.2}},\"type\":\"histogram\"}],\"mesh3d\":[{\"colorbar\":{\"outlinewidth\":0,\"ticks\":\"\"},\"type\":\"mesh3d\"}],\"parcoords\":[{\"line\":{\"colorbar\":{\"outlinewidth\":0,\"ticks\":\"\"}},\"type\":\"parcoords\"}],\"pie\":[{\"automargin\":true,\"type\":\"pie\"}],\"scatter3d\":[{\"line\":{\"colorbar\":{\"outlinewidth\":0,\"ticks\":\"\"}},\"marker\":{\"colorbar\":{\"outlinewidth\":0,\"ticks\":\"\"}},\"type\":\"scatter3d\"}],\"scattercarpet\":[{\"marker\":{\"colorbar\":{\"outlinewidth\":0,\"ticks\":\"\"}},\"type\":\"scattercarpet\"}],\"scattergeo\":[{\"marker\":{\"colorbar\":{\"outlinewidth\":0,\"ticks\":\"\"}},\"type\":\"scattergeo\"}],\"scattergl\":[{\"marker\":{\"colorbar\":{\"outlinewidth\":0,\"ticks\":\"\"}},\"type\":\"scattergl\"}],\"scattermapbox\":[{\"marker\":{\"colorbar\":{\"outlinewidth\":0,\"ticks\":\"\"}},\"type\":\"scattermapbox\"}],\"scatterpolargl\":[{\"marker\":{\"colorbar\":{\"outlinewidth\":0,\"ticks\":\"\"}},\"type\":\"scatterpolargl\"}],\"scatterpolar\":[{\"marker\":{\"colorbar\":{\"outlinewidth\":0,\"ticks\":\"\"}},\"type\":\"scatterpolar\"}],\"scatter\":[{\"fillpattern\":{\"fillmode\":\"overlay\",\"size\":10,\"solidity\":0.2},\"type\":\"scatter\"}],\"scatterternary\":[{\"marker\":{\"colorbar\":{\"outlinewidth\":0,\"ticks\":\"\"}},\"type\":\"scatterternary\"}],\"surface\":[{\"colorbar\":{\"outlinewidth\":0,\"ticks\":\"\"},\"colorscale\":[[0.0,\"#0d0887\"],[0.1111111111111111,\"#46039f\"],[0.2222222222222222,\"#7201a8\"],[0.3333333333333333,\"#9c179e\"],[0.4444444444444444,\"#bd3786\"],[0.5555555555555556,\"#d8576b\"],[0.6666666666666666,\"#ed7953\"],[0.7777777777777778,\"#fb9f3a\"],[0.8888888888888888,\"#fdca26\"],[1.0,\"#f0f921\"]],\"type\":\"surface\"}],\"table\":[{\"cells\":{\"fill\":{\"color\":\"#EBF0F8\"},\"line\":{\"color\":\"white\"}},\"header\":{\"fill\":{\"color\":\"#C8D4E3\"},\"line\":{\"color\":\"white\"}},\"type\":\"table\"}]},\"layout\":{\"annotationdefaults\":{\"arrowcolor\":\"#2a3f5f\",\"arrowhead\":0,\"arrowwidth\":1},\"autotypenumbers\":\"strict\",\"coloraxis\":{\"colorbar\":{\"outlinewidth\":0,\"ticks\":\"\"}},\"colorscale\":{\"diverging\":[[0,\"#8e0152\"],[0.1,\"#c51b7d\"],[0.2,\"#de77ae\"],[0.3,\"#f1b6da\"],[0.4,\"#fde0ef\"],[0.5,\"#f7f7f7\"],[0.6,\"#e6f5d0\"],[0.7,\"#b8e186\"],[0.8,\"#7fbc41\"],[0.9,\"#4d9221\"],[1,\"#276419\"]],\"sequential\":[[0.0,\"#0d0887\"],[0.1111111111111111,\"#46039f\"],[0.2222222222222222,\"#7201a8\"],[0.3333333333333333,\"#9c179e\"],[0.4444444444444444,\"#bd3786\"],[0.5555555555555556,\"#d8576b\"],[0.6666666666666666,\"#ed7953\"],[0.7777777777777778,\"#fb9f3a\"],[0.8888888888888888,\"#fdca26\"],[1.0,\"#f0f921\"]],\"sequentialminus\":[[0.0,\"#0d0887\"],[0.1111111111111111,\"#46039f\"],[0.2222222222222222,\"#7201a8\"],[0.3333333333333333,\"#9c179e\"],[0.4444444444444444,\"#bd3786\"],[0.5555555555555556,\"#d8576b\"],[0.6666666666666666,\"#ed7953\"],[0.7777777777777778,\"#fb9f3a\"],[0.8888888888888888,\"#fdca26\"],[1.0,\"#f0f921\"]]},\"colorway\":[\"#636efa\",\"#EF553B\",\"#00cc96\",\"#ab63fa\",\"#FFA15A\",\"#19d3f3\",\"#FF6692\",\"#B6E880\",\"#FF97FF\",\"#FECB52\"],\"font\":{\"color\":\"#2a3f5f\"},\"geo\":{\"bgcolor\":\"white\",\"lakecolor\":\"white\",\"landcolor\":\"#E5ECF6\",\"showlakes\":true,\"showland\":true,\"subunitcolor\":\"white\"},\"hoverlabel\":{\"align\":\"left\"},\"hovermode\":\"closest\",\"mapbox\":{\"style\":\"light\"},\"paper_bgcolor\":\"white\",\"plot_bgcolor\":\"#E5ECF6\",\"polar\":{\"angularaxis\":{\"gridcolor\":\"white\",\"linecolor\":\"white\",\"ticks\":\"\"},\"bgcolor\":\"#E5ECF6\",\"radialaxis\":{\"gridcolor\":\"white\",\"linecolor\":\"white\",\"ticks\":\"\"}},\"scene\":{\"xaxis\":{\"backgroundcolor\":\"#E5ECF6\",\"gridcolor\":\"white\",\"gridwidth\":2,\"linecolor\":\"white\",\"showbackground\":true,\"ticks\":\"\",\"zerolinecolor\":\"white\"},\"yaxis\":{\"backgroundcolor\":\"#E5ECF6\",\"gridcolor\":\"white\",\"gridwidth\":2,\"linecolor\":\"white\",\"showbackground\":true,\"ticks\":\"\",\"zerolinecolor\":\"white\"},\"zaxis\":{\"backgroundcolor\":\"#E5ECF6\",\"gridcolor\":\"white\",\"gridwidth\":2,\"linecolor\":\"white\",\"showbackground\":true,\"ticks\":\"\",\"zerolinecolor\":\"white\"}},\"shapedefaults\":{\"line\":{\"color\":\"#2a3f5f\"}},\"ternary\":{\"aaxis\":{\"gridcolor\":\"white\",\"linecolor\":\"white\",\"ticks\":\"\"},\"baxis\":{\"gridcolor\":\"white\",\"linecolor\":\"white\",\"ticks\":\"\"},\"bgcolor\":\"#E5ECF6\",\"caxis\":{\"gridcolor\":\"white\",\"linecolor\":\"white\",\"ticks\":\"\"}},\"title\":{\"x\":0.05},\"xaxis\":{\"automargin\":true,\"gridcolor\":\"white\",\"linecolor\":\"white\",\"ticks\":\"\",\"title\":{\"standoff\":15},\"zerolinecolor\":\"white\",\"zerolinewidth\":2},\"yaxis\":{\"automargin\":true,\"gridcolor\":\"white\",\"linecolor\":\"white\",\"ticks\":\"\",\"title\":{\"standoff\":15},\"zerolinecolor\":\"white\",\"zerolinewidth\":2}}},\"title\":{\"font\":{\"color\":\"#4D5663\"}},\"xaxis\":{\"gridcolor\":\"#E1E5ED\",\"showgrid\":true,\"tickfont\":{\"color\":\"#4D5663\"},\"title\":{\"font\":{\"color\":\"#4D5663\"},\"text\":\"\"},\"zerolinecolor\":\"#E1E5ED\"},\"yaxis\":{\"domain\":[0.3,1],\"gridcolor\":\"#E1E5ED\",\"showgrid\":true,\"tickfont\":{\"color\":\"#4D5663\"},\"title\":{\"font\":{\"color\":\"#4D5663\"},\"text\":\"\"},\"zerolinecolor\":\"#E1E5ED\"},\"yaxis2\":{\"domain\":[0,0.25],\"gridcolor\":\"#E1E5ED\",\"showgrid\":true,\"tickfont\":{\"color\":\"#4D5663\"},\"title\":{\"font\":{\"color\":\"#4D5663\"},\"text\":\"Spread\"},\"zerolinecolor\":\"#E1E5ED\"},\"xaxis2\":{\"anchor\":\"y2\",\"gridcolor\":\"#E1E5ED\",\"showgrid\":true,\"showticklabels\":false,\"tickfont\":{\"color\":\"#4D5663\"},\"title\":{\"font\":{\"color\":\"#4D5663\"},\"text\":\"\"},\"zerolinecolor\":\"#E1E5ED\"}},                        {\"showLink\": true, \"linkText\": \"Export to plot.ly\", \"plotlyServerURL\": \"https://plot.ly\", \"responsive\": true}                    ).then(function(){\n",
       "                            \n",
       "var gd = document.getElementById('424e938a-71c4-4d0b-9ede-ba0ecf91fcee');\n",
       "var x = new MutationObserver(function (mutations, observer) {{\n",
       "        var display = window.getComputedStyle(gd).display;\n",
       "        if (!display || display === 'none') {{\n",
       "            console.log([gd, 'removed!']);\n",
       "            Plotly.purge(gd);\n",
       "            observer.disconnect();\n",
       "        }}\n",
       "}});\n",
       "\n",
       "// Listen for the removal of the full notebook cells\n",
       "var notebookContainer = gd.closest('#notebook-container');\n",
       "if (notebookContainer) {{\n",
       "    x.observe(notebookContainer, {childList: true});\n",
       "}}\n",
       "\n",
       "// Listen for the clearing of the current output cell\n",
       "var outputEl = gd.closest('.output');\n",
       "if (outputEl) {{\n",
       "    x.observe(outputEl, {childList: true});\n",
       "}}\n",
       "\n",
       "                        })                };                });            </script>        </div>"
      ]
     },
     "metadata": {},
     "output_type": "display_data"
    }
   ],
   "source": [
    "df[['A','B']].iplot(kind='spread')"
   ]
  },
  {
   "cell_type": "markdown",
   "metadata": {},
   "source": [
    "## histogram"
   ]
  },
  {
   "cell_type": "code",
   "execution_count": 22,
   "metadata": {},
   "outputs": [
    {
     "data": {
      "application/vnd.plotly.v1+json": {
       "config": {
        "linkText": "Export to plot.ly",
        "plotlyServerURL": "https://plot.ly",
        "showLink": true
       },
       "data": [
        {
         "histfunc": "count",
         "histnorm": "",
         "marker": {
          "color": "rgba(255, 153, 51, 1.0)",
          "line": {
           "color": "#4D5663",
           "width": 1.3
          }
         },
         "name": "A",
         "nbinsx": 25,
         "opacity": 0.8,
         "orientation": "v",
         "type": "histogram",
         "x": [
          -1.128527421491057,
          -0.8325364170784427,
          1.117759011436061,
          0.11495821582242938,
          0.9305397397535681,
          -0.056959321380706515,
          -0.5762026578238985,
          0.325320359316401,
          -1.9649153531373396,
          -0.38095279402790533,
          -0.7454931605462313,
          0.8976973947563892,
          -1.1235804539847107,
          -0.953172193107549,
          -0.6759776688995367,
          0.8002755785061688,
          1.0494633796587234,
          0.7378447030414386,
          0.12986113700123267,
          1.086286389801609,
          0.08155836201718823,
          0.9229784489921659,
          -0.09369022766596474,
          -0.09856230970321986,
          1.098265891122033,
          -1.4152131175655607,
          0.2611617624310045,
          2.1193649175716662,
          -0.6664020677940656,
          -0.48052259484460547,
          -0.7276838790005038,
          0.039524546708315525,
          0.318393553414977,
          -0.7196077416392381,
          0.3421313655229252,
          0.4388205758096896,
          -2.3550491633823247,
          -0.593569758262605,
          1.3047282106401816,
          2.443603175882856,
          0.28018107604832165,
          -0.8710273063882875,
          -0.4313328571744169,
          -0.5355094514622776,
          -1.0161943798253763,
          -0.3209224256029741,
          0.779425587893723,
          -0.11047731431318959,
          0.38402677202404795,
          0.9447772275780516,
          0.32871514758508485,
          -0.6560157443714713,
          0.08460414252776026,
          -0.5553487874460203,
          0.9471993168855736,
          0.6678767956742167,
          0.4208061364417931,
          -0.33768501018069025,
          1.1208605783273453,
          -1.144231224207155,
          -1.4199399126024166,
          -0.11313590371139508,
          1.3125136045441845,
          0.085954704596972,
          -0.7483688051037276,
          1.3962916765963318,
          0.6073003572383889,
          1.2964224252900522,
          1.28946390344804,
          2.030271679606397,
          0.24890115506565916,
          1.0408432010472008,
          -0.8196810968506483,
          -0.30181791205238634,
          -0.36394056053162893,
          0.7815149875165472,
          1.3196476078355661,
          1.727632647394526,
          0.3512575295402517,
          -0.6765221465830158,
          -1.4149174315858297,
          -0.21080941096235653,
          -1.78489892280663,
          -0.5243782750686626,
          -0.27859033504171876,
          -0.35180835776863956,
          0.43097713887934547,
          0.7307371202909417,
          1.7073564886167998,
          -1.4852143241881217,
          -1.964488410262696,
          -0.4693944143531847,
          1.5858342398604492,
          0.7595070765604511,
          0.9500923730675553,
          -1.5047798877080556,
          0.4176577629779211,
          1.1158898764399596,
          -1.9340101508934031,
          -0.9888974513248849
         ]
        }
       ],
       "layout": {
        "barmode": "overlay",
        "legend": {
         "bgcolor": "#F5F6F9",
         "font": {
          "color": "#4D5663"
         }
        },
        "paper_bgcolor": "#F5F6F9",
        "plot_bgcolor": "#F5F6F9",
        "template": {
         "data": {
          "bar": [
           {
            "error_x": {
             "color": "#2a3f5f"
            },
            "error_y": {
             "color": "#2a3f5f"
            },
            "marker": {
             "line": {
              "color": "#E5ECF6",
              "width": 0.5
             },
             "pattern": {
              "fillmode": "overlay",
              "size": 10,
              "solidity": 0.2
             }
            },
            "type": "bar"
           }
          ],
          "barpolar": [
           {
            "marker": {
             "line": {
              "color": "#E5ECF6",
              "width": 0.5
             },
             "pattern": {
              "fillmode": "overlay",
              "size": 10,
              "solidity": 0.2
             }
            },
            "type": "barpolar"
           }
          ],
          "carpet": [
           {
            "aaxis": {
             "endlinecolor": "#2a3f5f",
             "gridcolor": "white",
             "linecolor": "white",
             "minorgridcolor": "white",
             "startlinecolor": "#2a3f5f"
            },
            "baxis": {
             "endlinecolor": "#2a3f5f",
             "gridcolor": "white",
             "linecolor": "white",
             "minorgridcolor": "white",
             "startlinecolor": "#2a3f5f"
            },
            "type": "carpet"
           }
          ],
          "choropleth": [
           {
            "colorbar": {
             "outlinewidth": 0,
             "ticks": ""
            },
            "type": "choropleth"
           }
          ],
          "contour": [
           {
            "colorbar": {
             "outlinewidth": 0,
             "ticks": ""
            },
            "colorscale": [
             [
              0,
              "#0d0887"
             ],
             [
              0.1111111111111111,
              "#46039f"
             ],
             [
              0.2222222222222222,
              "#7201a8"
             ],
             [
              0.3333333333333333,
              "#9c179e"
             ],
             [
              0.4444444444444444,
              "#bd3786"
             ],
             [
              0.5555555555555556,
              "#d8576b"
             ],
             [
              0.6666666666666666,
              "#ed7953"
             ],
             [
              0.7777777777777778,
              "#fb9f3a"
             ],
             [
              0.8888888888888888,
              "#fdca26"
             ],
             [
              1,
              "#f0f921"
             ]
            ],
            "type": "contour"
           }
          ],
          "contourcarpet": [
           {
            "colorbar": {
             "outlinewidth": 0,
             "ticks": ""
            },
            "type": "contourcarpet"
           }
          ],
          "heatmap": [
           {
            "colorbar": {
             "outlinewidth": 0,
             "ticks": ""
            },
            "colorscale": [
             [
              0,
              "#0d0887"
             ],
             [
              0.1111111111111111,
              "#46039f"
             ],
             [
              0.2222222222222222,
              "#7201a8"
             ],
             [
              0.3333333333333333,
              "#9c179e"
             ],
             [
              0.4444444444444444,
              "#bd3786"
             ],
             [
              0.5555555555555556,
              "#d8576b"
             ],
             [
              0.6666666666666666,
              "#ed7953"
             ],
             [
              0.7777777777777778,
              "#fb9f3a"
             ],
             [
              0.8888888888888888,
              "#fdca26"
             ],
             [
              1,
              "#f0f921"
             ]
            ],
            "type": "heatmap"
           }
          ],
          "heatmapgl": [
           {
            "colorbar": {
             "outlinewidth": 0,
             "ticks": ""
            },
            "colorscale": [
             [
              0,
              "#0d0887"
             ],
             [
              0.1111111111111111,
              "#46039f"
             ],
             [
              0.2222222222222222,
              "#7201a8"
             ],
             [
              0.3333333333333333,
              "#9c179e"
             ],
             [
              0.4444444444444444,
              "#bd3786"
             ],
             [
              0.5555555555555556,
              "#d8576b"
             ],
             [
              0.6666666666666666,
              "#ed7953"
             ],
             [
              0.7777777777777778,
              "#fb9f3a"
             ],
             [
              0.8888888888888888,
              "#fdca26"
             ],
             [
              1,
              "#f0f921"
             ]
            ],
            "type": "heatmapgl"
           }
          ],
          "histogram": [
           {
            "marker": {
             "pattern": {
              "fillmode": "overlay",
              "size": 10,
              "solidity": 0.2
             }
            },
            "type": "histogram"
           }
          ],
          "histogram2d": [
           {
            "colorbar": {
             "outlinewidth": 0,
             "ticks": ""
            },
            "colorscale": [
             [
              0,
              "#0d0887"
             ],
             [
              0.1111111111111111,
              "#46039f"
             ],
             [
              0.2222222222222222,
              "#7201a8"
             ],
             [
              0.3333333333333333,
              "#9c179e"
             ],
             [
              0.4444444444444444,
              "#bd3786"
             ],
             [
              0.5555555555555556,
              "#d8576b"
             ],
             [
              0.6666666666666666,
              "#ed7953"
             ],
             [
              0.7777777777777778,
              "#fb9f3a"
             ],
             [
              0.8888888888888888,
              "#fdca26"
             ],
             [
              1,
              "#f0f921"
             ]
            ],
            "type": "histogram2d"
           }
          ],
          "histogram2dcontour": [
           {
            "colorbar": {
             "outlinewidth": 0,
             "ticks": ""
            },
            "colorscale": [
             [
              0,
              "#0d0887"
             ],
             [
              0.1111111111111111,
              "#46039f"
             ],
             [
              0.2222222222222222,
              "#7201a8"
             ],
             [
              0.3333333333333333,
              "#9c179e"
             ],
             [
              0.4444444444444444,
              "#bd3786"
             ],
             [
              0.5555555555555556,
              "#d8576b"
             ],
             [
              0.6666666666666666,
              "#ed7953"
             ],
             [
              0.7777777777777778,
              "#fb9f3a"
             ],
             [
              0.8888888888888888,
              "#fdca26"
             ],
             [
              1,
              "#f0f921"
             ]
            ],
            "type": "histogram2dcontour"
           }
          ],
          "mesh3d": [
           {
            "colorbar": {
             "outlinewidth": 0,
             "ticks": ""
            },
            "type": "mesh3d"
           }
          ],
          "parcoords": [
           {
            "line": {
             "colorbar": {
              "outlinewidth": 0,
              "ticks": ""
             }
            },
            "type": "parcoords"
           }
          ],
          "pie": [
           {
            "automargin": true,
            "type": "pie"
           }
          ],
          "scatter": [
           {
            "fillpattern": {
             "fillmode": "overlay",
             "size": 10,
             "solidity": 0.2
            },
            "type": "scatter"
           }
          ],
          "scatter3d": [
           {
            "line": {
             "colorbar": {
              "outlinewidth": 0,
              "ticks": ""
             }
            },
            "marker": {
             "colorbar": {
              "outlinewidth": 0,
              "ticks": ""
             }
            },
            "type": "scatter3d"
           }
          ],
          "scattercarpet": [
           {
            "marker": {
             "colorbar": {
              "outlinewidth": 0,
              "ticks": ""
             }
            },
            "type": "scattercarpet"
           }
          ],
          "scattergeo": [
           {
            "marker": {
             "colorbar": {
              "outlinewidth": 0,
              "ticks": ""
             }
            },
            "type": "scattergeo"
           }
          ],
          "scattergl": [
           {
            "marker": {
             "colorbar": {
              "outlinewidth": 0,
              "ticks": ""
             }
            },
            "type": "scattergl"
           }
          ],
          "scattermapbox": [
           {
            "marker": {
             "colorbar": {
              "outlinewidth": 0,
              "ticks": ""
             }
            },
            "type": "scattermapbox"
           }
          ],
          "scatterpolar": [
           {
            "marker": {
             "colorbar": {
              "outlinewidth": 0,
              "ticks": ""
             }
            },
            "type": "scatterpolar"
           }
          ],
          "scatterpolargl": [
           {
            "marker": {
             "colorbar": {
              "outlinewidth": 0,
              "ticks": ""
             }
            },
            "type": "scatterpolargl"
           }
          ],
          "scatterternary": [
           {
            "marker": {
             "colorbar": {
              "outlinewidth": 0,
              "ticks": ""
             }
            },
            "type": "scatterternary"
           }
          ],
          "surface": [
           {
            "colorbar": {
             "outlinewidth": 0,
             "ticks": ""
            },
            "colorscale": [
             [
              0,
              "#0d0887"
             ],
             [
              0.1111111111111111,
              "#46039f"
             ],
             [
              0.2222222222222222,
              "#7201a8"
             ],
             [
              0.3333333333333333,
              "#9c179e"
             ],
             [
              0.4444444444444444,
              "#bd3786"
             ],
             [
              0.5555555555555556,
              "#d8576b"
             ],
             [
              0.6666666666666666,
              "#ed7953"
             ],
             [
              0.7777777777777778,
              "#fb9f3a"
             ],
             [
              0.8888888888888888,
              "#fdca26"
             ],
             [
              1,
              "#f0f921"
             ]
            ],
            "type": "surface"
           }
          ],
          "table": [
           {
            "cells": {
             "fill": {
              "color": "#EBF0F8"
             },
             "line": {
              "color": "white"
             }
            },
            "header": {
             "fill": {
              "color": "#C8D4E3"
             },
             "line": {
              "color": "white"
             }
            },
            "type": "table"
           }
          ]
         },
         "layout": {
          "annotationdefaults": {
           "arrowcolor": "#2a3f5f",
           "arrowhead": 0,
           "arrowwidth": 1
          },
          "autotypenumbers": "strict",
          "coloraxis": {
           "colorbar": {
            "outlinewidth": 0,
            "ticks": ""
           }
          },
          "colorscale": {
           "diverging": [
            [
             0,
             "#8e0152"
            ],
            [
             0.1,
             "#c51b7d"
            ],
            [
             0.2,
             "#de77ae"
            ],
            [
             0.3,
             "#f1b6da"
            ],
            [
             0.4,
             "#fde0ef"
            ],
            [
             0.5,
             "#f7f7f7"
            ],
            [
             0.6,
             "#e6f5d0"
            ],
            [
             0.7,
             "#b8e186"
            ],
            [
             0.8,
             "#7fbc41"
            ],
            [
             0.9,
             "#4d9221"
            ],
            [
             1,
             "#276419"
            ]
           ],
           "sequential": [
            [
             0,
             "#0d0887"
            ],
            [
             0.1111111111111111,
             "#46039f"
            ],
            [
             0.2222222222222222,
             "#7201a8"
            ],
            [
             0.3333333333333333,
             "#9c179e"
            ],
            [
             0.4444444444444444,
             "#bd3786"
            ],
            [
             0.5555555555555556,
             "#d8576b"
            ],
            [
             0.6666666666666666,
             "#ed7953"
            ],
            [
             0.7777777777777778,
             "#fb9f3a"
            ],
            [
             0.8888888888888888,
             "#fdca26"
            ],
            [
             1,
             "#f0f921"
            ]
           ],
           "sequentialminus": [
            [
             0,
             "#0d0887"
            ],
            [
             0.1111111111111111,
             "#46039f"
            ],
            [
             0.2222222222222222,
             "#7201a8"
            ],
            [
             0.3333333333333333,
             "#9c179e"
            ],
            [
             0.4444444444444444,
             "#bd3786"
            ],
            [
             0.5555555555555556,
             "#d8576b"
            ],
            [
             0.6666666666666666,
             "#ed7953"
            ],
            [
             0.7777777777777778,
             "#fb9f3a"
            ],
            [
             0.8888888888888888,
             "#fdca26"
            ],
            [
             1,
             "#f0f921"
            ]
           ]
          },
          "colorway": [
           "#636efa",
           "#EF553B",
           "#00cc96",
           "#ab63fa",
           "#FFA15A",
           "#19d3f3",
           "#FF6692",
           "#B6E880",
           "#FF97FF",
           "#FECB52"
          ],
          "font": {
           "color": "#2a3f5f"
          },
          "geo": {
           "bgcolor": "white",
           "lakecolor": "white",
           "landcolor": "#E5ECF6",
           "showlakes": true,
           "showland": true,
           "subunitcolor": "white"
          },
          "hoverlabel": {
           "align": "left"
          },
          "hovermode": "closest",
          "mapbox": {
           "style": "light"
          },
          "paper_bgcolor": "white",
          "plot_bgcolor": "#E5ECF6",
          "polar": {
           "angularaxis": {
            "gridcolor": "white",
            "linecolor": "white",
            "ticks": ""
           },
           "bgcolor": "#E5ECF6",
           "radialaxis": {
            "gridcolor": "white",
            "linecolor": "white",
            "ticks": ""
           }
          },
          "scene": {
           "xaxis": {
            "backgroundcolor": "#E5ECF6",
            "gridcolor": "white",
            "gridwidth": 2,
            "linecolor": "white",
            "showbackground": true,
            "ticks": "",
            "zerolinecolor": "white"
           },
           "yaxis": {
            "backgroundcolor": "#E5ECF6",
            "gridcolor": "white",
            "gridwidth": 2,
            "linecolor": "white",
            "showbackground": true,
            "ticks": "",
            "zerolinecolor": "white"
           },
           "zaxis": {
            "backgroundcolor": "#E5ECF6",
            "gridcolor": "white",
            "gridwidth": 2,
            "linecolor": "white",
            "showbackground": true,
            "ticks": "",
            "zerolinecolor": "white"
           }
          },
          "shapedefaults": {
           "line": {
            "color": "#2a3f5f"
           }
          },
          "ternary": {
           "aaxis": {
            "gridcolor": "white",
            "linecolor": "white",
            "ticks": ""
           },
           "baxis": {
            "gridcolor": "white",
            "linecolor": "white",
            "ticks": ""
           },
           "bgcolor": "#E5ECF6",
           "caxis": {
            "gridcolor": "white",
            "linecolor": "white",
            "ticks": ""
           }
          },
          "title": {
           "x": 0.05
          },
          "xaxis": {
           "automargin": true,
           "gridcolor": "white",
           "linecolor": "white",
           "ticks": "",
           "title": {
            "standoff": 15
           },
           "zerolinecolor": "white",
           "zerolinewidth": 2
          },
          "yaxis": {
           "automargin": true,
           "gridcolor": "white",
           "linecolor": "white",
           "ticks": "",
           "title": {
            "standoff": 15
           },
           "zerolinecolor": "white",
           "zerolinewidth": 2
          }
         }
        },
        "title": {
         "font": {
          "color": "#4D5663"
         }
        },
        "xaxis": {
         "gridcolor": "#E1E5ED",
         "showgrid": true,
         "tickfont": {
          "color": "#4D5663"
         },
         "title": {
          "font": {
           "color": "#4D5663"
          },
          "text": ""
         },
         "zerolinecolor": "#E1E5ED"
        },
        "yaxis": {
         "gridcolor": "#E1E5ED",
         "showgrid": true,
         "tickfont": {
          "color": "#4D5663"
         },
         "title": {
          "font": {
           "color": "#4D5663"
          },
          "text": ""
         },
         "zerolinecolor": "#E1E5ED"
        }
       }
      },
      "text/html": [
       "<div>                            <div id=\"65b810fc-d067-4438-9f34-9bcd9f252d3b\" class=\"plotly-graph-div\" style=\"height:525px; width:100%;\"></div>            <script type=\"text/javascript\">                require([\"plotly\"], function(Plotly) {                    window.PLOTLYENV=window.PLOTLYENV || {};\n",
       "                    window.PLOTLYENV.BASE_URL='https://plot.ly';                                    if (document.getElementById(\"65b810fc-d067-4438-9f34-9bcd9f252d3b\")) {                    Plotly.newPlot(                        \"65b810fc-d067-4438-9f34-9bcd9f252d3b\",                        [{\"histfunc\":\"count\",\"histnorm\":\"\",\"marker\":{\"color\":\"rgba(255, 153, 51, 1.0)\",\"line\":{\"color\":\"#4D5663\",\"width\":1.3}},\"name\":\"A\",\"nbinsx\":25,\"opacity\":0.8,\"orientation\":\"v\",\"x\":[-1.128527421491057,-0.8325364170784427,1.117759011436061,0.11495821582242938,0.9305397397535681,-0.056959321380706515,-0.5762026578238985,0.325320359316401,-1.9649153531373396,-0.38095279402790533,-0.7454931605462313,0.8976973947563892,-1.1235804539847107,-0.953172193107549,-0.6759776688995367,0.8002755785061688,1.0494633796587234,0.7378447030414386,0.12986113700123267,1.086286389801609,0.08155836201718823,0.9229784489921659,-0.09369022766596474,-0.09856230970321986,1.098265891122033,-1.4152131175655607,0.2611617624310045,2.1193649175716662,-0.6664020677940656,-0.48052259484460547,-0.7276838790005038,0.039524546708315525,0.318393553414977,-0.7196077416392381,0.3421313655229252,0.4388205758096896,-2.3550491633823247,-0.593569758262605,1.3047282106401816,2.443603175882856,0.28018107604832165,-0.8710273063882875,-0.4313328571744169,-0.5355094514622776,-1.0161943798253763,-0.3209224256029741,0.779425587893723,-0.11047731431318959,0.38402677202404795,0.9447772275780516,0.32871514758508485,-0.6560157443714713,0.08460414252776026,-0.5553487874460203,0.9471993168855736,0.6678767956742167,0.4208061364417931,-0.33768501018069025,1.1208605783273453,-1.144231224207155,-1.4199399126024166,-0.11313590371139508,1.3125136045441845,0.085954704596972,-0.7483688051037276,1.3962916765963318,0.6073003572383889,1.2964224252900522,1.28946390344804,2.030271679606397,0.24890115506565916,1.0408432010472008,-0.8196810968506483,-0.30181791205238634,-0.36394056053162893,0.7815149875165472,1.3196476078355661,1.727632647394526,0.3512575295402517,-0.6765221465830158,-1.4149174315858297,-0.21080941096235653,-1.78489892280663,-0.5243782750686626,-0.27859033504171876,-0.35180835776863956,0.43097713887934547,0.7307371202909417,1.7073564886167998,-1.4852143241881217,-1.964488410262696,-0.4693944143531847,1.5858342398604492,0.7595070765604511,0.9500923730675553,-1.5047798877080556,0.4176577629779211,1.1158898764399596,-1.9340101508934031,-0.9888974513248849],\"type\":\"histogram\"}],                        {\"barmode\":\"overlay\",\"legend\":{\"bgcolor\":\"#F5F6F9\",\"font\":{\"color\":\"#4D5663\"}},\"paper_bgcolor\":\"#F5F6F9\",\"plot_bgcolor\":\"#F5F6F9\",\"template\":{\"data\":{\"barpolar\":[{\"marker\":{\"line\":{\"color\":\"#E5ECF6\",\"width\":0.5},\"pattern\":{\"fillmode\":\"overlay\",\"size\":10,\"solidity\":0.2}},\"type\":\"barpolar\"}],\"bar\":[{\"error_x\":{\"color\":\"#2a3f5f\"},\"error_y\":{\"color\":\"#2a3f5f\"},\"marker\":{\"line\":{\"color\":\"#E5ECF6\",\"width\":0.5},\"pattern\":{\"fillmode\":\"overlay\",\"size\":10,\"solidity\":0.2}},\"type\":\"bar\"}],\"carpet\":[{\"aaxis\":{\"endlinecolor\":\"#2a3f5f\",\"gridcolor\":\"white\",\"linecolor\":\"white\",\"minorgridcolor\":\"white\",\"startlinecolor\":\"#2a3f5f\"},\"baxis\":{\"endlinecolor\":\"#2a3f5f\",\"gridcolor\":\"white\",\"linecolor\":\"white\",\"minorgridcolor\":\"white\",\"startlinecolor\":\"#2a3f5f\"},\"type\":\"carpet\"}],\"choropleth\":[{\"colorbar\":{\"outlinewidth\":0,\"ticks\":\"\"},\"type\":\"choropleth\"}],\"contourcarpet\":[{\"colorbar\":{\"outlinewidth\":0,\"ticks\":\"\"},\"type\":\"contourcarpet\"}],\"contour\":[{\"colorbar\":{\"outlinewidth\":0,\"ticks\":\"\"},\"colorscale\":[[0.0,\"#0d0887\"],[0.1111111111111111,\"#46039f\"],[0.2222222222222222,\"#7201a8\"],[0.3333333333333333,\"#9c179e\"],[0.4444444444444444,\"#bd3786\"],[0.5555555555555556,\"#d8576b\"],[0.6666666666666666,\"#ed7953\"],[0.7777777777777778,\"#fb9f3a\"],[0.8888888888888888,\"#fdca26\"],[1.0,\"#f0f921\"]],\"type\":\"contour\"}],\"heatmapgl\":[{\"colorbar\":{\"outlinewidth\":0,\"ticks\":\"\"},\"colorscale\":[[0.0,\"#0d0887\"],[0.1111111111111111,\"#46039f\"],[0.2222222222222222,\"#7201a8\"],[0.3333333333333333,\"#9c179e\"],[0.4444444444444444,\"#bd3786\"],[0.5555555555555556,\"#d8576b\"],[0.6666666666666666,\"#ed7953\"],[0.7777777777777778,\"#fb9f3a\"],[0.8888888888888888,\"#fdca26\"],[1.0,\"#f0f921\"]],\"type\":\"heatmapgl\"}],\"heatmap\":[{\"colorbar\":{\"outlinewidth\":0,\"ticks\":\"\"},\"colorscale\":[[0.0,\"#0d0887\"],[0.1111111111111111,\"#46039f\"],[0.2222222222222222,\"#7201a8\"],[0.3333333333333333,\"#9c179e\"],[0.4444444444444444,\"#bd3786\"],[0.5555555555555556,\"#d8576b\"],[0.6666666666666666,\"#ed7953\"],[0.7777777777777778,\"#fb9f3a\"],[0.8888888888888888,\"#fdca26\"],[1.0,\"#f0f921\"]],\"type\":\"heatmap\"}],\"histogram2dcontour\":[{\"colorbar\":{\"outlinewidth\":0,\"ticks\":\"\"},\"colorscale\":[[0.0,\"#0d0887\"],[0.1111111111111111,\"#46039f\"],[0.2222222222222222,\"#7201a8\"],[0.3333333333333333,\"#9c179e\"],[0.4444444444444444,\"#bd3786\"],[0.5555555555555556,\"#d8576b\"],[0.6666666666666666,\"#ed7953\"],[0.7777777777777778,\"#fb9f3a\"],[0.8888888888888888,\"#fdca26\"],[1.0,\"#f0f921\"]],\"type\":\"histogram2dcontour\"}],\"histogram2d\":[{\"colorbar\":{\"outlinewidth\":0,\"ticks\":\"\"},\"colorscale\":[[0.0,\"#0d0887\"],[0.1111111111111111,\"#46039f\"],[0.2222222222222222,\"#7201a8\"],[0.3333333333333333,\"#9c179e\"],[0.4444444444444444,\"#bd3786\"],[0.5555555555555556,\"#d8576b\"],[0.6666666666666666,\"#ed7953\"],[0.7777777777777778,\"#fb9f3a\"],[0.8888888888888888,\"#fdca26\"],[1.0,\"#f0f921\"]],\"type\":\"histogram2d\"}],\"histogram\":[{\"marker\":{\"pattern\":{\"fillmode\":\"overlay\",\"size\":10,\"solidity\":0.2}},\"type\":\"histogram\"}],\"mesh3d\":[{\"colorbar\":{\"outlinewidth\":0,\"ticks\":\"\"},\"type\":\"mesh3d\"}],\"parcoords\":[{\"line\":{\"colorbar\":{\"outlinewidth\":0,\"ticks\":\"\"}},\"type\":\"parcoords\"}],\"pie\":[{\"automargin\":true,\"type\":\"pie\"}],\"scatter3d\":[{\"line\":{\"colorbar\":{\"outlinewidth\":0,\"ticks\":\"\"}},\"marker\":{\"colorbar\":{\"outlinewidth\":0,\"ticks\":\"\"}},\"type\":\"scatter3d\"}],\"scattercarpet\":[{\"marker\":{\"colorbar\":{\"outlinewidth\":0,\"ticks\":\"\"}},\"type\":\"scattercarpet\"}],\"scattergeo\":[{\"marker\":{\"colorbar\":{\"outlinewidth\":0,\"ticks\":\"\"}},\"type\":\"scattergeo\"}],\"scattergl\":[{\"marker\":{\"colorbar\":{\"outlinewidth\":0,\"ticks\":\"\"}},\"type\":\"scattergl\"}],\"scattermapbox\":[{\"marker\":{\"colorbar\":{\"outlinewidth\":0,\"ticks\":\"\"}},\"type\":\"scattermapbox\"}],\"scatterpolargl\":[{\"marker\":{\"colorbar\":{\"outlinewidth\":0,\"ticks\":\"\"}},\"type\":\"scatterpolargl\"}],\"scatterpolar\":[{\"marker\":{\"colorbar\":{\"outlinewidth\":0,\"ticks\":\"\"}},\"type\":\"scatterpolar\"}],\"scatter\":[{\"fillpattern\":{\"fillmode\":\"overlay\",\"size\":10,\"solidity\":0.2},\"type\":\"scatter\"}],\"scatterternary\":[{\"marker\":{\"colorbar\":{\"outlinewidth\":0,\"ticks\":\"\"}},\"type\":\"scatterternary\"}],\"surface\":[{\"colorbar\":{\"outlinewidth\":0,\"ticks\":\"\"},\"colorscale\":[[0.0,\"#0d0887\"],[0.1111111111111111,\"#46039f\"],[0.2222222222222222,\"#7201a8\"],[0.3333333333333333,\"#9c179e\"],[0.4444444444444444,\"#bd3786\"],[0.5555555555555556,\"#d8576b\"],[0.6666666666666666,\"#ed7953\"],[0.7777777777777778,\"#fb9f3a\"],[0.8888888888888888,\"#fdca26\"],[1.0,\"#f0f921\"]],\"type\":\"surface\"}],\"table\":[{\"cells\":{\"fill\":{\"color\":\"#EBF0F8\"},\"line\":{\"color\":\"white\"}},\"header\":{\"fill\":{\"color\":\"#C8D4E3\"},\"line\":{\"color\":\"white\"}},\"type\":\"table\"}]},\"layout\":{\"annotationdefaults\":{\"arrowcolor\":\"#2a3f5f\",\"arrowhead\":0,\"arrowwidth\":1},\"autotypenumbers\":\"strict\",\"coloraxis\":{\"colorbar\":{\"outlinewidth\":0,\"ticks\":\"\"}},\"colorscale\":{\"diverging\":[[0,\"#8e0152\"],[0.1,\"#c51b7d\"],[0.2,\"#de77ae\"],[0.3,\"#f1b6da\"],[0.4,\"#fde0ef\"],[0.5,\"#f7f7f7\"],[0.6,\"#e6f5d0\"],[0.7,\"#b8e186\"],[0.8,\"#7fbc41\"],[0.9,\"#4d9221\"],[1,\"#276419\"]],\"sequential\":[[0.0,\"#0d0887\"],[0.1111111111111111,\"#46039f\"],[0.2222222222222222,\"#7201a8\"],[0.3333333333333333,\"#9c179e\"],[0.4444444444444444,\"#bd3786\"],[0.5555555555555556,\"#d8576b\"],[0.6666666666666666,\"#ed7953\"],[0.7777777777777778,\"#fb9f3a\"],[0.8888888888888888,\"#fdca26\"],[1.0,\"#f0f921\"]],\"sequentialminus\":[[0.0,\"#0d0887\"],[0.1111111111111111,\"#46039f\"],[0.2222222222222222,\"#7201a8\"],[0.3333333333333333,\"#9c179e\"],[0.4444444444444444,\"#bd3786\"],[0.5555555555555556,\"#d8576b\"],[0.6666666666666666,\"#ed7953\"],[0.7777777777777778,\"#fb9f3a\"],[0.8888888888888888,\"#fdca26\"],[1.0,\"#f0f921\"]]},\"colorway\":[\"#636efa\",\"#EF553B\",\"#00cc96\",\"#ab63fa\",\"#FFA15A\",\"#19d3f3\",\"#FF6692\",\"#B6E880\",\"#FF97FF\",\"#FECB52\"],\"font\":{\"color\":\"#2a3f5f\"},\"geo\":{\"bgcolor\":\"white\",\"lakecolor\":\"white\",\"landcolor\":\"#E5ECF6\",\"showlakes\":true,\"showland\":true,\"subunitcolor\":\"white\"},\"hoverlabel\":{\"align\":\"left\"},\"hovermode\":\"closest\",\"mapbox\":{\"style\":\"light\"},\"paper_bgcolor\":\"white\",\"plot_bgcolor\":\"#E5ECF6\",\"polar\":{\"angularaxis\":{\"gridcolor\":\"white\",\"linecolor\":\"white\",\"ticks\":\"\"},\"bgcolor\":\"#E5ECF6\",\"radialaxis\":{\"gridcolor\":\"white\",\"linecolor\":\"white\",\"ticks\":\"\"}},\"scene\":{\"xaxis\":{\"backgroundcolor\":\"#E5ECF6\",\"gridcolor\":\"white\",\"gridwidth\":2,\"linecolor\":\"white\",\"showbackground\":true,\"ticks\":\"\",\"zerolinecolor\":\"white\"},\"yaxis\":{\"backgroundcolor\":\"#E5ECF6\",\"gridcolor\":\"white\",\"gridwidth\":2,\"linecolor\":\"white\",\"showbackground\":true,\"ticks\":\"\",\"zerolinecolor\":\"white\"},\"zaxis\":{\"backgroundcolor\":\"#E5ECF6\",\"gridcolor\":\"white\",\"gridwidth\":2,\"linecolor\":\"white\",\"showbackground\":true,\"ticks\":\"\",\"zerolinecolor\":\"white\"}},\"shapedefaults\":{\"line\":{\"color\":\"#2a3f5f\"}},\"ternary\":{\"aaxis\":{\"gridcolor\":\"white\",\"linecolor\":\"white\",\"ticks\":\"\"},\"baxis\":{\"gridcolor\":\"white\",\"linecolor\":\"white\",\"ticks\":\"\"},\"bgcolor\":\"#E5ECF6\",\"caxis\":{\"gridcolor\":\"white\",\"linecolor\":\"white\",\"ticks\":\"\"}},\"title\":{\"x\":0.05},\"xaxis\":{\"automargin\":true,\"gridcolor\":\"white\",\"linecolor\":\"white\",\"ticks\":\"\",\"title\":{\"standoff\":15},\"zerolinecolor\":\"white\",\"zerolinewidth\":2},\"yaxis\":{\"automargin\":true,\"gridcolor\":\"white\",\"linecolor\":\"white\",\"ticks\":\"\",\"title\":{\"standoff\":15},\"zerolinecolor\":\"white\",\"zerolinewidth\":2}}},\"title\":{\"font\":{\"color\":\"#4D5663\"}},\"xaxis\":{\"gridcolor\":\"#E1E5ED\",\"showgrid\":true,\"tickfont\":{\"color\":\"#4D5663\"},\"title\":{\"font\":{\"color\":\"#4D5663\"},\"text\":\"\"},\"zerolinecolor\":\"#E1E5ED\"},\"yaxis\":{\"gridcolor\":\"#E1E5ED\",\"showgrid\":true,\"tickfont\":{\"color\":\"#4D5663\"},\"title\":{\"font\":{\"color\":\"#4D5663\"},\"text\":\"\"},\"zerolinecolor\":\"#E1E5ED\"}},                        {\"showLink\": true, \"linkText\": \"Export to plot.ly\", \"plotlyServerURL\": \"https://plot.ly\", \"responsive\": true}                    ).then(function(){\n",
       "                            \n",
       "var gd = document.getElementById('65b810fc-d067-4438-9f34-9bcd9f252d3b');\n",
       "var x = new MutationObserver(function (mutations, observer) {{\n",
       "        var display = window.getComputedStyle(gd).display;\n",
       "        if (!display || display === 'none') {{\n",
       "            console.log([gd, 'removed!']);\n",
       "            Plotly.purge(gd);\n",
       "            observer.disconnect();\n",
       "        }}\n",
       "}});\n",
       "\n",
       "// Listen for the removal of the full notebook cells\n",
       "var notebookContainer = gd.closest('#notebook-container');\n",
       "if (notebookContainer) {{\n",
       "    x.observe(notebookContainer, {childList: true});\n",
       "}}\n",
       "\n",
       "// Listen for the clearing of the current output cell\n",
       "var outputEl = gd.closest('.output');\n",
       "if (outputEl) {{\n",
       "    x.observe(outputEl, {childList: true});\n",
       "}}\n",
       "\n",
       "                        })                };                });            </script>        </div>"
      ]
     },
     "metadata": {},
     "output_type": "display_data"
    }
   ],
   "source": [
    "df['A'].iplot(kind='hist',bins=25)"
   ]
  },
  {
   "cell_type": "code",
   "execution_count": 21,
   "metadata": {},
   "outputs": [
    {
     "data": {
      "application/vnd.plotly.v1+json": {
       "config": {
        "linkText": "Export to plot.ly",
        "plotlyServerURL": "https://plot.ly",
        "showLink": true
       },
       "data": [
        {
         "marker": {
          "color": [
           "rgb(255, 153, 51)",
           "rgb(55, 128, 191)",
           "rgb(50, 171, 96)",
           "rgb(128, 0, 128)",
           "rgb(219, 64, 82)",
           "rgb(0, 128, 128)",
           "rgb(255, 255, 51)",
           "rgb(128, 128, 0)",
           "rgb(251, 128, 114)",
           "rgb(128, 177, 211)"
          ],
          "line": {
           "width": 1.3
          },
          "size": [
           67,
           92,
           85,
           93,
           55,
           96,
           72,
           106,
           98,
           56,
           56,
           21,
           20,
           99,
           88,
           71,
           60,
           61,
           65,
           44,
           109,
           100,
           41,
           93,
           37,
           64,
           109,
           58,
           93,
           88,
           75,
           76,
           70,
           71,
           55,
           16,
           98,
           67,
           81,
           66,
           63,
           37,
           59,
           49,
           58,
           72,
           73,
           44,
           63,
           112,
           60,
           74,
           16,
           54,
           75,
           57,
           65,
           67,
           105,
           18,
           80,
           77,
           91,
           81,
           72,
           67,
           93,
           65,
           75,
           71,
           57,
           70,
           65,
           41,
           61,
           75,
           66,
           69,
           62,
           32,
           26,
           87,
           91,
           39,
           77,
           33,
           87,
           72,
           32,
           64,
           65,
           68,
           41,
           73,
           61,
           82,
           85,
           12,
           51,
           88
          ],
          "symbol": "circle"
         },
         "mode": "markers",
         "text": "",
         "type": "scatter",
         "x": [
          -1.128527421491057,
          -0.8325364170784427,
          1.117759011436061,
          0.11495821582242938,
          0.9305397397535681,
          -0.056959321380706515,
          -0.5762026578238985,
          0.325320359316401,
          -1.9649153531373396,
          -0.38095279402790533,
          -0.7454931605462313,
          0.8976973947563892,
          -1.1235804539847107,
          -0.953172193107549,
          -0.6759776688995367,
          0.8002755785061688,
          1.0494633796587234,
          0.7378447030414386,
          0.12986113700123267,
          1.086286389801609,
          0.08155836201718823,
          0.9229784489921659,
          -0.09369022766596474,
          -0.09856230970321986,
          1.098265891122033,
          -1.4152131175655607,
          0.2611617624310045,
          2.1193649175716662,
          -0.6664020677940656,
          -0.48052259484460547,
          -0.7276838790005038,
          0.039524546708315525,
          0.318393553414977,
          -0.7196077416392381,
          0.3421313655229252,
          0.4388205758096896,
          -2.3550491633823247,
          -0.593569758262605,
          1.3047282106401816,
          2.443603175882856,
          0.28018107604832165,
          -0.8710273063882875,
          -0.4313328571744169,
          -0.5355094514622776,
          -1.0161943798253763,
          -0.3209224256029741,
          0.779425587893723,
          -0.11047731431318959,
          0.38402677202404795,
          0.9447772275780516,
          0.32871514758508485,
          -0.6560157443714713,
          0.08460414252776026,
          -0.5553487874460203,
          0.9471993168855736,
          0.6678767956742167,
          0.4208061364417931,
          -0.33768501018069025,
          1.1208605783273453,
          -1.144231224207155,
          -1.4199399126024166,
          -0.11313590371139508,
          1.3125136045441845,
          0.085954704596972,
          -0.7483688051037276,
          1.3962916765963318,
          0.6073003572383889,
          1.2964224252900522,
          1.28946390344804,
          2.030271679606397,
          0.24890115506565916,
          1.0408432010472008,
          -0.8196810968506483,
          -0.30181791205238634,
          -0.36394056053162893,
          0.7815149875165472,
          1.3196476078355661,
          1.727632647394526,
          0.3512575295402517,
          -0.6765221465830158,
          -1.4149174315858297,
          -0.21080941096235653,
          -1.78489892280663,
          -0.5243782750686626,
          -0.27859033504171876,
          -0.35180835776863956,
          0.43097713887934547,
          0.7307371202909417,
          1.7073564886167998,
          -1.4852143241881217,
          -1.964488410262696,
          -0.4693944143531847,
          1.5858342398604492,
          0.7595070765604511,
          0.9500923730675553,
          -1.5047798877080556,
          0.4176577629779211,
          1.1158898764399596,
          -1.9340101508934031,
          -0.9888974513248849
         ],
         "y": [
          -0.8438017208608072,
          -1.451059827304447,
          0.31677438801135444,
          -1.8824266351071355,
          -1.4000326376861942,
          0.08622616529018719,
          0.1813405485240011,
          -0.1096132190531128,
          1.7808291385567678,
          -0.5833462656304863,
          -0.5575659926396725,
          0.40584827482506397,
          0.6101680257864976,
          0.06544046951260675,
          1.4314723011005817,
          -0.07243636161791522,
          0.07292612974172229,
          0.16531870386208344,
          1.5473983294693736,
          -0.40795910360537324,
          0.534994199581339,
          0.3181352605298431,
          0.5827471569825284,
          0.11797395439563242,
          1.7270203123041272,
          -0.7979657106730599,
          -0.33643680435496826,
          -0.09190581146404614,
          -0.19434919479635446,
          1.3323765092492732,
          -0.5097502377901193,
          1.0123102696031379,
          -1.434646410360193,
          -0.08510773094341798,
          2.360527793889873,
          1.769109412305407,
          0.03199133127897448,
          -0.7151940914551366,
          -0.2446046200943762,
          -1.6369575612289258,
          -0.0222854167728985,
          -0.8398559101888473,
          1.3674759577283377,
          0.15091042675588018,
          0.7009967420910446,
          -0.39591430298434566,
          -0.06094057313462858,
          -0.8229796690465562,
          1.5647951708797927,
          0.5724286683006631,
          0.022599323722141563,
          -0.5693125084686658,
          1.3114744511352885,
          -1.228875433688444,
          0.5402788075718962,
          1.31880764494986,
          -1.446003318952283,
          0.8414602348998687,
          1.6409498164147742,
          1.7271203005557403,
          0.9064534794866576,
          0.07765079767186345,
          0.9377878612527225,
          1.1174189380719395,
          0.6265982804893011,
          -0.8505598010938983,
          0.5062479847351922,
          0.29743743819756463,
          -0.26487197065108586,
          -0.6090971952882519,
          3.3784685380994843,
          -1.3651458003278483,
          1.5362075391723087,
          -1.8426372521276637,
          2.2187310815551857,
          0.8846437079633963,
          -0.3233740780746491,
          0.7383625124308305,
          2.588160313840058,
          -0.16678927700726093,
          0.4345932220808519,
          1.3522024747491594,
          2.1398157596463223,
          -0.5546882110557149,
          -0.5246472208537587,
          -0.3247726096531107,
          -0.42285621792837025,
          0.011079347946176672,
          -0.7670558734032875,
          1.5606469735113997,
          -0.6158162024941565,
          -0.43316149808904775,
          -0.6365567196593834,
          -0.14843480591937674,
          0.3734032314190597,
          1.4400219200722884,
          -1.0365022965768078,
          0.0849264308017044,
          0.4774918060323457,
          0.3055439179664504
         ]
        }
       ],
       "layout": {
        "legend": {
         "bgcolor": "#F5F6F9",
         "font": {
          "color": "#4D5663"
         }
        },
        "paper_bgcolor": "#F5F6F9",
        "plot_bgcolor": "#F5F6F9",
        "template": {
         "data": {
          "bar": [
           {
            "error_x": {
             "color": "#2a3f5f"
            },
            "error_y": {
             "color": "#2a3f5f"
            },
            "marker": {
             "line": {
              "color": "#E5ECF6",
              "width": 0.5
             },
             "pattern": {
              "fillmode": "overlay",
              "size": 10,
              "solidity": 0.2
             }
            },
            "type": "bar"
           }
          ],
          "barpolar": [
           {
            "marker": {
             "line": {
              "color": "#E5ECF6",
              "width": 0.5
             },
             "pattern": {
              "fillmode": "overlay",
              "size": 10,
              "solidity": 0.2
             }
            },
            "type": "barpolar"
           }
          ],
          "carpet": [
           {
            "aaxis": {
             "endlinecolor": "#2a3f5f",
             "gridcolor": "white",
             "linecolor": "white",
             "minorgridcolor": "white",
             "startlinecolor": "#2a3f5f"
            },
            "baxis": {
             "endlinecolor": "#2a3f5f",
             "gridcolor": "white",
             "linecolor": "white",
             "minorgridcolor": "white",
             "startlinecolor": "#2a3f5f"
            },
            "type": "carpet"
           }
          ],
          "choropleth": [
           {
            "colorbar": {
             "outlinewidth": 0,
             "ticks": ""
            },
            "type": "choropleth"
           }
          ],
          "contour": [
           {
            "colorbar": {
             "outlinewidth": 0,
             "ticks": ""
            },
            "colorscale": [
             [
              0,
              "#0d0887"
             ],
             [
              0.1111111111111111,
              "#46039f"
             ],
             [
              0.2222222222222222,
              "#7201a8"
             ],
             [
              0.3333333333333333,
              "#9c179e"
             ],
             [
              0.4444444444444444,
              "#bd3786"
             ],
             [
              0.5555555555555556,
              "#d8576b"
             ],
             [
              0.6666666666666666,
              "#ed7953"
             ],
             [
              0.7777777777777778,
              "#fb9f3a"
             ],
             [
              0.8888888888888888,
              "#fdca26"
             ],
             [
              1,
              "#f0f921"
             ]
            ],
            "type": "contour"
           }
          ],
          "contourcarpet": [
           {
            "colorbar": {
             "outlinewidth": 0,
             "ticks": ""
            },
            "type": "contourcarpet"
           }
          ],
          "heatmap": [
           {
            "colorbar": {
             "outlinewidth": 0,
             "ticks": ""
            },
            "colorscale": [
             [
              0,
              "#0d0887"
             ],
             [
              0.1111111111111111,
              "#46039f"
             ],
             [
              0.2222222222222222,
              "#7201a8"
             ],
             [
              0.3333333333333333,
              "#9c179e"
             ],
             [
              0.4444444444444444,
              "#bd3786"
             ],
             [
              0.5555555555555556,
              "#d8576b"
             ],
             [
              0.6666666666666666,
              "#ed7953"
             ],
             [
              0.7777777777777778,
              "#fb9f3a"
             ],
             [
              0.8888888888888888,
              "#fdca26"
             ],
             [
              1,
              "#f0f921"
             ]
            ],
            "type": "heatmap"
           }
          ],
          "heatmapgl": [
           {
            "colorbar": {
             "outlinewidth": 0,
             "ticks": ""
            },
            "colorscale": [
             [
              0,
              "#0d0887"
             ],
             [
              0.1111111111111111,
              "#46039f"
             ],
             [
              0.2222222222222222,
              "#7201a8"
             ],
             [
              0.3333333333333333,
              "#9c179e"
             ],
             [
              0.4444444444444444,
              "#bd3786"
             ],
             [
              0.5555555555555556,
              "#d8576b"
             ],
             [
              0.6666666666666666,
              "#ed7953"
             ],
             [
              0.7777777777777778,
              "#fb9f3a"
             ],
             [
              0.8888888888888888,
              "#fdca26"
             ],
             [
              1,
              "#f0f921"
             ]
            ],
            "type": "heatmapgl"
           }
          ],
          "histogram": [
           {
            "marker": {
             "pattern": {
              "fillmode": "overlay",
              "size": 10,
              "solidity": 0.2
             }
            },
            "type": "histogram"
           }
          ],
          "histogram2d": [
           {
            "colorbar": {
             "outlinewidth": 0,
             "ticks": ""
            },
            "colorscale": [
             [
              0,
              "#0d0887"
             ],
             [
              0.1111111111111111,
              "#46039f"
             ],
             [
              0.2222222222222222,
              "#7201a8"
             ],
             [
              0.3333333333333333,
              "#9c179e"
             ],
             [
              0.4444444444444444,
              "#bd3786"
             ],
             [
              0.5555555555555556,
              "#d8576b"
             ],
             [
              0.6666666666666666,
              "#ed7953"
             ],
             [
              0.7777777777777778,
              "#fb9f3a"
             ],
             [
              0.8888888888888888,
              "#fdca26"
             ],
             [
              1,
              "#f0f921"
             ]
            ],
            "type": "histogram2d"
           }
          ],
          "histogram2dcontour": [
           {
            "colorbar": {
             "outlinewidth": 0,
             "ticks": ""
            },
            "colorscale": [
             [
              0,
              "#0d0887"
             ],
             [
              0.1111111111111111,
              "#46039f"
             ],
             [
              0.2222222222222222,
              "#7201a8"
             ],
             [
              0.3333333333333333,
              "#9c179e"
             ],
             [
              0.4444444444444444,
              "#bd3786"
             ],
             [
              0.5555555555555556,
              "#d8576b"
             ],
             [
              0.6666666666666666,
              "#ed7953"
             ],
             [
              0.7777777777777778,
              "#fb9f3a"
             ],
             [
              0.8888888888888888,
              "#fdca26"
             ],
             [
              1,
              "#f0f921"
             ]
            ],
            "type": "histogram2dcontour"
           }
          ],
          "mesh3d": [
           {
            "colorbar": {
             "outlinewidth": 0,
             "ticks": ""
            },
            "type": "mesh3d"
           }
          ],
          "parcoords": [
           {
            "line": {
             "colorbar": {
              "outlinewidth": 0,
              "ticks": ""
             }
            },
            "type": "parcoords"
           }
          ],
          "pie": [
           {
            "automargin": true,
            "type": "pie"
           }
          ],
          "scatter": [
           {
            "fillpattern": {
             "fillmode": "overlay",
             "size": 10,
             "solidity": 0.2
            },
            "type": "scatter"
           }
          ],
          "scatter3d": [
           {
            "line": {
             "colorbar": {
              "outlinewidth": 0,
              "ticks": ""
             }
            },
            "marker": {
             "colorbar": {
              "outlinewidth": 0,
              "ticks": ""
             }
            },
            "type": "scatter3d"
           }
          ],
          "scattercarpet": [
           {
            "marker": {
             "colorbar": {
              "outlinewidth": 0,
              "ticks": ""
             }
            },
            "type": "scattercarpet"
           }
          ],
          "scattergeo": [
           {
            "marker": {
             "colorbar": {
              "outlinewidth": 0,
              "ticks": ""
             }
            },
            "type": "scattergeo"
           }
          ],
          "scattergl": [
           {
            "marker": {
             "colorbar": {
              "outlinewidth": 0,
              "ticks": ""
             }
            },
            "type": "scattergl"
           }
          ],
          "scattermapbox": [
           {
            "marker": {
             "colorbar": {
              "outlinewidth": 0,
              "ticks": ""
             }
            },
            "type": "scattermapbox"
           }
          ],
          "scatterpolar": [
           {
            "marker": {
             "colorbar": {
              "outlinewidth": 0,
              "ticks": ""
             }
            },
            "type": "scatterpolar"
           }
          ],
          "scatterpolargl": [
           {
            "marker": {
             "colorbar": {
              "outlinewidth": 0,
              "ticks": ""
             }
            },
            "type": "scatterpolargl"
           }
          ],
          "scatterternary": [
           {
            "marker": {
             "colorbar": {
              "outlinewidth": 0,
              "ticks": ""
             }
            },
            "type": "scatterternary"
           }
          ],
          "surface": [
           {
            "colorbar": {
             "outlinewidth": 0,
             "ticks": ""
            },
            "colorscale": [
             [
              0,
              "#0d0887"
             ],
             [
              0.1111111111111111,
              "#46039f"
             ],
             [
              0.2222222222222222,
              "#7201a8"
             ],
             [
              0.3333333333333333,
              "#9c179e"
             ],
             [
              0.4444444444444444,
              "#bd3786"
             ],
             [
              0.5555555555555556,
              "#d8576b"
             ],
             [
              0.6666666666666666,
              "#ed7953"
             ],
             [
              0.7777777777777778,
              "#fb9f3a"
             ],
             [
              0.8888888888888888,
              "#fdca26"
             ],
             [
              1,
              "#f0f921"
             ]
            ],
            "type": "surface"
           }
          ],
          "table": [
           {
            "cells": {
             "fill": {
              "color": "#EBF0F8"
             },
             "line": {
              "color": "white"
             }
            },
            "header": {
             "fill": {
              "color": "#C8D4E3"
             },
             "line": {
              "color": "white"
             }
            },
            "type": "table"
           }
          ]
         },
         "layout": {
          "annotationdefaults": {
           "arrowcolor": "#2a3f5f",
           "arrowhead": 0,
           "arrowwidth": 1
          },
          "autotypenumbers": "strict",
          "coloraxis": {
           "colorbar": {
            "outlinewidth": 0,
            "ticks": ""
           }
          },
          "colorscale": {
           "diverging": [
            [
             0,
             "#8e0152"
            ],
            [
             0.1,
             "#c51b7d"
            ],
            [
             0.2,
             "#de77ae"
            ],
            [
             0.3,
             "#f1b6da"
            ],
            [
             0.4,
             "#fde0ef"
            ],
            [
             0.5,
             "#f7f7f7"
            ],
            [
             0.6,
             "#e6f5d0"
            ],
            [
             0.7,
             "#b8e186"
            ],
            [
             0.8,
             "#7fbc41"
            ],
            [
             0.9,
             "#4d9221"
            ],
            [
             1,
             "#276419"
            ]
           ],
           "sequential": [
            [
             0,
             "#0d0887"
            ],
            [
             0.1111111111111111,
             "#46039f"
            ],
            [
             0.2222222222222222,
             "#7201a8"
            ],
            [
             0.3333333333333333,
             "#9c179e"
            ],
            [
             0.4444444444444444,
             "#bd3786"
            ],
            [
             0.5555555555555556,
             "#d8576b"
            ],
            [
             0.6666666666666666,
             "#ed7953"
            ],
            [
             0.7777777777777778,
             "#fb9f3a"
            ],
            [
             0.8888888888888888,
             "#fdca26"
            ],
            [
             1,
             "#f0f921"
            ]
           ],
           "sequentialminus": [
            [
             0,
             "#0d0887"
            ],
            [
             0.1111111111111111,
             "#46039f"
            ],
            [
             0.2222222222222222,
             "#7201a8"
            ],
            [
             0.3333333333333333,
             "#9c179e"
            ],
            [
             0.4444444444444444,
             "#bd3786"
            ],
            [
             0.5555555555555556,
             "#d8576b"
            ],
            [
             0.6666666666666666,
             "#ed7953"
            ],
            [
             0.7777777777777778,
             "#fb9f3a"
            ],
            [
             0.8888888888888888,
             "#fdca26"
            ],
            [
             1,
             "#f0f921"
            ]
           ]
          },
          "colorway": [
           "#636efa",
           "#EF553B",
           "#00cc96",
           "#ab63fa",
           "#FFA15A",
           "#19d3f3",
           "#FF6692",
           "#B6E880",
           "#FF97FF",
           "#FECB52"
          ],
          "font": {
           "color": "#2a3f5f"
          },
          "geo": {
           "bgcolor": "white",
           "lakecolor": "white",
           "landcolor": "#E5ECF6",
           "showlakes": true,
           "showland": true,
           "subunitcolor": "white"
          },
          "hoverlabel": {
           "align": "left"
          },
          "hovermode": "closest",
          "mapbox": {
           "style": "light"
          },
          "paper_bgcolor": "white",
          "plot_bgcolor": "#E5ECF6",
          "polar": {
           "angularaxis": {
            "gridcolor": "white",
            "linecolor": "white",
            "ticks": ""
           },
           "bgcolor": "#E5ECF6",
           "radialaxis": {
            "gridcolor": "white",
            "linecolor": "white",
            "ticks": ""
           }
          },
          "scene": {
           "xaxis": {
            "backgroundcolor": "#E5ECF6",
            "gridcolor": "white",
            "gridwidth": 2,
            "linecolor": "white",
            "showbackground": true,
            "ticks": "",
            "zerolinecolor": "white"
           },
           "yaxis": {
            "backgroundcolor": "#E5ECF6",
            "gridcolor": "white",
            "gridwidth": 2,
            "linecolor": "white",
            "showbackground": true,
            "ticks": "",
            "zerolinecolor": "white"
           },
           "zaxis": {
            "backgroundcolor": "#E5ECF6",
            "gridcolor": "white",
            "gridwidth": 2,
            "linecolor": "white",
            "showbackground": true,
            "ticks": "",
            "zerolinecolor": "white"
           }
          },
          "shapedefaults": {
           "line": {
            "color": "#2a3f5f"
           }
          },
          "ternary": {
           "aaxis": {
            "gridcolor": "white",
            "linecolor": "white",
            "ticks": ""
           },
           "baxis": {
            "gridcolor": "white",
            "linecolor": "white",
            "ticks": ""
           },
           "bgcolor": "#E5ECF6",
           "caxis": {
            "gridcolor": "white",
            "linecolor": "white",
            "ticks": ""
           }
          },
          "title": {
           "x": 0.05
          },
          "xaxis": {
           "automargin": true,
           "gridcolor": "white",
           "linecolor": "white",
           "ticks": "",
           "title": {
            "standoff": 15
           },
           "zerolinecolor": "white",
           "zerolinewidth": 2
          },
          "yaxis": {
           "automargin": true,
           "gridcolor": "white",
           "linecolor": "white",
           "ticks": "",
           "title": {
            "standoff": 15
           },
           "zerolinecolor": "white",
           "zerolinewidth": 2
          }
         }
        },
        "title": {
         "font": {
          "color": "#4D5663"
         }
        },
        "xaxis": {
         "gridcolor": "#E1E5ED",
         "showgrid": true,
         "tickfont": {
          "color": "#4D5663"
         },
         "title": {
          "font": {
           "color": "#4D5663"
          },
          "text": ""
         },
         "zerolinecolor": "#E1E5ED"
        },
        "yaxis": {
         "gridcolor": "#E1E5ED",
         "showgrid": true,
         "tickfont": {
          "color": "#4D5663"
         },
         "title": {
          "font": {
           "color": "#4D5663"
          },
          "text": ""
         },
         "zerolinecolor": "#E1E5ED"
        }
       }
      },
      "text/html": [
       "<div>                            <div id=\"36280f17-64c0-47df-be96-bec7306a9339\" class=\"plotly-graph-div\" style=\"height:525px; width:100%;\"></div>            <script type=\"text/javascript\">                require([\"plotly\"], function(Plotly) {                    window.PLOTLYENV=window.PLOTLYENV || {};\n",
       "                    window.PLOTLYENV.BASE_URL='https://plot.ly';                                    if (document.getElementById(\"36280f17-64c0-47df-be96-bec7306a9339\")) {                    Plotly.newPlot(                        \"36280f17-64c0-47df-be96-bec7306a9339\",                        [{\"marker\":{\"color\":[\"rgb(255, 153, 51)\",\"rgb(55, 128, 191)\",\"rgb(50, 171, 96)\",\"rgb(128, 0, 128)\",\"rgb(219, 64, 82)\",\"rgb(0, 128, 128)\",\"rgb(255, 255, 51)\",\"rgb(128, 128, 0)\",\"rgb(251, 128, 114)\",\"rgb(128, 177, 211)\"],\"line\":{\"width\":1.3},\"size\":[67,92,85,93,55,96,72,106,98,56,56,21,20,99,88,71,60,61,65,44,109,100,41,93,37,64,109,58,93,88,75,76,70,71,55,16,98,67,81,66,63,37,59,49,58,72,73,44,63,112,60,74,16,54,75,57,65,67,105,18,80,77,91,81,72,67,93,65,75,71,57,70,65,41,61,75,66,69,62,32,26,87,91,39,77,33,87,72,32,64,65,68,41,73,61,82,85,12,51,88],\"symbol\":\"circle\"},\"mode\":\"markers\",\"text\":\"\",\"x\":[-1.128527421491057,-0.8325364170784427,1.117759011436061,0.11495821582242938,0.9305397397535681,-0.056959321380706515,-0.5762026578238985,0.325320359316401,-1.9649153531373396,-0.38095279402790533,-0.7454931605462313,0.8976973947563892,-1.1235804539847107,-0.953172193107549,-0.6759776688995367,0.8002755785061688,1.0494633796587234,0.7378447030414386,0.12986113700123267,1.086286389801609,0.08155836201718823,0.9229784489921659,-0.09369022766596474,-0.09856230970321986,1.098265891122033,-1.4152131175655607,0.2611617624310045,2.1193649175716662,-0.6664020677940656,-0.48052259484460547,-0.7276838790005038,0.039524546708315525,0.318393553414977,-0.7196077416392381,0.3421313655229252,0.4388205758096896,-2.3550491633823247,-0.593569758262605,1.3047282106401816,2.443603175882856,0.28018107604832165,-0.8710273063882875,-0.4313328571744169,-0.5355094514622776,-1.0161943798253763,-0.3209224256029741,0.779425587893723,-0.11047731431318959,0.38402677202404795,0.9447772275780516,0.32871514758508485,-0.6560157443714713,0.08460414252776026,-0.5553487874460203,0.9471993168855736,0.6678767956742167,0.4208061364417931,-0.33768501018069025,1.1208605783273453,-1.144231224207155,-1.4199399126024166,-0.11313590371139508,1.3125136045441845,0.085954704596972,-0.7483688051037276,1.3962916765963318,0.6073003572383889,1.2964224252900522,1.28946390344804,2.030271679606397,0.24890115506565916,1.0408432010472008,-0.8196810968506483,-0.30181791205238634,-0.36394056053162893,0.7815149875165472,1.3196476078355661,1.727632647394526,0.3512575295402517,-0.6765221465830158,-1.4149174315858297,-0.21080941096235653,-1.78489892280663,-0.5243782750686626,-0.27859033504171876,-0.35180835776863956,0.43097713887934547,0.7307371202909417,1.7073564886167998,-1.4852143241881217,-1.964488410262696,-0.4693944143531847,1.5858342398604492,0.7595070765604511,0.9500923730675553,-1.5047798877080556,0.4176577629779211,1.1158898764399596,-1.9340101508934031,-0.9888974513248849],\"y\":[-0.8438017208608072,-1.451059827304447,0.31677438801135444,-1.8824266351071355,-1.4000326376861942,0.08622616529018719,0.1813405485240011,-0.1096132190531128,1.7808291385567678,-0.5833462656304863,-0.5575659926396725,0.40584827482506397,0.6101680257864976,0.06544046951260675,1.4314723011005817,-0.07243636161791522,0.07292612974172229,0.16531870386208344,1.5473983294693736,-0.40795910360537324,0.534994199581339,0.3181352605298431,0.5827471569825284,0.11797395439563242,1.7270203123041272,-0.7979657106730599,-0.33643680435496826,-0.09190581146404614,-0.19434919479635446,1.3323765092492732,-0.5097502377901193,1.0123102696031379,-1.434646410360193,-0.08510773094341798,2.360527793889873,1.769109412305407,0.03199133127897448,-0.7151940914551366,-0.2446046200943762,-1.6369575612289258,-0.0222854167728985,-0.8398559101888473,1.3674759577283377,0.15091042675588018,0.7009967420910446,-0.39591430298434566,-0.06094057313462858,-0.8229796690465562,1.5647951708797927,0.5724286683006631,0.022599323722141563,-0.5693125084686658,1.3114744511352885,-1.228875433688444,0.5402788075718962,1.31880764494986,-1.446003318952283,0.8414602348998687,1.6409498164147742,1.7271203005557403,0.9064534794866576,0.07765079767186345,0.9377878612527225,1.1174189380719395,0.6265982804893011,-0.8505598010938983,0.5062479847351922,0.29743743819756463,-0.26487197065108586,-0.6090971952882519,3.3784685380994843,-1.3651458003278483,1.5362075391723087,-1.8426372521276637,2.2187310815551857,0.8846437079633963,-0.3233740780746491,0.7383625124308305,2.588160313840058,-0.16678927700726093,0.4345932220808519,1.3522024747491594,2.1398157596463223,-0.5546882110557149,-0.5246472208537587,-0.3247726096531107,-0.42285621792837025,0.011079347946176672,-0.7670558734032875,1.5606469735113997,-0.6158162024941565,-0.43316149808904775,-0.6365567196593834,-0.14843480591937674,0.3734032314190597,1.4400219200722884,-1.0365022965768078,0.0849264308017044,0.4774918060323457,0.3055439179664504],\"type\":\"scatter\"}],                        {\"legend\":{\"bgcolor\":\"#F5F6F9\",\"font\":{\"color\":\"#4D5663\"}},\"paper_bgcolor\":\"#F5F6F9\",\"plot_bgcolor\":\"#F5F6F9\",\"template\":{\"data\":{\"barpolar\":[{\"marker\":{\"line\":{\"color\":\"#E5ECF6\",\"width\":0.5},\"pattern\":{\"fillmode\":\"overlay\",\"size\":10,\"solidity\":0.2}},\"type\":\"barpolar\"}],\"bar\":[{\"error_x\":{\"color\":\"#2a3f5f\"},\"error_y\":{\"color\":\"#2a3f5f\"},\"marker\":{\"line\":{\"color\":\"#E5ECF6\",\"width\":0.5},\"pattern\":{\"fillmode\":\"overlay\",\"size\":10,\"solidity\":0.2}},\"type\":\"bar\"}],\"carpet\":[{\"aaxis\":{\"endlinecolor\":\"#2a3f5f\",\"gridcolor\":\"white\",\"linecolor\":\"white\",\"minorgridcolor\":\"white\",\"startlinecolor\":\"#2a3f5f\"},\"baxis\":{\"endlinecolor\":\"#2a3f5f\",\"gridcolor\":\"white\",\"linecolor\":\"white\",\"minorgridcolor\":\"white\",\"startlinecolor\":\"#2a3f5f\"},\"type\":\"carpet\"}],\"choropleth\":[{\"colorbar\":{\"outlinewidth\":0,\"ticks\":\"\"},\"type\":\"choropleth\"}],\"contourcarpet\":[{\"colorbar\":{\"outlinewidth\":0,\"ticks\":\"\"},\"type\":\"contourcarpet\"}],\"contour\":[{\"colorbar\":{\"outlinewidth\":0,\"ticks\":\"\"},\"colorscale\":[[0.0,\"#0d0887\"],[0.1111111111111111,\"#46039f\"],[0.2222222222222222,\"#7201a8\"],[0.3333333333333333,\"#9c179e\"],[0.4444444444444444,\"#bd3786\"],[0.5555555555555556,\"#d8576b\"],[0.6666666666666666,\"#ed7953\"],[0.7777777777777778,\"#fb9f3a\"],[0.8888888888888888,\"#fdca26\"],[1.0,\"#f0f921\"]],\"type\":\"contour\"}],\"heatmapgl\":[{\"colorbar\":{\"outlinewidth\":0,\"ticks\":\"\"},\"colorscale\":[[0.0,\"#0d0887\"],[0.1111111111111111,\"#46039f\"],[0.2222222222222222,\"#7201a8\"],[0.3333333333333333,\"#9c179e\"],[0.4444444444444444,\"#bd3786\"],[0.5555555555555556,\"#d8576b\"],[0.6666666666666666,\"#ed7953\"],[0.7777777777777778,\"#fb9f3a\"],[0.8888888888888888,\"#fdca26\"],[1.0,\"#f0f921\"]],\"type\":\"heatmapgl\"}],\"heatmap\":[{\"colorbar\":{\"outlinewidth\":0,\"ticks\":\"\"},\"colorscale\":[[0.0,\"#0d0887\"],[0.1111111111111111,\"#46039f\"],[0.2222222222222222,\"#7201a8\"],[0.3333333333333333,\"#9c179e\"],[0.4444444444444444,\"#bd3786\"],[0.5555555555555556,\"#d8576b\"],[0.6666666666666666,\"#ed7953\"],[0.7777777777777778,\"#fb9f3a\"],[0.8888888888888888,\"#fdca26\"],[1.0,\"#f0f921\"]],\"type\":\"heatmap\"}],\"histogram2dcontour\":[{\"colorbar\":{\"outlinewidth\":0,\"ticks\":\"\"},\"colorscale\":[[0.0,\"#0d0887\"],[0.1111111111111111,\"#46039f\"],[0.2222222222222222,\"#7201a8\"],[0.3333333333333333,\"#9c179e\"],[0.4444444444444444,\"#bd3786\"],[0.5555555555555556,\"#d8576b\"],[0.6666666666666666,\"#ed7953\"],[0.7777777777777778,\"#fb9f3a\"],[0.8888888888888888,\"#fdca26\"],[1.0,\"#f0f921\"]],\"type\":\"histogram2dcontour\"}],\"histogram2d\":[{\"colorbar\":{\"outlinewidth\":0,\"ticks\":\"\"},\"colorscale\":[[0.0,\"#0d0887\"],[0.1111111111111111,\"#46039f\"],[0.2222222222222222,\"#7201a8\"],[0.3333333333333333,\"#9c179e\"],[0.4444444444444444,\"#bd3786\"],[0.5555555555555556,\"#d8576b\"],[0.6666666666666666,\"#ed7953\"],[0.7777777777777778,\"#fb9f3a\"],[0.8888888888888888,\"#fdca26\"],[1.0,\"#f0f921\"]],\"type\":\"histogram2d\"}],\"histogram\":[{\"marker\":{\"pattern\":{\"fillmode\":\"overlay\",\"size\":10,\"solidity\":0.2}},\"type\":\"histogram\"}],\"mesh3d\":[{\"colorbar\":{\"outlinewidth\":0,\"ticks\":\"\"},\"type\":\"mesh3d\"}],\"parcoords\":[{\"line\":{\"colorbar\":{\"outlinewidth\":0,\"ticks\":\"\"}},\"type\":\"parcoords\"}],\"pie\":[{\"automargin\":true,\"type\":\"pie\"}],\"scatter3d\":[{\"line\":{\"colorbar\":{\"outlinewidth\":0,\"ticks\":\"\"}},\"marker\":{\"colorbar\":{\"outlinewidth\":0,\"ticks\":\"\"}},\"type\":\"scatter3d\"}],\"scattercarpet\":[{\"marker\":{\"colorbar\":{\"outlinewidth\":0,\"ticks\":\"\"}},\"type\":\"scattercarpet\"}],\"scattergeo\":[{\"marker\":{\"colorbar\":{\"outlinewidth\":0,\"ticks\":\"\"}},\"type\":\"scattergeo\"}],\"scattergl\":[{\"marker\":{\"colorbar\":{\"outlinewidth\":0,\"ticks\":\"\"}},\"type\":\"scattergl\"}],\"scattermapbox\":[{\"marker\":{\"colorbar\":{\"outlinewidth\":0,\"ticks\":\"\"}},\"type\":\"scattermapbox\"}],\"scatterpolargl\":[{\"marker\":{\"colorbar\":{\"outlinewidth\":0,\"ticks\":\"\"}},\"type\":\"scatterpolargl\"}],\"scatterpolar\":[{\"marker\":{\"colorbar\":{\"outlinewidth\":0,\"ticks\":\"\"}},\"type\":\"scatterpolar\"}],\"scatter\":[{\"fillpattern\":{\"fillmode\":\"overlay\",\"size\":10,\"solidity\":0.2},\"type\":\"scatter\"}],\"scatterternary\":[{\"marker\":{\"colorbar\":{\"outlinewidth\":0,\"ticks\":\"\"}},\"type\":\"scatterternary\"}],\"surface\":[{\"colorbar\":{\"outlinewidth\":0,\"ticks\":\"\"},\"colorscale\":[[0.0,\"#0d0887\"],[0.1111111111111111,\"#46039f\"],[0.2222222222222222,\"#7201a8\"],[0.3333333333333333,\"#9c179e\"],[0.4444444444444444,\"#bd3786\"],[0.5555555555555556,\"#d8576b\"],[0.6666666666666666,\"#ed7953\"],[0.7777777777777778,\"#fb9f3a\"],[0.8888888888888888,\"#fdca26\"],[1.0,\"#f0f921\"]],\"type\":\"surface\"}],\"table\":[{\"cells\":{\"fill\":{\"color\":\"#EBF0F8\"},\"line\":{\"color\":\"white\"}},\"header\":{\"fill\":{\"color\":\"#C8D4E3\"},\"line\":{\"color\":\"white\"}},\"type\":\"table\"}]},\"layout\":{\"annotationdefaults\":{\"arrowcolor\":\"#2a3f5f\",\"arrowhead\":0,\"arrowwidth\":1},\"autotypenumbers\":\"strict\",\"coloraxis\":{\"colorbar\":{\"outlinewidth\":0,\"ticks\":\"\"}},\"colorscale\":{\"diverging\":[[0,\"#8e0152\"],[0.1,\"#c51b7d\"],[0.2,\"#de77ae\"],[0.3,\"#f1b6da\"],[0.4,\"#fde0ef\"],[0.5,\"#f7f7f7\"],[0.6,\"#e6f5d0\"],[0.7,\"#b8e186\"],[0.8,\"#7fbc41\"],[0.9,\"#4d9221\"],[1,\"#276419\"]],\"sequential\":[[0.0,\"#0d0887\"],[0.1111111111111111,\"#46039f\"],[0.2222222222222222,\"#7201a8\"],[0.3333333333333333,\"#9c179e\"],[0.4444444444444444,\"#bd3786\"],[0.5555555555555556,\"#d8576b\"],[0.6666666666666666,\"#ed7953\"],[0.7777777777777778,\"#fb9f3a\"],[0.8888888888888888,\"#fdca26\"],[1.0,\"#f0f921\"]],\"sequentialminus\":[[0.0,\"#0d0887\"],[0.1111111111111111,\"#46039f\"],[0.2222222222222222,\"#7201a8\"],[0.3333333333333333,\"#9c179e\"],[0.4444444444444444,\"#bd3786\"],[0.5555555555555556,\"#d8576b\"],[0.6666666666666666,\"#ed7953\"],[0.7777777777777778,\"#fb9f3a\"],[0.8888888888888888,\"#fdca26\"],[1.0,\"#f0f921\"]]},\"colorway\":[\"#636efa\",\"#EF553B\",\"#00cc96\",\"#ab63fa\",\"#FFA15A\",\"#19d3f3\",\"#FF6692\",\"#B6E880\",\"#FF97FF\",\"#FECB52\"],\"font\":{\"color\":\"#2a3f5f\"},\"geo\":{\"bgcolor\":\"white\",\"lakecolor\":\"white\",\"landcolor\":\"#E5ECF6\",\"showlakes\":true,\"showland\":true,\"subunitcolor\":\"white\"},\"hoverlabel\":{\"align\":\"left\"},\"hovermode\":\"closest\",\"mapbox\":{\"style\":\"light\"},\"paper_bgcolor\":\"white\",\"plot_bgcolor\":\"#E5ECF6\",\"polar\":{\"angularaxis\":{\"gridcolor\":\"white\",\"linecolor\":\"white\",\"ticks\":\"\"},\"bgcolor\":\"#E5ECF6\",\"radialaxis\":{\"gridcolor\":\"white\",\"linecolor\":\"white\",\"ticks\":\"\"}},\"scene\":{\"xaxis\":{\"backgroundcolor\":\"#E5ECF6\",\"gridcolor\":\"white\",\"gridwidth\":2,\"linecolor\":\"white\",\"showbackground\":true,\"ticks\":\"\",\"zerolinecolor\":\"white\"},\"yaxis\":{\"backgroundcolor\":\"#E5ECF6\",\"gridcolor\":\"white\",\"gridwidth\":2,\"linecolor\":\"white\",\"showbackground\":true,\"ticks\":\"\",\"zerolinecolor\":\"white\"},\"zaxis\":{\"backgroundcolor\":\"#E5ECF6\",\"gridcolor\":\"white\",\"gridwidth\":2,\"linecolor\":\"white\",\"showbackground\":true,\"ticks\":\"\",\"zerolinecolor\":\"white\"}},\"shapedefaults\":{\"line\":{\"color\":\"#2a3f5f\"}},\"ternary\":{\"aaxis\":{\"gridcolor\":\"white\",\"linecolor\":\"white\",\"ticks\":\"\"},\"baxis\":{\"gridcolor\":\"white\",\"linecolor\":\"white\",\"ticks\":\"\"},\"bgcolor\":\"#E5ECF6\",\"caxis\":{\"gridcolor\":\"white\",\"linecolor\":\"white\",\"ticks\":\"\"}},\"title\":{\"x\":0.05},\"xaxis\":{\"automargin\":true,\"gridcolor\":\"white\",\"linecolor\":\"white\",\"ticks\":\"\",\"title\":{\"standoff\":15},\"zerolinecolor\":\"white\",\"zerolinewidth\":2},\"yaxis\":{\"automargin\":true,\"gridcolor\":\"white\",\"linecolor\":\"white\",\"ticks\":\"\",\"title\":{\"standoff\":15},\"zerolinecolor\":\"white\",\"zerolinewidth\":2}}},\"title\":{\"font\":{\"color\":\"#4D5663\"}},\"xaxis\":{\"gridcolor\":\"#E1E5ED\",\"showgrid\":true,\"tickfont\":{\"color\":\"#4D5663\"},\"title\":{\"font\":{\"color\":\"#4D5663\"},\"text\":\"\"},\"zerolinecolor\":\"#E1E5ED\"},\"yaxis\":{\"gridcolor\":\"#E1E5ED\",\"showgrid\":true,\"tickfont\":{\"color\":\"#4D5663\"},\"title\":{\"font\":{\"color\":\"#4D5663\"},\"text\":\"\"},\"zerolinecolor\":\"#E1E5ED\"}},                        {\"showLink\": true, \"linkText\": \"Export to plot.ly\", \"plotlyServerURL\": \"https://plot.ly\", \"responsive\": true}                    ).then(function(){\n",
       "                            \n",
       "var gd = document.getElementById('36280f17-64c0-47df-be96-bec7306a9339');\n",
       "var x = new MutationObserver(function (mutations, observer) {{\n",
       "        var display = window.getComputedStyle(gd).display;\n",
       "        if (!display || display === 'none') {{\n",
       "            console.log([gd, 'removed!']);\n",
       "            Plotly.purge(gd);\n",
       "            observer.disconnect();\n",
       "        }}\n",
       "}});\n",
       "\n",
       "// Listen for the removal of the full notebook cells\n",
       "var notebookContainer = gd.closest('#notebook-container');\n",
       "if (notebookContainer) {{\n",
       "    x.observe(notebookContainer, {childList: true});\n",
       "}}\n",
       "\n",
       "// Listen for the clearing of the current output cell\n",
       "var outputEl = gd.closest('.output');\n",
       "if (outputEl) {{\n",
       "    x.observe(outputEl, {childList: true});\n",
       "}}\n",
       "\n",
       "                        })                };                });            </script>        </div>"
      ]
     },
     "metadata": {},
     "output_type": "display_data"
    }
   ],
   "source": [
    "df.iplot(kind='bubble',x='A',y='B',size='C')"
   ]
  },
  {
   "cell_type": "markdown",
   "metadata": {},
   "source": [
    "## scatter_matrix()\n",
    "\n",
    "Similar to sns.pairplot()"
   ]
  },
  {
   "cell_type": "code",
   "execution_count": 20,
   "metadata": {},
   "outputs": [
    {
     "data": {
      "application/vnd.plotly.v1+json": {
       "config": {
        "linkText": "Export to plot.ly",
        "plotlyServerURL": "https://plot.ly",
        "showLink": true
       },
       "data": [
        {
         "histfunc": "count",
         "histnorm": "",
         "marker": {
          "color": "rgba(255, 153, 51, 1.0)",
          "line": {
           "color": "#4D5663",
           "width": 1.3
          }
         },
         "name": "A",
         "nbinsx": 10,
         "opacity": 0.8,
         "orientation": "v",
         "type": "histogram",
         "x": [
          -1.128527421491057,
          -0.8325364170784427,
          1.117759011436061,
          0.11495821582242938,
          0.9305397397535681,
          -0.056959321380706515,
          -0.5762026578238985,
          0.325320359316401,
          -1.9649153531373396,
          -0.38095279402790533,
          -0.7454931605462313,
          0.8976973947563892,
          -1.1235804539847107,
          -0.953172193107549,
          -0.6759776688995367,
          0.8002755785061688,
          1.0494633796587234,
          0.7378447030414386,
          0.12986113700123267,
          1.086286389801609,
          0.08155836201718823,
          0.9229784489921659,
          -0.09369022766596474,
          -0.09856230970321986,
          1.098265891122033,
          -1.4152131175655607,
          0.2611617624310045,
          2.1193649175716662,
          -0.6664020677940656,
          -0.48052259484460547,
          -0.7276838790005038,
          0.039524546708315525,
          0.318393553414977,
          -0.7196077416392381,
          0.3421313655229252,
          0.4388205758096896,
          -2.3550491633823247,
          -0.593569758262605,
          1.3047282106401816,
          2.443603175882856,
          0.28018107604832165,
          -0.8710273063882875,
          -0.4313328571744169,
          -0.5355094514622776,
          -1.0161943798253763,
          -0.3209224256029741,
          0.779425587893723,
          -0.11047731431318959,
          0.38402677202404795,
          0.9447772275780516,
          0.32871514758508485,
          -0.6560157443714713,
          0.08460414252776026,
          -0.5553487874460203,
          0.9471993168855736,
          0.6678767956742167,
          0.4208061364417931,
          -0.33768501018069025,
          1.1208605783273453,
          -1.144231224207155,
          -1.4199399126024166,
          -0.11313590371139508,
          1.3125136045441845,
          0.085954704596972,
          -0.7483688051037276,
          1.3962916765963318,
          0.6073003572383889,
          1.2964224252900522,
          1.28946390344804,
          2.030271679606397,
          0.24890115506565916,
          1.0408432010472008,
          -0.8196810968506483,
          -0.30181791205238634,
          -0.36394056053162893,
          0.7815149875165472,
          1.3196476078355661,
          1.727632647394526,
          0.3512575295402517,
          -0.6765221465830158,
          -1.4149174315858297,
          -0.21080941096235653,
          -1.78489892280663,
          -0.5243782750686626,
          -0.27859033504171876,
          -0.35180835776863956,
          0.43097713887934547,
          0.7307371202909417,
          1.7073564886167998,
          -1.4852143241881217,
          -1.964488410262696,
          -0.4693944143531847,
          1.5858342398604492,
          0.7595070765604511,
          0.9500923730675553,
          -1.5047798877080556,
          0.4176577629779211,
          1.1158898764399596,
          -1.9340101508934031,
          -0.9888974513248849
         ],
         "xaxis": "x",
         "yaxis": "y"
        },
        {
         "line": {
          "color": "rgba(128, 128, 128, 1.0)",
          "dash": "solid",
          "shape": "linear",
          "width": 1.3
         },
         "marker": {
          "size": 2,
          "symbol": "circle"
         },
         "mode": "markers",
         "name": "A",
         "text": "",
         "type": "scatter",
         "x": [
          -0.8438017208608072,
          -1.451059827304447,
          0.31677438801135444,
          -1.8824266351071355,
          -1.4000326376861942,
          0.08622616529018719,
          0.1813405485240011,
          -0.1096132190531128,
          1.7808291385567678,
          -0.5833462656304863,
          -0.5575659926396725,
          0.40584827482506397,
          0.6101680257864976,
          0.06544046951260675,
          1.4314723011005817,
          -0.07243636161791522,
          0.07292612974172229,
          0.16531870386208344,
          1.5473983294693736,
          -0.40795910360537324,
          0.534994199581339,
          0.3181352605298431,
          0.5827471569825284,
          0.11797395439563242,
          1.7270203123041272,
          -0.7979657106730599,
          -0.33643680435496826,
          -0.09190581146404614,
          -0.19434919479635446,
          1.3323765092492732,
          -0.5097502377901193,
          1.0123102696031379,
          -1.434646410360193,
          -0.08510773094341798,
          2.360527793889873,
          1.769109412305407,
          0.03199133127897448,
          -0.7151940914551366,
          -0.2446046200943762,
          -1.6369575612289258,
          -0.0222854167728985,
          -0.8398559101888473,
          1.3674759577283377,
          0.15091042675588018,
          0.7009967420910446,
          -0.39591430298434566,
          -0.06094057313462858,
          -0.8229796690465562,
          1.5647951708797927,
          0.5724286683006631,
          0.022599323722141563,
          -0.5693125084686658,
          1.3114744511352885,
          -1.228875433688444,
          0.5402788075718962,
          1.31880764494986,
          -1.446003318952283,
          0.8414602348998687,
          1.6409498164147742,
          1.7271203005557403,
          0.9064534794866576,
          0.07765079767186345,
          0.9377878612527225,
          1.1174189380719395,
          0.6265982804893011,
          -0.8505598010938983,
          0.5062479847351922,
          0.29743743819756463,
          -0.26487197065108586,
          -0.6090971952882519,
          3.3784685380994843,
          -1.3651458003278483,
          1.5362075391723087,
          -1.8426372521276637,
          2.2187310815551857,
          0.8846437079633963,
          -0.3233740780746491,
          0.7383625124308305,
          2.588160313840058,
          -0.16678927700726093,
          0.4345932220808519,
          1.3522024747491594,
          2.1398157596463223,
          -0.5546882110557149,
          -0.5246472208537587,
          -0.3247726096531107,
          -0.42285621792837025,
          0.011079347946176672,
          -0.7670558734032875,
          1.5606469735113997,
          -0.6158162024941565,
          -0.43316149808904775,
          -0.6365567196593834,
          -0.14843480591937674,
          0.3734032314190597,
          1.4400219200722884,
          -1.0365022965768078,
          0.0849264308017044,
          0.4774918060323457,
          0.3055439179664504
         ],
         "xaxis": "x2",
         "y": [
          -1.128527421491057,
          -0.8325364170784427,
          1.117759011436061,
          0.11495821582242938,
          0.9305397397535681,
          -0.056959321380706515,
          -0.5762026578238985,
          0.325320359316401,
          -1.9649153531373396,
          -0.38095279402790533,
          -0.7454931605462313,
          0.8976973947563892,
          -1.1235804539847107,
          -0.953172193107549,
          -0.6759776688995367,
          0.8002755785061688,
          1.0494633796587234,
          0.7378447030414386,
          0.12986113700123267,
          1.086286389801609,
          0.08155836201718823,
          0.9229784489921659,
          -0.09369022766596474,
          -0.09856230970321986,
          1.098265891122033,
          -1.4152131175655607,
          0.2611617624310045,
          2.1193649175716662,
          -0.6664020677940656,
          -0.48052259484460547,
          -0.7276838790005038,
          0.039524546708315525,
          0.318393553414977,
          -0.7196077416392381,
          0.3421313655229252,
          0.4388205758096896,
          -2.3550491633823247,
          -0.593569758262605,
          1.3047282106401816,
          2.443603175882856,
          0.28018107604832165,
          -0.8710273063882875,
          -0.4313328571744169,
          -0.5355094514622776,
          -1.0161943798253763,
          -0.3209224256029741,
          0.779425587893723,
          -0.11047731431318959,
          0.38402677202404795,
          0.9447772275780516,
          0.32871514758508485,
          -0.6560157443714713,
          0.08460414252776026,
          -0.5553487874460203,
          0.9471993168855736,
          0.6678767956742167,
          0.4208061364417931,
          -0.33768501018069025,
          1.1208605783273453,
          -1.144231224207155,
          -1.4199399126024166,
          -0.11313590371139508,
          1.3125136045441845,
          0.085954704596972,
          -0.7483688051037276,
          1.3962916765963318,
          0.6073003572383889,
          1.2964224252900522,
          1.28946390344804,
          2.030271679606397,
          0.24890115506565916,
          1.0408432010472008,
          -0.8196810968506483,
          -0.30181791205238634,
          -0.36394056053162893,
          0.7815149875165472,
          1.3196476078355661,
          1.727632647394526,
          0.3512575295402517,
          -0.6765221465830158,
          -1.4149174315858297,
          -0.21080941096235653,
          -1.78489892280663,
          -0.5243782750686626,
          -0.27859033504171876,
          -0.35180835776863956,
          0.43097713887934547,
          0.7307371202909417,
          1.7073564886167998,
          -1.4852143241881217,
          -1.964488410262696,
          -0.4693944143531847,
          1.5858342398604492,
          0.7595070765604511,
          0.9500923730675553,
          -1.5047798877080556,
          0.4176577629779211,
          1.1158898764399596,
          -1.9340101508934031,
          -0.9888974513248849
         ],
         "yaxis": "y2"
        },
        {
         "line": {
          "color": "rgba(128, 128, 128, 1.0)",
          "dash": "solid",
          "shape": "linear",
          "width": 1.3
         },
         "marker": {
          "size": 2,
          "symbol": "circle"
         },
         "mode": "markers",
         "name": "A",
         "text": "",
         "type": "scatter",
         "x": [
          -0.052997427688089925,
          1.0939192030529579,
          0.7836385103413706,
          1.1285648084681439,
          -0.5602885457556053,
          1.302029337022206,
          0.1953898841930936,
          1.7332083933884679,
          1.3728472898237867,
          -0.5407000539889921,
          -0.5443508722708977,
          -2.1125935139792253,
          -2.162026658273078,
          1.4070820970863287,
          0.9170218751937319,
          0.15607343193527032,
          -0.3422807205126697,
          -0.3012945609589326,
          -0.10537036018678862,
          -1.089452885042992,
          1.8562011311582736,
          1.4468330111003407,
          -1.2073264315749066,
          1.1386956267422288,
          -1.3800384882678676,
          -0.18831081827046722,
          1.8852207938165892,
          -0.43600194728668434,
          1.1609184039239695,
          0.9165236241281612,
          0.31700494533500195,
          0.3605605593248934,
          0.12231270126087389,
          0.13147809041934225,
          -0.588173974794048,
          -2.3593658844283176,
          1.376405863101816,
          -0.02118661532237987,
          0.588894031363778,
          -0.07337750948481137,
          -0.20213617931148056,
          -1.3730070208357543,
          -0.4062430256807989,
          -0.8415162282989974,
          -0.435377673592703,
          0.19578142083593172,
          0.23502260973551314,
          -1.0726554965690713,
          -0.22454270175886124,
          1.9847132011316835,
          -0.3550573491889973,
          0.28310369497161714,
          -2.359267830448543,
          -0.6371548496002973,
          0.3466278420287463,
          -0.4793012276071593,
          -0.1419808436558441,
          -0.04758434563031437,
          1.7069953186584261,
          -2.2542378986384275,
          0.56554324087177,
          0.42587348763356003,
          1.0509085837941605,
          0.6128929113630869,
          0.17484827355805918,
          -0.009058222380550427,
          1.1659439896446162,
          -0.10426860582885965,
          0.34753260513155976,
          0.1451408718031967,
          -0.5058744938076509,
          0.1071242614410123,
          -0.12055245937245793,
          -1.2151826047751948,
          -0.32325423494812777,
          0.33655431014364956,
          -0.0698696979109782,
          0.039555328052211416,
          -0.2554685398288555,
          -1.6028989398528626,
          -1.883937271963367,
          0.8939645123756309,
          1.0351283227043337,
          -1.2981068855341964,
          0.4146278289099435,
          -1.5916940607804568,
          0.8640158545604475,
          0.20309766889398637,
          -1.6373362352662955,
          -0.1762541482334694,
          -0.11260991713828158,
          0.023965498717288224,
          -1.19241474612489,
          0.22722148858620456,
          -0.30260074267927256,
          0.6309700535740959,
          0.7865080117972115,
          -2.545093023517818,
          -0.7425157851817191,
          0.9290632258960806
         ],
         "xaxis": "x3",
         "y": [
          -1.128527421491057,
          -0.8325364170784427,
          1.117759011436061,
          0.11495821582242938,
          0.9305397397535681,
          -0.056959321380706515,
          -0.5762026578238985,
          0.325320359316401,
          -1.9649153531373396,
          -0.38095279402790533,
          -0.7454931605462313,
          0.8976973947563892,
          -1.1235804539847107,
          -0.953172193107549,
          -0.6759776688995367,
          0.8002755785061688,
          1.0494633796587234,
          0.7378447030414386,
          0.12986113700123267,
          1.086286389801609,
          0.08155836201718823,
          0.9229784489921659,
          -0.09369022766596474,
          -0.09856230970321986,
          1.098265891122033,
          -1.4152131175655607,
          0.2611617624310045,
          2.1193649175716662,
          -0.6664020677940656,
          -0.48052259484460547,
          -0.7276838790005038,
          0.039524546708315525,
          0.318393553414977,
          -0.7196077416392381,
          0.3421313655229252,
          0.4388205758096896,
          -2.3550491633823247,
          -0.593569758262605,
          1.3047282106401816,
          2.443603175882856,
          0.28018107604832165,
          -0.8710273063882875,
          -0.4313328571744169,
          -0.5355094514622776,
          -1.0161943798253763,
          -0.3209224256029741,
          0.779425587893723,
          -0.11047731431318959,
          0.38402677202404795,
          0.9447772275780516,
          0.32871514758508485,
          -0.6560157443714713,
          0.08460414252776026,
          -0.5553487874460203,
          0.9471993168855736,
          0.6678767956742167,
          0.4208061364417931,
          -0.33768501018069025,
          1.1208605783273453,
          -1.144231224207155,
          -1.4199399126024166,
          -0.11313590371139508,
          1.3125136045441845,
          0.085954704596972,
          -0.7483688051037276,
          1.3962916765963318,
          0.6073003572383889,
          1.2964224252900522,
          1.28946390344804,
          2.030271679606397,
          0.24890115506565916,
          1.0408432010472008,
          -0.8196810968506483,
          -0.30181791205238634,
          -0.36394056053162893,
          0.7815149875165472,
          1.3196476078355661,
          1.727632647394526,
          0.3512575295402517,
          -0.6765221465830158,
          -1.4149174315858297,
          -0.21080941096235653,
          -1.78489892280663,
          -0.5243782750686626,
          -0.27859033504171876,
          -0.35180835776863956,
          0.43097713887934547,
          0.7307371202909417,
          1.7073564886167998,
          -1.4852143241881217,
          -1.964488410262696,
          -0.4693944143531847,
          1.5858342398604492,
          0.7595070765604511,
          0.9500923730675553,
          -1.5047798877080556,
          0.4176577629779211,
          1.1158898764399596,
          -1.9340101508934031,
          -0.9888974513248849
         ],
         "yaxis": "y3"
        },
        {
         "line": {
          "color": "rgba(128, 128, 128, 1.0)",
          "dash": "solid",
          "shape": "linear",
          "width": 1.3
         },
         "marker": {
          "size": 2,
          "symbol": "circle"
         },
         "mode": "markers",
         "name": "A",
         "text": "",
         "type": "scatter",
         "x": [
          1.1300499630931804,
          -0.03908600458946342,
          0.6161873178201305,
          1.5041801411887108,
          -0.01104184889052825,
          -1.4541856527306678,
          0.1379127620570015,
          0.05286159430865403,
          -0.21042889059012565,
          0.41911444964394357,
          -0.66981986780956,
          0.4725573492237899,
          -1.3814385108058174,
          -0.2836422497981442,
          -0.7592911404368923,
          1.4936635418284283,
          0.5896762357130668,
          0.48345227631398735,
          -0.3912329696230036,
          -0.05492908159219744,
          0.6113565427068339,
          1.081266132516459,
          0.6043185670960939,
          -1.2130722858998417,
          -1.4452752491990506,
          -0.32570973748197096,
          0.2103576698999121,
          0.2166496317370823,
          -1.6090609509714906,
          -0.24335524747646176,
          1.5769555780993356,
          -0.146222080204656,
          -0.8723429769392964,
          -0.003121478823417625,
          -0.721850170888696,
          -1.1350238153561139,
          -1.6508953740672372,
          0.1972498795472664,
          0.6388213501375252,
          0.30022207267482137,
          -1.4284626396824047,
          -0.7125248040213117,
          2.235327564848775,
          -0.38879314849013463,
          0.01199331914743487,
          -1.064488753712766,
          -1.603302078640188,
          0.824758072320352,
          -1.4187811638540186,
          -0.4662994419120291,
          0.16746513943352692,
          -0.47374519308450536,
          0.25881683314690856,
          -1.7131277848658035,
          -1.680961034864507,
          0.753440010147552,
          1.7120081658646487,
          -1.1481475594169448,
          -0.4432656742514228,
          -0.8042576143325543,
          0.9553368253774911,
          0.10941651930449499,
          0.27593070834820616,
          -0.3950901519730633,
          -0.6579662554250679,
          -0.6703204355214106,
          -0.16176423837422535,
          0.9507292877091447,
          -0.4407686121893185,
          1.8045492845057018,
          -1.338210908582245,
          -1.6738321029650791,
          -0.43859649892924185,
          -0.3763633315130177,
          -0.2986416896820966,
          0.1892706422905342,
          -0.8820407555559685,
          -0.18018636261858956,
          0.5947380465804296,
          0.7060541524538173,
          -1.509582826291845,
          0.1421921318309323,
          -0.5022746243340366,
          -0.861918994089485,
          0.44031565181588245,
          -0.08158247893958946,
          -1.2197712929260776,
          -0.10361307390360547,
          0.008852384552850503,
          1.899068411392826,
          1.3562519302176974,
          0.22479296064795803,
          0.6013594415492209,
          -1.4745880407156362,
          1.0161975676006454,
          -0.6760327676513366,
          0.0673972731888613,
          -1.2536011060930559,
          0.48230858536971627,
          1.1302848040991256
         ],
         "xaxis": "x4",
         "y": [
          -1.128527421491057,
          -0.8325364170784427,
          1.117759011436061,
          0.11495821582242938,
          0.9305397397535681,
          -0.056959321380706515,
          -0.5762026578238985,
          0.325320359316401,
          -1.9649153531373396,
          -0.38095279402790533,
          -0.7454931605462313,
          0.8976973947563892,
          -1.1235804539847107,
          -0.953172193107549,
          -0.6759776688995367,
          0.8002755785061688,
          1.0494633796587234,
          0.7378447030414386,
          0.12986113700123267,
          1.086286389801609,
          0.08155836201718823,
          0.9229784489921659,
          -0.09369022766596474,
          -0.09856230970321986,
          1.098265891122033,
          -1.4152131175655607,
          0.2611617624310045,
          2.1193649175716662,
          -0.6664020677940656,
          -0.48052259484460547,
          -0.7276838790005038,
          0.039524546708315525,
          0.318393553414977,
          -0.7196077416392381,
          0.3421313655229252,
          0.4388205758096896,
          -2.3550491633823247,
          -0.593569758262605,
          1.3047282106401816,
          2.443603175882856,
          0.28018107604832165,
          -0.8710273063882875,
          -0.4313328571744169,
          -0.5355094514622776,
          -1.0161943798253763,
          -0.3209224256029741,
          0.779425587893723,
          -0.11047731431318959,
          0.38402677202404795,
          0.9447772275780516,
          0.32871514758508485,
          -0.6560157443714713,
          0.08460414252776026,
          -0.5553487874460203,
          0.9471993168855736,
          0.6678767956742167,
          0.4208061364417931,
          -0.33768501018069025,
          1.1208605783273453,
          -1.144231224207155,
          -1.4199399126024166,
          -0.11313590371139508,
          1.3125136045441845,
          0.085954704596972,
          -0.7483688051037276,
          1.3962916765963318,
          0.6073003572383889,
          1.2964224252900522,
          1.28946390344804,
          2.030271679606397,
          0.24890115506565916,
          1.0408432010472008,
          -0.8196810968506483,
          -0.30181791205238634,
          -0.36394056053162893,
          0.7815149875165472,
          1.3196476078355661,
          1.727632647394526,
          0.3512575295402517,
          -0.6765221465830158,
          -1.4149174315858297,
          -0.21080941096235653,
          -1.78489892280663,
          -0.5243782750686626,
          -0.27859033504171876,
          -0.35180835776863956,
          0.43097713887934547,
          0.7307371202909417,
          1.7073564886167998,
          -1.4852143241881217,
          -1.964488410262696,
          -0.4693944143531847,
          1.5858342398604492,
          0.7595070765604511,
          0.9500923730675553,
          -1.5047798877080556,
          0.4176577629779211,
          1.1158898764399596,
          -1.9340101508934031,
          -0.9888974513248849
         ],
         "yaxis": "y4"
        },
        {
         "line": {
          "color": "rgba(128, 128, 128, 1.0)",
          "dash": "solid",
          "shape": "linear",
          "width": 1.3
         },
         "marker": {
          "size": 2,
          "symbol": "circle"
         },
         "mode": "markers",
         "name": "B",
         "text": "",
         "type": "scatter",
         "x": [
          -1.128527421491057,
          -0.8325364170784427,
          1.117759011436061,
          0.11495821582242938,
          0.9305397397535681,
          -0.056959321380706515,
          -0.5762026578238985,
          0.325320359316401,
          -1.9649153531373396,
          -0.38095279402790533,
          -0.7454931605462313,
          0.8976973947563892,
          -1.1235804539847107,
          -0.953172193107549,
          -0.6759776688995367,
          0.8002755785061688,
          1.0494633796587234,
          0.7378447030414386,
          0.12986113700123267,
          1.086286389801609,
          0.08155836201718823,
          0.9229784489921659,
          -0.09369022766596474,
          -0.09856230970321986,
          1.098265891122033,
          -1.4152131175655607,
          0.2611617624310045,
          2.1193649175716662,
          -0.6664020677940656,
          -0.48052259484460547,
          -0.7276838790005038,
          0.039524546708315525,
          0.318393553414977,
          -0.7196077416392381,
          0.3421313655229252,
          0.4388205758096896,
          -2.3550491633823247,
          -0.593569758262605,
          1.3047282106401816,
          2.443603175882856,
          0.28018107604832165,
          -0.8710273063882875,
          -0.4313328571744169,
          -0.5355094514622776,
          -1.0161943798253763,
          -0.3209224256029741,
          0.779425587893723,
          -0.11047731431318959,
          0.38402677202404795,
          0.9447772275780516,
          0.32871514758508485,
          -0.6560157443714713,
          0.08460414252776026,
          -0.5553487874460203,
          0.9471993168855736,
          0.6678767956742167,
          0.4208061364417931,
          -0.33768501018069025,
          1.1208605783273453,
          -1.144231224207155,
          -1.4199399126024166,
          -0.11313590371139508,
          1.3125136045441845,
          0.085954704596972,
          -0.7483688051037276,
          1.3962916765963318,
          0.6073003572383889,
          1.2964224252900522,
          1.28946390344804,
          2.030271679606397,
          0.24890115506565916,
          1.0408432010472008,
          -0.8196810968506483,
          -0.30181791205238634,
          -0.36394056053162893,
          0.7815149875165472,
          1.3196476078355661,
          1.727632647394526,
          0.3512575295402517,
          -0.6765221465830158,
          -1.4149174315858297,
          -0.21080941096235653,
          -1.78489892280663,
          -0.5243782750686626,
          -0.27859033504171876,
          -0.35180835776863956,
          0.43097713887934547,
          0.7307371202909417,
          1.7073564886167998,
          -1.4852143241881217,
          -1.964488410262696,
          -0.4693944143531847,
          1.5858342398604492,
          0.7595070765604511,
          0.9500923730675553,
          -1.5047798877080556,
          0.4176577629779211,
          1.1158898764399596,
          -1.9340101508934031,
          -0.9888974513248849
         ],
         "xaxis": "x5",
         "y": [
          -0.8438017208608072,
          -1.451059827304447,
          0.31677438801135444,
          -1.8824266351071355,
          -1.4000326376861942,
          0.08622616529018719,
          0.1813405485240011,
          -0.1096132190531128,
          1.7808291385567678,
          -0.5833462656304863,
          -0.5575659926396725,
          0.40584827482506397,
          0.6101680257864976,
          0.06544046951260675,
          1.4314723011005817,
          -0.07243636161791522,
          0.07292612974172229,
          0.16531870386208344,
          1.5473983294693736,
          -0.40795910360537324,
          0.534994199581339,
          0.3181352605298431,
          0.5827471569825284,
          0.11797395439563242,
          1.7270203123041272,
          -0.7979657106730599,
          -0.33643680435496826,
          -0.09190581146404614,
          -0.19434919479635446,
          1.3323765092492732,
          -0.5097502377901193,
          1.0123102696031379,
          -1.434646410360193,
          -0.08510773094341798,
          2.360527793889873,
          1.769109412305407,
          0.03199133127897448,
          -0.7151940914551366,
          -0.2446046200943762,
          -1.6369575612289258,
          -0.0222854167728985,
          -0.8398559101888473,
          1.3674759577283377,
          0.15091042675588018,
          0.7009967420910446,
          -0.39591430298434566,
          -0.06094057313462858,
          -0.8229796690465562,
          1.5647951708797927,
          0.5724286683006631,
          0.022599323722141563,
          -0.5693125084686658,
          1.3114744511352885,
          -1.228875433688444,
          0.5402788075718962,
          1.31880764494986,
          -1.446003318952283,
          0.8414602348998687,
          1.6409498164147742,
          1.7271203005557403,
          0.9064534794866576,
          0.07765079767186345,
          0.9377878612527225,
          1.1174189380719395,
          0.6265982804893011,
          -0.8505598010938983,
          0.5062479847351922,
          0.29743743819756463,
          -0.26487197065108586,
          -0.6090971952882519,
          3.3784685380994843,
          -1.3651458003278483,
          1.5362075391723087,
          -1.8426372521276637,
          2.2187310815551857,
          0.8846437079633963,
          -0.3233740780746491,
          0.7383625124308305,
          2.588160313840058,
          -0.16678927700726093,
          0.4345932220808519,
          1.3522024747491594,
          2.1398157596463223,
          -0.5546882110557149,
          -0.5246472208537587,
          -0.3247726096531107,
          -0.42285621792837025,
          0.011079347946176672,
          -0.7670558734032875,
          1.5606469735113997,
          -0.6158162024941565,
          -0.43316149808904775,
          -0.6365567196593834,
          -0.14843480591937674,
          0.3734032314190597,
          1.4400219200722884,
          -1.0365022965768078,
          0.0849264308017044,
          0.4774918060323457,
          0.3055439179664504
         ],
         "yaxis": "y5"
        },
        {
         "histfunc": "count",
         "histnorm": "",
         "marker": {
          "color": "rgba(55, 128, 191, 1.0)",
          "line": {
           "color": "#4D5663",
           "width": 1.3
          }
         },
         "name": "B",
         "nbinsx": 10,
         "opacity": 0.8,
         "orientation": "v",
         "type": "histogram",
         "x": [
          -0.8438017208608072,
          -1.451059827304447,
          0.31677438801135444,
          -1.8824266351071355,
          -1.4000326376861942,
          0.08622616529018719,
          0.1813405485240011,
          -0.1096132190531128,
          1.7808291385567678,
          -0.5833462656304863,
          -0.5575659926396725,
          0.40584827482506397,
          0.6101680257864976,
          0.06544046951260675,
          1.4314723011005817,
          -0.07243636161791522,
          0.07292612974172229,
          0.16531870386208344,
          1.5473983294693736,
          -0.40795910360537324,
          0.534994199581339,
          0.3181352605298431,
          0.5827471569825284,
          0.11797395439563242,
          1.7270203123041272,
          -0.7979657106730599,
          -0.33643680435496826,
          -0.09190581146404614,
          -0.19434919479635446,
          1.3323765092492732,
          -0.5097502377901193,
          1.0123102696031379,
          -1.434646410360193,
          -0.08510773094341798,
          2.360527793889873,
          1.769109412305407,
          0.03199133127897448,
          -0.7151940914551366,
          -0.2446046200943762,
          -1.6369575612289258,
          -0.0222854167728985,
          -0.8398559101888473,
          1.3674759577283377,
          0.15091042675588018,
          0.7009967420910446,
          -0.39591430298434566,
          -0.06094057313462858,
          -0.8229796690465562,
          1.5647951708797927,
          0.5724286683006631,
          0.022599323722141563,
          -0.5693125084686658,
          1.3114744511352885,
          -1.228875433688444,
          0.5402788075718962,
          1.31880764494986,
          -1.446003318952283,
          0.8414602348998687,
          1.6409498164147742,
          1.7271203005557403,
          0.9064534794866576,
          0.07765079767186345,
          0.9377878612527225,
          1.1174189380719395,
          0.6265982804893011,
          -0.8505598010938983,
          0.5062479847351922,
          0.29743743819756463,
          -0.26487197065108586,
          -0.6090971952882519,
          3.3784685380994843,
          -1.3651458003278483,
          1.5362075391723087,
          -1.8426372521276637,
          2.2187310815551857,
          0.8846437079633963,
          -0.3233740780746491,
          0.7383625124308305,
          2.588160313840058,
          -0.16678927700726093,
          0.4345932220808519,
          1.3522024747491594,
          2.1398157596463223,
          -0.5546882110557149,
          -0.5246472208537587,
          -0.3247726096531107,
          -0.42285621792837025,
          0.011079347946176672,
          -0.7670558734032875,
          1.5606469735113997,
          -0.6158162024941565,
          -0.43316149808904775,
          -0.6365567196593834,
          -0.14843480591937674,
          0.3734032314190597,
          1.4400219200722884,
          -1.0365022965768078,
          0.0849264308017044,
          0.4774918060323457,
          0.3055439179664504
         ],
         "xaxis": "x6",
         "yaxis": "y6"
        },
        {
         "line": {
          "color": "rgba(128, 128, 128, 1.0)",
          "dash": "solid",
          "shape": "linear",
          "width": 1.3
         },
         "marker": {
          "size": 2,
          "symbol": "circle"
         },
         "mode": "markers",
         "name": "B",
         "text": "",
         "type": "scatter",
         "x": [
          -0.052997427688089925,
          1.0939192030529579,
          0.7836385103413706,
          1.1285648084681439,
          -0.5602885457556053,
          1.302029337022206,
          0.1953898841930936,
          1.7332083933884679,
          1.3728472898237867,
          -0.5407000539889921,
          -0.5443508722708977,
          -2.1125935139792253,
          -2.162026658273078,
          1.4070820970863287,
          0.9170218751937319,
          0.15607343193527032,
          -0.3422807205126697,
          -0.3012945609589326,
          -0.10537036018678862,
          -1.089452885042992,
          1.8562011311582736,
          1.4468330111003407,
          -1.2073264315749066,
          1.1386956267422288,
          -1.3800384882678676,
          -0.18831081827046722,
          1.8852207938165892,
          -0.43600194728668434,
          1.1609184039239695,
          0.9165236241281612,
          0.31700494533500195,
          0.3605605593248934,
          0.12231270126087389,
          0.13147809041934225,
          -0.588173974794048,
          -2.3593658844283176,
          1.376405863101816,
          -0.02118661532237987,
          0.588894031363778,
          -0.07337750948481137,
          -0.20213617931148056,
          -1.3730070208357543,
          -0.4062430256807989,
          -0.8415162282989974,
          -0.435377673592703,
          0.19578142083593172,
          0.23502260973551314,
          -1.0726554965690713,
          -0.22454270175886124,
          1.9847132011316835,
          -0.3550573491889973,
          0.28310369497161714,
          -2.359267830448543,
          -0.6371548496002973,
          0.3466278420287463,
          -0.4793012276071593,
          -0.1419808436558441,
          -0.04758434563031437,
          1.7069953186584261,
          -2.2542378986384275,
          0.56554324087177,
          0.42587348763356003,
          1.0509085837941605,
          0.6128929113630869,
          0.17484827355805918,
          -0.009058222380550427,
          1.1659439896446162,
          -0.10426860582885965,
          0.34753260513155976,
          0.1451408718031967,
          -0.5058744938076509,
          0.1071242614410123,
          -0.12055245937245793,
          -1.2151826047751948,
          -0.32325423494812777,
          0.33655431014364956,
          -0.0698696979109782,
          0.039555328052211416,
          -0.2554685398288555,
          -1.6028989398528626,
          -1.883937271963367,
          0.8939645123756309,
          1.0351283227043337,
          -1.2981068855341964,
          0.4146278289099435,
          -1.5916940607804568,
          0.8640158545604475,
          0.20309766889398637,
          -1.6373362352662955,
          -0.1762541482334694,
          -0.11260991713828158,
          0.023965498717288224,
          -1.19241474612489,
          0.22722148858620456,
          -0.30260074267927256,
          0.6309700535740959,
          0.7865080117972115,
          -2.545093023517818,
          -0.7425157851817191,
          0.9290632258960806
         ],
         "xaxis": "x7",
         "y": [
          -0.8438017208608072,
          -1.451059827304447,
          0.31677438801135444,
          -1.8824266351071355,
          -1.4000326376861942,
          0.08622616529018719,
          0.1813405485240011,
          -0.1096132190531128,
          1.7808291385567678,
          -0.5833462656304863,
          -0.5575659926396725,
          0.40584827482506397,
          0.6101680257864976,
          0.06544046951260675,
          1.4314723011005817,
          -0.07243636161791522,
          0.07292612974172229,
          0.16531870386208344,
          1.5473983294693736,
          -0.40795910360537324,
          0.534994199581339,
          0.3181352605298431,
          0.5827471569825284,
          0.11797395439563242,
          1.7270203123041272,
          -0.7979657106730599,
          -0.33643680435496826,
          -0.09190581146404614,
          -0.19434919479635446,
          1.3323765092492732,
          -0.5097502377901193,
          1.0123102696031379,
          -1.434646410360193,
          -0.08510773094341798,
          2.360527793889873,
          1.769109412305407,
          0.03199133127897448,
          -0.7151940914551366,
          -0.2446046200943762,
          -1.6369575612289258,
          -0.0222854167728985,
          -0.8398559101888473,
          1.3674759577283377,
          0.15091042675588018,
          0.7009967420910446,
          -0.39591430298434566,
          -0.06094057313462858,
          -0.8229796690465562,
          1.5647951708797927,
          0.5724286683006631,
          0.022599323722141563,
          -0.5693125084686658,
          1.3114744511352885,
          -1.228875433688444,
          0.5402788075718962,
          1.31880764494986,
          -1.446003318952283,
          0.8414602348998687,
          1.6409498164147742,
          1.7271203005557403,
          0.9064534794866576,
          0.07765079767186345,
          0.9377878612527225,
          1.1174189380719395,
          0.6265982804893011,
          -0.8505598010938983,
          0.5062479847351922,
          0.29743743819756463,
          -0.26487197065108586,
          -0.6090971952882519,
          3.3784685380994843,
          -1.3651458003278483,
          1.5362075391723087,
          -1.8426372521276637,
          2.2187310815551857,
          0.8846437079633963,
          -0.3233740780746491,
          0.7383625124308305,
          2.588160313840058,
          -0.16678927700726093,
          0.4345932220808519,
          1.3522024747491594,
          2.1398157596463223,
          -0.5546882110557149,
          -0.5246472208537587,
          -0.3247726096531107,
          -0.42285621792837025,
          0.011079347946176672,
          -0.7670558734032875,
          1.5606469735113997,
          -0.6158162024941565,
          -0.43316149808904775,
          -0.6365567196593834,
          -0.14843480591937674,
          0.3734032314190597,
          1.4400219200722884,
          -1.0365022965768078,
          0.0849264308017044,
          0.4774918060323457,
          0.3055439179664504
         ],
         "yaxis": "y7"
        },
        {
         "line": {
          "color": "rgba(128, 128, 128, 1.0)",
          "dash": "solid",
          "shape": "linear",
          "width": 1.3
         },
         "marker": {
          "size": 2,
          "symbol": "circle"
         },
         "mode": "markers",
         "name": "B",
         "text": "",
         "type": "scatter",
         "x": [
          1.1300499630931804,
          -0.03908600458946342,
          0.6161873178201305,
          1.5041801411887108,
          -0.01104184889052825,
          -1.4541856527306678,
          0.1379127620570015,
          0.05286159430865403,
          -0.21042889059012565,
          0.41911444964394357,
          -0.66981986780956,
          0.4725573492237899,
          -1.3814385108058174,
          -0.2836422497981442,
          -0.7592911404368923,
          1.4936635418284283,
          0.5896762357130668,
          0.48345227631398735,
          -0.3912329696230036,
          -0.05492908159219744,
          0.6113565427068339,
          1.081266132516459,
          0.6043185670960939,
          -1.2130722858998417,
          -1.4452752491990506,
          -0.32570973748197096,
          0.2103576698999121,
          0.2166496317370823,
          -1.6090609509714906,
          -0.24335524747646176,
          1.5769555780993356,
          -0.146222080204656,
          -0.8723429769392964,
          -0.003121478823417625,
          -0.721850170888696,
          -1.1350238153561139,
          -1.6508953740672372,
          0.1972498795472664,
          0.6388213501375252,
          0.30022207267482137,
          -1.4284626396824047,
          -0.7125248040213117,
          2.235327564848775,
          -0.38879314849013463,
          0.01199331914743487,
          -1.064488753712766,
          -1.603302078640188,
          0.824758072320352,
          -1.4187811638540186,
          -0.4662994419120291,
          0.16746513943352692,
          -0.47374519308450536,
          0.25881683314690856,
          -1.7131277848658035,
          -1.680961034864507,
          0.753440010147552,
          1.7120081658646487,
          -1.1481475594169448,
          -0.4432656742514228,
          -0.8042576143325543,
          0.9553368253774911,
          0.10941651930449499,
          0.27593070834820616,
          -0.3950901519730633,
          -0.6579662554250679,
          -0.6703204355214106,
          -0.16176423837422535,
          0.9507292877091447,
          -0.4407686121893185,
          1.8045492845057018,
          -1.338210908582245,
          -1.6738321029650791,
          -0.43859649892924185,
          -0.3763633315130177,
          -0.2986416896820966,
          0.1892706422905342,
          -0.8820407555559685,
          -0.18018636261858956,
          0.5947380465804296,
          0.7060541524538173,
          -1.509582826291845,
          0.1421921318309323,
          -0.5022746243340366,
          -0.861918994089485,
          0.44031565181588245,
          -0.08158247893958946,
          -1.2197712929260776,
          -0.10361307390360547,
          0.008852384552850503,
          1.899068411392826,
          1.3562519302176974,
          0.22479296064795803,
          0.6013594415492209,
          -1.4745880407156362,
          1.0161975676006454,
          -0.6760327676513366,
          0.0673972731888613,
          -1.2536011060930559,
          0.48230858536971627,
          1.1302848040991256
         ],
         "xaxis": "x8",
         "y": [
          -0.8438017208608072,
          -1.451059827304447,
          0.31677438801135444,
          -1.8824266351071355,
          -1.4000326376861942,
          0.08622616529018719,
          0.1813405485240011,
          -0.1096132190531128,
          1.7808291385567678,
          -0.5833462656304863,
          -0.5575659926396725,
          0.40584827482506397,
          0.6101680257864976,
          0.06544046951260675,
          1.4314723011005817,
          -0.07243636161791522,
          0.07292612974172229,
          0.16531870386208344,
          1.5473983294693736,
          -0.40795910360537324,
          0.534994199581339,
          0.3181352605298431,
          0.5827471569825284,
          0.11797395439563242,
          1.7270203123041272,
          -0.7979657106730599,
          -0.33643680435496826,
          -0.09190581146404614,
          -0.19434919479635446,
          1.3323765092492732,
          -0.5097502377901193,
          1.0123102696031379,
          -1.434646410360193,
          -0.08510773094341798,
          2.360527793889873,
          1.769109412305407,
          0.03199133127897448,
          -0.7151940914551366,
          -0.2446046200943762,
          -1.6369575612289258,
          -0.0222854167728985,
          -0.8398559101888473,
          1.3674759577283377,
          0.15091042675588018,
          0.7009967420910446,
          -0.39591430298434566,
          -0.06094057313462858,
          -0.8229796690465562,
          1.5647951708797927,
          0.5724286683006631,
          0.022599323722141563,
          -0.5693125084686658,
          1.3114744511352885,
          -1.228875433688444,
          0.5402788075718962,
          1.31880764494986,
          -1.446003318952283,
          0.8414602348998687,
          1.6409498164147742,
          1.7271203005557403,
          0.9064534794866576,
          0.07765079767186345,
          0.9377878612527225,
          1.1174189380719395,
          0.6265982804893011,
          -0.8505598010938983,
          0.5062479847351922,
          0.29743743819756463,
          -0.26487197065108586,
          -0.6090971952882519,
          3.3784685380994843,
          -1.3651458003278483,
          1.5362075391723087,
          -1.8426372521276637,
          2.2187310815551857,
          0.8846437079633963,
          -0.3233740780746491,
          0.7383625124308305,
          2.588160313840058,
          -0.16678927700726093,
          0.4345932220808519,
          1.3522024747491594,
          2.1398157596463223,
          -0.5546882110557149,
          -0.5246472208537587,
          -0.3247726096531107,
          -0.42285621792837025,
          0.011079347946176672,
          -0.7670558734032875,
          1.5606469735113997,
          -0.6158162024941565,
          -0.43316149808904775,
          -0.6365567196593834,
          -0.14843480591937674,
          0.3734032314190597,
          1.4400219200722884,
          -1.0365022965768078,
          0.0849264308017044,
          0.4774918060323457,
          0.3055439179664504
         ],
         "yaxis": "y8"
        },
        {
         "line": {
          "color": "rgba(128, 128, 128, 1.0)",
          "dash": "solid",
          "shape": "linear",
          "width": 1.3
         },
         "marker": {
          "size": 2,
          "symbol": "circle"
         },
         "mode": "markers",
         "name": "C",
         "text": "",
         "type": "scatter",
         "x": [
          -1.128527421491057,
          -0.8325364170784427,
          1.117759011436061,
          0.11495821582242938,
          0.9305397397535681,
          -0.056959321380706515,
          -0.5762026578238985,
          0.325320359316401,
          -1.9649153531373396,
          -0.38095279402790533,
          -0.7454931605462313,
          0.8976973947563892,
          -1.1235804539847107,
          -0.953172193107549,
          -0.6759776688995367,
          0.8002755785061688,
          1.0494633796587234,
          0.7378447030414386,
          0.12986113700123267,
          1.086286389801609,
          0.08155836201718823,
          0.9229784489921659,
          -0.09369022766596474,
          -0.09856230970321986,
          1.098265891122033,
          -1.4152131175655607,
          0.2611617624310045,
          2.1193649175716662,
          -0.6664020677940656,
          -0.48052259484460547,
          -0.7276838790005038,
          0.039524546708315525,
          0.318393553414977,
          -0.7196077416392381,
          0.3421313655229252,
          0.4388205758096896,
          -2.3550491633823247,
          -0.593569758262605,
          1.3047282106401816,
          2.443603175882856,
          0.28018107604832165,
          -0.8710273063882875,
          -0.4313328571744169,
          -0.5355094514622776,
          -1.0161943798253763,
          -0.3209224256029741,
          0.779425587893723,
          -0.11047731431318959,
          0.38402677202404795,
          0.9447772275780516,
          0.32871514758508485,
          -0.6560157443714713,
          0.08460414252776026,
          -0.5553487874460203,
          0.9471993168855736,
          0.6678767956742167,
          0.4208061364417931,
          -0.33768501018069025,
          1.1208605783273453,
          -1.144231224207155,
          -1.4199399126024166,
          -0.11313590371139508,
          1.3125136045441845,
          0.085954704596972,
          -0.7483688051037276,
          1.3962916765963318,
          0.6073003572383889,
          1.2964224252900522,
          1.28946390344804,
          2.030271679606397,
          0.24890115506565916,
          1.0408432010472008,
          -0.8196810968506483,
          -0.30181791205238634,
          -0.36394056053162893,
          0.7815149875165472,
          1.3196476078355661,
          1.727632647394526,
          0.3512575295402517,
          -0.6765221465830158,
          -1.4149174315858297,
          -0.21080941096235653,
          -1.78489892280663,
          -0.5243782750686626,
          -0.27859033504171876,
          -0.35180835776863956,
          0.43097713887934547,
          0.7307371202909417,
          1.7073564886167998,
          -1.4852143241881217,
          -1.964488410262696,
          -0.4693944143531847,
          1.5858342398604492,
          0.7595070765604511,
          0.9500923730675553,
          -1.5047798877080556,
          0.4176577629779211,
          1.1158898764399596,
          -1.9340101508934031,
          -0.9888974513248849
         ],
         "xaxis": "x9",
         "y": [
          -0.052997427688089925,
          1.0939192030529579,
          0.7836385103413706,
          1.1285648084681439,
          -0.5602885457556053,
          1.302029337022206,
          0.1953898841930936,
          1.7332083933884679,
          1.3728472898237867,
          -0.5407000539889921,
          -0.5443508722708977,
          -2.1125935139792253,
          -2.162026658273078,
          1.4070820970863287,
          0.9170218751937319,
          0.15607343193527032,
          -0.3422807205126697,
          -0.3012945609589326,
          -0.10537036018678862,
          -1.089452885042992,
          1.8562011311582736,
          1.4468330111003407,
          -1.2073264315749066,
          1.1386956267422288,
          -1.3800384882678676,
          -0.18831081827046722,
          1.8852207938165892,
          -0.43600194728668434,
          1.1609184039239695,
          0.9165236241281612,
          0.31700494533500195,
          0.3605605593248934,
          0.12231270126087389,
          0.13147809041934225,
          -0.588173974794048,
          -2.3593658844283176,
          1.376405863101816,
          -0.02118661532237987,
          0.588894031363778,
          -0.07337750948481137,
          -0.20213617931148056,
          -1.3730070208357543,
          -0.4062430256807989,
          -0.8415162282989974,
          -0.435377673592703,
          0.19578142083593172,
          0.23502260973551314,
          -1.0726554965690713,
          -0.22454270175886124,
          1.9847132011316835,
          -0.3550573491889973,
          0.28310369497161714,
          -2.359267830448543,
          -0.6371548496002973,
          0.3466278420287463,
          -0.4793012276071593,
          -0.1419808436558441,
          -0.04758434563031437,
          1.7069953186584261,
          -2.2542378986384275,
          0.56554324087177,
          0.42587348763356003,
          1.0509085837941605,
          0.6128929113630869,
          0.17484827355805918,
          -0.009058222380550427,
          1.1659439896446162,
          -0.10426860582885965,
          0.34753260513155976,
          0.1451408718031967,
          -0.5058744938076509,
          0.1071242614410123,
          -0.12055245937245793,
          -1.2151826047751948,
          -0.32325423494812777,
          0.33655431014364956,
          -0.0698696979109782,
          0.039555328052211416,
          -0.2554685398288555,
          -1.6028989398528626,
          -1.883937271963367,
          0.8939645123756309,
          1.0351283227043337,
          -1.2981068855341964,
          0.4146278289099435,
          -1.5916940607804568,
          0.8640158545604475,
          0.20309766889398637,
          -1.6373362352662955,
          -0.1762541482334694,
          -0.11260991713828158,
          0.023965498717288224,
          -1.19241474612489,
          0.22722148858620456,
          -0.30260074267927256,
          0.6309700535740959,
          0.7865080117972115,
          -2.545093023517818,
          -0.7425157851817191,
          0.9290632258960806
         ],
         "yaxis": "y9"
        },
        {
         "line": {
          "color": "rgba(128, 128, 128, 1.0)",
          "dash": "solid",
          "shape": "linear",
          "width": 1.3
         },
         "marker": {
          "size": 2,
          "symbol": "circle"
         },
         "mode": "markers",
         "name": "C",
         "text": "",
         "type": "scatter",
         "x": [
          -0.8438017208608072,
          -1.451059827304447,
          0.31677438801135444,
          -1.8824266351071355,
          -1.4000326376861942,
          0.08622616529018719,
          0.1813405485240011,
          -0.1096132190531128,
          1.7808291385567678,
          -0.5833462656304863,
          -0.5575659926396725,
          0.40584827482506397,
          0.6101680257864976,
          0.06544046951260675,
          1.4314723011005817,
          -0.07243636161791522,
          0.07292612974172229,
          0.16531870386208344,
          1.5473983294693736,
          -0.40795910360537324,
          0.534994199581339,
          0.3181352605298431,
          0.5827471569825284,
          0.11797395439563242,
          1.7270203123041272,
          -0.7979657106730599,
          -0.33643680435496826,
          -0.09190581146404614,
          -0.19434919479635446,
          1.3323765092492732,
          -0.5097502377901193,
          1.0123102696031379,
          -1.434646410360193,
          -0.08510773094341798,
          2.360527793889873,
          1.769109412305407,
          0.03199133127897448,
          -0.7151940914551366,
          -0.2446046200943762,
          -1.6369575612289258,
          -0.0222854167728985,
          -0.8398559101888473,
          1.3674759577283377,
          0.15091042675588018,
          0.7009967420910446,
          -0.39591430298434566,
          -0.06094057313462858,
          -0.8229796690465562,
          1.5647951708797927,
          0.5724286683006631,
          0.022599323722141563,
          -0.5693125084686658,
          1.3114744511352885,
          -1.228875433688444,
          0.5402788075718962,
          1.31880764494986,
          -1.446003318952283,
          0.8414602348998687,
          1.6409498164147742,
          1.7271203005557403,
          0.9064534794866576,
          0.07765079767186345,
          0.9377878612527225,
          1.1174189380719395,
          0.6265982804893011,
          -0.8505598010938983,
          0.5062479847351922,
          0.29743743819756463,
          -0.26487197065108586,
          -0.6090971952882519,
          3.3784685380994843,
          -1.3651458003278483,
          1.5362075391723087,
          -1.8426372521276637,
          2.2187310815551857,
          0.8846437079633963,
          -0.3233740780746491,
          0.7383625124308305,
          2.588160313840058,
          -0.16678927700726093,
          0.4345932220808519,
          1.3522024747491594,
          2.1398157596463223,
          -0.5546882110557149,
          -0.5246472208537587,
          -0.3247726096531107,
          -0.42285621792837025,
          0.011079347946176672,
          -0.7670558734032875,
          1.5606469735113997,
          -0.6158162024941565,
          -0.43316149808904775,
          -0.6365567196593834,
          -0.14843480591937674,
          0.3734032314190597,
          1.4400219200722884,
          -1.0365022965768078,
          0.0849264308017044,
          0.4774918060323457,
          0.3055439179664504
         ],
         "xaxis": "x10",
         "y": [
          -0.052997427688089925,
          1.0939192030529579,
          0.7836385103413706,
          1.1285648084681439,
          -0.5602885457556053,
          1.302029337022206,
          0.1953898841930936,
          1.7332083933884679,
          1.3728472898237867,
          -0.5407000539889921,
          -0.5443508722708977,
          -2.1125935139792253,
          -2.162026658273078,
          1.4070820970863287,
          0.9170218751937319,
          0.15607343193527032,
          -0.3422807205126697,
          -0.3012945609589326,
          -0.10537036018678862,
          -1.089452885042992,
          1.8562011311582736,
          1.4468330111003407,
          -1.2073264315749066,
          1.1386956267422288,
          -1.3800384882678676,
          -0.18831081827046722,
          1.8852207938165892,
          -0.43600194728668434,
          1.1609184039239695,
          0.9165236241281612,
          0.31700494533500195,
          0.3605605593248934,
          0.12231270126087389,
          0.13147809041934225,
          -0.588173974794048,
          -2.3593658844283176,
          1.376405863101816,
          -0.02118661532237987,
          0.588894031363778,
          -0.07337750948481137,
          -0.20213617931148056,
          -1.3730070208357543,
          -0.4062430256807989,
          -0.8415162282989974,
          -0.435377673592703,
          0.19578142083593172,
          0.23502260973551314,
          -1.0726554965690713,
          -0.22454270175886124,
          1.9847132011316835,
          -0.3550573491889973,
          0.28310369497161714,
          -2.359267830448543,
          -0.6371548496002973,
          0.3466278420287463,
          -0.4793012276071593,
          -0.1419808436558441,
          -0.04758434563031437,
          1.7069953186584261,
          -2.2542378986384275,
          0.56554324087177,
          0.42587348763356003,
          1.0509085837941605,
          0.6128929113630869,
          0.17484827355805918,
          -0.009058222380550427,
          1.1659439896446162,
          -0.10426860582885965,
          0.34753260513155976,
          0.1451408718031967,
          -0.5058744938076509,
          0.1071242614410123,
          -0.12055245937245793,
          -1.2151826047751948,
          -0.32325423494812777,
          0.33655431014364956,
          -0.0698696979109782,
          0.039555328052211416,
          -0.2554685398288555,
          -1.6028989398528626,
          -1.883937271963367,
          0.8939645123756309,
          1.0351283227043337,
          -1.2981068855341964,
          0.4146278289099435,
          -1.5916940607804568,
          0.8640158545604475,
          0.20309766889398637,
          -1.6373362352662955,
          -0.1762541482334694,
          -0.11260991713828158,
          0.023965498717288224,
          -1.19241474612489,
          0.22722148858620456,
          -0.30260074267927256,
          0.6309700535740959,
          0.7865080117972115,
          -2.545093023517818,
          -0.7425157851817191,
          0.9290632258960806
         ],
         "yaxis": "y10"
        },
        {
         "histfunc": "count",
         "histnorm": "",
         "marker": {
          "color": "rgba(50, 171, 96, 1.0)",
          "line": {
           "color": "#4D5663",
           "width": 1.3
          }
         },
         "name": "C",
         "nbinsx": 10,
         "opacity": 0.8,
         "orientation": "v",
         "type": "histogram",
         "x": [
          -0.052997427688089925,
          1.0939192030529579,
          0.7836385103413706,
          1.1285648084681439,
          -0.5602885457556053,
          1.302029337022206,
          0.1953898841930936,
          1.7332083933884679,
          1.3728472898237867,
          -0.5407000539889921,
          -0.5443508722708977,
          -2.1125935139792253,
          -2.162026658273078,
          1.4070820970863287,
          0.9170218751937319,
          0.15607343193527032,
          -0.3422807205126697,
          -0.3012945609589326,
          -0.10537036018678862,
          -1.089452885042992,
          1.8562011311582736,
          1.4468330111003407,
          -1.2073264315749066,
          1.1386956267422288,
          -1.3800384882678676,
          -0.18831081827046722,
          1.8852207938165892,
          -0.43600194728668434,
          1.1609184039239695,
          0.9165236241281612,
          0.31700494533500195,
          0.3605605593248934,
          0.12231270126087389,
          0.13147809041934225,
          -0.588173974794048,
          -2.3593658844283176,
          1.376405863101816,
          -0.02118661532237987,
          0.588894031363778,
          -0.07337750948481137,
          -0.20213617931148056,
          -1.3730070208357543,
          -0.4062430256807989,
          -0.8415162282989974,
          -0.435377673592703,
          0.19578142083593172,
          0.23502260973551314,
          -1.0726554965690713,
          -0.22454270175886124,
          1.9847132011316835,
          -0.3550573491889973,
          0.28310369497161714,
          -2.359267830448543,
          -0.6371548496002973,
          0.3466278420287463,
          -0.4793012276071593,
          -0.1419808436558441,
          -0.04758434563031437,
          1.7069953186584261,
          -2.2542378986384275,
          0.56554324087177,
          0.42587348763356003,
          1.0509085837941605,
          0.6128929113630869,
          0.17484827355805918,
          -0.009058222380550427,
          1.1659439896446162,
          -0.10426860582885965,
          0.34753260513155976,
          0.1451408718031967,
          -0.5058744938076509,
          0.1071242614410123,
          -0.12055245937245793,
          -1.2151826047751948,
          -0.32325423494812777,
          0.33655431014364956,
          -0.0698696979109782,
          0.039555328052211416,
          -0.2554685398288555,
          -1.6028989398528626,
          -1.883937271963367,
          0.8939645123756309,
          1.0351283227043337,
          -1.2981068855341964,
          0.4146278289099435,
          -1.5916940607804568,
          0.8640158545604475,
          0.20309766889398637,
          -1.6373362352662955,
          -0.1762541482334694,
          -0.11260991713828158,
          0.023965498717288224,
          -1.19241474612489,
          0.22722148858620456,
          -0.30260074267927256,
          0.6309700535740959,
          0.7865080117972115,
          -2.545093023517818,
          -0.7425157851817191,
          0.9290632258960806
         ],
         "xaxis": "x11",
         "yaxis": "y11"
        },
        {
         "line": {
          "color": "rgba(128, 128, 128, 1.0)",
          "dash": "solid",
          "shape": "linear",
          "width": 1.3
         },
         "marker": {
          "size": 2,
          "symbol": "circle"
         },
         "mode": "markers",
         "name": "C",
         "text": "",
         "type": "scatter",
         "x": [
          1.1300499630931804,
          -0.03908600458946342,
          0.6161873178201305,
          1.5041801411887108,
          -0.01104184889052825,
          -1.4541856527306678,
          0.1379127620570015,
          0.05286159430865403,
          -0.21042889059012565,
          0.41911444964394357,
          -0.66981986780956,
          0.4725573492237899,
          -1.3814385108058174,
          -0.2836422497981442,
          -0.7592911404368923,
          1.4936635418284283,
          0.5896762357130668,
          0.48345227631398735,
          -0.3912329696230036,
          -0.05492908159219744,
          0.6113565427068339,
          1.081266132516459,
          0.6043185670960939,
          -1.2130722858998417,
          -1.4452752491990506,
          -0.32570973748197096,
          0.2103576698999121,
          0.2166496317370823,
          -1.6090609509714906,
          -0.24335524747646176,
          1.5769555780993356,
          -0.146222080204656,
          -0.8723429769392964,
          -0.003121478823417625,
          -0.721850170888696,
          -1.1350238153561139,
          -1.6508953740672372,
          0.1972498795472664,
          0.6388213501375252,
          0.30022207267482137,
          -1.4284626396824047,
          -0.7125248040213117,
          2.235327564848775,
          -0.38879314849013463,
          0.01199331914743487,
          -1.064488753712766,
          -1.603302078640188,
          0.824758072320352,
          -1.4187811638540186,
          -0.4662994419120291,
          0.16746513943352692,
          -0.47374519308450536,
          0.25881683314690856,
          -1.7131277848658035,
          -1.680961034864507,
          0.753440010147552,
          1.7120081658646487,
          -1.1481475594169448,
          -0.4432656742514228,
          -0.8042576143325543,
          0.9553368253774911,
          0.10941651930449499,
          0.27593070834820616,
          -0.3950901519730633,
          -0.6579662554250679,
          -0.6703204355214106,
          -0.16176423837422535,
          0.9507292877091447,
          -0.4407686121893185,
          1.8045492845057018,
          -1.338210908582245,
          -1.6738321029650791,
          -0.43859649892924185,
          -0.3763633315130177,
          -0.2986416896820966,
          0.1892706422905342,
          -0.8820407555559685,
          -0.18018636261858956,
          0.5947380465804296,
          0.7060541524538173,
          -1.509582826291845,
          0.1421921318309323,
          -0.5022746243340366,
          -0.861918994089485,
          0.44031565181588245,
          -0.08158247893958946,
          -1.2197712929260776,
          -0.10361307390360547,
          0.008852384552850503,
          1.899068411392826,
          1.3562519302176974,
          0.22479296064795803,
          0.6013594415492209,
          -1.4745880407156362,
          1.0161975676006454,
          -0.6760327676513366,
          0.0673972731888613,
          -1.2536011060930559,
          0.48230858536971627,
          1.1302848040991256
         ],
         "xaxis": "x12",
         "y": [
          -0.052997427688089925,
          1.0939192030529579,
          0.7836385103413706,
          1.1285648084681439,
          -0.5602885457556053,
          1.302029337022206,
          0.1953898841930936,
          1.7332083933884679,
          1.3728472898237867,
          -0.5407000539889921,
          -0.5443508722708977,
          -2.1125935139792253,
          -2.162026658273078,
          1.4070820970863287,
          0.9170218751937319,
          0.15607343193527032,
          -0.3422807205126697,
          -0.3012945609589326,
          -0.10537036018678862,
          -1.089452885042992,
          1.8562011311582736,
          1.4468330111003407,
          -1.2073264315749066,
          1.1386956267422288,
          -1.3800384882678676,
          -0.18831081827046722,
          1.8852207938165892,
          -0.43600194728668434,
          1.1609184039239695,
          0.9165236241281612,
          0.31700494533500195,
          0.3605605593248934,
          0.12231270126087389,
          0.13147809041934225,
          -0.588173974794048,
          -2.3593658844283176,
          1.376405863101816,
          -0.02118661532237987,
          0.588894031363778,
          -0.07337750948481137,
          -0.20213617931148056,
          -1.3730070208357543,
          -0.4062430256807989,
          -0.8415162282989974,
          -0.435377673592703,
          0.19578142083593172,
          0.23502260973551314,
          -1.0726554965690713,
          -0.22454270175886124,
          1.9847132011316835,
          -0.3550573491889973,
          0.28310369497161714,
          -2.359267830448543,
          -0.6371548496002973,
          0.3466278420287463,
          -0.4793012276071593,
          -0.1419808436558441,
          -0.04758434563031437,
          1.7069953186584261,
          -2.2542378986384275,
          0.56554324087177,
          0.42587348763356003,
          1.0509085837941605,
          0.6128929113630869,
          0.17484827355805918,
          -0.009058222380550427,
          1.1659439896446162,
          -0.10426860582885965,
          0.34753260513155976,
          0.1451408718031967,
          -0.5058744938076509,
          0.1071242614410123,
          -0.12055245937245793,
          -1.2151826047751948,
          -0.32325423494812777,
          0.33655431014364956,
          -0.0698696979109782,
          0.039555328052211416,
          -0.2554685398288555,
          -1.6028989398528626,
          -1.883937271963367,
          0.8939645123756309,
          1.0351283227043337,
          -1.2981068855341964,
          0.4146278289099435,
          -1.5916940607804568,
          0.8640158545604475,
          0.20309766889398637,
          -1.6373362352662955,
          -0.1762541482334694,
          -0.11260991713828158,
          0.023965498717288224,
          -1.19241474612489,
          0.22722148858620456,
          -0.30260074267927256,
          0.6309700535740959,
          0.7865080117972115,
          -2.545093023517818,
          -0.7425157851817191,
          0.9290632258960806
         ],
         "yaxis": "y12"
        },
        {
         "line": {
          "color": "rgba(128, 128, 128, 1.0)",
          "dash": "solid",
          "shape": "linear",
          "width": 1.3
         },
         "marker": {
          "size": 2,
          "symbol": "circle"
         },
         "mode": "markers",
         "name": "D",
         "text": "",
         "type": "scatter",
         "x": [
          -1.128527421491057,
          -0.8325364170784427,
          1.117759011436061,
          0.11495821582242938,
          0.9305397397535681,
          -0.056959321380706515,
          -0.5762026578238985,
          0.325320359316401,
          -1.9649153531373396,
          -0.38095279402790533,
          -0.7454931605462313,
          0.8976973947563892,
          -1.1235804539847107,
          -0.953172193107549,
          -0.6759776688995367,
          0.8002755785061688,
          1.0494633796587234,
          0.7378447030414386,
          0.12986113700123267,
          1.086286389801609,
          0.08155836201718823,
          0.9229784489921659,
          -0.09369022766596474,
          -0.09856230970321986,
          1.098265891122033,
          -1.4152131175655607,
          0.2611617624310045,
          2.1193649175716662,
          -0.6664020677940656,
          -0.48052259484460547,
          -0.7276838790005038,
          0.039524546708315525,
          0.318393553414977,
          -0.7196077416392381,
          0.3421313655229252,
          0.4388205758096896,
          -2.3550491633823247,
          -0.593569758262605,
          1.3047282106401816,
          2.443603175882856,
          0.28018107604832165,
          -0.8710273063882875,
          -0.4313328571744169,
          -0.5355094514622776,
          -1.0161943798253763,
          -0.3209224256029741,
          0.779425587893723,
          -0.11047731431318959,
          0.38402677202404795,
          0.9447772275780516,
          0.32871514758508485,
          -0.6560157443714713,
          0.08460414252776026,
          -0.5553487874460203,
          0.9471993168855736,
          0.6678767956742167,
          0.4208061364417931,
          -0.33768501018069025,
          1.1208605783273453,
          -1.144231224207155,
          -1.4199399126024166,
          -0.11313590371139508,
          1.3125136045441845,
          0.085954704596972,
          -0.7483688051037276,
          1.3962916765963318,
          0.6073003572383889,
          1.2964224252900522,
          1.28946390344804,
          2.030271679606397,
          0.24890115506565916,
          1.0408432010472008,
          -0.8196810968506483,
          -0.30181791205238634,
          -0.36394056053162893,
          0.7815149875165472,
          1.3196476078355661,
          1.727632647394526,
          0.3512575295402517,
          -0.6765221465830158,
          -1.4149174315858297,
          -0.21080941096235653,
          -1.78489892280663,
          -0.5243782750686626,
          -0.27859033504171876,
          -0.35180835776863956,
          0.43097713887934547,
          0.7307371202909417,
          1.7073564886167998,
          -1.4852143241881217,
          -1.964488410262696,
          -0.4693944143531847,
          1.5858342398604492,
          0.7595070765604511,
          0.9500923730675553,
          -1.5047798877080556,
          0.4176577629779211,
          1.1158898764399596,
          -1.9340101508934031,
          -0.9888974513248849
         ],
         "xaxis": "x13",
         "y": [
          1.1300499630931804,
          -0.03908600458946342,
          0.6161873178201305,
          1.5041801411887108,
          -0.01104184889052825,
          -1.4541856527306678,
          0.1379127620570015,
          0.05286159430865403,
          -0.21042889059012565,
          0.41911444964394357,
          -0.66981986780956,
          0.4725573492237899,
          -1.3814385108058174,
          -0.2836422497981442,
          -0.7592911404368923,
          1.4936635418284283,
          0.5896762357130668,
          0.48345227631398735,
          -0.3912329696230036,
          -0.05492908159219744,
          0.6113565427068339,
          1.081266132516459,
          0.6043185670960939,
          -1.2130722858998417,
          -1.4452752491990506,
          -0.32570973748197096,
          0.2103576698999121,
          0.2166496317370823,
          -1.6090609509714906,
          -0.24335524747646176,
          1.5769555780993356,
          -0.146222080204656,
          -0.8723429769392964,
          -0.003121478823417625,
          -0.721850170888696,
          -1.1350238153561139,
          -1.6508953740672372,
          0.1972498795472664,
          0.6388213501375252,
          0.30022207267482137,
          -1.4284626396824047,
          -0.7125248040213117,
          2.235327564848775,
          -0.38879314849013463,
          0.01199331914743487,
          -1.064488753712766,
          -1.603302078640188,
          0.824758072320352,
          -1.4187811638540186,
          -0.4662994419120291,
          0.16746513943352692,
          -0.47374519308450536,
          0.25881683314690856,
          -1.7131277848658035,
          -1.680961034864507,
          0.753440010147552,
          1.7120081658646487,
          -1.1481475594169448,
          -0.4432656742514228,
          -0.8042576143325543,
          0.9553368253774911,
          0.10941651930449499,
          0.27593070834820616,
          -0.3950901519730633,
          -0.6579662554250679,
          -0.6703204355214106,
          -0.16176423837422535,
          0.9507292877091447,
          -0.4407686121893185,
          1.8045492845057018,
          -1.338210908582245,
          -1.6738321029650791,
          -0.43859649892924185,
          -0.3763633315130177,
          -0.2986416896820966,
          0.1892706422905342,
          -0.8820407555559685,
          -0.18018636261858956,
          0.5947380465804296,
          0.7060541524538173,
          -1.509582826291845,
          0.1421921318309323,
          -0.5022746243340366,
          -0.861918994089485,
          0.44031565181588245,
          -0.08158247893958946,
          -1.2197712929260776,
          -0.10361307390360547,
          0.008852384552850503,
          1.899068411392826,
          1.3562519302176974,
          0.22479296064795803,
          0.6013594415492209,
          -1.4745880407156362,
          1.0161975676006454,
          -0.6760327676513366,
          0.0673972731888613,
          -1.2536011060930559,
          0.48230858536971627,
          1.1302848040991256
         ],
         "yaxis": "y13"
        },
        {
         "line": {
          "color": "rgba(128, 128, 128, 1.0)",
          "dash": "solid",
          "shape": "linear",
          "width": 1.3
         },
         "marker": {
          "size": 2,
          "symbol": "circle"
         },
         "mode": "markers",
         "name": "D",
         "text": "",
         "type": "scatter",
         "x": [
          -0.8438017208608072,
          -1.451059827304447,
          0.31677438801135444,
          -1.8824266351071355,
          -1.4000326376861942,
          0.08622616529018719,
          0.1813405485240011,
          -0.1096132190531128,
          1.7808291385567678,
          -0.5833462656304863,
          -0.5575659926396725,
          0.40584827482506397,
          0.6101680257864976,
          0.06544046951260675,
          1.4314723011005817,
          -0.07243636161791522,
          0.07292612974172229,
          0.16531870386208344,
          1.5473983294693736,
          -0.40795910360537324,
          0.534994199581339,
          0.3181352605298431,
          0.5827471569825284,
          0.11797395439563242,
          1.7270203123041272,
          -0.7979657106730599,
          -0.33643680435496826,
          -0.09190581146404614,
          -0.19434919479635446,
          1.3323765092492732,
          -0.5097502377901193,
          1.0123102696031379,
          -1.434646410360193,
          -0.08510773094341798,
          2.360527793889873,
          1.769109412305407,
          0.03199133127897448,
          -0.7151940914551366,
          -0.2446046200943762,
          -1.6369575612289258,
          -0.0222854167728985,
          -0.8398559101888473,
          1.3674759577283377,
          0.15091042675588018,
          0.7009967420910446,
          -0.39591430298434566,
          -0.06094057313462858,
          -0.8229796690465562,
          1.5647951708797927,
          0.5724286683006631,
          0.022599323722141563,
          -0.5693125084686658,
          1.3114744511352885,
          -1.228875433688444,
          0.5402788075718962,
          1.31880764494986,
          -1.446003318952283,
          0.8414602348998687,
          1.6409498164147742,
          1.7271203005557403,
          0.9064534794866576,
          0.07765079767186345,
          0.9377878612527225,
          1.1174189380719395,
          0.6265982804893011,
          -0.8505598010938983,
          0.5062479847351922,
          0.29743743819756463,
          -0.26487197065108586,
          -0.6090971952882519,
          3.3784685380994843,
          -1.3651458003278483,
          1.5362075391723087,
          -1.8426372521276637,
          2.2187310815551857,
          0.8846437079633963,
          -0.3233740780746491,
          0.7383625124308305,
          2.588160313840058,
          -0.16678927700726093,
          0.4345932220808519,
          1.3522024747491594,
          2.1398157596463223,
          -0.5546882110557149,
          -0.5246472208537587,
          -0.3247726096531107,
          -0.42285621792837025,
          0.011079347946176672,
          -0.7670558734032875,
          1.5606469735113997,
          -0.6158162024941565,
          -0.43316149808904775,
          -0.6365567196593834,
          -0.14843480591937674,
          0.3734032314190597,
          1.4400219200722884,
          -1.0365022965768078,
          0.0849264308017044,
          0.4774918060323457,
          0.3055439179664504
         ],
         "xaxis": "x14",
         "y": [
          1.1300499630931804,
          -0.03908600458946342,
          0.6161873178201305,
          1.5041801411887108,
          -0.01104184889052825,
          -1.4541856527306678,
          0.1379127620570015,
          0.05286159430865403,
          -0.21042889059012565,
          0.41911444964394357,
          -0.66981986780956,
          0.4725573492237899,
          -1.3814385108058174,
          -0.2836422497981442,
          -0.7592911404368923,
          1.4936635418284283,
          0.5896762357130668,
          0.48345227631398735,
          -0.3912329696230036,
          -0.05492908159219744,
          0.6113565427068339,
          1.081266132516459,
          0.6043185670960939,
          -1.2130722858998417,
          -1.4452752491990506,
          -0.32570973748197096,
          0.2103576698999121,
          0.2166496317370823,
          -1.6090609509714906,
          -0.24335524747646176,
          1.5769555780993356,
          -0.146222080204656,
          -0.8723429769392964,
          -0.003121478823417625,
          -0.721850170888696,
          -1.1350238153561139,
          -1.6508953740672372,
          0.1972498795472664,
          0.6388213501375252,
          0.30022207267482137,
          -1.4284626396824047,
          -0.7125248040213117,
          2.235327564848775,
          -0.38879314849013463,
          0.01199331914743487,
          -1.064488753712766,
          -1.603302078640188,
          0.824758072320352,
          -1.4187811638540186,
          -0.4662994419120291,
          0.16746513943352692,
          -0.47374519308450536,
          0.25881683314690856,
          -1.7131277848658035,
          -1.680961034864507,
          0.753440010147552,
          1.7120081658646487,
          -1.1481475594169448,
          -0.4432656742514228,
          -0.8042576143325543,
          0.9553368253774911,
          0.10941651930449499,
          0.27593070834820616,
          -0.3950901519730633,
          -0.6579662554250679,
          -0.6703204355214106,
          -0.16176423837422535,
          0.9507292877091447,
          -0.4407686121893185,
          1.8045492845057018,
          -1.338210908582245,
          -1.6738321029650791,
          -0.43859649892924185,
          -0.3763633315130177,
          -0.2986416896820966,
          0.1892706422905342,
          -0.8820407555559685,
          -0.18018636261858956,
          0.5947380465804296,
          0.7060541524538173,
          -1.509582826291845,
          0.1421921318309323,
          -0.5022746243340366,
          -0.861918994089485,
          0.44031565181588245,
          -0.08158247893958946,
          -1.2197712929260776,
          -0.10361307390360547,
          0.008852384552850503,
          1.899068411392826,
          1.3562519302176974,
          0.22479296064795803,
          0.6013594415492209,
          -1.4745880407156362,
          1.0161975676006454,
          -0.6760327676513366,
          0.0673972731888613,
          -1.2536011060930559,
          0.48230858536971627,
          1.1302848040991256
         ],
         "yaxis": "y14"
        },
        {
         "line": {
          "color": "rgba(128, 128, 128, 1.0)",
          "dash": "solid",
          "shape": "linear",
          "width": 1.3
         },
         "marker": {
          "size": 2,
          "symbol": "circle"
         },
         "mode": "markers",
         "name": "D",
         "text": "",
         "type": "scatter",
         "x": [
          -0.052997427688089925,
          1.0939192030529579,
          0.7836385103413706,
          1.1285648084681439,
          -0.5602885457556053,
          1.302029337022206,
          0.1953898841930936,
          1.7332083933884679,
          1.3728472898237867,
          -0.5407000539889921,
          -0.5443508722708977,
          -2.1125935139792253,
          -2.162026658273078,
          1.4070820970863287,
          0.9170218751937319,
          0.15607343193527032,
          -0.3422807205126697,
          -0.3012945609589326,
          -0.10537036018678862,
          -1.089452885042992,
          1.8562011311582736,
          1.4468330111003407,
          -1.2073264315749066,
          1.1386956267422288,
          -1.3800384882678676,
          -0.18831081827046722,
          1.8852207938165892,
          -0.43600194728668434,
          1.1609184039239695,
          0.9165236241281612,
          0.31700494533500195,
          0.3605605593248934,
          0.12231270126087389,
          0.13147809041934225,
          -0.588173974794048,
          -2.3593658844283176,
          1.376405863101816,
          -0.02118661532237987,
          0.588894031363778,
          -0.07337750948481137,
          -0.20213617931148056,
          -1.3730070208357543,
          -0.4062430256807989,
          -0.8415162282989974,
          -0.435377673592703,
          0.19578142083593172,
          0.23502260973551314,
          -1.0726554965690713,
          -0.22454270175886124,
          1.9847132011316835,
          -0.3550573491889973,
          0.28310369497161714,
          -2.359267830448543,
          -0.6371548496002973,
          0.3466278420287463,
          -0.4793012276071593,
          -0.1419808436558441,
          -0.04758434563031437,
          1.7069953186584261,
          -2.2542378986384275,
          0.56554324087177,
          0.42587348763356003,
          1.0509085837941605,
          0.6128929113630869,
          0.17484827355805918,
          -0.009058222380550427,
          1.1659439896446162,
          -0.10426860582885965,
          0.34753260513155976,
          0.1451408718031967,
          -0.5058744938076509,
          0.1071242614410123,
          -0.12055245937245793,
          -1.2151826047751948,
          -0.32325423494812777,
          0.33655431014364956,
          -0.0698696979109782,
          0.039555328052211416,
          -0.2554685398288555,
          -1.6028989398528626,
          -1.883937271963367,
          0.8939645123756309,
          1.0351283227043337,
          -1.2981068855341964,
          0.4146278289099435,
          -1.5916940607804568,
          0.8640158545604475,
          0.20309766889398637,
          -1.6373362352662955,
          -0.1762541482334694,
          -0.11260991713828158,
          0.023965498717288224,
          -1.19241474612489,
          0.22722148858620456,
          -0.30260074267927256,
          0.6309700535740959,
          0.7865080117972115,
          -2.545093023517818,
          -0.7425157851817191,
          0.9290632258960806
         ],
         "xaxis": "x15",
         "y": [
          1.1300499630931804,
          -0.03908600458946342,
          0.6161873178201305,
          1.5041801411887108,
          -0.01104184889052825,
          -1.4541856527306678,
          0.1379127620570015,
          0.05286159430865403,
          -0.21042889059012565,
          0.41911444964394357,
          -0.66981986780956,
          0.4725573492237899,
          -1.3814385108058174,
          -0.2836422497981442,
          -0.7592911404368923,
          1.4936635418284283,
          0.5896762357130668,
          0.48345227631398735,
          -0.3912329696230036,
          -0.05492908159219744,
          0.6113565427068339,
          1.081266132516459,
          0.6043185670960939,
          -1.2130722858998417,
          -1.4452752491990506,
          -0.32570973748197096,
          0.2103576698999121,
          0.2166496317370823,
          -1.6090609509714906,
          -0.24335524747646176,
          1.5769555780993356,
          -0.146222080204656,
          -0.8723429769392964,
          -0.003121478823417625,
          -0.721850170888696,
          -1.1350238153561139,
          -1.6508953740672372,
          0.1972498795472664,
          0.6388213501375252,
          0.30022207267482137,
          -1.4284626396824047,
          -0.7125248040213117,
          2.235327564848775,
          -0.38879314849013463,
          0.01199331914743487,
          -1.064488753712766,
          -1.603302078640188,
          0.824758072320352,
          -1.4187811638540186,
          -0.4662994419120291,
          0.16746513943352692,
          -0.47374519308450536,
          0.25881683314690856,
          -1.7131277848658035,
          -1.680961034864507,
          0.753440010147552,
          1.7120081658646487,
          -1.1481475594169448,
          -0.4432656742514228,
          -0.8042576143325543,
          0.9553368253774911,
          0.10941651930449499,
          0.27593070834820616,
          -0.3950901519730633,
          -0.6579662554250679,
          -0.6703204355214106,
          -0.16176423837422535,
          0.9507292877091447,
          -0.4407686121893185,
          1.8045492845057018,
          -1.338210908582245,
          -1.6738321029650791,
          -0.43859649892924185,
          -0.3763633315130177,
          -0.2986416896820966,
          0.1892706422905342,
          -0.8820407555559685,
          -0.18018636261858956,
          0.5947380465804296,
          0.7060541524538173,
          -1.509582826291845,
          0.1421921318309323,
          -0.5022746243340366,
          -0.861918994089485,
          0.44031565181588245,
          -0.08158247893958946,
          -1.2197712929260776,
          -0.10361307390360547,
          0.008852384552850503,
          1.899068411392826,
          1.3562519302176974,
          0.22479296064795803,
          0.6013594415492209,
          -1.4745880407156362,
          1.0161975676006454,
          -0.6760327676513366,
          0.0673972731888613,
          -1.2536011060930559,
          0.48230858536971627,
          1.1302848040991256
         ],
         "yaxis": "y15"
        },
        {
         "histfunc": "count",
         "histnorm": "",
         "marker": {
          "color": "rgba(128, 0, 128, 1.0)",
          "line": {
           "color": "#4D5663",
           "width": 1.3
          }
         },
         "name": "D",
         "nbinsx": 10,
         "opacity": 0.8,
         "orientation": "v",
         "type": "histogram",
         "x": [
          1.1300499630931804,
          -0.03908600458946342,
          0.6161873178201305,
          1.5041801411887108,
          -0.01104184889052825,
          -1.4541856527306678,
          0.1379127620570015,
          0.05286159430865403,
          -0.21042889059012565,
          0.41911444964394357,
          -0.66981986780956,
          0.4725573492237899,
          -1.3814385108058174,
          -0.2836422497981442,
          -0.7592911404368923,
          1.4936635418284283,
          0.5896762357130668,
          0.48345227631398735,
          -0.3912329696230036,
          -0.05492908159219744,
          0.6113565427068339,
          1.081266132516459,
          0.6043185670960939,
          -1.2130722858998417,
          -1.4452752491990506,
          -0.32570973748197096,
          0.2103576698999121,
          0.2166496317370823,
          -1.6090609509714906,
          -0.24335524747646176,
          1.5769555780993356,
          -0.146222080204656,
          -0.8723429769392964,
          -0.003121478823417625,
          -0.721850170888696,
          -1.1350238153561139,
          -1.6508953740672372,
          0.1972498795472664,
          0.6388213501375252,
          0.30022207267482137,
          -1.4284626396824047,
          -0.7125248040213117,
          2.235327564848775,
          -0.38879314849013463,
          0.01199331914743487,
          -1.064488753712766,
          -1.603302078640188,
          0.824758072320352,
          -1.4187811638540186,
          -0.4662994419120291,
          0.16746513943352692,
          -0.47374519308450536,
          0.25881683314690856,
          -1.7131277848658035,
          -1.680961034864507,
          0.753440010147552,
          1.7120081658646487,
          -1.1481475594169448,
          -0.4432656742514228,
          -0.8042576143325543,
          0.9553368253774911,
          0.10941651930449499,
          0.27593070834820616,
          -0.3950901519730633,
          -0.6579662554250679,
          -0.6703204355214106,
          -0.16176423837422535,
          0.9507292877091447,
          -0.4407686121893185,
          1.8045492845057018,
          -1.338210908582245,
          -1.6738321029650791,
          -0.43859649892924185,
          -0.3763633315130177,
          -0.2986416896820966,
          0.1892706422905342,
          -0.8820407555559685,
          -0.18018636261858956,
          0.5947380465804296,
          0.7060541524538173,
          -1.509582826291845,
          0.1421921318309323,
          -0.5022746243340366,
          -0.861918994089485,
          0.44031565181588245,
          -0.08158247893958946,
          -1.2197712929260776,
          -0.10361307390360547,
          0.008852384552850503,
          1.899068411392826,
          1.3562519302176974,
          0.22479296064795803,
          0.6013594415492209,
          -1.4745880407156362,
          1.0161975676006454,
          -0.6760327676513366,
          0.0673972731888613,
          -1.2536011060930559,
          0.48230858536971627,
          1.1302848040991256
         ],
         "xaxis": "x16",
         "yaxis": "y16"
        }
       ],
       "layout": {
        "bargap": 0.02,
        "legend": {
         "bgcolor": "#F5F6F9",
         "font": {
          "color": "#4D5663"
         }
        },
        "paper_bgcolor": "#F5F6F9",
        "plot_bgcolor": "#F5F6F9",
        "showlegend": false,
        "template": {
         "data": {
          "bar": [
           {
            "error_x": {
             "color": "#2a3f5f"
            },
            "error_y": {
             "color": "#2a3f5f"
            },
            "marker": {
             "line": {
              "color": "#E5ECF6",
              "width": 0.5
             },
             "pattern": {
              "fillmode": "overlay",
              "size": 10,
              "solidity": 0.2
             }
            },
            "type": "bar"
           }
          ],
          "barpolar": [
           {
            "marker": {
             "line": {
              "color": "#E5ECF6",
              "width": 0.5
             },
             "pattern": {
              "fillmode": "overlay",
              "size": 10,
              "solidity": 0.2
             }
            },
            "type": "barpolar"
           }
          ],
          "carpet": [
           {
            "aaxis": {
             "endlinecolor": "#2a3f5f",
             "gridcolor": "white",
             "linecolor": "white",
             "minorgridcolor": "white",
             "startlinecolor": "#2a3f5f"
            },
            "baxis": {
             "endlinecolor": "#2a3f5f",
             "gridcolor": "white",
             "linecolor": "white",
             "minorgridcolor": "white",
             "startlinecolor": "#2a3f5f"
            },
            "type": "carpet"
           }
          ],
          "choropleth": [
           {
            "colorbar": {
             "outlinewidth": 0,
             "ticks": ""
            },
            "type": "choropleth"
           }
          ],
          "contour": [
           {
            "colorbar": {
             "outlinewidth": 0,
             "ticks": ""
            },
            "colorscale": [
             [
              0,
              "#0d0887"
             ],
             [
              0.1111111111111111,
              "#46039f"
             ],
             [
              0.2222222222222222,
              "#7201a8"
             ],
             [
              0.3333333333333333,
              "#9c179e"
             ],
             [
              0.4444444444444444,
              "#bd3786"
             ],
             [
              0.5555555555555556,
              "#d8576b"
             ],
             [
              0.6666666666666666,
              "#ed7953"
             ],
             [
              0.7777777777777778,
              "#fb9f3a"
             ],
             [
              0.8888888888888888,
              "#fdca26"
             ],
             [
              1,
              "#f0f921"
             ]
            ],
            "type": "contour"
           }
          ],
          "contourcarpet": [
           {
            "colorbar": {
             "outlinewidth": 0,
             "ticks": ""
            },
            "type": "contourcarpet"
           }
          ],
          "heatmap": [
           {
            "colorbar": {
             "outlinewidth": 0,
             "ticks": ""
            },
            "colorscale": [
             [
              0,
              "#0d0887"
             ],
             [
              0.1111111111111111,
              "#46039f"
             ],
             [
              0.2222222222222222,
              "#7201a8"
             ],
             [
              0.3333333333333333,
              "#9c179e"
             ],
             [
              0.4444444444444444,
              "#bd3786"
             ],
             [
              0.5555555555555556,
              "#d8576b"
             ],
             [
              0.6666666666666666,
              "#ed7953"
             ],
             [
              0.7777777777777778,
              "#fb9f3a"
             ],
             [
              0.8888888888888888,
              "#fdca26"
             ],
             [
              1,
              "#f0f921"
             ]
            ],
            "type": "heatmap"
           }
          ],
          "heatmapgl": [
           {
            "colorbar": {
             "outlinewidth": 0,
             "ticks": ""
            },
            "colorscale": [
             [
              0,
              "#0d0887"
             ],
             [
              0.1111111111111111,
              "#46039f"
             ],
             [
              0.2222222222222222,
              "#7201a8"
             ],
             [
              0.3333333333333333,
              "#9c179e"
             ],
             [
              0.4444444444444444,
              "#bd3786"
             ],
             [
              0.5555555555555556,
              "#d8576b"
             ],
             [
              0.6666666666666666,
              "#ed7953"
             ],
             [
              0.7777777777777778,
              "#fb9f3a"
             ],
             [
              0.8888888888888888,
              "#fdca26"
             ],
             [
              1,
              "#f0f921"
             ]
            ],
            "type": "heatmapgl"
           }
          ],
          "histogram": [
           {
            "marker": {
             "pattern": {
              "fillmode": "overlay",
              "size": 10,
              "solidity": 0.2
             }
            },
            "type": "histogram"
           }
          ],
          "histogram2d": [
           {
            "colorbar": {
             "outlinewidth": 0,
             "ticks": ""
            },
            "colorscale": [
             [
              0,
              "#0d0887"
             ],
             [
              0.1111111111111111,
              "#46039f"
             ],
             [
              0.2222222222222222,
              "#7201a8"
             ],
             [
              0.3333333333333333,
              "#9c179e"
             ],
             [
              0.4444444444444444,
              "#bd3786"
             ],
             [
              0.5555555555555556,
              "#d8576b"
             ],
             [
              0.6666666666666666,
              "#ed7953"
             ],
             [
              0.7777777777777778,
              "#fb9f3a"
             ],
             [
              0.8888888888888888,
              "#fdca26"
             ],
             [
              1,
              "#f0f921"
             ]
            ],
            "type": "histogram2d"
           }
          ],
          "histogram2dcontour": [
           {
            "colorbar": {
             "outlinewidth": 0,
             "ticks": ""
            },
            "colorscale": [
             [
              0,
              "#0d0887"
             ],
             [
              0.1111111111111111,
              "#46039f"
             ],
             [
              0.2222222222222222,
              "#7201a8"
             ],
             [
              0.3333333333333333,
              "#9c179e"
             ],
             [
              0.4444444444444444,
              "#bd3786"
             ],
             [
              0.5555555555555556,
              "#d8576b"
             ],
             [
              0.6666666666666666,
              "#ed7953"
             ],
             [
              0.7777777777777778,
              "#fb9f3a"
             ],
             [
              0.8888888888888888,
              "#fdca26"
             ],
             [
              1,
              "#f0f921"
             ]
            ],
            "type": "histogram2dcontour"
           }
          ],
          "mesh3d": [
           {
            "colorbar": {
             "outlinewidth": 0,
             "ticks": ""
            },
            "type": "mesh3d"
           }
          ],
          "parcoords": [
           {
            "line": {
             "colorbar": {
              "outlinewidth": 0,
              "ticks": ""
             }
            },
            "type": "parcoords"
           }
          ],
          "pie": [
           {
            "automargin": true,
            "type": "pie"
           }
          ],
          "scatter": [
           {
            "fillpattern": {
             "fillmode": "overlay",
             "size": 10,
             "solidity": 0.2
            },
            "type": "scatter"
           }
          ],
          "scatter3d": [
           {
            "line": {
             "colorbar": {
              "outlinewidth": 0,
              "ticks": ""
             }
            },
            "marker": {
             "colorbar": {
              "outlinewidth": 0,
              "ticks": ""
             }
            },
            "type": "scatter3d"
           }
          ],
          "scattercarpet": [
           {
            "marker": {
             "colorbar": {
              "outlinewidth": 0,
              "ticks": ""
             }
            },
            "type": "scattercarpet"
           }
          ],
          "scattergeo": [
           {
            "marker": {
             "colorbar": {
              "outlinewidth": 0,
              "ticks": ""
             }
            },
            "type": "scattergeo"
           }
          ],
          "scattergl": [
           {
            "marker": {
             "colorbar": {
              "outlinewidth": 0,
              "ticks": ""
             }
            },
            "type": "scattergl"
           }
          ],
          "scattermapbox": [
           {
            "marker": {
             "colorbar": {
              "outlinewidth": 0,
              "ticks": ""
             }
            },
            "type": "scattermapbox"
           }
          ],
          "scatterpolar": [
           {
            "marker": {
             "colorbar": {
              "outlinewidth": 0,
              "ticks": ""
             }
            },
            "type": "scatterpolar"
           }
          ],
          "scatterpolargl": [
           {
            "marker": {
             "colorbar": {
              "outlinewidth": 0,
              "ticks": ""
             }
            },
            "type": "scatterpolargl"
           }
          ],
          "scatterternary": [
           {
            "marker": {
             "colorbar": {
              "outlinewidth": 0,
              "ticks": ""
             }
            },
            "type": "scatterternary"
           }
          ],
          "surface": [
           {
            "colorbar": {
             "outlinewidth": 0,
             "ticks": ""
            },
            "colorscale": [
             [
              0,
              "#0d0887"
             ],
             [
              0.1111111111111111,
              "#46039f"
             ],
             [
              0.2222222222222222,
              "#7201a8"
             ],
             [
              0.3333333333333333,
              "#9c179e"
             ],
             [
              0.4444444444444444,
              "#bd3786"
             ],
             [
              0.5555555555555556,
              "#d8576b"
             ],
             [
              0.6666666666666666,
              "#ed7953"
             ],
             [
              0.7777777777777778,
              "#fb9f3a"
             ],
             [
              0.8888888888888888,
              "#fdca26"
             ],
             [
              1,
              "#f0f921"
             ]
            ],
            "type": "surface"
           }
          ],
          "table": [
           {
            "cells": {
             "fill": {
              "color": "#EBF0F8"
             },
             "line": {
              "color": "white"
             }
            },
            "header": {
             "fill": {
              "color": "#C8D4E3"
             },
             "line": {
              "color": "white"
             }
            },
            "type": "table"
           }
          ]
         },
         "layout": {
          "annotationdefaults": {
           "arrowcolor": "#2a3f5f",
           "arrowhead": 0,
           "arrowwidth": 1
          },
          "autotypenumbers": "strict",
          "coloraxis": {
           "colorbar": {
            "outlinewidth": 0,
            "ticks": ""
           }
          },
          "colorscale": {
           "diverging": [
            [
             0,
             "#8e0152"
            ],
            [
             0.1,
             "#c51b7d"
            ],
            [
             0.2,
             "#de77ae"
            ],
            [
             0.3,
             "#f1b6da"
            ],
            [
             0.4,
             "#fde0ef"
            ],
            [
             0.5,
             "#f7f7f7"
            ],
            [
             0.6,
             "#e6f5d0"
            ],
            [
             0.7,
             "#b8e186"
            ],
            [
             0.8,
             "#7fbc41"
            ],
            [
             0.9,
             "#4d9221"
            ],
            [
             1,
             "#276419"
            ]
           ],
           "sequential": [
            [
             0,
             "#0d0887"
            ],
            [
             0.1111111111111111,
             "#46039f"
            ],
            [
             0.2222222222222222,
             "#7201a8"
            ],
            [
             0.3333333333333333,
             "#9c179e"
            ],
            [
             0.4444444444444444,
             "#bd3786"
            ],
            [
             0.5555555555555556,
             "#d8576b"
            ],
            [
             0.6666666666666666,
             "#ed7953"
            ],
            [
             0.7777777777777778,
             "#fb9f3a"
            ],
            [
             0.8888888888888888,
             "#fdca26"
            ],
            [
             1,
             "#f0f921"
            ]
           ],
           "sequentialminus": [
            [
             0,
             "#0d0887"
            ],
            [
             0.1111111111111111,
             "#46039f"
            ],
            [
             0.2222222222222222,
             "#7201a8"
            ],
            [
             0.3333333333333333,
             "#9c179e"
            ],
            [
             0.4444444444444444,
             "#bd3786"
            ],
            [
             0.5555555555555556,
             "#d8576b"
            ],
            [
             0.6666666666666666,
             "#ed7953"
            ],
            [
             0.7777777777777778,
             "#fb9f3a"
            ],
            [
             0.8888888888888888,
             "#fdca26"
            ],
            [
             1,
             "#f0f921"
            ]
           ]
          },
          "colorway": [
           "#636efa",
           "#EF553B",
           "#00cc96",
           "#ab63fa",
           "#FFA15A",
           "#19d3f3",
           "#FF6692",
           "#B6E880",
           "#FF97FF",
           "#FECB52"
          ],
          "font": {
           "color": "#2a3f5f"
          },
          "geo": {
           "bgcolor": "white",
           "lakecolor": "white",
           "landcolor": "#E5ECF6",
           "showlakes": true,
           "showland": true,
           "subunitcolor": "white"
          },
          "hoverlabel": {
           "align": "left"
          },
          "hovermode": "closest",
          "mapbox": {
           "style": "light"
          },
          "paper_bgcolor": "white",
          "plot_bgcolor": "#E5ECF6",
          "polar": {
           "angularaxis": {
            "gridcolor": "white",
            "linecolor": "white",
            "ticks": ""
           },
           "bgcolor": "#E5ECF6",
           "radialaxis": {
            "gridcolor": "white",
            "linecolor": "white",
            "ticks": ""
           }
          },
          "scene": {
           "xaxis": {
            "backgroundcolor": "#E5ECF6",
            "gridcolor": "white",
            "gridwidth": 2,
            "linecolor": "white",
            "showbackground": true,
            "ticks": "",
            "zerolinecolor": "white"
           },
           "yaxis": {
            "backgroundcolor": "#E5ECF6",
            "gridcolor": "white",
            "gridwidth": 2,
            "linecolor": "white",
            "showbackground": true,
            "ticks": "",
            "zerolinecolor": "white"
           },
           "zaxis": {
            "backgroundcolor": "#E5ECF6",
            "gridcolor": "white",
            "gridwidth": 2,
            "linecolor": "white",
            "showbackground": true,
            "ticks": "",
            "zerolinecolor": "white"
           }
          },
          "shapedefaults": {
           "line": {
            "color": "#2a3f5f"
           }
          },
          "ternary": {
           "aaxis": {
            "gridcolor": "white",
            "linecolor": "white",
            "ticks": ""
           },
           "baxis": {
            "gridcolor": "white",
            "linecolor": "white",
            "ticks": ""
           },
           "bgcolor": "#E5ECF6",
           "caxis": {
            "gridcolor": "white",
            "linecolor": "white",
            "ticks": ""
           }
          },
          "title": {
           "x": 0.05
          },
          "xaxis": {
           "automargin": true,
           "gridcolor": "white",
           "linecolor": "white",
           "ticks": "",
           "title": {
            "standoff": 15
           },
           "zerolinecolor": "white",
           "zerolinewidth": 2
          },
          "yaxis": {
           "automargin": true,
           "gridcolor": "white",
           "linecolor": "white",
           "ticks": "",
           "title": {
            "standoff": 15
           },
           "zerolinecolor": "white",
           "zerolinewidth": 2
          }
         }
        },
        "title": {
         "font": {
          "color": "#4D5663"
         }
        },
        "xaxis": {
         "anchor": "y",
         "domain": [
          0,
          0.2125
         ],
         "gridcolor": "#E1E5ED",
         "showgrid": false,
         "tickfont": {
          "color": "#4D5663"
         },
         "title": {
          "font": {
           "color": "#4D5663"
          },
          "text": ""
         },
         "zerolinecolor": "#E1E5ED"
        },
        "xaxis10": {
         "anchor": "y10",
         "domain": [
          0.2625,
          0.475
         ],
         "gridcolor": "#E1E5ED",
         "showgrid": false,
         "tickfont": {
          "color": "#4D5663"
         },
         "title": {
          "font": {
           "color": "#4D5663"
          },
          "text": ""
         },
         "zerolinecolor": "#E1E5ED"
        },
        "xaxis11": {
         "anchor": "y11",
         "domain": [
          0.525,
          0.7375
         ],
         "gridcolor": "#E1E5ED",
         "showgrid": false,
         "tickfont": {
          "color": "#4D5663"
         },
         "title": {
          "font": {
           "color": "#4D5663"
          },
          "text": ""
         },
         "zerolinecolor": "#E1E5ED"
        },
        "xaxis12": {
         "anchor": "y12",
         "domain": [
          0.7875,
          1
         ],
         "gridcolor": "#E1E5ED",
         "showgrid": false,
         "tickfont": {
          "color": "#4D5663"
         },
         "title": {
          "font": {
           "color": "#4D5663"
          },
          "text": ""
         },
         "zerolinecolor": "#E1E5ED"
        },
        "xaxis13": {
         "anchor": "y13",
         "domain": [
          0,
          0.2125
         ],
         "gridcolor": "#E1E5ED",
         "showgrid": false,
         "tickfont": {
          "color": "#4D5663"
         },
         "title": {
          "font": {
           "color": "#4D5663"
          },
          "text": ""
         },
         "zerolinecolor": "#E1E5ED"
        },
        "xaxis14": {
         "anchor": "y14",
         "domain": [
          0.2625,
          0.475
         ],
         "gridcolor": "#E1E5ED",
         "showgrid": false,
         "tickfont": {
          "color": "#4D5663"
         },
         "title": {
          "font": {
           "color": "#4D5663"
          },
          "text": ""
         },
         "zerolinecolor": "#E1E5ED"
        },
        "xaxis15": {
         "anchor": "y15",
         "domain": [
          0.525,
          0.7375
         ],
         "gridcolor": "#E1E5ED",
         "showgrid": false,
         "tickfont": {
          "color": "#4D5663"
         },
         "title": {
          "font": {
           "color": "#4D5663"
          },
          "text": ""
         },
         "zerolinecolor": "#E1E5ED"
        },
        "xaxis16": {
         "anchor": "y16",
         "domain": [
          0.7875,
          1
         ],
         "gridcolor": "#E1E5ED",
         "showgrid": false,
         "tickfont": {
          "color": "#4D5663"
         },
         "title": {
          "font": {
           "color": "#4D5663"
          },
          "text": ""
         },
         "zerolinecolor": "#E1E5ED"
        },
        "xaxis2": {
         "anchor": "y2",
         "domain": [
          0.2625,
          0.475
         ],
         "gridcolor": "#E1E5ED",
         "showgrid": false,
         "tickfont": {
          "color": "#4D5663"
         },
         "title": {
          "font": {
           "color": "#4D5663"
          },
          "text": ""
         },
         "zerolinecolor": "#E1E5ED"
        },
        "xaxis3": {
         "anchor": "y3",
         "domain": [
          0.525,
          0.7375
         ],
         "gridcolor": "#E1E5ED",
         "showgrid": false,
         "tickfont": {
          "color": "#4D5663"
         },
         "title": {
          "font": {
           "color": "#4D5663"
          },
          "text": ""
         },
         "zerolinecolor": "#E1E5ED"
        },
        "xaxis4": {
         "anchor": "y4",
         "domain": [
          0.7875,
          1
         ],
         "gridcolor": "#E1E5ED",
         "showgrid": false,
         "tickfont": {
          "color": "#4D5663"
         },
         "title": {
          "font": {
           "color": "#4D5663"
          },
          "text": ""
         },
         "zerolinecolor": "#E1E5ED"
        },
        "xaxis5": {
         "anchor": "y5",
         "domain": [
          0,
          0.2125
         ],
         "gridcolor": "#E1E5ED",
         "showgrid": false,
         "tickfont": {
          "color": "#4D5663"
         },
         "title": {
          "font": {
           "color": "#4D5663"
          },
          "text": ""
         },
         "zerolinecolor": "#E1E5ED"
        },
        "xaxis6": {
         "anchor": "y6",
         "domain": [
          0.2625,
          0.475
         ],
         "gridcolor": "#E1E5ED",
         "showgrid": false,
         "tickfont": {
          "color": "#4D5663"
         },
         "title": {
          "font": {
           "color": "#4D5663"
          },
          "text": ""
         },
         "zerolinecolor": "#E1E5ED"
        },
        "xaxis7": {
         "anchor": "y7",
         "domain": [
          0.525,
          0.7375
         ],
         "gridcolor": "#E1E5ED",
         "showgrid": false,
         "tickfont": {
          "color": "#4D5663"
         },
         "title": {
          "font": {
           "color": "#4D5663"
          },
          "text": ""
         },
         "zerolinecolor": "#E1E5ED"
        },
        "xaxis8": {
         "anchor": "y8",
         "domain": [
          0.7875,
          1
         ],
         "gridcolor": "#E1E5ED",
         "showgrid": false,
         "tickfont": {
          "color": "#4D5663"
         },
         "title": {
          "font": {
           "color": "#4D5663"
          },
          "text": ""
         },
         "zerolinecolor": "#E1E5ED"
        },
        "xaxis9": {
         "anchor": "y9",
         "domain": [
          0,
          0.2125
         ],
         "gridcolor": "#E1E5ED",
         "showgrid": false,
         "tickfont": {
          "color": "#4D5663"
         },
         "title": {
          "font": {
           "color": "#4D5663"
          },
          "text": ""
         },
         "zerolinecolor": "#E1E5ED"
        },
        "yaxis": {
         "anchor": "x",
         "domain": [
          0.8025,
          1
         ],
         "gridcolor": "#E1E5ED",
         "showgrid": false,
         "tickfont": {
          "color": "#4D5663"
         },
         "title": {
          "font": {
           "color": "#4D5663"
          },
          "text": ""
         },
         "zerolinecolor": "#E1E5ED"
        },
        "yaxis10": {
         "anchor": "x10",
         "domain": [
          0.2675,
          0.465
         ],
         "gridcolor": "#E1E5ED",
         "showgrid": false,
         "tickfont": {
          "color": "#4D5663"
         },
         "title": {
          "font": {
           "color": "#4D5663"
          },
          "text": ""
         },
         "zerolinecolor": "#E1E5ED"
        },
        "yaxis11": {
         "anchor": "x11",
         "domain": [
          0.2675,
          0.465
         ],
         "gridcolor": "#E1E5ED",
         "showgrid": false,
         "tickfont": {
          "color": "#4D5663"
         },
         "title": {
          "font": {
           "color": "#4D5663"
          },
          "text": ""
         },
         "zerolinecolor": "#E1E5ED"
        },
        "yaxis12": {
         "anchor": "x12",
         "domain": [
          0.2675,
          0.465
         ],
         "gridcolor": "#E1E5ED",
         "showgrid": false,
         "tickfont": {
          "color": "#4D5663"
         },
         "title": {
          "font": {
           "color": "#4D5663"
          },
          "text": ""
         },
         "zerolinecolor": "#E1E5ED"
        },
        "yaxis13": {
         "anchor": "x13",
         "domain": [
          0,
          0.1975
         ],
         "gridcolor": "#E1E5ED",
         "showgrid": false,
         "tickfont": {
          "color": "#4D5663"
         },
         "title": {
          "font": {
           "color": "#4D5663"
          },
          "text": ""
         },
         "zerolinecolor": "#E1E5ED"
        },
        "yaxis14": {
         "anchor": "x14",
         "domain": [
          0,
          0.1975
         ],
         "gridcolor": "#E1E5ED",
         "showgrid": false,
         "tickfont": {
          "color": "#4D5663"
         },
         "title": {
          "font": {
           "color": "#4D5663"
          },
          "text": ""
         },
         "zerolinecolor": "#E1E5ED"
        },
        "yaxis15": {
         "anchor": "x15",
         "domain": [
          0,
          0.1975
         ],
         "gridcolor": "#E1E5ED",
         "showgrid": false,
         "tickfont": {
          "color": "#4D5663"
         },
         "title": {
          "font": {
           "color": "#4D5663"
          },
          "text": ""
         },
         "zerolinecolor": "#E1E5ED"
        },
        "yaxis16": {
         "anchor": "x16",
         "domain": [
          0,
          0.1975
         ],
         "gridcolor": "#E1E5ED",
         "showgrid": false,
         "tickfont": {
          "color": "#4D5663"
         },
         "title": {
          "font": {
           "color": "#4D5663"
          },
          "text": ""
         },
         "zerolinecolor": "#E1E5ED"
        },
        "yaxis2": {
         "anchor": "x2",
         "domain": [
          0.8025,
          1
         ],
         "gridcolor": "#E1E5ED",
         "showgrid": false,
         "tickfont": {
          "color": "#4D5663"
         },
         "title": {
          "font": {
           "color": "#4D5663"
          },
          "text": ""
         },
         "zerolinecolor": "#E1E5ED"
        },
        "yaxis3": {
         "anchor": "x3",
         "domain": [
          0.8025,
          1
         ],
         "gridcolor": "#E1E5ED",
         "showgrid": false,
         "tickfont": {
          "color": "#4D5663"
         },
         "title": {
          "font": {
           "color": "#4D5663"
          },
          "text": ""
         },
         "zerolinecolor": "#E1E5ED"
        },
        "yaxis4": {
         "anchor": "x4",
         "domain": [
          0.8025,
          1
         ],
         "gridcolor": "#E1E5ED",
         "showgrid": false,
         "tickfont": {
          "color": "#4D5663"
         },
         "title": {
          "font": {
           "color": "#4D5663"
          },
          "text": ""
         },
         "zerolinecolor": "#E1E5ED"
        },
        "yaxis5": {
         "anchor": "x5",
         "domain": [
          0.535,
          0.7325
         ],
         "gridcolor": "#E1E5ED",
         "showgrid": false,
         "tickfont": {
          "color": "#4D5663"
         },
         "title": {
          "font": {
           "color": "#4D5663"
          },
          "text": ""
         },
         "zerolinecolor": "#E1E5ED"
        },
        "yaxis6": {
         "anchor": "x6",
         "domain": [
          0.535,
          0.7325
         ],
         "gridcolor": "#E1E5ED",
         "showgrid": false,
         "tickfont": {
          "color": "#4D5663"
         },
         "title": {
          "font": {
           "color": "#4D5663"
          },
          "text": ""
         },
         "zerolinecolor": "#E1E5ED"
        },
        "yaxis7": {
         "anchor": "x7",
         "domain": [
          0.535,
          0.7325
         ],
         "gridcolor": "#E1E5ED",
         "showgrid": false,
         "tickfont": {
          "color": "#4D5663"
         },
         "title": {
          "font": {
           "color": "#4D5663"
          },
          "text": ""
         },
         "zerolinecolor": "#E1E5ED"
        },
        "yaxis8": {
         "anchor": "x8",
         "domain": [
          0.535,
          0.7325
         ],
         "gridcolor": "#E1E5ED",
         "showgrid": false,
         "tickfont": {
          "color": "#4D5663"
         },
         "title": {
          "font": {
           "color": "#4D5663"
          },
          "text": ""
         },
         "zerolinecolor": "#E1E5ED"
        },
        "yaxis9": {
         "anchor": "x9",
         "domain": [
          0.2675,
          0.465
         ],
         "gridcolor": "#E1E5ED",
         "showgrid": false,
         "tickfont": {
          "color": "#4D5663"
         },
         "title": {
          "font": {
           "color": "#4D5663"
          },
          "text": ""
         },
         "zerolinecolor": "#E1E5ED"
        }
       }
      },
      "text/html": [
       "<div>                            <div id=\"4d3d6f7b-8f69-4c1d-9ab8-da0e40d67165\" class=\"plotly-graph-div\" style=\"height:525px; width:100%;\"></div>            <script type=\"text/javascript\">                require([\"plotly\"], function(Plotly) {                    window.PLOTLYENV=window.PLOTLYENV || {};\n",
       "                    window.PLOTLYENV.BASE_URL='https://plot.ly';                                    if (document.getElementById(\"4d3d6f7b-8f69-4c1d-9ab8-da0e40d67165\")) {                    Plotly.newPlot(                        \"4d3d6f7b-8f69-4c1d-9ab8-da0e40d67165\",                        [{\"histfunc\":\"count\",\"histnorm\":\"\",\"marker\":{\"color\":\"rgba(255, 153, 51, 1.0)\",\"line\":{\"color\":\"#4D5663\",\"width\":1.3}},\"name\":\"A\",\"nbinsx\":10,\"opacity\":0.8,\"orientation\":\"v\",\"x\":[-1.128527421491057,-0.8325364170784427,1.117759011436061,0.11495821582242938,0.9305397397535681,-0.056959321380706515,-0.5762026578238985,0.325320359316401,-1.9649153531373396,-0.38095279402790533,-0.7454931605462313,0.8976973947563892,-1.1235804539847107,-0.953172193107549,-0.6759776688995367,0.8002755785061688,1.0494633796587234,0.7378447030414386,0.12986113700123267,1.086286389801609,0.08155836201718823,0.9229784489921659,-0.09369022766596474,-0.09856230970321986,1.098265891122033,-1.4152131175655607,0.2611617624310045,2.1193649175716662,-0.6664020677940656,-0.48052259484460547,-0.7276838790005038,0.039524546708315525,0.318393553414977,-0.7196077416392381,0.3421313655229252,0.4388205758096896,-2.3550491633823247,-0.593569758262605,1.3047282106401816,2.443603175882856,0.28018107604832165,-0.8710273063882875,-0.4313328571744169,-0.5355094514622776,-1.0161943798253763,-0.3209224256029741,0.779425587893723,-0.11047731431318959,0.38402677202404795,0.9447772275780516,0.32871514758508485,-0.6560157443714713,0.08460414252776026,-0.5553487874460203,0.9471993168855736,0.6678767956742167,0.4208061364417931,-0.33768501018069025,1.1208605783273453,-1.144231224207155,-1.4199399126024166,-0.11313590371139508,1.3125136045441845,0.085954704596972,-0.7483688051037276,1.3962916765963318,0.6073003572383889,1.2964224252900522,1.28946390344804,2.030271679606397,0.24890115506565916,1.0408432010472008,-0.8196810968506483,-0.30181791205238634,-0.36394056053162893,0.7815149875165472,1.3196476078355661,1.727632647394526,0.3512575295402517,-0.6765221465830158,-1.4149174315858297,-0.21080941096235653,-1.78489892280663,-0.5243782750686626,-0.27859033504171876,-0.35180835776863956,0.43097713887934547,0.7307371202909417,1.7073564886167998,-1.4852143241881217,-1.964488410262696,-0.4693944143531847,1.5858342398604492,0.7595070765604511,0.9500923730675553,-1.5047798877080556,0.4176577629779211,1.1158898764399596,-1.9340101508934031,-0.9888974513248849],\"xaxis\":\"x\",\"yaxis\":\"y\",\"type\":\"histogram\"},{\"line\":{\"color\":\"rgba(128, 128, 128, 1.0)\",\"dash\":\"solid\",\"shape\":\"linear\",\"width\":1.3},\"marker\":{\"size\":2,\"symbol\":\"circle\"},\"mode\":\"markers\",\"name\":\"A\",\"text\":\"\",\"x\":[-0.8438017208608072,-1.451059827304447,0.31677438801135444,-1.8824266351071355,-1.4000326376861942,0.08622616529018719,0.1813405485240011,-0.1096132190531128,1.7808291385567678,-0.5833462656304863,-0.5575659926396725,0.40584827482506397,0.6101680257864976,0.06544046951260675,1.4314723011005817,-0.07243636161791522,0.07292612974172229,0.16531870386208344,1.5473983294693736,-0.40795910360537324,0.534994199581339,0.3181352605298431,0.5827471569825284,0.11797395439563242,1.7270203123041272,-0.7979657106730599,-0.33643680435496826,-0.09190581146404614,-0.19434919479635446,1.3323765092492732,-0.5097502377901193,1.0123102696031379,-1.434646410360193,-0.08510773094341798,2.360527793889873,1.769109412305407,0.03199133127897448,-0.7151940914551366,-0.2446046200943762,-1.6369575612289258,-0.0222854167728985,-0.8398559101888473,1.3674759577283377,0.15091042675588018,0.7009967420910446,-0.39591430298434566,-0.06094057313462858,-0.8229796690465562,1.5647951708797927,0.5724286683006631,0.022599323722141563,-0.5693125084686658,1.3114744511352885,-1.228875433688444,0.5402788075718962,1.31880764494986,-1.446003318952283,0.8414602348998687,1.6409498164147742,1.7271203005557403,0.9064534794866576,0.07765079767186345,0.9377878612527225,1.1174189380719395,0.6265982804893011,-0.8505598010938983,0.5062479847351922,0.29743743819756463,-0.26487197065108586,-0.6090971952882519,3.3784685380994843,-1.3651458003278483,1.5362075391723087,-1.8426372521276637,2.2187310815551857,0.8846437079633963,-0.3233740780746491,0.7383625124308305,2.588160313840058,-0.16678927700726093,0.4345932220808519,1.3522024747491594,2.1398157596463223,-0.5546882110557149,-0.5246472208537587,-0.3247726096531107,-0.42285621792837025,0.011079347946176672,-0.7670558734032875,1.5606469735113997,-0.6158162024941565,-0.43316149808904775,-0.6365567196593834,-0.14843480591937674,0.3734032314190597,1.4400219200722884,-1.0365022965768078,0.0849264308017044,0.4774918060323457,0.3055439179664504],\"xaxis\":\"x2\",\"y\":[-1.128527421491057,-0.8325364170784427,1.117759011436061,0.11495821582242938,0.9305397397535681,-0.056959321380706515,-0.5762026578238985,0.325320359316401,-1.9649153531373396,-0.38095279402790533,-0.7454931605462313,0.8976973947563892,-1.1235804539847107,-0.953172193107549,-0.6759776688995367,0.8002755785061688,1.0494633796587234,0.7378447030414386,0.12986113700123267,1.086286389801609,0.08155836201718823,0.9229784489921659,-0.09369022766596474,-0.09856230970321986,1.098265891122033,-1.4152131175655607,0.2611617624310045,2.1193649175716662,-0.6664020677940656,-0.48052259484460547,-0.7276838790005038,0.039524546708315525,0.318393553414977,-0.7196077416392381,0.3421313655229252,0.4388205758096896,-2.3550491633823247,-0.593569758262605,1.3047282106401816,2.443603175882856,0.28018107604832165,-0.8710273063882875,-0.4313328571744169,-0.5355094514622776,-1.0161943798253763,-0.3209224256029741,0.779425587893723,-0.11047731431318959,0.38402677202404795,0.9447772275780516,0.32871514758508485,-0.6560157443714713,0.08460414252776026,-0.5553487874460203,0.9471993168855736,0.6678767956742167,0.4208061364417931,-0.33768501018069025,1.1208605783273453,-1.144231224207155,-1.4199399126024166,-0.11313590371139508,1.3125136045441845,0.085954704596972,-0.7483688051037276,1.3962916765963318,0.6073003572383889,1.2964224252900522,1.28946390344804,2.030271679606397,0.24890115506565916,1.0408432010472008,-0.8196810968506483,-0.30181791205238634,-0.36394056053162893,0.7815149875165472,1.3196476078355661,1.727632647394526,0.3512575295402517,-0.6765221465830158,-1.4149174315858297,-0.21080941096235653,-1.78489892280663,-0.5243782750686626,-0.27859033504171876,-0.35180835776863956,0.43097713887934547,0.7307371202909417,1.7073564886167998,-1.4852143241881217,-1.964488410262696,-0.4693944143531847,1.5858342398604492,0.7595070765604511,0.9500923730675553,-1.5047798877080556,0.4176577629779211,1.1158898764399596,-1.9340101508934031,-0.9888974513248849],\"yaxis\":\"y2\",\"type\":\"scatter\"},{\"line\":{\"color\":\"rgba(128, 128, 128, 1.0)\",\"dash\":\"solid\",\"shape\":\"linear\",\"width\":1.3},\"marker\":{\"size\":2,\"symbol\":\"circle\"},\"mode\":\"markers\",\"name\":\"A\",\"text\":\"\",\"x\":[-0.052997427688089925,1.0939192030529579,0.7836385103413706,1.1285648084681439,-0.5602885457556053,1.302029337022206,0.1953898841930936,1.7332083933884679,1.3728472898237867,-0.5407000539889921,-0.5443508722708977,-2.1125935139792253,-2.162026658273078,1.4070820970863287,0.9170218751937319,0.15607343193527032,-0.3422807205126697,-0.3012945609589326,-0.10537036018678862,-1.089452885042992,1.8562011311582736,1.4468330111003407,-1.2073264315749066,1.1386956267422288,-1.3800384882678676,-0.18831081827046722,1.8852207938165892,-0.43600194728668434,1.1609184039239695,0.9165236241281612,0.31700494533500195,0.3605605593248934,0.12231270126087389,0.13147809041934225,-0.588173974794048,-2.3593658844283176,1.376405863101816,-0.02118661532237987,0.588894031363778,-0.07337750948481137,-0.20213617931148056,-1.3730070208357543,-0.4062430256807989,-0.8415162282989974,-0.435377673592703,0.19578142083593172,0.23502260973551314,-1.0726554965690713,-0.22454270175886124,1.9847132011316835,-0.3550573491889973,0.28310369497161714,-2.359267830448543,-0.6371548496002973,0.3466278420287463,-0.4793012276071593,-0.1419808436558441,-0.04758434563031437,1.7069953186584261,-2.2542378986384275,0.56554324087177,0.42587348763356003,1.0509085837941605,0.6128929113630869,0.17484827355805918,-0.009058222380550427,1.1659439896446162,-0.10426860582885965,0.34753260513155976,0.1451408718031967,-0.5058744938076509,0.1071242614410123,-0.12055245937245793,-1.2151826047751948,-0.32325423494812777,0.33655431014364956,-0.0698696979109782,0.039555328052211416,-0.2554685398288555,-1.6028989398528626,-1.883937271963367,0.8939645123756309,1.0351283227043337,-1.2981068855341964,0.4146278289099435,-1.5916940607804568,0.8640158545604475,0.20309766889398637,-1.6373362352662955,-0.1762541482334694,-0.11260991713828158,0.023965498717288224,-1.19241474612489,0.22722148858620456,-0.30260074267927256,0.6309700535740959,0.7865080117972115,-2.545093023517818,-0.7425157851817191,0.9290632258960806],\"xaxis\":\"x3\",\"y\":[-1.128527421491057,-0.8325364170784427,1.117759011436061,0.11495821582242938,0.9305397397535681,-0.056959321380706515,-0.5762026578238985,0.325320359316401,-1.9649153531373396,-0.38095279402790533,-0.7454931605462313,0.8976973947563892,-1.1235804539847107,-0.953172193107549,-0.6759776688995367,0.8002755785061688,1.0494633796587234,0.7378447030414386,0.12986113700123267,1.086286389801609,0.08155836201718823,0.9229784489921659,-0.09369022766596474,-0.09856230970321986,1.098265891122033,-1.4152131175655607,0.2611617624310045,2.1193649175716662,-0.6664020677940656,-0.48052259484460547,-0.7276838790005038,0.039524546708315525,0.318393553414977,-0.7196077416392381,0.3421313655229252,0.4388205758096896,-2.3550491633823247,-0.593569758262605,1.3047282106401816,2.443603175882856,0.28018107604832165,-0.8710273063882875,-0.4313328571744169,-0.5355094514622776,-1.0161943798253763,-0.3209224256029741,0.779425587893723,-0.11047731431318959,0.38402677202404795,0.9447772275780516,0.32871514758508485,-0.6560157443714713,0.08460414252776026,-0.5553487874460203,0.9471993168855736,0.6678767956742167,0.4208061364417931,-0.33768501018069025,1.1208605783273453,-1.144231224207155,-1.4199399126024166,-0.11313590371139508,1.3125136045441845,0.085954704596972,-0.7483688051037276,1.3962916765963318,0.6073003572383889,1.2964224252900522,1.28946390344804,2.030271679606397,0.24890115506565916,1.0408432010472008,-0.8196810968506483,-0.30181791205238634,-0.36394056053162893,0.7815149875165472,1.3196476078355661,1.727632647394526,0.3512575295402517,-0.6765221465830158,-1.4149174315858297,-0.21080941096235653,-1.78489892280663,-0.5243782750686626,-0.27859033504171876,-0.35180835776863956,0.43097713887934547,0.7307371202909417,1.7073564886167998,-1.4852143241881217,-1.964488410262696,-0.4693944143531847,1.5858342398604492,0.7595070765604511,0.9500923730675553,-1.5047798877080556,0.4176577629779211,1.1158898764399596,-1.9340101508934031,-0.9888974513248849],\"yaxis\":\"y3\",\"type\":\"scatter\"},{\"line\":{\"color\":\"rgba(128, 128, 128, 1.0)\",\"dash\":\"solid\",\"shape\":\"linear\",\"width\":1.3},\"marker\":{\"size\":2,\"symbol\":\"circle\"},\"mode\":\"markers\",\"name\":\"A\",\"text\":\"\",\"x\":[1.1300499630931804,-0.03908600458946342,0.6161873178201305,1.5041801411887108,-0.01104184889052825,-1.4541856527306678,0.1379127620570015,0.05286159430865403,-0.21042889059012565,0.41911444964394357,-0.66981986780956,0.4725573492237899,-1.3814385108058174,-0.2836422497981442,-0.7592911404368923,1.4936635418284283,0.5896762357130668,0.48345227631398735,-0.3912329696230036,-0.05492908159219744,0.6113565427068339,1.081266132516459,0.6043185670960939,-1.2130722858998417,-1.4452752491990506,-0.32570973748197096,0.2103576698999121,0.2166496317370823,-1.6090609509714906,-0.24335524747646176,1.5769555780993356,-0.146222080204656,-0.8723429769392964,-0.003121478823417625,-0.721850170888696,-1.1350238153561139,-1.6508953740672372,0.1972498795472664,0.6388213501375252,0.30022207267482137,-1.4284626396824047,-0.7125248040213117,2.235327564848775,-0.38879314849013463,0.01199331914743487,-1.064488753712766,-1.603302078640188,0.824758072320352,-1.4187811638540186,-0.4662994419120291,0.16746513943352692,-0.47374519308450536,0.25881683314690856,-1.7131277848658035,-1.680961034864507,0.753440010147552,1.7120081658646487,-1.1481475594169448,-0.4432656742514228,-0.8042576143325543,0.9553368253774911,0.10941651930449499,0.27593070834820616,-0.3950901519730633,-0.6579662554250679,-0.6703204355214106,-0.16176423837422535,0.9507292877091447,-0.4407686121893185,1.8045492845057018,-1.338210908582245,-1.6738321029650791,-0.43859649892924185,-0.3763633315130177,-0.2986416896820966,0.1892706422905342,-0.8820407555559685,-0.18018636261858956,0.5947380465804296,0.7060541524538173,-1.509582826291845,0.1421921318309323,-0.5022746243340366,-0.861918994089485,0.44031565181588245,-0.08158247893958946,-1.2197712929260776,-0.10361307390360547,0.008852384552850503,1.899068411392826,1.3562519302176974,0.22479296064795803,0.6013594415492209,-1.4745880407156362,1.0161975676006454,-0.6760327676513366,0.0673972731888613,-1.2536011060930559,0.48230858536971627,1.1302848040991256],\"xaxis\":\"x4\",\"y\":[-1.128527421491057,-0.8325364170784427,1.117759011436061,0.11495821582242938,0.9305397397535681,-0.056959321380706515,-0.5762026578238985,0.325320359316401,-1.9649153531373396,-0.38095279402790533,-0.7454931605462313,0.8976973947563892,-1.1235804539847107,-0.953172193107549,-0.6759776688995367,0.8002755785061688,1.0494633796587234,0.7378447030414386,0.12986113700123267,1.086286389801609,0.08155836201718823,0.9229784489921659,-0.09369022766596474,-0.09856230970321986,1.098265891122033,-1.4152131175655607,0.2611617624310045,2.1193649175716662,-0.6664020677940656,-0.48052259484460547,-0.7276838790005038,0.039524546708315525,0.318393553414977,-0.7196077416392381,0.3421313655229252,0.4388205758096896,-2.3550491633823247,-0.593569758262605,1.3047282106401816,2.443603175882856,0.28018107604832165,-0.8710273063882875,-0.4313328571744169,-0.5355094514622776,-1.0161943798253763,-0.3209224256029741,0.779425587893723,-0.11047731431318959,0.38402677202404795,0.9447772275780516,0.32871514758508485,-0.6560157443714713,0.08460414252776026,-0.5553487874460203,0.9471993168855736,0.6678767956742167,0.4208061364417931,-0.33768501018069025,1.1208605783273453,-1.144231224207155,-1.4199399126024166,-0.11313590371139508,1.3125136045441845,0.085954704596972,-0.7483688051037276,1.3962916765963318,0.6073003572383889,1.2964224252900522,1.28946390344804,2.030271679606397,0.24890115506565916,1.0408432010472008,-0.8196810968506483,-0.30181791205238634,-0.36394056053162893,0.7815149875165472,1.3196476078355661,1.727632647394526,0.3512575295402517,-0.6765221465830158,-1.4149174315858297,-0.21080941096235653,-1.78489892280663,-0.5243782750686626,-0.27859033504171876,-0.35180835776863956,0.43097713887934547,0.7307371202909417,1.7073564886167998,-1.4852143241881217,-1.964488410262696,-0.4693944143531847,1.5858342398604492,0.7595070765604511,0.9500923730675553,-1.5047798877080556,0.4176577629779211,1.1158898764399596,-1.9340101508934031,-0.9888974513248849],\"yaxis\":\"y4\",\"type\":\"scatter\"},{\"line\":{\"color\":\"rgba(128, 128, 128, 1.0)\",\"dash\":\"solid\",\"shape\":\"linear\",\"width\":1.3},\"marker\":{\"size\":2,\"symbol\":\"circle\"},\"mode\":\"markers\",\"name\":\"B\",\"text\":\"\",\"x\":[-1.128527421491057,-0.8325364170784427,1.117759011436061,0.11495821582242938,0.9305397397535681,-0.056959321380706515,-0.5762026578238985,0.325320359316401,-1.9649153531373396,-0.38095279402790533,-0.7454931605462313,0.8976973947563892,-1.1235804539847107,-0.953172193107549,-0.6759776688995367,0.8002755785061688,1.0494633796587234,0.7378447030414386,0.12986113700123267,1.086286389801609,0.08155836201718823,0.9229784489921659,-0.09369022766596474,-0.09856230970321986,1.098265891122033,-1.4152131175655607,0.2611617624310045,2.1193649175716662,-0.6664020677940656,-0.48052259484460547,-0.7276838790005038,0.039524546708315525,0.318393553414977,-0.7196077416392381,0.3421313655229252,0.4388205758096896,-2.3550491633823247,-0.593569758262605,1.3047282106401816,2.443603175882856,0.28018107604832165,-0.8710273063882875,-0.4313328571744169,-0.5355094514622776,-1.0161943798253763,-0.3209224256029741,0.779425587893723,-0.11047731431318959,0.38402677202404795,0.9447772275780516,0.32871514758508485,-0.6560157443714713,0.08460414252776026,-0.5553487874460203,0.9471993168855736,0.6678767956742167,0.4208061364417931,-0.33768501018069025,1.1208605783273453,-1.144231224207155,-1.4199399126024166,-0.11313590371139508,1.3125136045441845,0.085954704596972,-0.7483688051037276,1.3962916765963318,0.6073003572383889,1.2964224252900522,1.28946390344804,2.030271679606397,0.24890115506565916,1.0408432010472008,-0.8196810968506483,-0.30181791205238634,-0.36394056053162893,0.7815149875165472,1.3196476078355661,1.727632647394526,0.3512575295402517,-0.6765221465830158,-1.4149174315858297,-0.21080941096235653,-1.78489892280663,-0.5243782750686626,-0.27859033504171876,-0.35180835776863956,0.43097713887934547,0.7307371202909417,1.7073564886167998,-1.4852143241881217,-1.964488410262696,-0.4693944143531847,1.5858342398604492,0.7595070765604511,0.9500923730675553,-1.5047798877080556,0.4176577629779211,1.1158898764399596,-1.9340101508934031,-0.9888974513248849],\"xaxis\":\"x5\",\"y\":[-0.8438017208608072,-1.451059827304447,0.31677438801135444,-1.8824266351071355,-1.4000326376861942,0.08622616529018719,0.1813405485240011,-0.1096132190531128,1.7808291385567678,-0.5833462656304863,-0.5575659926396725,0.40584827482506397,0.6101680257864976,0.06544046951260675,1.4314723011005817,-0.07243636161791522,0.07292612974172229,0.16531870386208344,1.5473983294693736,-0.40795910360537324,0.534994199581339,0.3181352605298431,0.5827471569825284,0.11797395439563242,1.7270203123041272,-0.7979657106730599,-0.33643680435496826,-0.09190581146404614,-0.19434919479635446,1.3323765092492732,-0.5097502377901193,1.0123102696031379,-1.434646410360193,-0.08510773094341798,2.360527793889873,1.769109412305407,0.03199133127897448,-0.7151940914551366,-0.2446046200943762,-1.6369575612289258,-0.0222854167728985,-0.8398559101888473,1.3674759577283377,0.15091042675588018,0.7009967420910446,-0.39591430298434566,-0.06094057313462858,-0.8229796690465562,1.5647951708797927,0.5724286683006631,0.022599323722141563,-0.5693125084686658,1.3114744511352885,-1.228875433688444,0.5402788075718962,1.31880764494986,-1.446003318952283,0.8414602348998687,1.6409498164147742,1.7271203005557403,0.9064534794866576,0.07765079767186345,0.9377878612527225,1.1174189380719395,0.6265982804893011,-0.8505598010938983,0.5062479847351922,0.29743743819756463,-0.26487197065108586,-0.6090971952882519,3.3784685380994843,-1.3651458003278483,1.5362075391723087,-1.8426372521276637,2.2187310815551857,0.8846437079633963,-0.3233740780746491,0.7383625124308305,2.588160313840058,-0.16678927700726093,0.4345932220808519,1.3522024747491594,2.1398157596463223,-0.5546882110557149,-0.5246472208537587,-0.3247726096531107,-0.42285621792837025,0.011079347946176672,-0.7670558734032875,1.5606469735113997,-0.6158162024941565,-0.43316149808904775,-0.6365567196593834,-0.14843480591937674,0.3734032314190597,1.4400219200722884,-1.0365022965768078,0.0849264308017044,0.4774918060323457,0.3055439179664504],\"yaxis\":\"y5\",\"type\":\"scatter\"},{\"histfunc\":\"count\",\"histnorm\":\"\",\"marker\":{\"color\":\"rgba(55, 128, 191, 1.0)\",\"line\":{\"color\":\"#4D5663\",\"width\":1.3}},\"name\":\"B\",\"nbinsx\":10,\"opacity\":0.8,\"orientation\":\"v\",\"x\":[-0.8438017208608072,-1.451059827304447,0.31677438801135444,-1.8824266351071355,-1.4000326376861942,0.08622616529018719,0.1813405485240011,-0.1096132190531128,1.7808291385567678,-0.5833462656304863,-0.5575659926396725,0.40584827482506397,0.6101680257864976,0.06544046951260675,1.4314723011005817,-0.07243636161791522,0.07292612974172229,0.16531870386208344,1.5473983294693736,-0.40795910360537324,0.534994199581339,0.3181352605298431,0.5827471569825284,0.11797395439563242,1.7270203123041272,-0.7979657106730599,-0.33643680435496826,-0.09190581146404614,-0.19434919479635446,1.3323765092492732,-0.5097502377901193,1.0123102696031379,-1.434646410360193,-0.08510773094341798,2.360527793889873,1.769109412305407,0.03199133127897448,-0.7151940914551366,-0.2446046200943762,-1.6369575612289258,-0.0222854167728985,-0.8398559101888473,1.3674759577283377,0.15091042675588018,0.7009967420910446,-0.39591430298434566,-0.06094057313462858,-0.8229796690465562,1.5647951708797927,0.5724286683006631,0.022599323722141563,-0.5693125084686658,1.3114744511352885,-1.228875433688444,0.5402788075718962,1.31880764494986,-1.446003318952283,0.8414602348998687,1.6409498164147742,1.7271203005557403,0.9064534794866576,0.07765079767186345,0.9377878612527225,1.1174189380719395,0.6265982804893011,-0.8505598010938983,0.5062479847351922,0.29743743819756463,-0.26487197065108586,-0.6090971952882519,3.3784685380994843,-1.3651458003278483,1.5362075391723087,-1.8426372521276637,2.2187310815551857,0.8846437079633963,-0.3233740780746491,0.7383625124308305,2.588160313840058,-0.16678927700726093,0.4345932220808519,1.3522024747491594,2.1398157596463223,-0.5546882110557149,-0.5246472208537587,-0.3247726096531107,-0.42285621792837025,0.011079347946176672,-0.7670558734032875,1.5606469735113997,-0.6158162024941565,-0.43316149808904775,-0.6365567196593834,-0.14843480591937674,0.3734032314190597,1.4400219200722884,-1.0365022965768078,0.0849264308017044,0.4774918060323457,0.3055439179664504],\"xaxis\":\"x6\",\"yaxis\":\"y6\",\"type\":\"histogram\"},{\"line\":{\"color\":\"rgba(128, 128, 128, 1.0)\",\"dash\":\"solid\",\"shape\":\"linear\",\"width\":1.3},\"marker\":{\"size\":2,\"symbol\":\"circle\"},\"mode\":\"markers\",\"name\":\"B\",\"text\":\"\",\"x\":[-0.052997427688089925,1.0939192030529579,0.7836385103413706,1.1285648084681439,-0.5602885457556053,1.302029337022206,0.1953898841930936,1.7332083933884679,1.3728472898237867,-0.5407000539889921,-0.5443508722708977,-2.1125935139792253,-2.162026658273078,1.4070820970863287,0.9170218751937319,0.15607343193527032,-0.3422807205126697,-0.3012945609589326,-0.10537036018678862,-1.089452885042992,1.8562011311582736,1.4468330111003407,-1.2073264315749066,1.1386956267422288,-1.3800384882678676,-0.18831081827046722,1.8852207938165892,-0.43600194728668434,1.1609184039239695,0.9165236241281612,0.31700494533500195,0.3605605593248934,0.12231270126087389,0.13147809041934225,-0.588173974794048,-2.3593658844283176,1.376405863101816,-0.02118661532237987,0.588894031363778,-0.07337750948481137,-0.20213617931148056,-1.3730070208357543,-0.4062430256807989,-0.8415162282989974,-0.435377673592703,0.19578142083593172,0.23502260973551314,-1.0726554965690713,-0.22454270175886124,1.9847132011316835,-0.3550573491889973,0.28310369497161714,-2.359267830448543,-0.6371548496002973,0.3466278420287463,-0.4793012276071593,-0.1419808436558441,-0.04758434563031437,1.7069953186584261,-2.2542378986384275,0.56554324087177,0.42587348763356003,1.0509085837941605,0.6128929113630869,0.17484827355805918,-0.009058222380550427,1.1659439896446162,-0.10426860582885965,0.34753260513155976,0.1451408718031967,-0.5058744938076509,0.1071242614410123,-0.12055245937245793,-1.2151826047751948,-0.32325423494812777,0.33655431014364956,-0.0698696979109782,0.039555328052211416,-0.2554685398288555,-1.6028989398528626,-1.883937271963367,0.8939645123756309,1.0351283227043337,-1.2981068855341964,0.4146278289099435,-1.5916940607804568,0.8640158545604475,0.20309766889398637,-1.6373362352662955,-0.1762541482334694,-0.11260991713828158,0.023965498717288224,-1.19241474612489,0.22722148858620456,-0.30260074267927256,0.6309700535740959,0.7865080117972115,-2.545093023517818,-0.7425157851817191,0.9290632258960806],\"xaxis\":\"x7\",\"y\":[-0.8438017208608072,-1.451059827304447,0.31677438801135444,-1.8824266351071355,-1.4000326376861942,0.08622616529018719,0.1813405485240011,-0.1096132190531128,1.7808291385567678,-0.5833462656304863,-0.5575659926396725,0.40584827482506397,0.6101680257864976,0.06544046951260675,1.4314723011005817,-0.07243636161791522,0.07292612974172229,0.16531870386208344,1.5473983294693736,-0.40795910360537324,0.534994199581339,0.3181352605298431,0.5827471569825284,0.11797395439563242,1.7270203123041272,-0.7979657106730599,-0.33643680435496826,-0.09190581146404614,-0.19434919479635446,1.3323765092492732,-0.5097502377901193,1.0123102696031379,-1.434646410360193,-0.08510773094341798,2.360527793889873,1.769109412305407,0.03199133127897448,-0.7151940914551366,-0.2446046200943762,-1.6369575612289258,-0.0222854167728985,-0.8398559101888473,1.3674759577283377,0.15091042675588018,0.7009967420910446,-0.39591430298434566,-0.06094057313462858,-0.8229796690465562,1.5647951708797927,0.5724286683006631,0.022599323722141563,-0.5693125084686658,1.3114744511352885,-1.228875433688444,0.5402788075718962,1.31880764494986,-1.446003318952283,0.8414602348998687,1.6409498164147742,1.7271203005557403,0.9064534794866576,0.07765079767186345,0.9377878612527225,1.1174189380719395,0.6265982804893011,-0.8505598010938983,0.5062479847351922,0.29743743819756463,-0.26487197065108586,-0.6090971952882519,3.3784685380994843,-1.3651458003278483,1.5362075391723087,-1.8426372521276637,2.2187310815551857,0.8846437079633963,-0.3233740780746491,0.7383625124308305,2.588160313840058,-0.16678927700726093,0.4345932220808519,1.3522024747491594,2.1398157596463223,-0.5546882110557149,-0.5246472208537587,-0.3247726096531107,-0.42285621792837025,0.011079347946176672,-0.7670558734032875,1.5606469735113997,-0.6158162024941565,-0.43316149808904775,-0.6365567196593834,-0.14843480591937674,0.3734032314190597,1.4400219200722884,-1.0365022965768078,0.0849264308017044,0.4774918060323457,0.3055439179664504],\"yaxis\":\"y7\",\"type\":\"scatter\"},{\"line\":{\"color\":\"rgba(128, 128, 128, 1.0)\",\"dash\":\"solid\",\"shape\":\"linear\",\"width\":1.3},\"marker\":{\"size\":2,\"symbol\":\"circle\"},\"mode\":\"markers\",\"name\":\"B\",\"text\":\"\",\"x\":[1.1300499630931804,-0.03908600458946342,0.6161873178201305,1.5041801411887108,-0.01104184889052825,-1.4541856527306678,0.1379127620570015,0.05286159430865403,-0.21042889059012565,0.41911444964394357,-0.66981986780956,0.4725573492237899,-1.3814385108058174,-0.2836422497981442,-0.7592911404368923,1.4936635418284283,0.5896762357130668,0.48345227631398735,-0.3912329696230036,-0.05492908159219744,0.6113565427068339,1.081266132516459,0.6043185670960939,-1.2130722858998417,-1.4452752491990506,-0.32570973748197096,0.2103576698999121,0.2166496317370823,-1.6090609509714906,-0.24335524747646176,1.5769555780993356,-0.146222080204656,-0.8723429769392964,-0.003121478823417625,-0.721850170888696,-1.1350238153561139,-1.6508953740672372,0.1972498795472664,0.6388213501375252,0.30022207267482137,-1.4284626396824047,-0.7125248040213117,2.235327564848775,-0.38879314849013463,0.01199331914743487,-1.064488753712766,-1.603302078640188,0.824758072320352,-1.4187811638540186,-0.4662994419120291,0.16746513943352692,-0.47374519308450536,0.25881683314690856,-1.7131277848658035,-1.680961034864507,0.753440010147552,1.7120081658646487,-1.1481475594169448,-0.4432656742514228,-0.8042576143325543,0.9553368253774911,0.10941651930449499,0.27593070834820616,-0.3950901519730633,-0.6579662554250679,-0.6703204355214106,-0.16176423837422535,0.9507292877091447,-0.4407686121893185,1.8045492845057018,-1.338210908582245,-1.6738321029650791,-0.43859649892924185,-0.3763633315130177,-0.2986416896820966,0.1892706422905342,-0.8820407555559685,-0.18018636261858956,0.5947380465804296,0.7060541524538173,-1.509582826291845,0.1421921318309323,-0.5022746243340366,-0.861918994089485,0.44031565181588245,-0.08158247893958946,-1.2197712929260776,-0.10361307390360547,0.008852384552850503,1.899068411392826,1.3562519302176974,0.22479296064795803,0.6013594415492209,-1.4745880407156362,1.0161975676006454,-0.6760327676513366,0.0673972731888613,-1.2536011060930559,0.48230858536971627,1.1302848040991256],\"xaxis\":\"x8\",\"y\":[-0.8438017208608072,-1.451059827304447,0.31677438801135444,-1.8824266351071355,-1.4000326376861942,0.08622616529018719,0.1813405485240011,-0.1096132190531128,1.7808291385567678,-0.5833462656304863,-0.5575659926396725,0.40584827482506397,0.6101680257864976,0.06544046951260675,1.4314723011005817,-0.07243636161791522,0.07292612974172229,0.16531870386208344,1.5473983294693736,-0.40795910360537324,0.534994199581339,0.3181352605298431,0.5827471569825284,0.11797395439563242,1.7270203123041272,-0.7979657106730599,-0.33643680435496826,-0.09190581146404614,-0.19434919479635446,1.3323765092492732,-0.5097502377901193,1.0123102696031379,-1.434646410360193,-0.08510773094341798,2.360527793889873,1.769109412305407,0.03199133127897448,-0.7151940914551366,-0.2446046200943762,-1.6369575612289258,-0.0222854167728985,-0.8398559101888473,1.3674759577283377,0.15091042675588018,0.7009967420910446,-0.39591430298434566,-0.06094057313462858,-0.8229796690465562,1.5647951708797927,0.5724286683006631,0.022599323722141563,-0.5693125084686658,1.3114744511352885,-1.228875433688444,0.5402788075718962,1.31880764494986,-1.446003318952283,0.8414602348998687,1.6409498164147742,1.7271203005557403,0.9064534794866576,0.07765079767186345,0.9377878612527225,1.1174189380719395,0.6265982804893011,-0.8505598010938983,0.5062479847351922,0.29743743819756463,-0.26487197065108586,-0.6090971952882519,3.3784685380994843,-1.3651458003278483,1.5362075391723087,-1.8426372521276637,2.2187310815551857,0.8846437079633963,-0.3233740780746491,0.7383625124308305,2.588160313840058,-0.16678927700726093,0.4345932220808519,1.3522024747491594,2.1398157596463223,-0.5546882110557149,-0.5246472208537587,-0.3247726096531107,-0.42285621792837025,0.011079347946176672,-0.7670558734032875,1.5606469735113997,-0.6158162024941565,-0.43316149808904775,-0.6365567196593834,-0.14843480591937674,0.3734032314190597,1.4400219200722884,-1.0365022965768078,0.0849264308017044,0.4774918060323457,0.3055439179664504],\"yaxis\":\"y8\",\"type\":\"scatter\"},{\"line\":{\"color\":\"rgba(128, 128, 128, 1.0)\",\"dash\":\"solid\",\"shape\":\"linear\",\"width\":1.3},\"marker\":{\"size\":2,\"symbol\":\"circle\"},\"mode\":\"markers\",\"name\":\"C\",\"text\":\"\",\"x\":[-1.128527421491057,-0.8325364170784427,1.117759011436061,0.11495821582242938,0.9305397397535681,-0.056959321380706515,-0.5762026578238985,0.325320359316401,-1.9649153531373396,-0.38095279402790533,-0.7454931605462313,0.8976973947563892,-1.1235804539847107,-0.953172193107549,-0.6759776688995367,0.8002755785061688,1.0494633796587234,0.7378447030414386,0.12986113700123267,1.086286389801609,0.08155836201718823,0.9229784489921659,-0.09369022766596474,-0.09856230970321986,1.098265891122033,-1.4152131175655607,0.2611617624310045,2.1193649175716662,-0.6664020677940656,-0.48052259484460547,-0.7276838790005038,0.039524546708315525,0.318393553414977,-0.7196077416392381,0.3421313655229252,0.4388205758096896,-2.3550491633823247,-0.593569758262605,1.3047282106401816,2.443603175882856,0.28018107604832165,-0.8710273063882875,-0.4313328571744169,-0.5355094514622776,-1.0161943798253763,-0.3209224256029741,0.779425587893723,-0.11047731431318959,0.38402677202404795,0.9447772275780516,0.32871514758508485,-0.6560157443714713,0.08460414252776026,-0.5553487874460203,0.9471993168855736,0.6678767956742167,0.4208061364417931,-0.33768501018069025,1.1208605783273453,-1.144231224207155,-1.4199399126024166,-0.11313590371139508,1.3125136045441845,0.085954704596972,-0.7483688051037276,1.3962916765963318,0.6073003572383889,1.2964224252900522,1.28946390344804,2.030271679606397,0.24890115506565916,1.0408432010472008,-0.8196810968506483,-0.30181791205238634,-0.36394056053162893,0.7815149875165472,1.3196476078355661,1.727632647394526,0.3512575295402517,-0.6765221465830158,-1.4149174315858297,-0.21080941096235653,-1.78489892280663,-0.5243782750686626,-0.27859033504171876,-0.35180835776863956,0.43097713887934547,0.7307371202909417,1.7073564886167998,-1.4852143241881217,-1.964488410262696,-0.4693944143531847,1.5858342398604492,0.7595070765604511,0.9500923730675553,-1.5047798877080556,0.4176577629779211,1.1158898764399596,-1.9340101508934031,-0.9888974513248849],\"xaxis\":\"x9\",\"y\":[-0.052997427688089925,1.0939192030529579,0.7836385103413706,1.1285648084681439,-0.5602885457556053,1.302029337022206,0.1953898841930936,1.7332083933884679,1.3728472898237867,-0.5407000539889921,-0.5443508722708977,-2.1125935139792253,-2.162026658273078,1.4070820970863287,0.9170218751937319,0.15607343193527032,-0.3422807205126697,-0.3012945609589326,-0.10537036018678862,-1.089452885042992,1.8562011311582736,1.4468330111003407,-1.2073264315749066,1.1386956267422288,-1.3800384882678676,-0.18831081827046722,1.8852207938165892,-0.43600194728668434,1.1609184039239695,0.9165236241281612,0.31700494533500195,0.3605605593248934,0.12231270126087389,0.13147809041934225,-0.588173974794048,-2.3593658844283176,1.376405863101816,-0.02118661532237987,0.588894031363778,-0.07337750948481137,-0.20213617931148056,-1.3730070208357543,-0.4062430256807989,-0.8415162282989974,-0.435377673592703,0.19578142083593172,0.23502260973551314,-1.0726554965690713,-0.22454270175886124,1.9847132011316835,-0.3550573491889973,0.28310369497161714,-2.359267830448543,-0.6371548496002973,0.3466278420287463,-0.4793012276071593,-0.1419808436558441,-0.04758434563031437,1.7069953186584261,-2.2542378986384275,0.56554324087177,0.42587348763356003,1.0509085837941605,0.6128929113630869,0.17484827355805918,-0.009058222380550427,1.1659439896446162,-0.10426860582885965,0.34753260513155976,0.1451408718031967,-0.5058744938076509,0.1071242614410123,-0.12055245937245793,-1.2151826047751948,-0.32325423494812777,0.33655431014364956,-0.0698696979109782,0.039555328052211416,-0.2554685398288555,-1.6028989398528626,-1.883937271963367,0.8939645123756309,1.0351283227043337,-1.2981068855341964,0.4146278289099435,-1.5916940607804568,0.8640158545604475,0.20309766889398637,-1.6373362352662955,-0.1762541482334694,-0.11260991713828158,0.023965498717288224,-1.19241474612489,0.22722148858620456,-0.30260074267927256,0.6309700535740959,0.7865080117972115,-2.545093023517818,-0.7425157851817191,0.9290632258960806],\"yaxis\":\"y9\",\"type\":\"scatter\"},{\"line\":{\"color\":\"rgba(128, 128, 128, 1.0)\",\"dash\":\"solid\",\"shape\":\"linear\",\"width\":1.3},\"marker\":{\"size\":2,\"symbol\":\"circle\"},\"mode\":\"markers\",\"name\":\"C\",\"text\":\"\",\"x\":[-0.8438017208608072,-1.451059827304447,0.31677438801135444,-1.8824266351071355,-1.4000326376861942,0.08622616529018719,0.1813405485240011,-0.1096132190531128,1.7808291385567678,-0.5833462656304863,-0.5575659926396725,0.40584827482506397,0.6101680257864976,0.06544046951260675,1.4314723011005817,-0.07243636161791522,0.07292612974172229,0.16531870386208344,1.5473983294693736,-0.40795910360537324,0.534994199581339,0.3181352605298431,0.5827471569825284,0.11797395439563242,1.7270203123041272,-0.7979657106730599,-0.33643680435496826,-0.09190581146404614,-0.19434919479635446,1.3323765092492732,-0.5097502377901193,1.0123102696031379,-1.434646410360193,-0.08510773094341798,2.360527793889873,1.769109412305407,0.03199133127897448,-0.7151940914551366,-0.2446046200943762,-1.6369575612289258,-0.0222854167728985,-0.8398559101888473,1.3674759577283377,0.15091042675588018,0.7009967420910446,-0.39591430298434566,-0.06094057313462858,-0.8229796690465562,1.5647951708797927,0.5724286683006631,0.022599323722141563,-0.5693125084686658,1.3114744511352885,-1.228875433688444,0.5402788075718962,1.31880764494986,-1.446003318952283,0.8414602348998687,1.6409498164147742,1.7271203005557403,0.9064534794866576,0.07765079767186345,0.9377878612527225,1.1174189380719395,0.6265982804893011,-0.8505598010938983,0.5062479847351922,0.29743743819756463,-0.26487197065108586,-0.6090971952882519,3.3784685380994843,-1.3651458003278483,1.5362075391723087,-1.8426372521276637,2.2187310815551857,0.8846437079633963,-0.3233740780746491,0.7383625124308305,2.588160313840058,-0.16678927700726093,0.4345932220808519,1.3522024747491594,2.1398157596463223,-0.5546882110557149,-0.5246472208537587,-0.3247726096531107,-0.42285621792837025,0.011079347946176672,-0.7670558734032875,1.5606469735113997,-0.6158162024941565,-0.43316149808904775,-0.6365567196593834,-0.14843480591937674,0.3734032314190597,1.4400219200722884,-1.0365022965768078,0.0849264308017044,0.4774918060323457,0.3055439179664504],\"xaxis\":\"x10\",\"y\":[-0.052997427688089925,1.0939192030529579,0.7836385103413706,1.1285648084681439,-0.5602885457556053,1.302029337022206,0.1953898841930936,1.7332083933884679,1.3728472898237867,-0.5407000539889921,-0.5443508722708977,-2.1125935139792253,-2.162026658273078,1.4070820970863287,0.9170218751937319,0.15607343193527032,-0.3422807205126697,-0.3012945609589326,-0.10537036018678862,-1.089452885042992,1.8562011311582736,1.4468330111003407,-1.2073264315749066,1.1386956267422288,-1.3800384882678676,-0.18831081827046722,1.8852207938165892,-0.43600194728668434,1.1609184039239695,0.9165236241281612,0.31700494533500195,0.3605605593248934,0.12231270126087389,0.13147809041934225,-0.588173974794048,-2.3593658844283176,1.376405863101816,-0.02118661532237987,0.588894031363778,-0.07337750948481137,-0.20213617931148056,-1.3730070208357543,-0.4062430256807989,-0.8415162282989974,-0.435377673592703,0.19578142083593172,0.23502260973551314,-1.0726554965690713,-0.22454270175886124,1.9847132011316835,-0.3550573491889973,0.28310369497161714,-2.359267830448543,-0.6371548496002973,0.3466278420287463,-0.4793012276071593,-0.1419808436558441,-0.04758434563031437,1.7069953186584261,-2.2542378986384275,0.56554324087177,0.42587348763356003,1.0509085837941605,0.6128929113630869,0.17484827355805918,-0.009058222380550427,1.1659439896446162,-0.10426860582885965,0.34753260513155976,0.1451408718031967,-0.5058744938076509,0.1071242614410123,-0.12055245937245793,-1.2151826047751948,-0.32325423494812777,0.33655431014364956,-0.0698696979109782,0.039555328052211416,-0.2554685398288555,-1.6028989398528626,-1.883937271963367,0.8939645123756309,1.0351283227043337,-1.2981068855341964,0.4146278289099435,-1.5916940607804568,0.8640158545604475,0.20309766889398637,-1.6373362352662955,-0.1762541482334694,-0.11260991713828158,0.023965498717288224,-1.19241474612489,0.22722148858620456,-0.30260074267927256,0.6309700535740959,0.7865080117972115,-2.545093023517818,-0.7425157851817191,0.9290632258960806],\"yaxis\":\"y10\",\"type\":\"scatter\"},{\"histfunc\":\"count\",\"histnorm\":\"\",\"marker\":{\"color\":\"rgba(50, 171, 96, 1.0)\",\"line\":{\"color\":\"#4D5663\",\"width\":1.3}},\"name\":\"C\",\"nbinsx\":10,\"opacity\":0.8,\"orientation\":\"v\",\"x\":[-0.052997427688089925,1.0939192030529579,0.7836385103413706,1.1285648084681439,-0.5602885457556053,1.302029337022206,0.1953898841930936,1.7332083933884679,1.3728472898237867,-0.5407000539889921,-0.5443508722708977,-2.1125935139792253,-2.162026658273078,1.4070820970863287,0.9170218751937319,0.15607343193527032,-0.3422807205126697,-0.3012945609589326,-0.10537036018678862,-1.089452885042992,1.8562011311582736,1.4468330111003407,-1.2073264315749066,1.1386956267422288,-1.3800384882678676,-0.18831081827046722,1.8852207938165892,-0.43600194728668434,1.1609184039239695,0.9165236241281612,0.31700494533500195,0.3605605593248934,0.12231270126087389,0.13147809041934225,-0.588173974794048,-2.3593658844283176,1.376405863101816,-0.02118661532237987,0.588894031363778,-0.07337750948481137,-0.20213617931148056,-1.3730070208357543,-0.4062430256807989,-0.8415162282989974,-0.435377673592703,0.19578142083593172,0.23502260973551314,-1.0726554965690713,-0.22454270175886124,1.9847132011316835,-0.3550573491889973,0.28310369497161714,-2.359267830448543,-0.6371548496002973,0.3466278420287463,-0.4793012276071593,-0.1419808436558441,-0.04758434563031437,1.7069953186584261,-2.2542378986384275,0.56554324087177,0.42587348763356003,1.0509085837941605,0.6128929113630869,0.17484827355805918,-0.009058222380550427,1.1659439896446162,-0.10426860582885965,0.34753260513155976,0.1451408718031967,-0.5058744938076509,0.1071242614410123,-0.12055245937245793,-1.2151826047751948,-0.32325423494812777,0.33655431014364956,-0.0698696979109782,0.039555328052211416,-0.2554685398288555,-1.6028989398528626,-1.883937271963367,0.8939645123756309,1.0351283227043337,-1.2981068855341964,0.4146278289099435,-1.5916940607804568,0.8640158545604475,0.20309766889398637,-1.6373362352662955,-0.1762541482334694,-0.11260991713828158,0.023965498717288224,-1.19241474612489,0.22722148858620456,-0.30260074267927256,0.6309700535740959,0.7865080117972115,-2.545093023517818,-0.7425157851817191,0.9290632258960806],\"xaxis\":\"x11\",\"yaxis\":\"y11\",\"type\":\"histogram\"},{\"line\":{\"color\":\"rgba(128, 128, 128, 1.0)\",\"dash\":\"solid\",\"shape\":\"linear\",\"width\":1.3},\"marker\":{\"size\":2,\"symbol\":\"circle\"},\"mode\":\"markers\",\"name\":\"C\",\"text\":\"\",\"x\":[1.1300499630931804,-0.03908600458946342,0.6161873178201305,1.5041801411887108,-0.01104184889052825,-1.4541856527306678,0.1379127620570015,0.05286159430865403,-0.21042889059012565,0.41911444964394357,-0.66981986780956,0.4725573492237899,-1.3814385108058174,-0.2836422497981442,-0.7592911404368923,1.4936635418284283,0.5896762357130668,0.48345227631398735,-0.3912329696230036,-0.05492908159219744,0.6113565427068339,1.081266132516459,0.6043185670960939,-1.2130722858998417,-1.4452752491990506,-0.32570973748197096,0.2103576698999121,0.2166496317370823,-1.6090609509714906,-0.24335524747646176,1.5769555780993356,-0.146222080204656,-0.8723429769392964,-0.003121478823417625,-0.721850170888696,-1.1350238153561139,-1.6508953740672372,0.1972498795472664,0.6388213501375252,0.30022207267482137,-1.4284626396824047,-0.7125248040213117,2.235327564848775,-0.38879314849013463,0.01199331914743487,-1.064488753712766,-1.603302078640188,0.824758072320352,-1.4187811638540186,-0.4662994419120291,0.16746513943352692,-0.47374519308450536,0.25881683314690856,-1.7131277848658035,-1.680961034864507,0.753440010147552,1.7120081658646487,-1.1481475594169448,-0.4432656742514228,-0.8042576143325543,0.9553368253774911,0.10941651930449499,0.27593070834820616,-0.3950901519730633,-0.6579662554250679,-0.6703204355214106,-0.16176423837422535,0.9507292877091447,-0.4407686121893185,1.8045492845057018,-1.338210908582245,-1.6738321029650791,-0.43859649892924185,-0.3763633315130177,-0.2986416896820966,0.1892706422905342,-0.8820407555559685,-0.18018636261858956,0.5947380465804296,0.7060541524538173,-1.509582826291845,0.1421921318309323,-0.5022746243340366,-0.861918994089485,0.44031565181588245,-0.08158247893958946,-1.2197712929260776,-0.10361307390360547,0.008852384552850503,1.899068411392826,1.3562519302176974,0.22479296064795803,0.6013594415492209,-1.4745880407156362,1.0161975676006454,-0.6760327676513366,0.0673972731888613,-1.2536011060930559,0.48230858536971627,1.1302848040991256],\"xaxis\":\"x12\",\"y\":[-0.052997427688089925,1.0939192030529579,0.7836385103413706,1.1285648084681439,-0.5602885457556053,1.302029337022206,0.1953898841930936,1.7332083933884679,1.3728472898237867,-0.5407000539889921,-0.5443508722708977,-2.1125935139792253,-2.162026658273078,1.4070820970863287,0.9170218751937319,0.15607343193527032,-0.3422807205126697,-0.3012945609589326,-0.10537036018678862,-1.089452885042992,1.8562011311582736,1.4468330111003407,-1.2073264315749066,1.1386956267422288,-1.3800384882678676,-0.18831081827046722,1.8852207938165892,-0.43600194728668434,1.1609184039239695,0.9165236241281612,0.31700494533500195,0.3605605593248934,0.12231270126087389,0.13147809041934225,-0.588173974794048,-2.3593658844283176,1.376405863101816,-0.02118661532237987,0.588894031363778,-0.07337750948481137,-0.20213617931148056,-1.3730070208357543,-0.4062430256807989,-0.8415162282989974,-0.435377673592703,0.19578142083593172,0.23502260973551314,-1.0726554965690713,-0.22454270175886124,1.9847132011316835,-0.3550573491889973,0.28310369497161714,-2.359267830448543,-0.6371548496002973,0.3466278420287463,-0.4793012276071593,-0.1419808436558441,-0.04758434563031437,1.7069953186584261,-2.2542378986384275,0.56554324087177,0.42587348763356003,1.0509085837941605,0.6128929113630869,0.17484827355805918,-0.009058222380550427,1.1659439896446162,-0.10426860582885965,0.34753260513155976,0.1451408718031967,-0.5058744938076509,0.1071242614410123,-0.12055245937245793,-1.2151826047751948,-0.32325423494812777,0.33655431014364956,-0.0698696979109782,0.039555328052211416,-0.2554685398288555,-1.6028989398528626,-1.883937271963367,0.8939645123756309,1.0351283227043337,-1.2981068855341964,0.4146278289099435,-1.5916940607804568,0.8640158545604475,0.20309766889398637,-1.6373362352662955,-0.1762541482334694,-0.11260991713828158,0.023965498717288224,-1.19241474612489,0.22722148858620456,-0.30260074267927256,0.6309700535740959,0.7865080117972115,-2.545093023517818,-0.7425157851817191,0.9290632258960806],\"yaxis\":\"y12\",\"type\":\"scatter\"},{\"line\":{\"color\":\"rgba(128, 128, 128, 1.0)\",\"dash\":\"solid\",\"shape\":\"linear\",\"width\":1.3},\"marker\":{\"size\":2,\"symbol\":\"circle\"},\"mode\":\"markers\",\"name\":\"D\",\"text\":\"\",\"x\":[-1.128527421491057,-0.8325364170784427,1.117759011436061,0.11495821582242938,0.9305397397535681,-0.056959321380706515,-0.5762026578238985,0.325320359316401,-1.9649153531373396,-0.38095279402790533,-0.7454931605462313,0.8976973947563892,-1.1235804539847107,-0.953172193107549,-0.6759776688995367,0.8002755785061688,1.0494633796587234,0.7378447030414386,0.12986113700123267,1.086286389801609,0.08155836201718823,0.9229784489921659,-0.09369022766596474,-0.09856230970321986,1.098265891122033,-1.4152131175655607,0.2611617624310045,2.1193649175716662,-0.6664020677940656,-0.48052259484460547,-0.7276838790005038,0.039524546708315525,0.318393553414977,-0.7196077416392381,0.3421313655229252,0.4388205758096896,-2.3550491633823247,-0.593569758262605,1.3047282106401816,2.443603175882856,0.28018107604832165,-0.8710273063882875,-0.4313328571744169,-0.5355094514622776,-1.0161943798253763,-0.3209224256029741,0.779425587893723,-0.11047731431318959,0.38402677202404795,0.9447772275780516,0.32871514758508485,-0.6560157443714713,0.08460414252776026,-0.5553487874460203,0.9471993168855736,0.6678767956742167,0.4208061364417931,-0.33768501018069025,1.1208605783273453,-1.144231224207155,-1.4199399126024166,-0.11313590371139508,1.3125136045441845,0.085954704596972,-0.7483688051037276,1.3962916765963318,0.6073003572383889,1.2964224252900522,1.28946390344804,2.030271679606397,0.24890115506565916,1.0408432010472008,-0.8196810968506483,-0.30181791205238634,-0.36394056053162893,0.7815149875165472,1.3196476078355661,1.727632647394526,0.3512575295402517,-0.6765221465830158,-1.4149174315858297,-0.21080941096235653,-1.78489892280663,-0.5243782750686626,-0.27859033504171876,-0.35180835776863956,0.43097713887934547,0.7307371202909417,1.7073564886167998,-1.4852143241881217,-1.964488410262696,-0.4693944143531847,1.5858342398604492,0.7595070765604511,0.9500923730675553,-1.5047798877080556,0.4176577629779211,1.1158898764399596,-1.9340101508934031,-0.9888974513248849],\"xaxis\":\"x13\",\"y\":[1.1300499630931804,-0.03908600458946342,0.6161873178201305,1.5041801411887108,-0.01104184889052825,-1.4541856527306678,0.1379127620570015,0.05286159430865403,-0.21042889059012565,0.41911444964394357,-0.66981986780956,0.4725573492237899,-1.3814385108058174,-0.2836422497981442,-0.7592911404368923,1.4936635418284283,0.5896762357130668,0.48345227631398735,-0.3912329696230036,-0.05492908159219744,0.6113565427068339,1.081266132516459,0.6043185670960939,-1.2130722858998417,-1.4452752491990506,-0.32570973748197096,0.2103576698999121,0.2166496317370823,-1.6090609509714906,-0.24335524747646176,1.5769555780993356,-0.146222080204656,-0.8723429769392964,-0.003121478823417625,-0.721850170888696,-1.1350238153561139,-1.6508953740672372,0.1972498795472664,0.6388213501375252,0.30022207267482137,-1.4284626396824047,-0.7125248040213117,2.235327564848775,-0.38879314849013463,0.01199331914743487,-1.064488753712766,-1.603302078640188,0.824758072320352,-1.4187811638540186,-0.4662994419120291,0.16746513943352692,-0.47374519308450536,0.25881683314690856,-1.7131277848658035,-1.680961034864507,0.753440010147552,1.7120081658646487,-1.1481475594169448,-0.4432656742514228,-0.8042576143325543,0.9553368253774911,0.10941651930449499,0.27593070834820616,-0.3950901519730633,-0.6579662554250679,-0.6703204355214106,-0.16176423837422535,0.9507292877091447,-0.4407686121893185,1.8045492845057018,-1.338210908582245,-1.6738321029650791,-0.43859649892924185,-0.3763633315130177,-0.2986416896820966,0.1892706422905342,-0.8820407555559685,-0.18018636261858956,0.5947380465804296,0.7060541524538173,-1.509582826291845,0.1421921318309323,-0.5022746243340366,-0.861918994089485,0.44031565181588245,-0.08158247893958946,-1.2197712929260776,-0.10361307390360547,0.008852384552850503,1.899068411392826,1.3562519302176974,0.22479296064795803,0.6013594415492209,-1.4745880407156362,1.0161975676006454,-0.6760327676513366,0.0673972731888613,-1.2536011060930559,0.48230858536971627,1.1302848040991256],\"yaxis\":\"y13\",\"type\":\"scatter\"},{\"line\":{\"color\":\"rgba(128, 128, 128, 1.0)\",\"dash\":\"solid\",\"shape\":\"linear\",\"width\":1.3},\"marker\":{\"size\":2,\"symbol\":\"circle\"},\"mode\":\"markers\",\"name\":\"D\",\"text\":\"\",\"x\":[-0.8438017208608072,-1.451059827304447,0.31677438801135444,-1.8824266351071355,-1.4000326376861942,0.08622616529018719,0.1813405485240011,-0.1096132190531128,1.7808291385567678,-0.5833462656304863,-0.5575659926396725,0.40584827482506397,0.6101680257864976,0.06544046951260675,1.4314723011005817,-0.07243636161791522,0.07292612974172229,0.16531870386208344,1.5473983294693736,-0.40795910360537324,0.534994199581339,0.3181352605298431,0.5827471569825284,0.11797395439563242,1.7270203123041272,-0.7979657106730599,-0.33643680435496826,-0.09190581146404614,-0.19434919479635446,1.3323765092492732,-0.5097502377901193,1.0123102696031379,-1.434646410360193,-0.08510773094341798,2.360527793889873,1.769109412305407,0.03199133127897448,-0.7151940914551366,-0.2446046200943762,-1.6369575612289258,-0.0222854167728985,-0.8398559101888473,1.3674759577283377,0.15091042675588018,0.7009967420910446,-0.39591430298434566,-0.06094057313462858,-0.8229796690465562,1.5647951708797927,0.5724286683006631,0.022599323722141563,-0.5693125084686658,1.3114744511352885,-1.228875433688444,0.5402788075718962,1.31880764494986,-1.446003318952283,0.8414602348998687,1.6409498164147742,1.7271203005557403,0.9064534794866576,0.07765079767186345,0.9377878612527225,1.1174189380719395,0.6265982804893011,-0.8505598010938983,0.5062479847351922,0.29743743819756463,-0.26487197065108586,-0.6090971952882519,3.3784685380994843,-1.3651458003278483,1.5362075391723087,-1.8426372521276637,2.2187310815551857,0.8846437079633963,-0.3233740780746491,0.7383625124308305,2.588160313840058,-0.16678927700726093,0.4345932220808519,1.3522024747491594,2.1398157596463223,-0.5546882110557149,-0.5246472208537587,-0.3247726096531107,-0.42285621792837025,0.011079347946176672,-0.7670558734032875,1.5606469735113997,-0.6158162024941565,-0.43316149808904775,-0.6365567196593834,-0.14843480591937674,0.3734032314190597,1.4400219200722884,-1.0365022965768078,0.0849264308017044,0.4774918060323457,0.3055439179664504],\"xaxis\":\"x14\",\"y\":[1.1300499630931804,-0.03908600458946342,0.6161873178201305,1.5041801411887108,-0.01104184889052825,-1.4541856527306678,0.1379127620570015,0.05286159430865403,-0.21042889059012565,0.41911444964394357,-0.66981986780956,0.4725573492237899,-1.3814385108058174,-0.2836422497981442,-0.7592911404368923,1.4936635418284283,0.5896762357130668,0.48345227631398735,-0.3912329696230036,-0.05492908159219744,0.6113565427068339,1.081266132516459,0.6043185670960939,-1.2130722858998417,-1.4452752491990506,-0.32570973748197096,0.2103576698999121,0.2166496317370823,-1.6090609509714906,-0.24335524747646176,1.5769555780993356,-0.146222080204656,-0.8723429769392964,-0.003121478823417625,-0.721850170888696,-1.1350238153561139,-1.6508953740672372,0.1972498795472664,0.6388213501375252,0.30022207267482137,-1.4284626396824047,-0.7125248040213117,2.235327564848775,-0.38879314849013463,0.01199331914743487,-1.064488753712766,-1.603302078640188,0.824758072320352,-1.4187811638540186,-0.4662994419120291,0.16746513943352692,-0.47374519308450536,0.25881683314690856,-1.7131277848658035,-1.680961034864507,0.753440010147552,1.7120081658646487,-1.1481475594169448,-0.4432656742514228,-0.8042576143325543,0.9553368253774911,0.10941651930449499,0.27593070834820616,-0.3950901519730633,-0.6579662554250679,-0.6703204355214106,-0.16176423837422535,0.9507292877091447,-0.4407686121893185,1.8045492845057018,-1.338210908582245,-1.6738321029650791,-0.43859649892924185,-0.3763633315130177,-0.2986416896820966,0.1892706422905342,-0.8820407555559685,-0.18018636261858956,0.5947380465804296,0.7060541524538173,-1.509582826291845,0.1421921318309323,-0.5022746243340366,-0.861918994089485,0.44031565181588245,-0.08158247893958946,-1.2197712929260776,-0.10361307390360547,0.008852384552850503,1.899068411392826,1.3562519302176974,0.22479296064795803,0.6013594415492209,-1.4745880407156362,1.0161975676006454,-0.6760327676513366,0.0673972731888613,-1.2536011060930559,0.48230858536971627,1.1302848040991256],\"yaxis\":\"y14\",\"type\":\"scatter\"},{\"line\":{\"color\":\"rgba(128, 128, 128, 1.0)\",\"dash\":\"solid\",\"shape\":\"linear\",\"width\":1.3},\"marker\":{\"size\":2,\"symbol\":\"circle\"},\"mode\":\"markers\",\"name\":\"D\",\"text\":\"\",\"x\":[-0.052997427688089925,1.0939192030529579,0.7836385103413706,1.1285648084681439,-0.5602885457556053,1.302029337022206,0.1953898841930936,1.7332083933884679,1.3728472898237867,-0.5407000539889921,-0.5443508722708977,-2.1125935139792253,-2.162026658273078,1.4070820970863287,0.9170218751937319,0.15607343193527032,-0.3422807205126697,-0.3012945609589326,-0.10537036018678862,-1.089452885042992,1.8562011311582736,1.4468330111003407,-1.2073264315749066,1.1386956267422288,-1.3800384882678676,-0.18831081827046722,1.8852207938165892,-0.43600194728668434,1.1609184039239695,0.9165236241281612,0.31700494533500195,0.3605605593248934,0.12231270126087389,0.13147809041934225,-0.588173974794048,-2.3593658844283176,1.376405863101816,-0.02118661532237987,0.588894031363778,-0.07337750948481137,-0.20213617931148056,-1.3730070208357543,-0.4062430256807989,-0.8415162282989974,-0.435377673592703,0.19578142083593172,0.23502260973551314,-1.0726554965690713,-0.22454270175886124,1.9847132011316835,-0.3550573491889973,0.28310369497161714,-2.359267830448543,-0.6371548496002973,0.3466278420287463,-0.4793012276071593,-0.1419808436558441,-0.04758434563031437,1.7069953186584261,-2.2542378986384275,0.56554324087177,0.42587348763356003,1.0509085837941605,0.6128929113630869,0.17484827355805918,-0.009058222380550427,1.1659439896446162,-0.10426860582885965,0.34753260513155976,0.1451408718031967,-0.5058744938076509,0.1071242614410123,-0.12055245937245793,-1.2151826047751948,-0.32325423494812777,0.33655431014364956,-0.0698696979109782,0.039555328052211416,-0.2554685398288555,-1.6028989398528626,-1.883937271963367,0.8939645123756309,1.0351283227043337,-1.2981068855341964,0.4146278289099435,-1.5916940607804568,0.8640158545604475,0.20309766889398637,-1.6373362352662955,-0.1762541482334694,-0.11260991713828158,0.023965498717288224,-1.19241474612489,0.22722148858620456,-0.30260074267927256,0.6309700535740959,0.7865080117972115,-2.545093023517818,-0.7425157851817191,0.9290632258960806],\"xaxis\":\"x15\",\"y\":[1.1300499630931804,-0.03908600458946342,0.6161873178201305,1.5041801411887108,-0.01104184889052825,-1.4541856527306678,0.1379127620570015,0.05286159430865403,-0.21042889059012565,0.41911444964394357,-0.66981986780956,0.4725573492237899,-1.3814385108058174,-0.2836422497981442,-0.7592911404368923,1.4936635418284283,0.5896762357130668,0.48345227631398735,-0.3912329696230036,-0.05492908159219744,0.6113565427068339,1.081266132516459,0.6043185670960939,-1.2130722858998417,-1.4452752491990506,-0.32570973748197096,0.2103576698999121,0.2166496317370823,-1.6090609509714906,-0.24335524747646176,1.5769555780993356,-0.146222080204656,-0.8723429769392964,-0.003121478823417625,-0.721850170888696,-1.1350238153561139,-1.6508953740672372,0.1972498795472664,0.6388213501375252,0.30022207267482137,-1.4284626396824047,-0.7125248040213117,2.235327564848775,-0.38879314849013463,0.01199331914743487,-1.064488753712766,-1.603302078640188,0.824758072320352,-1.4187811638540186,-0.4662994419120291,0.16746513943352692,-0.47374519308450536,0.25881683314690856,-1.7131277848658035,-1.680961034864507,0.753440010147552,1.7120081658646487,-1.1481475594169448,-0.4432656742514228,-0.8042576143325543,0.9553368253774911,0.10941651930449499,0.27593070834820616,-0.3950901519730633,-0.6579662554250679,-0.6703204355214106,-0.16176423837422535,0.9507292877091447,-0.4407686121893185,1.8045492845057018,-1.338210908582245,-1.6738321029650791,-0.43859649892924185,-0.3763633315130177,-0.2986416896820966,0.1892706422905342,-0.8820407555559685,-0.18018636261858956,0.5947380465804296,0.7060541524538173,-1.509582826291845,0.1421921318309323,-0.5022746243340366,-0.861918994089485,0.44031565181588245,-0.08158247893958946,-1.2197712929260776,-0.10361307390360547,0.008852384552850503,1.899068411392826,1.3562519302176974,0.22479296064795803,0.6013594415492209,-1.4745880407156362,1.0161975676006454,-0.6760327676513366,0.0673972731888613,-1.2536011060930559,0.48230858536971627,1.1302848040991256],\"yaxis\":\"y15\",\"type\":\"scatter\"},{\"histfunc\":\"count\",\"histnorm\":\"\",\"marker\":{\"color\":\"rgba(128, 0, 128, 1.0)\",\"line\":{\"color\":\"#4D5663\",\"width\":1.3}},\"name\":\"D\",\"nbinsx\":10,\"opacity\":0.8,\"orientation\":\"v\",\"x\":[1.1300499630931804,-0.03908600458946342,0.6161873178201305,1.5041801411887108,-0.01104184889052825,-1.4541856527306678,0.1379127620570015,0.05286159430865403,-0.21042889059012565,0.41911444964394357,-0.66981986780956,0.4725573492237899,-1.3814385108058174,-0.2836422497981442,-0.7592911404368923,1.4936635418284283,0.5896762357130668,0.48345227631398735,-0.3912329696230036,-0.05492908159219744,0.6113565427068339,1.081266132516459,0.6043185670960939,-1.2130722858998417,-1.4452752491990506,-0.32570973748197096,0.2103576698999121,0.2166496317370823,-1.6090609509714906,-0.24335524747646176,1.5769555780993356,-0.146222080204656,-0.8723429769392964,-0.003121478823417625,-0.721850170888696,-1.1350238153561139,-1.6508953740672372,0.1972498795472664,0.6388213501375252,0.30022207267482137,-1.4284626396824047,-0.7125248040213117,2.235327564848775,-0.38879314849013463,0.01199331914743487,-1.064488753712766,-1.603302078640188,0.824758072320352,-1.4187811638540186,-0.4662994419120291,0.16746513943352692,-0.47374519308450536,0.25881683314690856,-1.7131277848658035,-1.680961034864507,0.753440010147552,1.7120081658646487,-1.1481475594169448,-0.4432656742514228,-0.8042576143325543,0.9553368253774911,0.10941651930449499,0.27593070834820616,-0.3950901519730633,-0.6579662554250679,-0.6703204355214106,-0.16176423837422535,0.9507292877091447,-0.4407686121893185,1.8045492845057018,-1.338210908582245,-1.6738321029650791,-0.43859649892924185,-0.3763633315130177,-0.2986416896820966,0.1892706422905342,-0.8820407555559685,-0.18018636261858956,0.5947380465804296,0.7060541524538173,-1.509582826291845,0.1421921318309323,-0.5022746243340366,-0.861918994089485,0.44031565181588245,-0.08158247893958946,-1.2197712929260776,-0.10361307390360547,0.008852384552850503,1.899068411392826,1.3562519302176974,0.22479296064795803,0.6013594415492209,-1.4745880407156362,1.0161975676006454,-0.6760327676513366,0.0673972731888613,-1.2536011060930559,0.48230858536971627,1.1302848040991256],\"xaxis\":\"x16\",\"yaxis\":\"y16\",\"type\":\"histogram\"}],                        {\"bargap\":0.02,\"legend\":{\"bgcolor\":\"#F5F6F9\",\"font\":{\"color\":\"#4D5663\"}},\"paper_bgcolor\":\"#F5F6F9\",\"plot_bgcolor\":\"#F5F6F9\",\"showlegend\":false,\"template\":{\"data\":{\"barpolar\":[{\"marker\":{\"line\":{\"color\":\"#E5ECF6\",\"width\":0.5},\"pattern\":{\"fillmode\":\"overlay\",\"size\":10,\"solidity\":0.2}},\"type\":\"barpolar\"}],\"bar\":[{\"error_x\":{\"color\":\"#2a3f5f\"},\"error_y\":{\"color\":\"#2a3f5f\"},\"marker\":{\"line\":{\"color\":\"#E5ECF6\",\"width\":0.5},\"pattern\":{\"fillmode\":\"overlay\",\"size\":10,\"solidity\":0.2}},\"type\":\"bar\"}],\"carpet\":[{\"aaxis\":{\"endlinecolor\":\"#2a3f5f\",\"gridcolor\":\"white\",\"linecolor\":\"white\",\"minorgridcolor\":\"white\",\"startlinecolor\":\"#2a3f5f\"},\"baxis\":{\"endlinecolor\":\"#2a3f5f\",\"gridcolor\":\"white\",\"linecolor\":\"white\",\"minorgridcolor\":\"white\",\"startlinecolor\":\"#2a3f5f\"},\"type\":\"carpet\"}],\"choropleth\":[{\"colorbar\":{\"outlinewidth\":0,\"ticks\":\"\"},\"type\":\"choropleth\"}],\"contourcarpet\":[{\"colorbar\":{\"outlinewidth\":0,\"ticks\":\"\"},\"type\":\"contourcarpet\"}],\"contour\":[{\"colorbar\":{\"outlinewidth\":0,\"ticks\":\"\"},\"colorscale\":[[0.0,\"#0d0887\"],[0.1111111111111111,\"#46039f\"],[0.2222222222222222,\"#7201a8\"],[0.3333333333333333,\"#9c179e\"],[0.4444444444444444,\"#bd3786\"],[0.5555555555555556,\"#d8576b\"],[0.6666666666666666,\"#ed7953\"],[0.7777777777777778,\"#fb9f3a\"],[0.8888888888888888,\"#fdca26\"],[1.0,\"#f0f921\"]],\"type\":\"contour\"}],\"heatmapgl\":[{\"colorbar\":{\"outlinewidth\":0,\"ticks\":\"\"},\"colorscale\":[[0.0,\"#0d0887\"],[0.1111111111111111,\"#46039f\"],[0.2222222222222222,\"#7201a8\"],[0.3333333333333333,\"#9c179e\"],[0.4444444444444444,\"#bd3786\"],[0.5555555555555556,\"#d8576b\"],[0.6666666666666666,\"#ed7953\"],[0.7777777777777778,\"#fb9f3a\"],[0.8888888888888888,\"#fdca26\"],[1.0,\"#f0f921\"]],\"type\":\"heatmapgl\"}],\"heatmap\":[{\"colorbar\":{\"outlinewidth\":0,\"ticks\":\"\"},\"colorscale\":[[0.0,\"#0d0887\"],[0.1111111111111111,\"#46039f\"],[0.2222222222222222,\"#7201a8\"],[0.3333333333333333,\"#9c179e\"],[0.4444444444444444,\"#bd3786\"],[0.5555555555555556,\"#d8576b\"],[0.6666666666666666,\"#ed7953\"],[0.7777777777777778,\"#fb9f3a\"],[0.8888888888888888,\"#fdca26\"],[1.0,\"#f0f921\"]],\"type\":\"heatmap\"}],\"histogram2dcontour\":[{\"colorbar\":{\"outlinewidth\":0,\"ticks\":\"\"},\"colorscale\":[[0.0,\"#0d0887\"],[0.1111111111111111,\"#46039f\"],[0.2222222222222222,\"#7201a8\"],[0.3333333333333333,\"#9c179e\"],[0.4444444444444444,\"#bd3786\"],[0.5555555555555556,\"#d8576b\"],[0.6666666666666666,\"#ed7953\"],[0.7777777777777778,\"#fb9f3a\"],[0.8888888888888888,\"#fdca26\"],[1.0,\"#f0f921\"]],\"type\":\"histogram2dcontour\"}],\"histogram2d\":[{\"colorbar\":{\"outlinewidth\":0,\"ticks\":\"\"},\"colorscale\":[[0.0,\"#0d0887\"],[0.1111111111111111,\"#46039f\"],[0.2222222222222222,\"#7201a8\"],[0.3333333333333333,\"#9c179e\"],[0.4444444444444444,\"#bd3786\"],[0.5555555555555556,\"#d8576b\"],[0.6666666666666666,\"#ed7953\"],[0.7777777777777778,\"#fb9f3a\"],[0.8888888888888888,\"#fdca26\"],[1.0,\"#f0f921\"]],\"type\":\"histogram2d\"}],\"histogram\":[{\"marker\":{\"pattern\":{\"fillmode\":\"overlay\",\"size\":10,\"solidity\":0.2}},\"type\":\"histogram\"}],\"mesh3d\":[{\"colorbar\":{\"outlinewidth\":0,\"ticks\":\"\"},\"type\":\"mesh3d\"}],\"parcoords\":[{\"line\":{\"colorbar\":{\"outlinewidth\":0,\"ticks\":\"\"}},\"type\":\"parcoords\"}],\"pie\":[{\"automargin\":true,\"type\":\"pie\"}],\"scatter3d\":[{\"line\":{\"colorbar\":{\"outlinewidth\":0,\"ticks\":\"\"}},\"marker\":{\"colorbar\":{\"outlinewidth\":0,\"ticks\":\"\"}},\"type\":\"scatter3d\"}],\"scattercarpet\":[{\"marker\":{\"colorbar\":{\"outlinewidth\":0,\"ticks\":\"\"}},\"type\":\"scattercarpet\"}],\"scattergeo\":[{\"marker\":{\"colorbar\":{\"outlinewidth\":0,\"ticks\":\"\"}},\"type\":\"scattergeo\"}],\"scattergl\":[{\"marker\":{\"colorbar\":{\"outlinewidth\":0,\"ticks\":\"\"}},\"type\":\"scattergl\"}],\"scattermapbox\":[{\"marker\":{\"colorbar\":{\"outlinewidth\":0,\"ticks\":\"\"}},\"type\":\"scattermapbox\"}],\"scatterpolargl\":[{\"marker\":{\"colorbar\":{\"outlinewidth\":0,\"ticks\":\"\"}},\"type\":\"scatterpolargl\"}],\"scatterpolar\":[{\"marker\":{\"colorbar\":{\"outlinewidth\":0,\"ticks\":\"\"}},\"type\":\"scatterpolar\"}],\"scatter\":[{\"fillpattern\":{\"fillmode\":\"overlay\",\"size\":10,\"solidity\":0.2},\"type\":\"scatter\"}],\"scatterternary\":[{\"marker\":{\"colorbar\":{\"outlinewidth\":0,\"ticks\":\"\"}},\"type\":\"scatterternary\"}],\"surface\":[{\"colorbar\":{\"outlinewidth\":0,\"ticks\":\"\"},\"colorscale\":[[0.0,\"#0d0887\"],[0.1111111111111111,\"#46039f\"],[0.2222222222222222,\"#7201a8\"],[0.3333333333333333,\"#9c179e\"],[0.4444444444444444,\"#bd3786\"],[0.5555555555555556,\"#d8576b\"],[0.6666666666666666,\"#ed7953\"],[0.7777777777777778,\"#fb9f3a\"],[0.8888888888888888,\"#fdca26\"],[1.0,\"#f0f921\"]],\"type\":\"surface\"}],\"table\":[{\"cells\":{\"fill\":{\"color\":\"#EBF0F8\"},\"line\":{\"color\":\"white\"}},\"header\":{\"fill\":{\"color\":\"#C8D4E3\"},\"line\":{\"color\":\"white\"}},\"type\":\"table\"}]},\"layout\":{\"annotationdefaults\":{\"arrowcolor\":\"#2a3f5f\",\"arrowhead\":0,\"arrowwidth\":1},\"autotypenumbers\":\"strict\",\"coloraxis\":{\"colorbar\":{\"outlinewidth\":0,\"ticks\":\"\"}},\"colorscale\":{\"diverging\":[[0,\"#8e0152\"],[0.1,\"#c51b7d\"],[0.2,\"#de77ae\"],[0.3,\"#f1b6da\"],[0.4,\"#fde0ef\"],[0.5,\"#f7f7f7\"],[0.6,\"#e6f5d0\"],[0.7,\"#b8e186\"],[0.8,\"#7fbc41\"],[0.9,\"#4d9221\"],[1,\"#276419\"]],\"sequential\":[[0.0,\"#0d0887\"],[0.1111111111111111,\"#46039f\"],[0.2222222222222222,\"#7201a8\"],[0.3333333333333333,\"#9c179e\"],[0.4444444444444444,\"#bd3786\"],[0.5555555555555556,\"#d8576b\"],[0.6666666666666666,\"#ed7953\"],[0.7777777777777778,\"#fb9f3a\"],[0.8888888888888888,\"#fdca26\"],[1.0,\"#f0f921\"]],\"sequentialminus\":[[0.0,\"#0d0887\"],[0.1111111111111111,\"#46039f\"],[0.2222222222222222,\"#7201a8\"],[0.3333333333333333,\"#9c179e\"],[0.4444444444444444,\"#bd3786\"],[0.5555555555555556,\"#d8576b\"],[0.6666666666666666,\"#ed7953\"],[0.7777777777777778,\"#fb9f3a\"],[0.8888888888888888,\"#fdca26\"],[1.0,\"#f0f921\"]]},\"colorway\":[\"#636efa\",\"#EF553B\",\"#00cc96\",\"#ab63fa\",\"#FFA15A\",\"#19d3f3\",\"#FF6692\",\"#B6E880\",\"#FF97FF\",\"#FECB52\"],\"font\":{\"color\":\"#2a3f5f\"},\"geo\":{\"bgcolor\":\"white\",\"lakecolor\":\"white\",\"landcolor\":\"#E5ECF6\",\"showlakes\":true,\"showland\":true,\"subunitcolor\":\"white\"},\"hoverlabel\":{\"align\":\"left\"},\"hovermode\":\"closest\",\"mapbox\":{\"style\":\"light\"},\"paper_bgcolor\":\"white\",\"plot_bgcolor\":\"#E5ECF6\",\"polar\":{\"angularaxis\":{\"gridcolor\":\"white\",\"linecolor\":\"white\",\"ticks\":\"\"},\"bgcolor\":\"#E5ECF6\",\"radialaxis\":{\"gridcolor\":\"white\",\"linecolor\":\"white\",\"ticks\":\"\"}},\"scene\":{\"xaxis\":{\"backgroundcolor\":\"#E5ECF6\",\"gridcolor\":\"white\",\"gridwidth\":2,\"linecolor\":\"white\",\"showbackground\":true,\"ticks\":\"\",\"zerolinecolor\":\"white\"},\"yaxis\":{\"backgroundcolor\":\"#E5ECF6\",\"gridcolor\":\"white\",\"gridwidth\":2,\"linecolor\":\"white\",\"showbackground\":true,\"ticks\":\"\",\"zerolinecolor\":\"white\"},\"zaxis\":{\"backgroundcolor\":\"#E5ECF6\",\"gridcolor\":\"white\",\"gridwidth\":2,\"linecolor\":\"white\",\"showbackground\":true,\"ticks\":\"\",\"zerolinecolor\":\"white\"}},\"shapedefaults\":{\"line\":{\"color\":\"#2a3f5f\"}},\"ternary\":{\"aaxis\":{\"gridcolor\":\"white\",\"linecolor\":\"white\",\"ticks\":\"\"},\"baxis\":{\"gridcolor\":\"white\",\"linecolor\":\"white\",\"ticks\":\"\"},\"bgcolor\":\"#E5ECF6\",\"caxis\":{\"gridcolor\":\"white\",\"linecolor\":\"white\",\"ticks\":\"\"}},\"title\":{\"x\":0.05},\"xaxis\":{\"automargin\":true,\"gridcolor\":\"white\",\"linecolor\":\"white\",\"ticks\":\"\",\"title\":{\"standoff\":15},\"zerolinecolor\":\"white\",\"zerolinewidth\":2},\"yaxis\":{\"automargin\":true,\"gridcolor\":\"white\",\"linecolor\":\"white\",\"ticks\":\"\",\"title\":{\"standoff\":15},\"zerolinecolor\":\"white\",\"zerolinewidth\":2}}},\"title\":{\"font\":{\"color\":\"#4D5663\"}},\"xaxis\":{\"anchor\":\"y\",\"domain\":[0.0,0.2125],\"gridcolor\":\"#E1E5ED\",\"showgrid\":false,\"tickfont\":{\"color\":\"#4D5663\"},\"title\":{\"font\":{\"color\":\"#4D5663\"},\"text\":\"\"},\"zerolinecolor\":\"#E1E5ED\"},\"yaxis\":{\"anchor\":\"x\",\"domain\":[0.8025,1.0],\"gridcolor\":\"#E1E5ED\",\"showgrid\":false,\"tickfont\":{\"color\":\"#4D5663\"},\"title\":{\"font\":{\"color\":\"#4D5663\"},\"text\":\"\"},\"zerolinecolor\":\"#E1E5ED\"},\"xaxis2\":{\"anchor\":\"y2\",\"domain\":[0.2625,0.475],\"gridcolor\":\"#E1E5ED\",\"showgrid\":false,\"tickfont\":{\"color\":\"#4D5663\"},\"title\":{\"font\":{\"color\":\"#4D5663\"},\"text\":\"\"},\"zerolinecolor\":\"#E1E5ED\"},\"yaxis2\":{\"anchor\":\"x2\",\"domain\":[0.8025,1.0],\"gridcolor\":\"#E1E5ED\",\"showgrid\":false,\"tickfont\":{\"color\":\"#4D5663\"},\"title\":{\"font\":{\"color\":\"#4D5663\"},\"text\":\"\"},\"zerolinecolor\":\"#E1E5ED\"},\"xaxis3\":{\"anchor\":\"y3\",\"domain\":[0.525,0.7375],\"gridcolor\":\"#E1E5ED\",\"showgrid\":false,\"tickfont\":{\"color\":\"#4D5663\"},\"title\":{\"font\":{\"color\":\"#4D5663\"},\"text\":\"\"},\"zerolinecolor\":\"#E1E5ED\"},\"yaxis3\":{\"anchor\":\"x3\",\"domain\":[0.8025,1.0],\"gridcolor\":\"#E1E5ED\",\"showgrid\":false,\"tickfont\":{\"color\":\"#4D5663\"},\"title\":{\"font\":{\"color\":\"#4D5663\"},\"text\":\"\"},\"zerolinecolor\":\"#E1E5ED\"},\"xaxis4\":{\"anchor\":\"y4\",\"domain\":[0.7875,1.0],\"gridcolor\":\"#E1E5ED\",\"showgrid\":false,\"tickfont\":{\"color\":\"#4D5663\"},\"title\":{\"font\":{\"color\":\"#4D5663\"},\"text\":\"\"},\"zerolinecolor\":\"#E1E5ED\"},\"yaxis4\":{\"anchor\":\"x4\",\"domain\":[0.8025,1.0],\"gridcolor\":\"#E1E5ED\",\"showgrid\":false,\"tickfont\":{\"color\":\"#4D5663\"},\"title\":{\"font\":{\"color\":\"#4D5663\"},\"text\":\"\"},\"zerolinecolor\":\"#E1E5ED\"},\"xaxis5\":{\"anchor\":\"y5\",\"domain\":[0.0,0.2125],\"gridcolor\":\"#E1E5ED\",\"showgrid\":false,\"tickfont\":{\"color\":\"#4D5663\"},\"title\":{\"font\":{\"color\":\"#4D5663\"},\"text\":\"\"},\"zerolinecolor\":\"#E1E5ED\"},\"yaxis5\":{\"anchor\":\"x5\",\"domain\":[0.535,0.7325],\"gridcolor\":\"#E1E5ED\",\"showgrid\":false,\"tickfont\":{\"color\":\"#4D5663\"},\"title\":{\"font\":{\"color\":\"#4D5663\"},\"text\":\"\"},\"zerolinecolor\":\"#E1E5ED\"},\"xaxis6\":{\"anchor\":\"y6\",\"domain\":[0.2625,0.475],\"gridcolor\":\"#E1E5ED\",\"showgrid\":false,\"tickfont\":{\"color\":\"#4D5663\"},\"title\":{\"font\":{\"color\":\"#4D5663\"},\"text\":\"\"},\"zerolinecolor\":\"#E1E5ED\"},\"yaxis6\":{\"anchor\":\"x6\",\"domain\":[0.535,0.7325],\"gridcolor\":\"#E1E5ED\",\"showgrid\":false,\"tickfont\":{\"color\":\"#4D5663\"},\"title\":{\"font\":{\"color\":\"#4D5663\"},\"text\":\"\"},\"zerolinecolor\":\"#E1E5ED\"},\"xaxis7\":{\"anchor\":\"y7\",\"domain\":[0.525,0.7375],\"gridcolor\":\"#E1E5ED\",\"showgrid\":false,\"tickfont\":{\"color\":\"#4D5663\"},\"title\":{\"font\":{\"color\":\"#4D5663\"},\"text\":\"\"},\"zerolinecolor\":\"#E1E5ED\"},\"yaxis7\":{\"anchor\":\"x7\",\"domain\":[0.535,0.7325],\"gridcolor\":\"#E1E5ED\",\"showgrid\":false,\"tickfont\":{\"color\":\"#4D5663\"},\"title\":{\"font\":{\"color\":\"#4D5663\"},\"text\":\"\"},\"zerolinecolor\":\"#E1E5ED\"},\"xaxis8\":{\"anchor\":\"y8\",\"domain\":[0.7875,1.0],\"gridcolor\":\"#E1E5ED\",\"showgrid\":false,\"tickfont\":{\"color\":\"#4D5663\"},\"title\":{\"font\":{\"color\":\"#4D5663\"},\"text\":\"\"},\"zerolinecolor\":\"#E1E5ED\"},\"yaxis8\":{\"anchor\":\"x8\",\"domain\":[0.535,0.7325],\"gridcolor\":\"#E1E5ED\",\"showgrid\":false,\"tickfont\":{\"color\":\"#4D5663\"},\"title\":{\"font\":{\"color\":\"#4D5663\"},\"text\":\"\"},\"zerolinecolor\":\"#E1E5ED\"},\"xaxis9\":{\"anchor\":\"y9\",\"domain\":[0.0,0.2125],\"gridcolor\":\"#E1E5ED\",\"showgrid\":false,\"tickfont\":{\"color\":\"#4D5663\"},\"title\":{\"font\":{\"color\":\"#4D5663\"},\"text\":\"\"},\"zerolinecolor\":\"#E1E5ED\"},\"yaxis9\":{\"anchor\":\"x9\",\"domain\":[0.2675,0.465],\"gridcolor\":\"#E1E5ED\",\"showgrid\":false,\"tickfont\":{\"color\":\"#4D5663\"},\"title\":{\"font\":{\"color\":\"#4D5663\"},\"text\":\"\"},\"zerolinecolor\":\"#E1E5ED\"},\"xaxis10\":{\"anchor\":\"y10\",\"domain\":[0.2625,0.475],\"gridcolor\":\"#E1E5ED\",\"showgrid\":false,\"tickfont\":{\"color\":\"#4D5663\"},\"title\":{\"font\":{\"color\":\"#4D5663\"},\"text\":\"\"},\"zerolinecolor\":\"#E1E5ED\"},\"yaxis10\":{\"anchor\":\"x10\",\"domain\":[0.2675,0.465],\"gridcolor\":\"#E1E5ED\",\"showgrid\":false,\"tickfont\":{\"color\":\"#4D5663\"},\"title\":{\"font\":{\"color\":\"#4D5663\"},\"text\":\"\"},\"zerolinecolor\":\"#E1E5ED\"},\"xaxis11\":{\"anchor\":\"y11\",\"domain\":[0.525,0.7375],\"gridcolor\":\"#E1E5ED\",\"showgrid\":false,\"tickfont\":{\"color\":\"#4D5663\"},\"title\":{\"font\":{\"color\":\"#4D5663\"},\"text\":\"\"},\"zerolinecolor\":\"#E1E5ED\"},\"yaxis11\":{\"anchor\":\"x11\",\"domain\":[0.2675,0.465],\"gridcolor\":\"#E1E5ED\",\"showgrid\":false,\"tickfont\":{\"color\":\"#4D5663\"},\"title\":{\"font\":{\"color\":\"#4D5663\"},\"text\":\"\"},\"zerolinecolor\":\"#E1E5ED\"},\"xaxis12\":{\"anchor\":\"y12\",\"domain\":[0.7875,1.0],\"gridcolor\":\"#E1E5ED\",\"showgrid\":false,\"tickfont\":{\"color\":\"#4D5663\"},\"title\":{\"font\":{\"color\":\"#4D5663\"},\"text\":\"\"},\"zerolinecolor\":\"#E1E5ED\"},\"yaxis12\":{\"anchor\":\"x12\",\"domain\":[0.2675,0.465],\"gridcolor\":\"#E1E5ED\",\"showgrid\":false,\"tickfont\":{\"color\":\"#4D5663\"},\"title\":{\"font\":{\"color\":\"#4D5663\"},\"text\":\"\"},\"zerolinecolor\":\"#E1E5ED\"},\"xaxis13\":{\"anchor\":\"y13\",\"domain\":[0.0,0.2125],\"gridcolor\":\"#E1E5ED\",\"showgrid\":false,\"tickfont\":{\"color\":\"#4D5663\"},\"title\":{\"font\":{\"color\":\"#4D5663\"},\"text\":\"\"},\"zerolinecolor\":\"#E1E5ED\"},\"yaxis13\":{\"anchor\":\"x13\",\"domain\":[0.0,0.1975],\"gridcolor\":\"#E1E5ED\",\"showgrid\":false,\"tickfont\":{\"color\":\"#4D5663\"},\"title\":{\"font\":{\"color\":\"#4D5663\"},\"text\":\"\"},\"zerolinecolor\":\"#E1E5ED\"},\"xaxis14\":{\"anchor\":\"y14\",\"domain\":[0.2625,0.475],\"gridcolor\":\"#E1E5ED\",\"showgrid\":false,\"tickfont\":{\"color\":\"#4D5663\"},\"title\":{\"font\":{\"color\":\"#4D5663\"},\"text\":\"\"},\"zerolinecolor\":\"#E1E5ED\"},\"yaxis14\":{\"anchor\":\"x14\",\"domain\":[0.0,0.1975],\"gridcolor\":\"#E1E5ED\",\"showgrid\":false,\"tickfont\":{\"color\":\"#4D5663\"},\"title\":{\"font\":{\"color\":\"#4D5663\"},\"text\":\"\"},\"zerolinecolor\":\"#E1E5ED\"},\"xaxis15\":{\"anchor\":\"y15\",\"domain\":[0.525,0.7375],\"gridcolor\":\"#E1E5ED\",\"showgrid\":false,\"tickfont\":{\"color\":\"#4D5663\"},\"title\":{\"font\":{\"color\":\"#4D5663\"},\"text\":\"\"},\"zerolinecolor\":\"#E1E5ED\"},\"yaxis15\":{\"anchor\":\"x15\",\"domain\":[0.0,0.1975],\"gridcolor\":\"#E1E5ED\",\"showgrid\":false,\"tickfont\":{\"color\":\"#4D5663\"},\"title\":{\"font\":{\"color\":\"#4D5663\"},\"text\":\"\"},\"zerolinecolor\":\"#E1E5ED\"},\"xaxis16\":{\"anchor\":\"y16\",\"domain\":[0.7875,1.0],\"gridcolor\":\"#E1E5ED\",\"showgrid\":false,\"tickfont\":{\"color\":\"#4D5663\"},\"title\":{\"font\":{\"color\":\"#4D5663\"},\"text\":\"\"},\"zerolinecolor\":\"#E1E5ED\"},\"yaxis16\":{\"anchor\":\"x16\",\"domain\":[0.0,0.1975],\"gridcolor\":\"#E1E5ED\",\"showgrid\":false,\"tickfont\":{\"color\":\"#4D5663\"},\"title\":{\"font\":{\"color\":\"#4D5663\"},\"text\":\"\"},\"zerolinecolor\":\"#E1E5ED\"}},                        {\"showLink\": true, \"linkText\": \"Export to plot.ly\", \"plotlyServerURL\": \"https://plot.ly\", \"responsive\": true}                    ).then(function(){\n",
       "                            \n",
       "var gd = document.getElementById('4d3d6f7b-8f69-4c1d-9ab8-da0e40d67165');\n",
       "var x = new MutationObserver(function (mutations, observer) {{\n",
       "        var display = window.getComputedStyle(gd).display;\n",
       "        if (!display || display === 'none') {{\n",
       "            console.log([gd, 'removed!']);\n",
       "            Plotly.purge(gd);\n",
       "            observer.disconnect();\n",
       "        }}\n",
       "}});\n",
       "\n",
       "// Listen for the removal of the full notebook cells\n",
       "var notebookContainer = gd.closest('#notebook-container');\n",
       "if (notebookContainer) {{\n",
       "    x.observe(notebookContainer, {childList: true});\n",
       "}}\n",
       "\n",
       "// Listen for the clearing of the current output cell\n",
       "var outputEl = gd.closest('.output');\n",
       "if (outputEl) {{\n",
       "    x.observe(outputEl, {childList: true});\n",
       "}}\n",
       "\n",
       "                        })                };                });            </script>        </div>"
      ]
     },
     "metadata": {},
     "output_type": "display_data"
    }
   ],
   "source": [
    "df.scatter_matrix()"
   ]
  },
  {
   "cell_type": "markdown",
   "metadata": {
    "collapsed": true
   },
   "source": [
    "# Great Job!"
   ]
  }
 ],
 "metadata": {
  "kernelspec": {
   "display_name": "Python 3",
   "language": "python",
   "name": "python3"
  },
  "language_info": {
   "codemirror_mode": {
    "name": "ipython",
    "version": 3
   },
   "file_extension": ".py",
   "mimetype": "text/x-python",
   "name": "python",
   "nbconvert_exporter": "python",
   "pygments_lexer": "ipython3",
   "version": "3.8.8"
  }
 },
 "nbformat": 4,
 "nbformat_minor": 1
}
